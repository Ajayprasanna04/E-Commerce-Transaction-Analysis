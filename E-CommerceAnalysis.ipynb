{
 "cells": [
  {
   "cell_type": "markdown",
   "metadata": {},
   "source": [
    "## Requirements"
   ]
  },
  {
   "cell_type": "code",
   "execution_count": 54,
   "metadata": {},
   "outputs": [],
   "source": [
    "# # Upgrade pip\n",
    "# python -m pip install --upgrade pip\n",
    "\n",
    "# # Install essential Python packages\n",
    "# pip install -U ipykernel seaborn matplotlib pandas numpy plotly nbformat altair plotnine scikit-learn \n"
   ]
  },
  {
   "cell_type": "markdown",
   "metadata": {},
   "source": [
    "## Dataset Overview\n",
    "\n",
    "**Source:**  \n",
    "This dataset is sourced from Kaggle: [An Online Shop Business](https://www.kaggle.com/datasets/gabrielramos87/an-online-shop-business/data)."
   ]
  },
  {
   "cell_type": "markdown",
   "metadata": {},
   "source": [
    "### Business Context\n",
    "\n",
    "- **Location & History:**  \n",
    "  The dataset comes from a UK-based online retail store that sells gifts and homewares. The business has been operating since 2007.\n",
    "\n",
    "- **Customer Base:**  \n",
    "  The store caters to individual customers worldwide as well as small businesses that purchase in bulk for resale.\n",
    "\n",
    "- **Sales Channels:**  \n",
    "  Most transactions are direct purchases made through the website.\n",
    "\n",
    "### Dataset Details\n",
    "\n",
    "- **Size:**  \n",
    "  500K rows and 8 columns.\n",
    "\n",
    "- **Columns Include:**  \n",
    "  - Customer number  \n",
    "  - Transaction number  \n",
    "  - Product number  \n",
    "  - Product name  \n",
    "  - Price per unit (in pound sterling £)  \n",
    "  - Quantity  \n",
    "  - Date  \n",
    "\n",
    "- **Note on Cancellations:**  \n",
    "  A small percentage of orders are cancelled, primarily due to out-of-stock conditions. Customers often cancel orders when they prefer to receive all products together.\n",
    "\n",
    "### Purpose of Analysis\n",
    "\n",
    "This dataset is ideal for analyzing:\n",
    "- **Sales Performance:** Total revenue, average order value, etc.\n",
    "- **Product Demand and Cancellation Trends:** Identifying which products drive sales and which have high cancellation rates.\n",
    "- **Customer Behavior:** Purchase frequency and spending patterns.\n"
   ]
  },
  {
   "cell_type": "markdown",
   "metadata": {},
   "source": [
    "## Importing Required Libraries"
   ]
  },
  {
   "cell_type": "code",
   "execution_count": 55,
   "metadata": {},
   "outputs": [],
   "source": [
    "import pandas as pd\n",
    "import matplotlib.pyplot as plt\n",
    "import seaborn as sns\n",
    "import plotly.express as px\n",
    "import plotly.graph_objects as go\n",
    "from plotly.subplots import make_subplots\n",
    "from sklearn.preprocessing import LabelEncoder\n",
    "from sklearn.model_selection import train_test_split\n",
    "from sklearn.linear_model import LinearRegression\n"
   ]
  },
  {
   "cell_type": "markdown",
   "metadata": {},
   "source": [
    "## Load Dataset"
   ]
  },
  {
   "cell_type": "code",
   "execution_count": 56,
   "metadata": {},
   "outputs": [],
   "source": [
    "# Load the dataset from a CSV file\n",
    "df=pd.read_csv('Sales Transaction v.4a.CSV')"
   ]
  },
  {
   "cell_type": "markdown",
   "metadata": {},
   "source": [
    "## Exploring  DataFrame"
   ]
  },
  {
   "cell_type": "code",
   "execution_count": 57,
   "metadata": {},
   "outputs": [
    {
     "data": {
      "text/html": [
       "<div>\n",
       "<style scoped>\n",
       "    .dataframe tbody tr th:only-of-type {\n",
       "        vertical-align: middle;\n",
       "    }\n",
       "\n",
       "    .dataframe tbody tr th {\n",
       "        vertical-align: top;\n",
       "    }\n",
       "\n",
       "    .dataframe thead th {\n",
       "        text-align: right;\n",
       "    }\n",
       "</style>\n",
       "<table border=\"1\" class=\"dataframe\">\n",
       "  <thead>\n",
       "    <tr style=\"text-align: right;\">\n",
       "      <th></th>\n",
       "      <th>TransactionNo</th>\n",
       "      <th>Date</th>\n",
       "      <th>ProductNo</th>\n",
       "      <th>ProductName</th>\n",
       "      <th>Price</th>\n",
       "      <th>Quantity</th>\n",
       "      <th>CustomerNo</th>\n",
       "      <th>Country</th>\n",
       "    </tr>\n",
       "  </thead>\n",
       "  <tbody>\n",
       "    <tr>\n",
       "      <th>0</th>\n",
       "      <td>581482</td>\n",
       "      <td>12/9/2019</td>\n",
       "      <td>22485</td>\n",
       "      <td>Set Of 2 Wooden Market Crates</td>\n",
       "      <td>21.47</td>\n",
       "      <td>12</td>\n",
       "      <td>17490.0</td>\n",
       "      <td>United Kingdom</td>\n",
       "    </tr>\n",
       "    <tr>\n",
       "      <th>1</th>\n",
       "      <td>581475</td>\n",
       "      <td>12/9/2019</td>\n",
       "      <td>22596</td>\n",
       "      <td>Christmas Star Wish List Chalkboard</td>\n",
       "      <td>10.65</td>\n",
       "      <td>36</td>\n",
       "      <td>13069.0</td>\n",
       "      <td>United Kingdom</td>\n",
       "    </tr>\n",
       "    <tr>\n",
       "      <th>2</th>\n",
       "      <td>581475</td>\n",
       "      <td>12/9/2019</td>\n",
       "      <td>23235</td>\n",
       "      <td>Storage Tin Vintage Leaf</td>\n",
       "      <td>11.53</td>\n",
       "      <td>12</td>\n",
       "      <td>13069.0</td>\n",
       "      <td>United Kingdom</td>\n",
       "    </tr>\n",
       "    <tr>\n",
       "      <th>3</th>\n",
       "      <td>581475</td>\n",
       "      <td>12/9/2019</td>\n",
       "      <td>23272</td>\n",
       "      <td>Tree T-Light Holder Willie Winkie</td>\n",
       "      <td>10.65</td>\n",
       "      <td>12</td>\n",
       "      <td>13069.0</td>\n",
       "      <td>United Kingdom</td>\n",
       "    </tr>\n",
       "    <tr>\n",
       "      <th>4</th>\n",
       "      <td>581475</td>\n",
       "      <td>12/9/2019</td>\n",
       "      <td>23239</td>\n",
       "      <td>Set Of 4 Knick Knack Tins Poppies</td>\n",
       "      <td>11.94</td>\n",
       "      <td>6</td>\n",
       "      <td>13069.0</td>\n",
       "      <td>United Kingdom</td>\n",
       "    </tr>\n",
       "  </tbody>\n",
       "</table>\n",
       "</div>"
      ],
      "text/plain": [
       "  TransactionNo       Date ProductNo                          ProductName  \\\n",
       "0        581482  12/9/2019     22485        Set Of 2 Wooden Market Crates   \n",
       "1        581475  12/9/2019     22596  Christmas Star Wish List Chalkboard   \n",
       "2        581475  12/9/2019     23235             Storage Tin Vintage Leaf   \n",
       "3        581475  12/9/2019     23272    Tree T-Light Holder Willie Winkie   \n",
       "4        581475  12/9/2019     23239    Set Of 4 Knick Knack Tins Poppies   \n",
       "\n",
       "   Price  Quantity  CustomerNo         Country  \n",
       "0  21.47        12     17490.0  United Kingdom  \n",
       "1  10.65        36     13069.0  United Kingdom  \n",
       "2  11.53        12     13069.0  United Kingdom  \n",
       "3  10.65        12     13069.0  United Kingdom  \n",
       "4  11.94         6     13069.0  United Kingdom  "
      ]
     },
     "execution_count": 57,
     "metadata": {},
     "output_type": "execute_result"
    }
   ],
   "source": [
    "df.head()"
   ]
  },
  {
   "cell_type": "code",
   "execution_count": 58,
   "metadata": {},
   "outputs": [
    {
     "data": {
      "text/html": [
       "<div>\n",
       "<style scoped>\n",
       "    .dataframe tbody tr th:only-of-type {\n",
       "        vertical-align: middle;\n",
       "    }\n",
       "\n",
       "    .dataframe tbody tr th {\n",
       "        vertical-align: top;\n",
       "    }\n",
       "\n",
       "    .dataframe thead th {\n",
       "        text-align: right;\n",
       "    }\n",
       "</style>\n",
       "<table border=\"1\" class=\"dataframe\">\n",
       "  <thead>\n",
       "    <tr style=\"text-align: right;\">\n",
       "      <th></th>\n",
       "      <th>TransactionNo</th>\n",
       "      <th>Date</th>\n",
       "      <th>ProductNo</th>\n",
       "      <th>ProductName</th>\n",
       "      <th>Price</th>\n",
       "      <th>Quantity</th>\n",
       "      <th>CustomerNo</th>\n",
       "      <th>Country</th>\n",
       "    </tr>\n",
       "  </thead>\n",
       "  <tbody>\n",
       "    <tr>\n",
       "      <th>536345</th>\n",
       "      <td>C536548</td>\n",
       "      <td>12/1/2018</td>\n",
       "      <td>22168</td>\n",
       "      <td>Organiser Wood Antique White</td>\n",
       "      <td>18.96</td>\n",
       "      <td>-2</td>\n",
       "      <td>12472.0</td>\n",
       "      <td>Germany</td>\n",
       "    </tr>\n",
       "    <tr>\n",
       "      <th>536346</th>\n",
       "      <td>C536548</td>\n",
       "      <td>12/1/2018</td>\n",
       "      <td>21218</td>\n",
       "      <td>Red Spotty Biscuit Tin</td>\n",
       "      <td>14.09</td>\n",
       "      <td>-3</td>\n",
       "      <td>12472.0</td>\n",
       "      <td>Germany</td>\n",
       "    </tr>\n",
       "    <tr>\n",
       "      <th>536347</th>\n",
       "      <td>C536548</td>\n",
       "      <td>12/1/2018</td>\n",
       "      <td>20957</td>\n",
       "      <td>Porcelain Hanging Bell Small</td>\n",
       "      <td>11.74</td>\n",
       "      <td>-1</td>\n",
       "      <td>12472.0</td>\n",
       "      <td>Germany</td>\n",
       "    </tr>\n",
       "    <tr>\n",
       "      <th>536348</th>\n",
       "      <td>C536548</td>\n",
       "      <td>12/1/2018</td>\n",
       "      <td>22580</td>\n",
       "      <td>Advent Calendar Gingham Sack</td>\n",
       "      <td>16.35</td>\n",
       "      <td>-4</td>\n",
       "      <td>12472.0</td>\n",
       "      <td>Germany</td>\n",
       "    </tr>\n",
       "    <tr>\n",
       "      <th>536349</th>\n",
       "      <td>C536548</td>\n",
       "      <td>12/1/2018</td>\n",
       "      <td>22767</td>\n",
       "      <td>Triple Photo Frame Cornice</td>\n",
       "      <td>20.45</td>\n",
       "      <td>-2</td>\n",
       "      <td>12472.0</td>\n",
       "      <td>Germany</td>\n",
       "    </tr>\n",
       "  </tbody>\n",
       "</table>\n",
       "</div>"
      ],
      "text/plain": [
       "       TransactionNo       Date ProductNo                   ProductName  \\\n",
       "536345       C536548  12/1/2018     22168  Organiser Wood Antique White   \n",
       "536346       C536548  12/1/2018     21218        Red Spotty Biscuit Tin   \n",
       "536347       C536548  12/1/2018     20957  Porcelain Hanging Bell Small   \n",
       "536348       C536548  12/1/2018     22580  Advent Calendar Gingham Sack   \n",
       "536349       C536548  12/1/2018     22767    Triple Photo Frame Cornice   \n",
       "\n",
       "        Price  Quantity  CustomerNo  Country  \n",
       "536345  18.96        -2     12472.0  Germany  \n",
       "536346  14.09        -3     12472.0  Germany  \n",
       "536347  11.74        -1     12472.0  Germany  \n",
       "536348  16.35        -4     12472.0  Germany  \n",
       "536349  20.45        -2     12472.0  Germany  "
      ]
     },
     "execution_count": 58,
     "metadata": {},
     "output_type": "execute_result"
    }
   ],
   "source": [
    "df.tail()"
   ]
  },
  {
   "cell_type": "code",
   "execution_count": 59,
   "metadata": {},
   "outputs": [
    {
     "data": {
      "text/plain": [
       "(536350, 8)"
      ]
     },
     "execution_count": 59,
     "metadata": {},
     "output_type": "execute_result"
    }
   ],
   "source": [
    "df.shape"
   ]
  },
  {
   "cell_type": "code",
   "execution_count": 60,
   "metadata": {},
   "outputs": [
    {
     "name": "stdout",
     "output_type": "stream",
     "text": [
      "<class 'pandas.core.frame.DataFrame'>\n",
      "RangeIndex: 536350 entries, 0 to 536349\n",
      "Data columns (total 8 columns):\n",
      " #   Column         Non-Null Count   Dtype  \n",
      "---  ------         --------------   -----  \n",
      " 0   TransactionNo  536350 non-null  object \n",
      " 1   Date           536350 non-null  object \n",
      " 2   ProductNo      536350 non-null  object \n",
      " 3   ProductName    536350 non-null  object \n",
      " 4   Price          536350 non-null  float64\n",
      " 5   Quantity       536350 non-null  int64  \n",
      " 6   CustomerNo     536295 non-null  float64\n",
      " 7   Country        536350 non-null  object \n",
      "dtypes: float64(2), int64(1), object(5)\n",
      "memory usage: 32.7+ MB\n"
     ]
    }
   ],
   "source": [
    "df.info()"
   ]
  },
  {
   "cell_type": "code",
   "execution_count": 61,
   "metadata": {},
   "outputs": [
    {
     "data": {
      "text/html": [
       "<div>\n",
       "<style scoped>\n",
       "    .dataframe tbody tr th:only-of-type {\n",
       "        vertical-align: middle;\n",
       "    }\n",
       "\n",
       "    .dataframe tbody tr th {\n",
       "        vertical-align: top;\n",
       "    }\n",
       "\n",
       "    .dataframe thead th {\n",
       "        text-align: right;\n",
       "    }\n",
       "</style>\n",
       "<table border=\"1\" class=\"dataframe\">\n",
       "  <thead>\n",
       "    <tr style=\"text-align: right;\">\n",
       "      <th></th>\n",
       "      <th>Price</th>\n",
       "      <th>Quantity</th>\n",
       "      <th>CustomerNo</th>\n",
       "    </tr>\n",
       "  </thead>\n",
       "  <tbody>\n",
       "    <tr>\n",
       "      <th>count</th>\n",
       "      <td>536350.000000</td>\n",
       "      <td>536350.000000</td>\n",
       "      <td>536295.000000</td>\n",
       "    </tr>\n",
       "    <tr>\n",
       "      <th>mean</th>\n",
       "      <td>12.662182</td>\n",
       "      <td>9.919347</td>\n",
       "      <td>15227.893178</td>\n",
       "    </tr>\n",
       "    <tr>\n",
       "      <th>std</th>\n",
       "      <td>8.490450</td>\n",
       "      <td>216.662300</td>\n",
       "      <td>1716.582932</td>\n",
       "    </tr>\n",
       "    <tr>\n",
       "      <th>min</th>\n",
       "      <td>5.130000</td>\n",
       "      <td>-80995.000000</td>\n",
       "      <td>12004.000000</td>\n",
       "    </tr>\n",
       "    <tr>\n",
       "      <th>25%</th>\n",
       "      <td>10.990000</td>\n",
       "      <td>1.000000</td>\n",
       "      <td>13807.000000</td>\n",
       "    </tr>\n",
       "    <tr>\n",
       "      <th>50%</th>\n",
       "      <td>11.940000</td>\n",
       "      <td>3.000000</td>\n",
       "      <td>15152.000000</td>\n",
       "    </tr>\n",
       "    <tr>\n",
       "      <th>75%</th>\n",
       "      <td>14.090000</td>\n",
       "      <td>10.000000</td>\n",
       "      <td>16729.000000</td>\n",
       "    </tr>\n",
       "    <tr>\n",
       "      <th>max</th>\n",
       "      <td>660.620000</td>\n",
       "      <td>80995.000000</td>\n",
       "      <td>18287.000000</td>\n",
       "    </tr>\n",
       "  </tbody>\n",
       "</table>\n",
       "</div>"
      ],
      "text/plain": [
       "               Price       Quantity     CustomerNo\n",
       "count  536350.000000  536350.000000  536295.000000\n",
       "mean       12.662182       9.919347   15227.893178\n",
       "std         8.490450     216.662300    1716.582932\n",
       "min         5.130000  -80995.000000   12004.000000\n",
       "25%        10.990000       1.000000   13807.000000\n",
       "50%        11.940000       3.000000   15152.000000\n",
       "75%        14.090000      10.000000   16729.000000\n",
       "max       660.620000   80995.000000   18287.000000"
      ]
     },
     "execution_count": 61,
     "metadata": {},
     "output_type": "execute_result"
    }
   ],
   "source": [
    "df.describe()"
   ]
  },
  {
   "cell_type": "markdown",
   "metadata": {},
   "source": [
    "## Data cleaning"
   ]
  },
  {
   "cell_type": "markdown",
   "metadata": {},
   "source": [
    "#### Handling missing value"
   ]
  },
  {
   "cell_type": "code",
   "execution_count": 62,
   "metadata": {},
   "outputs": [
    {
     "data": {
      "text/plain": [
       "TransactionNo     0\n",
       "Date              0\n",
       "ProductNo         0\n",
       "ProductName       0\n",
       "Price             0\n",
       "Quantity          0\n",
       "CustomerNo       55\n",
       "Country           0\n",
       "dtype: int64"
      ]
     },
     "execution_count": 62,
     "metadata": {},
     "output_type": "execute_result"
    }
   ],
   "source": [
    "# Check the number of missing values in each column\n",
    "df.isnull().sum()"
   ]
  },
  {
   "cell_type": "code",
   "execution_count": 63,
   "metadata": {},
   "outputs": [
    {
     "name": "stdout",
     "output_type": "stream",
     "text": [
      "TransactionNo    536295\n",
      "Date             536295\n",
      "ProductNo        536295\n",
      "ProductName      536295\n",
      "Price            536295\n",
      "Quantity         536295\n",
      "CustomerNo       536295\n",
      "Country          536295\n",
      "dtype: int64\n"
     ]
    },
    {
     "data": {
      "text/plain": [
       "TransactionNo    0\n",
       "Date             0\n",
       "ProductNo        0\n",
       "ProductName      0\n",
       "Price            0\n",
       "Quantity         0\n",
       "CustomerNo       0\n",
       "Country          0\n",
       "dtype: int64"
      ]
     },
     "execution_count": 63,
     "metadata": {},
     "output_type": "execute_result"
    }
   ],
   "source": [
    "# Drop rows with missing values and update the DataFrame\n",
    "df.dropna(inplace=True)\n",
    "\n",
    "# Print the count of non-null values in each column\n",
    "print(df.count())\n",
    "\n",
    "# Verify if there are any missing values remaining\n",
    "df.isnull().sum()"
   ]
  },
  {
   "cell_type": "markdown",
   "metadata": {},
   "source": [
    "The CustomerNo column contains 55 missing value ,which is likely represent unidentify customers.To simplify the analysis ,we will drop these unidentify records from the dataset."
   ]
  },
  {
   "cell_type": "markdown",
   "metadata": {},
   "source": [
    "#### Removing duplicate values"
   ]
  },
  {
   "cell_type": "code",
   "execution_count": 64,
   "metadata": {},
   "outputs": [
    {
     "data": {
      "text/html": [
       "<div>\n",
       "<style scoped>\n",
       "    .dataframe tbody tr th:only-of-type {\n",
       "        vertical-align: middle;\n",
       "    }\n",
       "\n",
       "    .dataframe tbody tr th {\n",
       "        vertical-align: top;\n",
       "    }\n",
       "\n",
       "    .dataframe thead th {\n",
       "        text-align: right;\n",
       "    }\n",
       "</style>\n",
       "<table border=\"1\" class=\"dataframe\">\n",
       "  <thead>\n",
       "    <tr style=\"text-align: right;\">\n",
       "      <th></th>\n",
       "      <th>TransactionNo</th>\n",
       "      <th>Date</th>\n",
       "      <th>ProductNo</th>\n",
       "      <th>ProductName</th>\n",
       "      <th>Price</th>\n",
       "      <th>Quantity</th>\n",
       "      <th>CustomerNo</th>\n",
       "      <th>Country</th>\n",
       "    </tr>\n",
       "  </thead>\n",
       "  <tbody>\n",
       "    <tr>\n",
       "      <th>984</th>\n",
       "      <td>581497</td>\n",
       "      <td>12/9/2019</td>\n",
       "      <td>21481</td>\n",
       "      <td>Fawn Blue Hot Water Bottle</td>\n",
       "      <td>7.24</td>\n",
       "      <td>1</td>\n",
       "      <td>17497.0</td>\n",
       "      <td>United Kingdom</td>\n",
       "    </tr>\n",
       "    <tr>\n",
       "      <th>1350</th>\n",
       "      <td>581538</td>\n",
       "      <td>12/9/2019</td>\n",
       "      <td>22992</td>\n",
       "      <td>Revolver Wooden Ruler</td>\n",
       "      <td>6.19</td>\n",
       "      <td>1</td>\n",
       "      <td>14446.0</td>\n",
       "      <td>United Kingdom</td>\n",
       "    </tr>\n",
       "    <tr>\n",
       "      <th>1354</th>\n",
       "      <td>581538</td>\n",
       "      <td>12/9/2019</td>\n",
       "      <td>22694</td>\n",
       "      <td>Wicker Star</td>\n",
       "      <td>6.19</td>\n",
       "      <td>1</td>\n",
       "      <td>14446.0</td>\n",
       "      <td>United Kingdom</td>\n",
       "    </tr>\n",
       "    <tr>\n",
       "      <th>1356</th>\n",
       "      <td>581538</td>\n",
       "      <td>12/9/2019</td>\n",
       "      <td>23275</td>\n",
       "      <td>Set Of 3 Hanging Owls Ollie Beak</td>\n",
       "      <td>6.19</td>\n",
       "      <td>1</td>\n",
       "      <td>14446.0</td>\n",
       "      <td>United Kingdom</td>\n",
       "    </tr>\n",
       "    <tr>\n",
       "      <th>1408</th>\n",
       "      <td>581538</td>\n",
       "      <td>12/9/2019</td>\n",
       "      <td>23343</td>\n",
       "      <td>Jumbo Bag Vintage Christmas</td>\n",
       "      <td>6.19</td>\n",
       "      <td>1</td>\n",
       "      <td>14446.0</td>\n",
       "      <td>United Kingdom</td>\n",
       "    </tr>\n",
       "    <tr>\n",
       "      <th>...</th>\n",
       "      <td>...</td>\n",
       "      <td>...</td>\n",
       "      <td>...</td>\n",
       "      <td>...</td>\n",
       "      <td>...</td>\n",
       "      <td>...</td>\n",
       "      <td>...</td>\n",
       "      <td>...</td>\n",
       "    </tr>\n",
       "    <tr>\n",
       "      <th>535226</th>\n",
       "      <td>536559</td>\n",
       "      <td>12/1/2018</td>\n",
       "      <td>51014L</td>\n",
       "      <td>Feather Pen Light Pink</td>\n",
       "      <td>11.12</td>\n",
       "      <td>12</td>\n",
       "      <td>17873.0</td>\n",
       "      <td>United Kingdom</td>\n",
       "    </tr>\n",
       "    <tr>\n",
       "      <th>535305</th>\n",
       "      <td>536569</td>\n",
       "      <td>12/1/2018</td>\n",
       "      <td>22111</td>\n",
       "      <td>Scottie Dog Hot Water Bottle</td>\n",
       "      <td>15.32</td>\n",
       "      <td>1</td>\n",
       "      <td>16274.0</td>\n",
       "      <td>United Kingdom</td>\n",
       "    </tr>\n",
       "    <tr>\n",
       "      <th>535323</th>\n",
       "      <td>536569</td>\n",
       "      <td>12/1/2018</td>\n",
       "      <td>21809</td>\n",
       "      <td>Christmas Hanging Tree With Bell</td>\n",
       "      <td>11.53</td>\n",
       "      <td>1</td>\n",
       "      <td>16274.0</td>\n",
       "      <td>United Kingdom</td>\n",
       "    </tr>\n",
       "    <tr>\n",
       "      <th>535959</th>\n",
       "      <td>536592</td>\n",
       "      <td>12/1/2018</td>\n",
       "      <td>82613A</td>\n",
       "      <td>Metal Sign Cupcake Single Hook</td>\n",
       "      <td>12.82</td>\n",
       "      <td>1</td>\n",
       "      <td>16592.0</td>\n",
       "      <td>United Kingdom</td>\n",
       "    </tr>\n",
       "    <tr>\n",
       "      <th>536189</th>\n",
       "      <td>536528</td>\n",
       "      <td>12/1/2018</td>\n",
       "      <td>22839</td>\n",
       "      <td>3 Tier Cake Tin Green And Cream</td>\n",
       "      <td>25.57</td>\n",
       "      <td>1</td>\n",
       "      <td>15525.0</td>\n",
       "      <td>United Kingdom</td>\n",
       "    </tr>\n",
       "  </tbody>\n",
       "</table>\n",
       "<p>5200 rows × 8 columns</p>\n",
       "</div>"
      ],
      "text/plain": [
       "       TransactionNo       Date ProductNo                       ProductName  \\\n",
       "984           581497  12/9/2019     21481        Fawn Blue Hot Water Bottle   \n",
       "1350          581538  12/9/2019     22992             Revolver Wooden Ruler   \n",
       "1354          581538  12/9/2019     22694                       Wicker Star   \n",
       "1356          581538  12/9/2019     23275  Set Of 3 Hanging Owls Ollie Beak   \n",
       "1408          581538  12/9/2019     23343       Jumbo Bag Vintage Christmas   \n",
       "...              ...        ...       ...                               ...   \n",
       "535226        536559  12/1/2018    51014L            Feather Pen Light Pink   \n",
       "535305        536569  12/1/2018     22111      Scottie Dog Hot Water Bottle   \n",
       "535323        536569  12/1/2018     21809  Christmas Hanging Tree With Bell   \n",
       "535959        536592  12/1/2018    82613A    Metal Sign Cupcake Single Hook   \n",
       "536189        536528  12/1/2018     22839   3 Tier Cake Tin Green And Cream   \n",
       "\n",
       "        Price  Quantity  CustomerNo         Country  \n",
       "984      7.24         1     17497.0  United Kingdom  \n",
       "1350     6.19         1     14446.0  United Kingdom  \n",
       "1354     6.19         1     14446.0  United Kingdom  \n",
       "1356     6.19         1     14446.0  United Kingdom  \n",
       "1408     6.19         1     14446.0  United Kingdom  \n",
       "...       ...       ...         ...             ...  \n",
       "535226  11.12        12     17873.0  United Kingdom  \n",
       "535305  15.32         1     16274.0  United Kingdom  \n",
       "535323  11.53         1     16274.0  United Kingdom  \n",
       "535959  12.82         1     16592.0  United Kingdom  \n",
       "536189  25.57         1     15525.0  United Kingdom  \n",
       "\n",
       "[5200 rows x 8 columns]"
      ]
     },
     "execution_count": 64,
     "metadata": {},
     "output_type": "execute_result"
    }
   ],
   "source": [
    "# Find duplicate rows while keeping the last occurrence\n",
    "df[df.duplicated(keep='last')]"
   ]
  },
  {
   "cell_type": "code",
   "execution_count": 65,
   "metadata": {},
   "outputs": [
    {
     "data": {
      "text/html": [
       "<div>\n",
       "<style scoped>\n",
       "    .dataframe tbody tr th:only-of-type {\n",
       "        vertical-align: middle;\n",
       "    }\n",
       "\n",
       "    .dataframe tbody tr th {\n",
       "        vertical-align: top;\n",
       "    }\n",
       "\n",
       "    .dataframe thead th {\n",
       "        text-align: right;\n",
       "    }\n",
       "</style>\n",
       "<table border=\"1\" class=\"dataframe\">\n",
       "  <thead>\n",
       "    <tr style=\"text-align: right;\">\n",
       "      <th></th>\n",
       "      <th>TransactionNo</th>\n",
       "      <th>Date</th>\n",
       "      <th>ProductNo</th>\n",
       "      <th>ProductName</th>\n",
       "      <th>Price</th>\n",
       "      <th>Quantity</th>\n",
       "      <th>CustomerNo</th>\n",
       "      <th>Country</th>\n",
       "    </tr>\n",
       "  </thead>\n",
       "  <tbody>\n",
       "    <tr>\n",
       "      <th>0</th>\n",
       "      <td>581482</td>\n",
       "      <td>12/9/2019</td>\n",
       "      <td>22485</td>\n",
       "      <td>Set Of 2 Wooden Market Crates</td>\n",
       "      <td>21.47</td>\n",
       "      <td>12</td>\n",
       "      <td>17490.0</td>\n",
       "      <td>United Kingdom</td>\n",
       "    </tr>\n",
       "    <tr>\n",
       "      <th>1</th>\n",
       "      <td>581475</td>\n",
       "      <td>12/9/2019</td>\n",
       "      <td>22596</td>\n",
       "      <td>Christmas Star Wish List Chalkboard</td>\n",
       "      <td>10.65</td>\n",
       "      <td>36</td>\n",
       "      <td>13069.0</td>\n",
       "      <td>United Kingdom</td>\n",
       "    </tr>\n",
       "    <tr>\n",
       "      <th>2</th>\n",
       "      <td>581475</td>\n",
       "      <td>12/9/2019</td>\n",
       "      <td>23235</td>\n",
       "      <td>Storage Tin Vintage Leaf</td>\n",
       "      <td>11.53</td>\n",
       "      <td>12</td>\n",
       "      <td>13069.0</td>\n",
       "      <td>United Kingdom</td>\n",
       "    </tr>\n",
       "    <tr>\n",
       "      <th>3</th>\n",
       "      <td>581475</td>\n",
       "      <td>12/9/2019</td>\n",
       "      <td>23272</td>\n",
       "      <td>Tree T-Light Holder Willie Winkie</td>\n",
       "      <td>10.65</td>\n",
       "      <td>12</td>\n",
       "      <td>13069.0</td>\n",
       "      <td>United Kingdom</td>\n",
       "    </tr>\n",
       "    <tr>\n",
       "      <th>4</th>\n",
       "      <td>581475</td>\n",
       "      <td>12/9/2019</td>\n",
       "      <td>23239</td>\n",
       "      <td>Set Of 4 Knick Knack Tins Poppies</td>\n",
       "      <td>11.94</td>\n",
       "      <td>6</td>\n",
       "      <td>13069.0</td>\n",
       "      <td>United Kingdom</td>\n",
       "    </tr>\n",
       "    <tr>\n",
       "      <th>...</th>\n",
       "      <td>...</td>\n",
       "      <td>...</td>\n",
       "      <td>...</td>\n",
       "      <td>...</td>\n",
       "      <td>...</td>\n",
       "      <td>...</td>\n",
       "      <td>...</td>\n",
       "      <td>...</td>\n",
       "    </tr>\n",
       "    <tr>\n",
       "      <th>536345</th>\n",
       "      <td>C536548</td>\n",
       "      <td>12/1/2018</td>\n",
       "      <td>22168</td>\n",
       "      <td>Organiser Wood Antique White</td>\n",
       "      <td>18.96</td>\n",
       "      <td>-2</td>\n",
       "      <td>12472.0</td>\n",
       "      <td>Germany</td>\n",
       "    </tr>\n",
       "    <tr>\n",
       "      <th>536346</th>\n",
       "      <td>C536548</td>\n",
       "      <td>12/1/2018</td>\n",
       "      <td>21218</td>\n",
       "      <td>Red Spotty Biscuit Tin</td>\n",
       "      <td>14.09</td>\n",
       "      <td>-3</td>\n",
       "      <td>12472.0</td>\n",
       "      <td>Germany</td>\n",
       "    </tr>\n",
       "    <tr>\n",
       "      <th>536347</th>\n",
       "      <td>C536548</td>\n",
       "      <td>12/1/2018</td>\n",
       "      <td>20957</td>\n",
       "      <td>Porcelain Hanging Bell Small</td>\n",
       "      <td>11.74</td>\n",
       "      <td>-1</td>\n",
       "      <td>12472.0</td>\n",
       "      <td>Germany</td>\n",
       "    </tr>\n",
       "    <tr>\n",
       "      <th>536348</th>\n",
       "      <td>C536548</td>\n",
       "      <td>12/1/2018</td>\n",
       "      <td>22580</td>\n",
       "      <td>Advent Calendar Gingham Sack</td>\n",
       "      <td>16.35</td>\n",
       "      <td>-4</td>\n",
       "      <td>12472.0</td>\n",
       "      <td>Germany</td>\n",
       "    </tr>\n",
       "    <tr>\n",
       "      <th>536349</th>\n",
       "      <td>C536548</td>\n",
       "      <td>12/1/2018</td>\n",
       "      <td>22767</td>\n",
       "      <td>Triple Photo Frame Cornice</td>\n",
       "      <td>20.45</td>\n",
       "      <td>-2</td>\n",
       "      <td>12472.0</td>\n",
       "      <td>Germany</td>\n",
       "    </tr>\n",
       "  </tbody>\n",
       "</table>\n",
       "<p>531095 rows × 8 columns</p>\n",
       "</div>"
      ],
      "text/plain": [
       "       TransactionNo       Date ProductNo  \\\n",
       "0             581482  12/9/2019     22485   \n",
       "1             581475  12/9/2019     22596   \n",
       "2             581475  12/9/2019     23235   \n",
       "3             581475  12/9/2019     23272   \n",
       "4             581475  12/9/2019     23239   \n",
       "...              ...        ...       ...   \n",
       "536345       C536548  12/1/2018     22168   \n",
       "536346       C536548  12/1/2018     21218   \n",
       "536347       C536548  12/1/2018     20957   \n",
       "536348       C536548  12/1/2018     22580   \n",
       "536349       C536548  12/1/2018     22767   \n",
       "\n",
       "                                ProductName  Price  Quantity  CustomerNo  \\\n",
       "0             Set Of 2 Wooden Market Crates  21.47        12     17490.0   \n",
       "1       Christmas Star Wish List Chalkboard  10.65        36     13069.0   \n",
       "2                  Storage Tin Vintage Leaf  11.53        12     13069.0   \n",
       "3         Tree T-Light Holder Willie Winkie  10.65        12     13069.0   \n",
       "4         Set Of 4 Knick Knack Tins Poppies  11.94         6     13069.0   \n",
       "...                                     ...    ...       ...         ...   \n",
       "536345         Organiser Wood Antique White  18.96        -2     12472.0   \n",
       "536346               Red Spotty Biscuit Tin  14.09        -3     12472.0   \n",
       "536347         Porcelain Hanging Bell Small  11.74        -1     12472.0   \n",
       "536348         Advent Calendar Gingham Sack  16.35        -4     12472.0   \n",
       "536349           Triple Photo Frame Cornice  20.45        -2     12472.0   \n",
       "\n",
       "               Country  \n",
       "0       United Kingdom  \n",
       "1       United Kingdom  \n",
       "2       United Kingdom  \n",
       "3       United Kingdom  \n",
       "4       United Kingdom  \n",
       "...                ...  \n",
       "536345         Germany  \n",
       "536346         Germany  \n",
       "536347         Germany  \n",
       "536348         Germany  \n",
       "536349         Germany  \n",
       "\n",
       "[531095 rows x 8 columns]"
      ]
     },
     "execution_count": 65,
     "metadata": {},
     "output_type": "execute_result"
    }
   ],
   "source": [
    "#removing duplicates\n",
    "df.drop_duplicates(keep='last')"
   ]
  },
  {
   "cell_type": "markdown",
   "metadata": {},
   "source": [
    "#### Data type manipulation"
   ]
  },
  {
   "cell_type": "code",
   "execution_count": 66,
   "metadata": {},
   "outputs": [
    {
     "name": "stdout",
     "output_type": "stream",
     "text": [
      "Data start date: 2018-12-01 00:00:00\n",
      "Data end date: 2019-12-09 00:00:00\n",
      "Duration: 373 days\n"
     ]
    }
   ],
   "source": [
    "# converted float64 to int64\n",
    "df['CustomerNo'] = pd.to_numeric(df['CustomerNo'], downcast='integer')\n",
    "\n",
    "# Convert Date Format\n",
    "df['Date'] = pd.to_datetime(df['Date'])\n",
    "\n",
    "# Determine the earliest and latest dates\n",
    "startdate = df['Date'].min()\n",
    "enddate = df['Date'].max()\n",
    "\n",
    "# duration between the first and last date\n",
    "duration = enddate - startdate\n",
    "\n",
    "# Print the start date, end date, and duration in days\n",
    "print(\"Data start date:\", startdate)\n",
    "print(\"Data end date:\", enddate)\n",
    "print(\"Duration:\", duration.days, \"days\")\n"
   ]
  },
  {
   "cell_type": "markdown",
   "metadata": {},
   "source": [
    "Dropping the 2018 records:\n",
    "\n",
    "\n",
    "The dataset contain inomplete records for the year 2018,as it only includes the data up to the 12 month.Therefore iam dropping the records 2018 to ensure the more effecient and accurate analysis"
   ]
  },
  {
   "cell_type": "code",
   "execution_count": 67,
   "metadata": {},
   "outputs": [
    {
     "name": "stdout",
     "output_type": "stream",
     "text": [
      "Duration: 339 days\n"
     ]
    }
   ],
   "source": [
    "# Filter the DataFrame to exclude rows where the year is 2018\n",
    "df = df.loc[df['Date'].dt.year != 2018].copy()\n",
    "duration = df['Date'].max() - df['Date'].min()\n",
    "\n",
    "# Print the duration in days\n",
    "print(\"Duration:\", duration.days, \"days\")"
   ]
  },
  {
   "cell_type": "markdown",
   "metadata": {},
   "source": [
    "#### Removing Misinformation Data \n",
    "\n",
    "Filter the transaction and canellation to remove the valid order in the corresponding cancellation  "
   ]
  },
  {
   "cell_type": "code",
   "execution_count": 68,
   "metadata": {},
   "outputs": [
    {
     "name": "stdout",
     "output_type": "stream",
     "text": [
      "Original records: 494204\n",
      "Valid orders: (486347, 8)\n",
      "Original records: 494204\n",
      "Valid cancellation: (7857, 8)\n"
     ]
    }
   ],
   "source": [
    "# Filter order records\n",
    "transactions= df[~df['TransactionNo'].str.contains('C')]\n",
    "print(\"Original records:\", len(df))\n",
    "print(\"Valid orders:\", (transactions.shape))\n",
    "\n",
    "# Filter cancellation records\n",
    "cancellations=df[df['TransactionNo'].str.contains('C')]\n",
    "print(\"Original records:\", len(df))\n",
    "print(\"Valid cancellation:\", (cancellations.shape))\n"
   ]
  },
  {
   "cell_type": "code",
   "execution_count": 69,
   "metadata": {},
   "outputs": [
    {
     "name": "stdout",
     "output_type": "stream",
     "text": [
      "\n",
      "Cleaned Dataset (After Removing Flagged Rows):\n",
      "       TransactionNo       Date ProductNo  \\\n",
      "0             581482 2019-12-09     22485   \n",
      "1             581475 2019-12-09     22596   \n",
      "2             581475 2019-12-09     23235   \n",
      "3             581475 2019-12-09     23272   \n",
      "4             581475 2019-12-09     23239   \n",
      "...              ...        ...       ...   \n",
      "494251       C540030 2019-01-04     22070   \n",
      "494252       C540097 2019-01-04     22835   \n",
      "494253       C540097 2019-01-04     22179   \n",
      "494254       C540097 2019-01-04     22113   \n",
      "494255       C540109 2019-01-04    85071A   \n",
      "\n",
      "                                ProductName  Price  Quantity  CustomerNo  \\\n",
      "0             Set Of 2 Wooden Market Crates  21.47        12       17490   \n",
      "1       Christmas Star Wish List Chalkboard  10.65        36       13069   \n",
      "2                  Storage Tin Vintage Leaf  11.53        12       13069   \n",
      "3         Tree T-Light Holder Willie Winkie  10.65        12       13069   \n",
      "4         Set Of 4 Knick Knack Tins Poppies  11.94         6       13069   \n",
      "...                                     ...    ...       ...         ...   \n",
      "494251       Small Red Retrospot Mug In Box  14.09       -24       16029   \n",
      "494252      Hot Water Bottle I Am So Poorly  15.02        -4       15373   \n",
      "494253              Set 10 Night Owl Lights  17.17        -4       15373   \n",
      "494254          Grey Heart Hot Water Bottle  14.09        -4       15373   \n",
      "494255  Blue Charlie+Lola Personal Doorsign  13.27      -150       17389   \n",
      "\n",
      "               Country  \n",
      "0       United Kingdom  \n",
      "1       United Kingdom  \n",
      "2       United Kingdom  \n",
      "3       United Kingdom  \n",
      "4       United Kingdom  \n",
      "...                ...  \n",
      "494251  United Kingdom  \n",
      "494252  United Kingdom  \n",
      "494253  United Kingdom  \n",
      "494254  United Kingdom  \n",
      "494255  United Kingdom  \n",
      "\n",
      "[478302 rows x 8 columns]\n",
      "\n",
      "Total Records Before Removal: 494204\n",
      "Records Removed: 15902\n",
      "Records Remaining: 478302\n"
     ]
    }
   ],
   "source": [
    "# Group by 'ProductNo' and 'CustomerNo' and aggregate quantities\n",
    "grouped = df.groupby(['ProductNo', 'CustomerNo'])['Quantity'].agg(list).reset_index()\n",
    "\n",
    "# Identify groups with both positive and negative quantities\n",
    "def has_matching_quantities(quantities):\n",
    "    # Create a set of absolute values\n",
    "    abs_quantities = {abs(q) for q in quantities}\n",
    "    # Check if both positive and negative exist\n",
    "    return any(q in abs_quantities for q in quantities if q > 0) and any(-q in abs_quantities for q in quantities if q < 0)\n",
    "\n",
    "# Create a mask for groups to remove\n",
    "mask_to_remove = grouped[grouped['Quantity'].apply(has_matching_quantities)]\n",
    "\n",
    "# Identify the indices of valid transactions to remove\n",
    "indices_to_remove = df[(df['Quantity'] > 0) & df.set_index(['ProductNo', 'CustomerNo']).index.isin(mask_to_remove.set_index(['ProductNo', 'CustomerNo']).index)].index\n",
    "\n",
    "# Remove the flagged valid transactions \n",
    "df = df[~df.index.isin(indices_to_remove)]\n",
    "\n",
    "# Calculate the number of records removed and total records\n",
    "records_removed = len(indices_to_remove)  # Count of indices to remove\n",
    "total_records = df.shape[0] + records_removed  # Total records before removal\n",
    "\n",
    "print(\"\\nCleaned Dataset (After Removing Flagged Rows):\")\n",
    "print(df)\n",
    "\n",
    "print(f\"\\nTotal Records Before Removal: {total_records}\")\n",
    "print(f\"Records Removed: {records_removed}\")\n",
    "print(f\"Records Remaining: {df.shape[0]}\")"
   ]
  },
  {
   "cell_type": "markdown",
   "metadata": {},
   "source": [
    "\"The valid transactions that have corresponding cancellations for the same ProductNo and CustomerNo will be removed, while the cancellations will remain in the dataset. This will make it easier to calculate the upcoming solving hypothesis.\""
   ]
  },
  {
   "cell_type": "markdown",
   "metadata": {},
   "source": [
    "#### Feature Engineering"
   ]
  },
  {
   "cell_type": "code",
   "execution_count": 70,
   "metadata": {},
   "outputs": [
    {
     "data": {
      "text/html": [
       "<div>\n",
       "<style scoped>\n",
       "    .dataframe tbody tr th:only-of-type {\n",
       "        vertical-align: middle;\n",
       "    }\n",
       "\n",
       "    .dataframe tbody tr th {\n",
       "        vertical-align: top;\n",
       "    }\n",
       "\n",
       "    .dataframe thead th {\n",
       "        text-align: right;\n",
       "    }\n",
       "</style>\n",
       "<table border=\"1\" class=\"dataframe\">\n",
       "  <thead>\n",
       "    <tr style=\"text-align: right;\">\n",
       "      <th></th>\n",
       "      <th>TransactionNo</th>\n",
       "      <th>Date</th>\n",
       "      <th>ProductNo</th>\n",
       "      <th>ProductName</th>\n",
       "      <th>Price</th>\n",
       "      <th>Quantity</th>\n",
       "      <th>CustomerNo</th>\n",
       "      <th>Country</th>\n",
       "      <th>day_name</th>\n",
       "      <th>day</th>\n",
       "      <th>month</th>\n",
       "      <th>totalsales</th>\n",
       "    </tr>\n",
       "  </thead>\n",
       "  <tbody>\n",
       "    <tr>\n",
       "      <th>0</th>\n",
       "      <td>581482</td>\n",
       "      <td>2019-12-09</td>\n",
       "      <td>22485</td>\n",
       "      <td>Set Of 2 Wooden Market Crates</td>\n",
       "      <td>21.47</td>\n",
       "      <td>12</td>\n",
       "      <td>17490</td>\n",
       "      <td>United Kingdom</td>\n",
       "      <td>Monday</td>\n",
       "      <td>9</td>\n",
       "      <td>12</td>\n",
       "      <td>257.64</td>\n",
       "    </tr>\n",
       "    <tr>\n",
       "      <th>1</th>\n",
       "      <td>581475</td>\n",
       "      <td>2019-12-09</td>\n",
       "      <td>22596</td>\n",
       "      <td>Christmas Star Wish List Chalkboard</td>\n",
       "      <td>10.65</td>\n",
       "      <td>36</td>\n",
       "      <td>13069</td>\n",
       "      <td>United Kingdom</td>\n",
       "      <td>Monday</td>\n",
       "      <td>9</td>\n",
       "      <td>12</td>\n",
       "      <td>383.40</td>\n",
       "    </tr>\n",
       "    <tr>\n",
       "      <th>2</th>\n",
       "      <td>581475</td>\n",
       "      <td>2019-12-09</td>\n",
       "      <td>23235</td>\n",
       "      <td>Storage Tin Vintage Leaf</td>\n",
       "      <td>11.53</td>\n",
       "      <td>12</td>\n",
       "      <td>13069</td>\n",
       "      <td>United Kingdom</td>\n",
       "      <td>Monday</td>\n",
       "      <td>9</td>\n",
       "      <td>12</td>\n",
       "      <td>138.36</td>\n",
       "    </tr>\n",
       "    <tr>\n",
       "      <th>3</th>\n",
       "      <td>581475</td>\n",
       "      <td>2019-12-09</td>\n",
       "      <td>23272</td>\n",
       "      <td>Tree T-Light Holder Willie Winkie</td>\n",
       "      <td>10.65</td>\n",
       "      <td>12</td>\n",
       "      <td>13069</td>\n",
       "      <td>United Kingdom</td>\n",
       "      <td>Monday</td>\n",
       "      <td>9</td>\n",
       "      <td>12</td>\n",
       "      <td>127.80</td>\n",
       "    </tr>\n",
       "    <tr>\n",
       "      <th>4</th>\n",
       "      <td>581475</td>\n",
       "      <td>2019-12-09</td>\n",
       "      <td>23239</td>\n",
       "      <td>Set Of 4 Knick Knack Tins Poppies</td>\n",
       "      <td>11.94</td>\n",
       "      <td>6</td>\n",
       "      <td>13069</td>\n",
       "      <td>United Kingdom</td>\n",
       "      <td>Monday</td>\n",
       "      <td>9</td>\n",
       "      <td>12</td>\n",
       "      <td>71.64</td>\n",
       "    </tr>\n",
       "  </tbody>\n",
       "</table>\n",
       "</div>"
      ],
      "text/plain": [
       "  TransactionNo       Date ProductNo                          ProductName  \\\n",
       "0        581482 2019-12-09     22485        Set Of 2 Wooden Market Crates   \n",
       "1        581475 2019-12-09     22596  Christmas Star Wish List Chalkboard   \n",
       "2        581475 2019-12-09     23235             Storage Tin Vintage Leaf   \n",
       "3        581475 2019-12-09     23272    Tree T-Light Holder Willie Winkie   \n",
       "4        581475 2019-12-09     23239    Set Of 4 Knick Knack Tins Poppies   \n",
       "\n",
       "   Price  Quantity  CustomerNo         Country day_name  day  month  \\\n",
       "0  21.47        12       17490  United Kingdom   Monday    9     12   \n",
       "1  10.65        36       13069  United Kingdom   Monday    9     12   \n",
       "2  11.53        12       13069  United Kingdom   Monday    9     12   \n",
       "3  10.65        12       13069  United Kingdom   Monday    9     12   \n",
       "4  11.94         6       13069  United Kingdom   Monday    9     12   \n",
       "\n",
       "   totalsales  \n",
       "0      257.64  \n",
       "1      383.40  \n",
       "2      138.36  \n",
       "3      127.80  \n",
       "4       71.64  "
      ]
     },
     "execution_count": 70,
     "metadata": {},
     "output_type": "execute_result"
    }
   ],
   "source": [
    "# Extract from 'Date' column\n",
    "df['day_name'] = df['Date'].dt.day_name()  # Get the day name (e.g., Monday)\n",
    "df['day'] = df['Date'].dt.day  # Get the day of the month\n",
    "df['month'] = df['Date'].dt.month  # Get the month number\n",
    "\n",
    "# Calculate total sales\n",
    "df['totalsales'] = df['Price'] * df['Quantity'] \n",
    "\n",
    "df.head() "
   ]
  },
  {
   "cell_type": "markdown",
   "metadata": {},
   "source": [
    "The dataset was cleaned by removing missing values and duplicates, converting data types, filtering out incomplete 2018 records, and engineering new date and sales features.Now\n",
    "the dataset is clean, properly formatted, and enriched with additional features, making it ready for exploratory data analysis (EDA)."
   ]
  },
  {
   "cell_type": "markdown",
   "metadata": {},
   "source": [
    "#### Discriptive Statistics"
   ]
  },
  {
   "cell_type": "code",
   "execution_count": 71,
   "metadata": {},
   "outputs": [
    {
     "data": {
      "text/html": [
       "<div>\n",
       "<style scoped>\n",
       "    .dataframe tbody tr th:only-of-type {\n",
       "        vertical-align: middle;\n",
       "    }\n",
       "\n",
       "    .dataframe tbody tr th {\n",
       "        vertical-align: top;\n",
       "    }\n",
       "\n",
       "    .dataframe thead th {\n",
       "        text-align: right;\n",
       "    }\n",
       "</style>\n",
       "<table border=\"1\" class=\"dataframe\">\n",
       "  <thead>\n",
       "    <tr style=\"text-align: right;\">\n",
       "      <th></th>\n",
       "      <th>TransactionNo</th>\n",
       "      <th>Date</th>\n",
       "      <th>ProductNo</th>\n",
       "      <th>ProductName</th>\n",
       "      <th>Price</th>\n",
       "      <th>Quantity</th>\n",
       "      <th>CustomerNo</th>\n",
       "      <th>Country</th>\n",
       "      <th>day_name</th>\n",
       "      <th>day</th>\n",
       "      <th>month</th>\n",
       "      <th>totalsales</th>\n",
       "    </tr>\n",
       "  </thead>\n",
       "  <tbody>\n",
       "    <tr>\n",
       "      <th>count</th>\n",
       "      <td>478302</td>\n",
       "      <td>478302</td>\n",
       "      <td>478302</td>\n",
       "      <td>478302</td>\n",
       "      <td>478302.000000</td>\n",
       "      <td>478302.000000</td>\n",
       "      <td>478302.000000</td>\n",
       "      <td>478302</td>\n",
       "      <td>478302</td>\n",
       "      <td>478302.000000</td>\n",
       "      <td>478302.000000</td>\n",
       "      <td>478302.000000</td>\n",
       "    </tr>\n",
       "    <tr>\n",
       "      <th>unique</th>\n",
       "      <td>20932</td>\n",
       "      <td>NaN</td>\n",
       "      <td>3688</td>\n",
       "      <td>3688</td>\n",
       "      <td>NaN</td>\n",
       "      <td>NaN</td>\n",
       "      <td>NaN</td>\n",
       "      <td>37</td>\n",
       "      <td>6</td>\n",
       "      <td>NaN</td>\n",
       "      <td>NaN</td>\n",
       "      <td>NaN</td>\n",
       "    </tr>\n",
       "    <tr>\n",
       "      <th>top</th>\n",
       "      <td>573585</td>\n",
       "      <td>NaN</td>\n",
       "      <td>85123A</td>\n",
       "      <td>Cream Hanging Heart T-Light Holder</td>\n",
       "      <td>NaN</td>\n",
       "      <td>NaN</td>\n",
       "      <td>NaN</td>\n",
       "      <td>United Kingdom</td>\n",
       "      <td>Sunday</td>\n",
       "      <td>NaN</td>\n",
       "      <td>NaN</td>\n",
       "      <td>NaN</td>\n",
       "    </tr>\n",
       "    <tr>\n",
       "      <th>freq</th>\n",
       "      <td>1111</td>\n",
       "      <td>NaN</td>\n",
       "      <td>2006</td>\n",
       "      <td>2006</td>\n",
       "      <td>NaN</td>\n",
       "      <td>NaN</td>\n",
       "      <td>NaN</td>\n",
       "      <td>433217</td>\n",
       "      <td>91825</td>\n",
       "      <td>NaN</td>\n",
       "      <td>NaN</td>\n",
       "      <td>NaN</td>\n",
       "    </tr>\n",
       "    <tr>\n",
       "      <th>mean</th>\n",
       "      <td>NaN</td>\n",
       "      <td>2019-07-22 03:10:24.694857984</td>\n",
       "      <td>NaN</td>\n",
       "      <td>NaN</td>\n",
       "      <td>12.499333</td>\n",
       "      <td>9.238814</td>\n",
       "      <td>15218.746359</td>\n",
       "      <td>NaN</td>\n",
       "      <td>NaN</td>\n",
       "      <td>15.432831</td>\n",
       "      <td>7.195393</td>\n",
       "      <td>104.033395</td>\n",
       "    </tr>\n",
       "    <tr>\n",
       "      <th>min</th>\n",
       "      <td>NaN</td>\n",
       "      <td>2019-01-04 00:00:00</td>\n",
       "      <td>NaN</td>\n",
       "      <td>NaN</td>\n",
       "      <td>5.130000</td>\n",
       "      <td>-80995.000000</td>\n",
       "      <td>12004.000000</td>\n",
       "      <td>NaN</td>\n",
       "      <td>NaN</td>\n",
       "      <td>1.000000</td>\n",
       "      <td>1.000000</td>\n",
       "      <td>-840113.800000</td>\n",
       "    </tr>\n",
       "    <tr>\n",
       "      <th>25%</th>\n",
       "      <td>NaN</td>\n",
       "      <td>2019-04-26 00:00:00</td>\n",
       "      <td>NaN</td>\n",
       "      <td>NaN</td>\n",
       "      <td>10.920000</td>\n",
       "      <td>1.000000</td>\n",
       "      <td>13810.000000</td>\n",
       "      <td>NaN</td>\n",
       "      <td>NaN</td>\n",
       "      <td>8.000000</td>\n",
       "      <td>4.000000</td>\n",
       "      <td>15.350000</td>\n",
       "    </tr>\n",
       "    <tr>\n",
       "      <th>50%</th>\n",
       "      <td>NaN</td>\n",
       "      <td>2019-08-08 00:00:00</td>\n",
       "      <td>NaN</td>\n",
       "      <td>NaN</td>\n",
       "      <td>11.940000</td>\n",
       "      <td>3.000000</td>\n",
       "      <td>15134.000000</td>\n",
       "      <td>NaN</td>\n",
       "      <td>NaN</td>\n",
       "      <td>15.000000</td>\n",
       "      <td>8.000000</td>\n",
       "      <td>42.270000</td>\n",
       "    </tr>\n",
       "    <tr>\n",
       "      <th>75%</th>\n",
       "      <td>NaN</td>\n",
       "      <td>2019-10-25 00:00:00</td>\n",
       "      <td>NaN</td>\n",
       "      <td>NaN</td>\n",
       "      <td>14.090000</td>\n",
       "      <td>10.000000</td>\n",
       "      <td>16726.000000</td>\n",
       "      <td>NaN</td>\n",
       "      <td>NaN</td>\n",
       "      <td>23.000000</td>\n",
       "      <td>10.000000</td>\n",
       "      <td>115.300000</td>\n",
       "    </tr>\n",
       "    <tr>\n",
       "      <th>max</th>\n",
       "      <td>NaN</td>\n",
       "      <td>2019-12-09 00:00:00</td>\n",
       "      <td>NaN</td>\n",
       "      <td>NaN</td>\n",
       "      <td>660.620000</td>\n",
       "      <td>12540.000000</td>\n",
       "      <td>18287.000000</td>\n",
       "      <td>NaN</td>\n",
       "      <td>NaN</td>\n",
       "      <td>31.000000</td>\n",
       "      <td>12.000000</td>\n",
       "      <td>77622.600000</td>\n",
       "    </tr>\n",
       "    <tr>\n",
       "      <th>std</th>\n",
       "      <td>NaN</td>\n",
       "      <td>NaN</td>\n",
       "      <td>NaN</td>\n",
       "      <td>NaN</td>\n",
       "      <td>7.579401</td>\n",
       "      <td>163.790041</td>\n",
       "      <td>1712.429444</td>\n",
       "      <td>NaN</td>\n",
       "      <td>NaN</td>\n",
       "      <td>8.721660</td>\n",
       "      <td>3.401648</td>\n",
       "      <td>1472.553951</td>\n",
       "    </tr>\n",
       "  </tbody>\n",
       "</table>\n",
       "</div>"
      ],
      "text/plain": [
       "       TransactionNo                           Date ProductNo  \\\n",
       "count         478302                         478302    478302   \n",
       "unique         20932                            NaN      3688   \n",
       "top           573585                            NaN    85123A   \n",
       "freq            1111                            NaN      2006   \n",
       "mean             NaN  2019-07-22 03:10:24.694857984       NaN   \n",
       "min              NaN            2019-01-04 00:00:00       NaN   \n",
       "25%              NaN            2019-04-26 00:00:00       NaN   \n",
       "50%              NaN            2019-08-08 00:00:00       NaN   \n",
       "75%              NaN            2019-10-25 00:00:00       NaN   \n",
       "max              NaN            2019-12-09 00:00:00       NaN   \n",
       "std              NaN                            NaN       NaN   \n",
       "\n",
       "                               ProductName          Price       Quantity  \\\n",
       "count                               478302  478302.000000  478302.000000   \n",
       "unique                                3688            NaN            NaN   \n",
       "top     Cream Hanging Heart T-Light Holder            NaN            NaN   \n",
       "freq                                  2006            NaN            NaN   \n",
       "mean                                   NaN      12.499333       9.238814   \n",
       "min                                    NaN       5.130000  -80995.000000   \n",
       "25%                                    NaN      10.920000       1.000000   \n",
       "50%                                    NaN      11.940000       3.000000   \n",
       "75%                                    NaN      14.090000      10.000000   \n",
       "max                                    NaN     660.620000   12540.000000   \n",
       "std                                    NaN       7.579401     163.790041   \n",
       "\n",
       "           CustomerNo         Country day_name            day          month  \\\n",
       "count   478302.000000          478302   478302  478302.000000  478302.000000   \n",
       "unique            NaN              37        6            NaN            NaN   \n",
       "top               NaN  United Kingdom   Sunday            NaN            NaN   \n",
       "freq              NaN          433217    91825            NaN            NaN   \n",
       "mean     15218.746359             NaN      NaN      15.432831       7.195393   \n",
       "min      12004.000000             NaN      NaN       1.000000       1.000000   \n",
       "25%      13810.000000             NaN      NaN       8.000000       4.000000   \n",
       "50%      15134.000000             NaN      NaN      15.000000       8.000000   \n",
       "75%      16726.000000             NaN      NaN      23.000000      10.000000   \n",
       "max      18287.000000             NaN      NaN      31.000000      12.000000   \n",
       "std       1712.429444             NaN      NaN       8.721660       3.401648   \n",
       "\n",
       "           totalsales  \n",
       "count   478302.000000  \n",
       "unique            NaN  \n",
       "top               NaN  \n",
       "freq              NaN  \n",
       "mean       104.033395  \n",
       "min    -840113.800000  \n",
       "25%         15.350000  \n",
       "50%         42.270000  \n",
       "75%        115.300000  \n",
       "max      77622.600000  \n",
       "std       1472.553951  "
      ]
     },
     "execution_count": 71,
     "metadata": {},
     "output_type": "execute_result"
    }
   ],
   "source": [
    "df.describe(include='all')"
   ]
  },
  {
   "cell_type": "markdown",
   "metadata": {},
   "source": [
    "Describing the cateogorical column iam going to focus on the unique count and top frequency of the categorical features such as,\n",
    "\n",
    "    *There are 3,688 unique products and 21319 unique transactions recorded in 2019.\n",
    "    *The products were shipped to 37 different countries.\n",
    "    *\"Cream Hanging Heart T-Light Holder\" is the most sold product in the UK.\n",
    "As for numerical column\n",
    "\n",
    "    *The cheapest product costs 5.13, while the most expensive costs 660.\n",
    "    *The highest quantity sold in a single transaction was 80995 units.\n",
    "\n"
   ]
  },
  {
   "cell_type": "markdown",
   "metadata": {},
   "source": [
    "## EDA(Exploratory data analysis)"
   ]
  },
  {
   "cell_type": "markdown",
   "metadata": {},
   "source": [
    "find the transaction and cancellation records"
   ]
  },
  {
   "cell_type": "markdown",
   "metadata": {},
   "source": [
    "#### Segmentation of Transactions:"
   ]
  },
  {
   "cell_type": "code",
   "execution_count": 72,
   "metadata": {},
   "outputs": [
    {
     "name": "stdout",
     "output_type": "stream",
     "text": [
      "Original records: 478302\n",
      "Valid orders: (470445, 12)\n"
     ]
    }
   ],
   "source": [
    "# Remove where 'TransactionNo' contains 'C' \n",
    "transactions= df[~df['TransactionNo'].str.contains('C')]\n",
    "print(\"Original records:\", len(df))\n",
    "print(\"Valid orders:\", (transactions.shape))"
   ]
  },
  {
   "cell_type": "code",
   "execution_count": 73,
   "metadata": {},
   "outputs": [
    {
     "name": "stdout",
     "output_type": "stream",
     "text": [
      "Original records: 478302\n",
      "Valid orders: (7857, 12)\n"
     ]
    }
   ],
   "source": [
    "# Select where 'TransactionNo' contains 'C' \n",
    "cancellations=df[df['TransactionNo'].str.contains('C')]\n",
    "print(\"Original records:\", len(df))\n",
    "print(\"Valid orders:\", (cancellations.shape))"
   ]
  },
  {
   "cell_type": "markdown",
   "metadata": {},
   "source": [
    "The original dataset contains  478302 in total.Out of these  transaction contain 470445 and the cancellation 7,857"
   ]
  },
  {
   "cell_type": "markdown",
   "metadata": {},
   "source": [
    "#### For Total Orders"
   ]
  },
  {
   "cell_type": "code",
   "execution_count": 74,
   "metadata": {},
   "outputs": [
    {
     "data": {
      "text/plain": [
       "17850"
      ]
     },
     "execution_count": 74,
     "metadata": {},
     "output_type": "execute_result"
    }
   ],
   "source": [
    "# Count the number of unique transaction numbers\n",
    "total_orders = transactions['TransactionNo'].nunique()\n",
    "total_orders"
   ]
  },
  {
   "cell_type": "markdown",
   "metadata": {},
   "source": [
    "If a customer orders multiple products at the same time, all those items are usually part of the same order and therefore share the same TransactionNo.so the no of transaction record is 486347 out of these nunique is 18,237"
   ]
  },
  {
   "cell_type": "code",
   "execution_count": null,
   "metadata": {},
   "outputs": [
    {
     "name": "stdout",
     "output_type": "stream",
     "text": [
      "Total number of unique countries: 37\n",
      "List of unique countries:\n",
      "['United Kingdom' 'Norway' 'Belgium' 'Germany' 'France' 'Austria'\n",
      " 'Netherlands' 'EIRE' 'USA' 'Channel Islands' 'Iceland' 'Portugal' 'Spain'\n",
      " 'Finland' 'Italy' 'Greece' 'Japan' 'Denmark' 'Sweden' 'Cyprus' 'Malta'\n",
      " 'Switzerland' 'Australia' 'Czech Republic' 'Poland' 'Hong Kong'\n",
      " 'Singapore' 'RSA' 'Israel' 'Unspecified' 'United Arab Emirates' 'Canada'\n",
      " 'European Community' 'Bahrain' 'Brazil' 'Saudi Arabia' 'Lebanon']\n"
     ]
    }
   ],
   "source": [
    "# Get unique country names\n",
    "unique_countries = df['Country'].unique()\n",
    "\n",
    "# total number of unique countries\n",
    "num_unique_countries = df['Country'].nunique()\n",
    "\n",
    "# Print the result\n",
    "print(f\"Total number of unique countries: {num_unique_countries}\")\n",
    "print(\"List of unique countries:\")\n",
    "print(unique_countries)\n"
   ]
  },
  {
   "cell_type": "markdown",
   "metadata": {},
   "source": [
    "The total number of unique countries is 37."
   ]
  },
  {
   "cell_type": "markdown",
   "metadata": {},
   "source": [
    "#### Total revenue"
   ]
  },
  {
   "cell_type": "code",
   "execution_count": 75,
   "metadata": {},
   "outputs": [
    {
     "data": {
      "text/plain": [
       "np.float64(52246234.69)"
      ]
     },
     "execution_count": 75,
     "metadata": {},
     "output_type": "execute_result"
    }
   ],
   "source": [
    "# Calculate the total revenue by 'totalsales'\n",
    "total_revenue=transactions['totalsales'].sum()\n",
    "total_revenue"
   ]
  },
  {
   "cell_type": "markdown",
   "metadata": {},
   "source": [
    "Total orders generate a total revenue of approximately 52.25 million."
   ]
  },
  {
   "cell_type": "markdown",
   "metadata": {},
   "source": [
    "#### Total quantity"
   ]
  },
  {
   "cell_type": "code",
   "execution_count": 76,
   "metadata": {},
   "outputs": [
    {
     "data": {
      "text/plain": [
       "np.int64(4672400)"
      ]
     },
     "execution_count": 76,
     "metadata": {},
     "output_type": "execute_result"
    }
   ],
   "source": [
    "# total sum of the 'Quantity' in transactions\n",
    "total_quantity=transactions['Quantity'].sum()\n",
    "total_quantity"
   ]
  },
  {
   "cell_type": "markdown",
   "metadata": {},
   "source": [
    "total order generate a total Quantity is 4672400"
   ]
  },
  {
   "cell_type": "markdown",
   "metadata": {},
   "source": [
    "#### Average Order Value(AOV)"
   ]
  },
  {
   "cell_type": "code",
   "execution_count": 77,
   "metadata": {},
   "outputs": [
    {
     "name": "stdout",
     "output_type": "stream",
     "text": [
      "2927.0\n"
     ]
    }
   ],
   "source": [
    "# dividing total revenue by total orders\n",
    "average_order_value = total_revenue / total_orders\n",
    "# Print the rounded value \n",
    "print(average_order_value.round())"
   ]
  },
  {
   "cell_type": "markdown",
   "metadata": {},
   "source": [
    "The average order value (AOV) is 2927.0, meaning that each order generates an average revenue of 2927.0."
   ]
  },
  {
   "cell_type": "code",
   "execution_count": 78,
   "metadata": {},
   "outputs": [
    {
     "name": "stdout",
     "output_type": "stream",
     "text": [
      "262.0\n"
     ]
    }
   ],
   "source": [
    "# dividing total quantity by total orders\n",
    "average_quantity_value=total_quantity/total_orders\n",
    "# Print the rounded value \n",
    "print(average_quantity_value.round())"
   ]
  },
  {
   "cell_type": "markdown",
   "metadata": {},
   "source": [
    "Each order generate an average Quantity of 262."
   ]
  },
  {
   "cell_type": "markdown",
   "metadata": {},
   "source": [
    "#### Total Revenue in Country"
   ]
  },
  {
   "cell_type": "code",
   "execution_count": null,
   "metadata": {},
   "outputs": [
    {
     "name": "stdout",
     "output_type": "stream",
     "text": [
      "Top 10 Countries by Total Sales:\n",
      "           Country   totalsales\n",
      "35  United Kingdom  40763064.49\n",
      "23     Netherlands   2054491.27\n",
      "10            EIRE   1332558.49\n",
      "13          France   1182701.46\n",
      "14         Germany   1145685.73\n",
      "0        Australia    804987.86\n",
      "31          Sweden    350958.21\n",
      "32     Switzerland    339219.70\n",
      "30           Spain    242876.70\n",
      "3          Belgium    222861.04\n"
     ]
    }
   ],
   "source": [
    "# Group by Country and sum total sales\n",
    "grp_country = df.groupby('Country')['totalsales'].sum().reset_index()\n",
    "\n",
    "# Sort by total sales in descending order and select the top 10\n",
    "top_10_countries = grp_country.sort_values(by='totalsales', ascending=False).head(10)\n",
    "\n",
    "print(\"no of country\")\n",
    "\n",
    "# Display the top 10 countries with the highest total sales\n",
    "print(\"Top 10 Countries by Total Sales:\")\n",
    "print(top_10_countries)\n"
   ]
  },
  {
   "cell_type": "markdown",
   "metadata": {},
   "source": [
    "\n",
    "\n",
    "1. **United Kingdom (₹40.76M)** – The UK has the highest sales, much more than any other country.  \n",
    "2. **Netherlands (₹2.05M) & EIRE (₹1.33M)** – These countries have good sales but are far behind the UK.  \n",
    "3. **France (₹1.18M) & Germany (₹1.14M)** – Both have similar sales, showing a steady market.  \n"
   ]
  },
  {
   "cell_type": "markdown",
   "metadata": {},
   "source": [
    "#### Analysing Product in Demand :"
   ]
  },
  {
   "cell_type": "code",
   "execution_count": 79,
   "metadata": {},
   "outputs": [
    {
     "data": {
      "text/html": [
       "<div>\n",
       "<style scoped>\n",
       "    .dataframe tbody tr th:only-of-type {\n",
       "        vertical-align: middle;\n",
       "    }\n",
       "\n",
       "    .dataframe tbody tr th {\n",
       "        vertical-align: top;\n",
       "    }\n",
       "\n",
       "    .dataframe thead th {\n",
       "        text-align: right;\n",
       "    }\n",
       "</style>\n",
       "<table border=\"1\" class=\"dataframe\">\n",
       "  <thead>\n",
       "    <tr style=\"text-align: right;\">\n",
       "      <th></th>\n",
       "      <th>ProductNo</th>\n",
       "      <th>Quantity</th>\n",
       "      <th>totalsales</th>\n",
       "    </tr>\n",
       "  </thead>\n",
       "  <tbody>\n",
       "    <tr>\n",
       "      <th>0</th>\n",
       "      <td>10002</td>\n",
       "      <td>609</td>\n",
       "      <td>6780.11</td>\n",
       "    </tr>\n",
       "    <tr>\n",
       "      <th>1</th>\n",
       "      <td>10080</td>\n",
       "      <td>303</td>\n",
       "      <td>3227.89</td>\n",
       "    </tr>\n",
       "    <tr>\n",
       "      <th>2</th>\n",
       "      <td>10120</td>\n",
       "      <td>177</td>\n",
       "      <td>1810.25</td>\n",
       "    </tr>\n",
       "    <tr>\n",
       "      <th>3</th>\n",
       "      <td>10123C</td>\n",
       "      <td>4</td>\n",
       "      <td>43.68</td>\n",
       "    </tr>\n",
       "    <tr>\n",
       "      <th>4</th>\n",
       "      <td>10124A</td>\n",
       "      <td>12</td>\n",
       "      <td>128.16</td>\n",
       "    </tr>\n",
       "    <tr>\n",
       "      <th>...</th>\n",
       "      <td>...</td>\n",
       "      <td>...</td>\n",
       "      <td>...</td>\n",
       "    </tr>\n",
       "    <tr>\n",
       "      <th>3663</th>\n",
       "      <td>90214U</td>\n",
       "      <td>12</td>\n",
       "      <td>73.56</td>\n",
       "    </tr>\n",
       "    <tr>\n",
       "      <th>3664</th>\n",
       "      <td>90214V</td>\n",
       "      <td>24</td>\n",
       "      <td>207.21</td>\n",
       "    </tr>\n",
       "    <tr>\n",
       "      <th>3665</th>\n",
       "      <td>90214W</td>\n",
       "      <td>16</td>\n",
       "      <td>117.98</td>\n",
       "    </tr>\n",
       "    <tr>\n",
       "      <th>3666</th>\n",
       "      <td>90214Y</td>\n",
       "      <td>65</td>\n",
       "      <td>426.63</td>\n",
       "    </tr>\n",
       "    <tr>\n",
       "      <th>3667</th>\n",
       "      <td>90214Z</td>\n",
       "      <td>19</td>\n",
       "      <td>151.26</td>\n",
       "    </tr>\n",
       "  </tbody>\n",
       "</table>\n",
       "<p>3668 rows × 3 columns</p>\n",
       "</div>"
      ],
      "text/plain": [
       "     ProductNo  Quantity  totalsales\n",
       "0        10002       609     6780.11\n",
       "1        10080       303     3227.89\n",
       "2        10120       177     1810.25\n",
       "3       10123C         4       43.68\n",
       "4       10124A        12      128.16\n",
       "...        ...       ...         ...\n",
       "3663    90214U        12       73.56\n",
       "3664    90214V        24      207.21\n",
       "3665    90214W        16      117.98\n",
       "3666    90214Y        65      426.63\n",
       "3667    90214Z        19      151.26\n",
       "\n",
       "[3668 rows x 3 columns]"
      ]
     },
     "execution_count": 79,
     "metadata": {},
     "output_type": "execute_result"
    }
   ],
   "source": [
    "# Group the 'transactions' by 'ProductNo'\n",
    "product_demand = transactions.groupby('ProductNo').agg({\n",
    "    'Quantity': 'sum',   # Sum up the total quantity \n",
    "    'totalsales': 'sum'  # Sum up the total sales \n",
    "}).reset_index()  # Reset the index\n",
    "\n",
    "# Display the product demand\n",
    "product_demand  "
   ]
  },
  {
   "cell_type": "markdown",
   "metadata": {},
   "source": [
    "No of product in the record is 3676."
   ]
  },
  {
   "cell_type": "markdown",
   "metadata": {},
   "source": [
    "#### Customer Purchase Frequency :"
   ]
  },
  {
   "cell_type": "code",
   "execution_count": 80,
   "metadata": {},
   "outputs": [
    {
     "data": {
      "text/html": [
       "<div>\n",
       "<style scoped>\n",
       "    .dataframe tbody tr th:only-of-type {\n",
       "        vertical-align: middle;\n",
       "    }\n",
       "\n",
       "    .dataframe tbody tr th {\n",
       "        vertical-align: top;\n",
       "    }\n",
       "\n",
       "    .dataframe thead th {\n",
       "        text-align: right;\n",
       "    }\n",
       "</style>\n",
       "<table border=\"1\" class=\"dataframe\">\n",
       "  <thead>\n",
       "    <tr style=\"text-align: right;\">\n",
       "      <th></th>\n",
       "      <th>CustomerNo</th>\n",
       "      <th>PurchaseFrequency</th>\n",
       "    </tr>\n",
       "  </thead>\n",
       "  <tbody>\n",
       "    <tr>\n",
       "      <th>0</th>\n",
       "      <td>12004</td>\n",
       "      <td>1</td>\n",
       "    </tr>\n",
       "    <tr>\n",
       "      <th>1</th>\n",
       "      <td>12006</td>\n",
       "      <td>1</td>\n",
       "    </tr>\n",
       "    <tr>\n",
       "      <th>2</th>\n",
       "      <td>12008</td>\n",
       "      <td>1</td>\n",
       "    </tr>\n",
       "    <tr>\n",
       "      <th>3</th>\n",
       "      <td>12024</td>\n",
       "      <td>1</td>\n",
       "    </tr>\n",
       "    <tr>\n",
       "      <th>4</th>\n",
       "      <td>12025</td>\n",
       "      <td>1</td>\n",
       "    </tr>\n",
       "    <tr>\n",
       "      <th>...</th>\n",
       "      <td>...</td>\n",
       "      <td>...</td>\n",
       "    </tr>\n",
       "    <tr>\n",
       "      <th>4544</th>\n",
       "      <td>18280</td>\n",
       "      <td>1</td>\n",
       "    </tr>\n",
       "    <tr>\n",
       "      <th>4545</th>\n",
       "      <td>18281</td>\n",
       "      <td>1</td>\n",
       "    </tr>\n",
       "    <tr>\n",
       "      <th>4546</th>\n",
       "      <td>18282</td>\n",
       "      <td>2</td>\n",
       "    </tr>\n",
       "    <tr>\n",
       "      <th>4547</th>\n",
       "      <td>18283</td>\n",
       "      <td>16</td>\n",
       "    </tr>\n",
       "    <tr>\n",
       "      <th>4548</th>\n",
       "      <td>18287</td>\n",
       "      <td>3</td>\n",
       "    </tr>\n",
       "  </tbody>\n",
       "</table>\n",
       "<p>4549 rows × 2 columns</p>\n",
       "</div>"
      ],
      "text/plain": [
       "      CustomerNo  PurchaseFrequency\n",
       "0          12004                  1\n",
       "1          12006                  1\n",
       "2          12008                  1\n",
       "3          12024                  1\n",
       "4          12025                  1\n",
       "...          ...                ...\n",
       "4544       18280                  1\n",
       "4545       18281                  1\n",
       "4546       18282                  2\n",
       "4547       18283                 16\n",
       "4548       18287                  3\n",
       "\n",
       "[4549 rows x 2 columns]"
      ]
     },
     "execution_count": 80,
     "metadata": {},
     "output_type": "execute_result"
    }
   ],
   "source": [
    "# Group the 'transactions' by 'CustomerNo' and count the number of unique transactions\n",
    "customer_purchase_frequency = transactions.groupby('CustomerNo')['TransactionNo'].nunique().reset_index()\n",
    "\n",
    "# Rename the 'TransactionNo' column to 'PurchaseFrequency' for better readability\n",
    "customer_purchase_frequency.rename(columns={'TransactionNo': 'PurchaseFrequency'}, inplace=True)\n",
    "customer_purchase_frequency"
   ]
  },
  {
   "cell_type": "markdown",
   "metadata": {},
   "source": [
    "The purchase frequency for each of the 4572 unique customers, providing a clear measure of how many orders each customer has made."
   ]
  },
  {
   "cell_type": "markdown",
   "metadata": {},
   "source": [
    "### For Cancellations"
   ]
  },
  {
   "cell_type": "code",
   "execution_count": 81,
   "metadata": {},
   "outputs": [
    {
     "name": "stdout",
     "output_type": "stream",
     "text": [
      "total cancell: 3082\n"
     ]
    }
   ],
   "source": [
    "# Count the number of unique transaction in cancellations\n",
    "total_cancellation=cancellations['TransactionNo'].nunique()\n",
    "# Print the total number of cancellations\n",
    "print(\"total cancell:\",(total_cancellation))"
   ]
  },
  {
   "cell_type": "markdown",
   "metadata": {},
   "source": [
    "the order which made with the cancellation record there is a 18k out of 3.08K, unique cancellation"
   ]
  },
  {
   "cell_type": "markdown",
   "metadata": {},
   "source": [
    "#### Cancellation Count per Product/Customer :\n"
   ]
  },
  {
   "cell_type": "code",
   "execution_count": 82,
   "metadata": {},
   "outputs": [
    {
     "name": "stdout",
     "output_type": "stream",
     "text": [
      "     ProductNo  CancellationCount\n",
      "0        10133                  2\n",
      "1        11001                  4\n",
      "2        15034                  4\n",
      "3        15036                  3\n",
      "4        15039                  3\n",
      "...        ...                ...\n",
      "1836    90202D                  1\n",
      "1837     90204                  1\n",
      "1838     90208                  1\n",
      "1839    90209A                  1\n",
      "1840    90209C                  1\n",
      "\n",
      "[1841 rows x 2 columns]\n",
      "      CustomerNo  CancellationCount\n",
      "0          12346                  1\n",
      "1          12352                  7\n",
      "2          12359                  6\n",
      "3          12362                  8\n",
      "4          12375                  1\n",
      "...          ...                ...\n",
      "1431       18272                  4\n",
      "1432       18274                 11\n",
      "1433       18276                  2\n",
      "1434       18277                  1\n",
      "1435       18282                  1\n",
      "\n",
      "[1436 rows x 2 columns]\n"
     ]
    }
   ],
   "source": [
    "# Group the 'cancellations' by 'ProductNo' and count the number of cancellations \n",
    "cancellation_by_product = cancellations.groupby('ProductNo').size().reset_index(name='CancellationCount')\n",
    "\n",
    "# Group the 'cancellations' by 'CustomerNo' and count the number of cancellations \n",
    "cancellation_by_customer = cancellations.groupby('CustomerNo').size().reset_index(name='CancellationCount')\n",
    "\n",
    "# Print the cancellation counts by product\n",
    "print(cancellation_by_product)\n",
    "\n",
    "# Print the cancellation counts by customer\n",
    "print(cancellation_by_customer)\n"
   ]
  },
  {
   "cell_type": "markdown",
   "metadata": {},
   "source": [
    "In the cancellation records, there are 1,436 unique customers and 1,841 unique products, it  counts the cancellations for each group."
   ]
  },
  {
   "cell_type": "markdown",
   "metadata": {},
   "source": [
    "#### Cancellation Rate :"
   ]
  },
  {
   "cell_type": "markdown",
   "metadata": {},
   "source": [
    "calculates the percentage of each product's transactions that were cancelled, providing insight into cancellation trends and potential product issues.\n",
    "\n",
    "\n",
    "\n",
    "\n",
    "\n",
    "\n"
   ]
  },
  {
   "cell_type": "code",
   "execution_count": 83,
   "metadata": {},
   "outputs": [
    {
     "data": {
      "text/plain": [
       "0       0.0\n",
       "1       0.0\n",
       "2       0.0\n",
       "3       0.0\n",
       "4       0.0\n",
       "       ... \n",
       "3683    0.0\n",
       "3684    0.0\n",
       "3685    0.0\n",
       "3686    0.0\n",
       "3687    0.0\n",
       "Name: CancellationRate, Length: 3688, dtype: float64"
      ]
     },
     "execution_count": 83,
     "metadata": {},
     "output_type": "execute_result"
    }
   ],
   "source": [
    "# Merge valid orders and cancellations by ProductNo\n",
    "product_summary = pd.merge(\n",
    "    transactions.groupby('ProductNo')['Quantity'].sum().reset_index(),  # Total valid quantity\n",
    "    cancellations.groupby('ProductNo')['Quantity'].sum().reset_index(),  # Total cancelled quantity\n",
    "    on='ProductNo', how='outer', suffixes=('_Valid', '_Cancelled')  # Outer join to include all products\n",
    ").fillna(0)  # Replace NaN with 0\n",
    "\n",
    "# Calculate cancellation rate\n",
    "product_summary['CancellationRate'] = product_summary['Quantity_Cancelled'] / (\n",
    "    product_summary['Quantity_Valid'] + product_summary['Quantity_Cancelled']\n",
    ")\n",
    "\n",
    "# Display cancellation rate\n",
    "product_summary['CancellationRate']\n"
   ]
  },
  {
   "cell_type": "markdown",
   "metadata": {},
   "source": [
    "Top 10 product by revenue:"
   ]
  },
  {
   "cell_type": "code",
   "execution_count": 84,
   "metadata": {},
   "outputs": [
    {
     "name": "stdout",
     "output_type": "stream",
     "text": [
      "Quantity       29489.200\n",
      "totalsales    328444.325\n",
      "dtype: float64\n"
     ]
    },
    {
     "data": {
      "text/html": [
       "<div>\n",
       "<style scoped>\n",
       "    .dataframe tbody tr th:only-of-type {\n",
       "        vertical-align: middle;\n",
       "    }\n",
       "\n",
       "    .dataframe tbody tr th {\n",
       "        vertical-align: top;\n",
       "    }\n",
       "\n",
       "    .dataframe thead th {\n",
       "        text-align: right;\n",
       "    }\n",
       "</style>\n",
       "<table border=\"1\" class=\"dataframe\">\n",
       "  <thead>\n",
       "    <tr style=\"text-align: right;\">\n",
       "      <th></th>\n",
       "      <th>ProductName</th>\n",
       "      <th>Quantity</th>\n",
       "      <th>totalsales</th>\n",
       "    </tr>\n",
       "  </thead>\n",
       "  <tbody>\n",
       "    <tr>\n",
       "      <th>2421</th>\n",
       "      <td>Popcorn Holder</td>\n",
       "      <td>43885</td>\n",
       "      <td>452195.47</td>\n",
       "    </tr>\n",
       "    <tr>\n",
       "      <th>3588</th>\n",
       "      <td>World War 2 Gliders Asstd Designs</td>\n",
       "      <td>42796</td>\n",
       "      <td>441487.44</td>\n",
       "    </tr>\n",
       "    <tr>\n",
       "      <th>202</th>\n",
       "      <td>Assorted Colour Bird Ornament</td>\n",
       "      <td>33594</td>\n",
       "      <td>386668.10</td>\n",
       "    </tr>\n",
       "    <tr>\n",
       "      <th>806</th>\n",
       "      <td>Cream Hanging Heart T-Light Holder</td>\n",
       "      <td>27657</td>\n",
       "      <td>351991.94</td>\n",
       "    </tr>\n",
       "    <tr>\n",
       "      <th>2111</th>\n",
       "      <td>Pack Of 72 Retrospot Cake Cases</td>\n",
       "      <td>32110</td>\n",
       "      <td>343423.22</td>\n",
       "    </tr>\n",
       "    <tr>\n",
       "      <th>2478</th>\n",
       "      <td>Rabbit Night Light</td>\n",
       "      <td>29799</td>\n",
       "      <td>317914.55</td>\n",
       "    </tr>\n",
       "    <tr>\n",
       "      <th>2176</th>\n",
       "      <td>Party Bunting</td>\n",
       "      <td>16663</td>\n",
       "      <td>262286.23</td>\n",
       "    </tr>\n",
       "    <tr>\n",
       "      <th>210</th>\n",
       "      <td>Assorted Colours Silk Fan</td>\n",
       "      <td>22333</td>\n",
       "      <td>245190.80</td>\n",
       "    </tr>\n",
       "    <tr>\n",
       "      <th>2078</th>\n",
       "      <td>Pack Of 12 London Tissues</td>\n",
       "      <td>23405</td>\n",
       "      <td>242255.23</td>\n",
       "    </tr>\n",
       "    <tr>\n",
       "      <th>2109</th>\n",
       "      <td>Pack Of 60 Pink Paisley Cake Cases</td>\n",
       "      <td>22650</td>\n",
       "      <td>241030.27</td>\n",
       "    </tr>\n",
       "  </tbody>\n",
       "</table>\n",
       "</div>"
      ],
      "text/plain": [
       "                             ProductName  Quantity  totalsales\n",
       "2421                      Popcorn Holder     43885   452195.47\n",
       "3588   World War 2 Gliders Asstd Designs     42796   441487.44\n",
       "202        Assorted Colour Bird Ornament     33594   386668.10\n",
       "806   Cream Hanging Heart T-Light Holder     27657   351991.94\n",
       "2111     Pack Of 72 Retrospot Cake Cases     32110   343423.22\n",
       "2478                  Rabbit Night Light     29799   317914.55\n",
       "2176                       Party Bunting     16663   262286.23\n",
       "210            Assorted Colours Silk Fan     22333   245190.80\n",
       "2078           Pack Of 12 London Tissues     23405   242255.23\n",
       "2109  Pack Of 60 Pink Paisley Cake Cases     22650   241030.27"
      ]
     },
     "execution_count": 84,
     "metadata": {},
     "output_type": "execute_result"
    }
   ],
   "source": [
    "# Calculate total revenue from transactions\n",
    "total_revenue = transactions['totalsales'].sum()\n",
    "\n",
    "# Group by ProductName to calculate revenue per product\n",
    "valid_revenue = transactions.groupby('ProductName').agg({\n",
    "    'Quantity': 'sum',\n",
    "    'totalsales': 'sum'\n",
    "}).reset_index()\n",
    "\n",
    "# Sort products by total revenue in descending order and select the top 10\n",
    "top_products_by_revenue = valid_revenue.sort_values(by='totalsales', ascending=False).head(10)\n",
    "\n",
    "print(top_products_by_revenue[['Quantity', 'totalsales']].mean())\n",
    "# Display the top 10 products by revenue\n",
    "top_products_by_revenue\n"
   ]
  },
  {
   "cell_type": "markdown",
   "metadata": {},
   "source": [
    "The average quantity sold per product is 29,489.2 units, while the average total sales revenue per product is ₹328,444.33.\n",
    "\n"
   ]
  },
  {
   "cell_type": "code",
   "execution_count": 85,
   "metadata": {},
   "outputs": [
    {
     "data": {
      "application/vnd.plotly.v1+json": {
       "config": {
        "plotlyServerURL": "https://plot.ly"
       },
       "data": [
        {
         "marker": {
          "color": [
           452195.47,
           441487.44,
           386668.10000000003,
           351991.94,
           343423.22,
           317914.55,
           262286.23,
           245190.8,
           242255.23,
           241030.27
          ],
          "colorscale": [
           [
            0,
            "rgb(247,251,255)"
           ],
           [
            0.125,
            "rgb(222,235,247)"
           ],
           [
            0.25,
            "rgb(198,219,239)"
           ],
           [
            0.375,
            "rgb(158,202,225)"
           ],
           [
            0.5,
            "rgb(107,174,214)"
           ],
           [
            0.625,
            "rgb(66,146,198)"
           ],
           [
            0.75,
            "rgb(33,113,181)"
           ],
           [
            0.875,
            "rgb(8,81,156)"
           ],
           [
            1,
            "rgb(8,48,107)"
           ]
          ]
         },
         "name": "Total Revenue",
         "text": [
          452195.47,
          441487.44,
          386668.10000000003,
          351991.94,
          343423.22,
          317914.55,
          262286.23,
          245190.8,
          242255.23,
          241030.27
         ],
         "textposition": "outside",
         "type": "bar",
         "x": [
          "Popcorn Holder",
          "World War 2 Gliders Asstd Designs",
          "Assorted Colour Bird Ornament",
          "Cream Hanging Heart T-Light Holder",
          "Pack Of 72 Retrospot Cake Cases",
          "Rabbit Night Light",
          "Party Bunting",
          "Assorted Colours Silk Fan",
          "Pack Of 12 London Tissues",
          "Pack Of 60 Pink Paisley Cake Cases"
         ],
         "xaxis": "x",
         "y": [
          452195.47,
          441487.44,
          386668.10000000003,
          351991.94,
          343423.22,
          317914.55,
          262286.23,
          245190.8,
          242255.23,
          241030.27
         ],
         "yaxis": "y"
        },
        {
         "line": {
          "width": 3
         },
         "marker": {
          "size": 8
         },
         "mode": "lines+markers",
         "name": "Quantity Sold",
         "type": "scatter",
         "x": [
          "Popcorn Holder",
          "World War 2 Gliders Asstd Designs",
          "Assorted Colour Bird Ornament",
          "Cream Hanging Heart T-Light Holder",
          "Pack Of 72 Retrospot Cake Cases",
          "Rabbit Night Light",
          "Party Bunting",
          "Assorted Colours Silk Fan",
          "Pack Of 12 London Tissues",
          "Pack Of 60 Pink Paisley Cake Cases"
         ],
         "xaxis": "x",
         "y": [
          43885,
          42796,
          33594,
          27657,
          32110,
          29799,
          16663,
          22333,
          23405,
          22650
         ],
         "yaxis": "y2"
        }
       ],
       "layout": {
        "height": 600,
        "legend": {
         "orientation": "h",
         "x": 1,
         "xanchor": "right",
         "y": 1.02,
         "yanchor": "bottom"
        },
        "template": {
         "data": {
          "bar": [
           {
            "error_x": {
             "color": "#f2f5fa"
            },
            "error_y": {
             "color": "#f2f5fa"
            },
            "marker": {
             "line": {
              "color": "rgb(17,17,17)",
              "width": 0.5
             },
             "pattern": {
              "fillmode": "overlay",
              "size": 10,
              "solidity": 0.2
             }
            },
            "type": "bar"
           }
          ],
          "barpolar": [
           {
            "marker": {
             "line": {
              "color": "rgb(17,17,17)",
              "width": 0.5
             },
             "pattern": {
              "fillmode": "overlay",
              "size": 10,
              "solidity": 0.2
             }
            },
            "type": "barpolar"
           }
          ],
          "carpet": [
           {
            "aaxis": {
             "endlinecolor": "#A2B1C6",
             "gridcolor": "#506784",
             "linecolor": "#506784",
             "minorgridcolor": "#506784",
             "startlinecolor": "#A2B1C6"
            },
            "baxis": {
             "endlinecolor": "#A2B1C6",
             "gridcolor": "#506784",
             "linecolor": "#506784",
             "minorgridcolor": "#506784",
             "startlinecolor": "#A2B1C6"
            },
            "type": "carpet"
           }
          ],
          "choropleth": [
           {
            "colorbar": {
             "outlinewidth": 0,
             "ticks": ""
            },
            "type": "choropleth"
           }
          ],
          "contour": [
           {
            "colorbar": {
             "outlinewidth": 0,
             "ticks": ""
            },
            "colorscale": [
             [
              0,
              "#0d0887"
             ],
             [
              0.1111111111111111,
              "#46039f"
             ],
             [
              0.2222222222222222,
              "#7201a8"
             ],
             [
              0.3333333333333333,
              "#9c179e"
             ],
             [
              0.4444444444444444,
              "#bd3786"
             ],
             [
              0.5555555555555556,
              "#d8576b"
             ],
             [
              0.6666666666666666,
              "#ed7953"
             ],
             [
              0.7777777777777778,
              "#fb9f3a"
             ],
             [
              0.8888888888888888,
              "#fdca26"
             ],
             [
              1,
              "#f0f921"
             ]
            ],
            "type": "contour"
           }
          ],
          "contourcarpet": [
           {
            "colorbar": {
             "outlinewidth": 0,
             "ticks": ""
            },
            "type": "contourcarpet"
           }
          ],
          "heatmap": [
           {
            "colorbar": {
             "outlinewidth": 0,
             "ticks": ""
            },
            "colorscale": [
             [
              0,
              "#0d0887"
             ],
             [
              0.1111111111111111,
              "#46039f"
             ],
             [
              0.2222222222222222,
              "#7201a8"
             ],
             [
              0.3333333333333333,
              "#9c179e"
             ],
             [
              0.4444444444444444,
              "#bd3786"
             ],
             [
              0.5555555555555556,
              "#d8576b"
             ],
             [
              0.6666666666666666,
              "#ed7953"
             ],
             [
              0.7777777777777778,
              "#fb9f3a"
             ],
             [
              0.8888888888888888,
              "#fdca26"
             ],
             [
              1,
              "#f0f921"
             ]
            ],
            "type": "heatmap"
           }
          ],
          "heatmapgl": [
           {
            "colorbar": {
             "outlinewidth": 0,
             "ticks": ""
            },
            "colorscale": [
             [
              0,
              "#0d0887"
             ],
             [
              0.1111111111111111,
              "#46039f"
             ],
             [
              0.2222222222222222,
              "#7201a8"
             ],
             [
              0.3333333333333333,
              "#9c179e"
             ],
             [
              0.4444444444444444,
              "#bd3786"
             ],
             [
              0.5555555555555556,
              "#d8576b"
             ],
             [
              0.6666666666666666,
              "#ed7953"
             ],
             [
              0.7777777777777778,
              "#fb9f3a"
             ],
             [
              0.8888888888888888,
              "#fdca26"
             ],
             [
              1,
              "#f0f921"
             ]
            ],
            "type": "heatmapgl"
           }
          ],
          "histogram": [
           {
            "marker": {
             "pattern": {
              "fillmode": "overlay",
              "size": 10,
              "solidity": 0.2
             }
            },
            "type": "histogram"
           }
          ],
          "histogram2d": [
           {
            "colorbar": {
             "outlinewidth": 0,
             "ticks": ""
            },
            "colorscale": [
             [
              0,
              "#0d0887"
             ],
             [
              0.1111111111111111,
              "#46039f"
             ],
             [
              0.2222222222222222,
              "#7201a8"
             ],
             [
              0.3333333333333333,
              "#9c179e"
             ],
             [
              0.4444444444444444,
              "#bd3786"
             ],
             [
              0.5555555555555556,
              "#d8576b"
             ],
             [
              0.6666666666666666,
              "#ed7953"
             ],
             [
              0.7777777777777778,
              "#fb9f3a"
             ],
             [
              0.8888888888888888,
              "#fdca26"
             ],
             [
              1,
              "#f0f921"
             ]
            ],
            "type": "histogram2d"
           }
          ],
          "histogram2dcontour": [
           {
            "colorbar": {
             "outlinewidth": 0,
             "ticks": ""
            },
            "colorscale": [
             [
              0,
              "#0d0887"
             ],
             [
              0.1111111111111111,
              "#46039f"
             ],
             [
              0.2222222222222222,
              "#7201a8"
             ],
             [
              0.3333333333333333,
              "#9c179e"
             ],
             [
              0.4444444444444444,
              "#bd3786"
             ],
             [
              0.5555555555555556,
              "#d8576b"
             ],
             [
              0.6666666666666666,
              "#ed7953"
             ],
             [
              0.7777777777777778,
              "#fb9f3a"
             ],
             [
              0.8888888888888888,
              "#fdca26"
             ],
             [
              1,
              "#f0f921"
             ]
            ],
            "type": "histogram2dcontour"
           }
          ],
          "mesh3d": [
           {
            "colorbar": {
             "outlinewidth": 0,
             "ticks": ""
            },
            "type": "mesh3d"
           }
          ],
          "parcoords": [
           {
            "line": {
             "colorbar": {
              "outlinewidth": 0,
              "ticks": ""
             }
            },
            "type": "parcoords"
           }
          ],
          "pie": [
           {
            "automargin": true,
            "type": "pie"
           }
          ],
          "scatter": [
           {
            "marker": {
             "line": {
              "color": "#283442"
             }
            },
            "type": "scatter"
           }
          ],
          "scatter3d": [
           {
            "line": {
             "colorbar": {
              "outlinewidth": 0,
              "ticks": ""
             }
            },
            "marker": {
             "colorbar": {
              "outlinewidth": 0,
              "ticks": ""
             }
            },
            "type": "scatter3d"
           }
          ],
          "scattercarpet": [
           {
            "marker": {
             "colorbar": {
              "outlinewidth": 0,
              "ticks": ""
             }
            },
            "type": "scattercarpet"
           }
          ],
          "scattergeo": [
           {
            "marker": {
             "colorbar": {
              "outlinewidth": 0,
              "ticks": ""
             }
            },
            "type": "scattergeo"
           }
          ],
          "scattergl": [
           {
            "marker": {
             "line": {
              "color": "#283442"
             }
            },
            "type": "scattergl"
           }
          ],
          "scattermapbox": [
           {
            "marker": {
             "colorbar": {
              "outlinewidth": 0,
              "ticks": ""
             }
            },
            "type": "scattermapbox"
           }
          ],
          "scatterpolar": [
           {
            "marker": {
             "colorbar": {
              "outlinewidth": 0,
              "ticks": ""
             }
            },
            "type": "scatterpolar"
           }
          ],
          "scatterpolargl": [
           {
            "marker": {
             "colorbar": {
              "outlinewidth": 0,
              "ticks": ""
             }
            },
            "type": "scatterpolargl"
           }
          ],
          "scatterternary": [
           {
            "marker": {
             "colorbar": {
              "outlinewidth": 0,
              "ticks": ""
             }
            },
            "type": "scatterternary"
           }
          ],
          "surface": [
           {
            "colorbar": {
             "outlinewidth": 0,
             "ticks": ""
            },
            "colorscale": [
             [
              0,
              "#0d0887"
             ],
             [
              0.1111111111111111,
              "#46039f"
             ],
             [
              0.2222222222222222,
              "#7201a8"
             ],
             [
              0.3333333333333333,
              "#9c179e"
             ],
             [
              0.4444444444444444,
              "#bd3786"
             ],
             [
              0.5555555555555556,
              "#d8576b"
             ],
             [
              0.6666666666666666,
              "#ed7953"
             ],
             [
              0.7777777777777778,
              "#fb9f3a"
             ],
             [
              0.8888888888888888,
              "#fdca26"
             ],
             [
              1,
              "#f0f921"
             ]
            ],
            "type": "surface"
           }
          ],
          "table": [
           {
            "cells": {
             "fill": {
              "color": "#506784"
             },
             "line": {
              "color": "rgb(17,17,17)"
             }
            },
            "header": {
             "fill": {
              "color": "#2a3f5f"
             },
             "line": {
              "color": "rgb(17,17,17)"
             }
            },
            "type": "table"
           }
          ]
         },
         "layout": {
          "annotationdefaults": {
           "arrowcolor": "#f2f5fa",
           "arrowhead": 0,
           "arrowwidth": 1
          },
          "autotypenumbers": "strict",
          "coloraxis": {
           "colorbar": {
            "outlinewidth": 0,
            "ticks": ""
           }
          },
          "colorscale": {
           "diverging": [
            [
             0,
             "#8e0152"
            ],
            [
             0.1,
             "#c51b7d"
            ],
            [
             0.2,
             "#de77ae"
            ],
            [
             0.3,
             "#f1b6da"
            ],
            [
             0.4,
             "#fde0ef"
            ],
            [
             0.5,
             "#f7f7f7"
            ],
            [
             0.6,
             "#e6f5d0"
            ],
            [
             0.7,
             "#b8e186"
            ],
            [
             0.8,
             "#7fbc41"
            ],
            [
             0.9,
             "#4d9221"
            ],
            [
             1,
             "#276419"
            ]
           ],
           "sequential": [
            [
             0,
             "#0d0887"
            ],
            [
             0.1111111111111111,
             "#46039f"
            ],
            [
             0.2222222222222222,
             "#7201a8"
            ],
            [
             0.3333333333333333,
             "#9c179e"
            ],
            [
             0.4444444444444444,
             "#bd3786"
            ],
            [
             0.5555555555555556,
             "#d8576b"
            ],
            [
             0.6666666666666666,
             "#ed7953"
            ],
            [
             0.7777777777777778,
             "#fb9f3a"
            ],
            [
             0.8888888888888888,
             "#fdca26"
            ],
            [
             1,
             "#f0f921"
            ]
           ],
           "sequentialminus": [
            [
             0,
             "#0d0887"
            ],
            [
             0.1111111111111111,
             "#46039f"
            ],
            [
             0.2222222222222222,
             "#7201a8"
            ],
            [
             0.3333333333333333,
             "#9c179e"
            ],
            [
             0.4444444444444444,
             "#bd3786"
            ],
            [
             0.5555555555555556,
             "#d8576b"
            ],
            [
             0.6666666666666666,
             "#ed7953"
            ],
            [
             0.7777777777777778,
             "#fb9f3a"
            ],
            [
             0.8888888888888888,
             "#fdca26"
            ],
            [
             1,
             "#f0f921"
            ]
           ]
          },
          "colorway": [
           "#636efa",
           "#EF553B",
           "#00cc96",
           "#ab63fa",
           "#FFA15A",
           "#19d3f3",
           "#FF6692",
           "#B6E880",
           "#FF97FF",
           "#FECB52"
          ],
          "font": {
           "color": "#f2f5fa"
          },
          "geo": {
           "bgcolor": "rgb(17,17,17)",
           "lakecolor": "rgb(17,17,17)",
           "landcolor": "rgb(17,17,17)",
           "showlakes": true,
           "showland": true,
           "subunitcolor": "#506784"
          },
          "hoverlabel": {
           "align": "left"
          },
          "hovermode": "closest",
          "mapbox": {
           "style": "dark"
          },
          "paper_bgcolor": "rgb(17,17,17)",
          "plot_bgcolor": "rgb(17,17,17)",
          "polar": {
           "angularaxis": {
            "gridcolor": "#506784",
            "linecolor": "#506784",
            "ticks": ""
           },
           "bgcolor": "rgb(17,17,17)",
           "radialaxis": {
            "gridcolor": "#506784",
            "linecolor": "#506784",
            "ticks": ""
           }
          },
          "scene": {
           "xaxis": {
            "backgroundcolor": "rgb(17,17,17)",
            "gridcolor": "#506784",
            "gridwidth": 2,
            "linecolor": "#506784",
            "showbackground": true,
            "ticks": "",
            "zerolinecolor": "#C8D4E3"
           },
           "yaxis": {
            "backgroundcolor": "rgb(17,17,17)",
            "gridcolor": "#506784",
            "gridwidth": 2,
            "linecolor": "#506784",
            "showbackground": true,
            "ticks": "",
            "zerolinecolor": "#C8D4E3"
           },
           "zaxis": {
            "backgroundcolor": "rgb(17,17,17)",
            "gridcolor": "#506784",
            "gridwidth": 2,
            "linecolor": "#506784",
            "showbackground": true,
            "ticks": "",
            "zerolinecolor": "#C8D4E3"
           }
          },
          "shapedefaults": {
           "line": {
            "color": "#f2f5fa"
           }
          },
          "sliderdefaults": {
           "bgcolor": "#C8D4E3",
           "bordercolor": "rgb(17,17,17)",
           "borderwidth": 1,
           "tickwidth": 0
          },
          "ternary": {
           "aaxis": {
            "gridcolor": "#506784",
            "linecolor": "#506784",
            "ticks": ""
           },
           "baxis": {
            "gridcolor": "#506784",
            "linecolor": "#506784",
            "ticks": ""
           },
           "bgcolor": "rgb(17,17,17)",
           "caxis": {
            "gridcolor": "#506784",
            "linecolor": "#506784",
            "ticks": ""
           }
          },
          "title": {
           "x": 0.05
          },
          "updatemenudefaults": {
           "bgcolor": "#506784",
           "borderwidth": 0
          },
          "xaxis": {
           "automargin": true,
           "gridcolor": "#283442",
           "linecolor": "#506784",
           "ticks": "",
           "title": {
            "standoff": 15
           },
           "zerolinecolor": "#283442",
           "zerolinewidth": 2
          },
          "yaxis": {
           "automargin": true,
           "gridcolor": "#283442",
           "linecolor": "#506784",
           "ticks": "",
           "title": {
            "standoff": 15
           },
           "zerolinecolor": "#283442",
           "zerolinewidth": 2
          }
         }
        },
        "title": {
         "text": "Top 10 Products by Revenue with Quantity Trend"
        },
        "width": 1000,
        "xaxis": {
         "anchor": "y",
         "domain": [
          0,
          0.94
         ],
         "title": {
          "text": "Product Name"
         }
        },
        "yaxis": {
         "anchor": "x",
         "domain": [
          0,
          1
         ],
         "title": {
          "text": "Total Revenue"
         }
        },
        "yaxis2": {
         "anchor": "x",
         "overlaying": "y",
         "side": "right",
         "title": {
          "text": "Quantity Sold"
         }
        }
       }
      }
     },
     "metadata": {},
     "output_type": "display_data"
    }
   ],
   "source": [
    "# Create a subplot with a secondary y-axis\n",
    "fig = make_subplots(specs=[[{\"secondary_y\": True}]])\n",
    "\n",
    "# Add bar chart for Total Revenue (color based on revenue)\n",
    "fig.add_trace(\n",
    "    go.Bar(\n",
    "        x=top_products_by_revenue['ProductName'],\n",
    "        y=top_products_by_revenue['totalsales'],\n",
    "        name=\"Total Revenue\",\n",
    "        marker=dict(color=top_products_by_revenue['totalsales'], colorscale='Blues'),  # Color scale based on revenue\n",
    "        text=top_products_by_revenue['totalsales'],\n",
    "        textposition='outside'\n",
    "    ),\n",
    "    secondary_y=False\n",
    ")\n",
    "\n",
    "# Add line chart for Quantity Trend\n",
    "fig.add_trace(\n",
    "    go.Scatter(\n",
    "        x=top_products_by_revenue['ProductName'],\n",
    "        y=top_products_by_revenue['Quantity'],\n",
    "        mode='lines+markers',\n",
    "        name=\"Quantity Sold\",\n",
    "        marker=dict(size=8),\n",
    "        line=dict(width=3)\n",
    "    ),\n",
    "    secondary_y=True\n",
    ")\n",
    "\n",
    "## Improve layout\n",
    "fig.update_layout(\n",
    "    title=\"Top 10 Products by Revenue with Quantity Trend\",\n",
    "    xaxis_title=\"Product Name\",\n",
    "    width=1000,\n",
    "    height=600,\n",
    "    template=\"plotly_dark\",  # Dark theme applied\n",
    "    legend=dict(orientation=\"h\", yanchor=\"bottom\", y=1.02, xanchor=\"right\", x=1)\n",
    ")\n",
    "\n",
    "# Set y-axis labels\n",
    "fig.update_yaxes(title_text=\"Total Revenue\", secondary_y=False)\n",
    "fig.update_yaxes(title_text=\"Quantity Sold\", secondary_y=True)\n",
    "\n",
    "# Show the chart\n",
    "fig.show()\n",
    "\n"
   ]
  },
  {
   "cell_type": "markdown",
   "metadata": {},
   "source": [
    "The analysis shows strong total revenue among the top products. The Popcorn Holder and World War 2 Gliders Assorted Designs generate the highest revenue, while the Assorted Colours Silk Fan, Pack of 12 London Tissues, and Pack of 60 Pink Paisley Cake Cases contribute the least revenue. Additionally, homeware generates higher revenue compared to adult gifts."
   ]
  },
  {
   "cell_type": "markdown",
   "metadata": {},
   "source": [
    "Monthly Revenue Trend"
   ]
  },
  {
   "cell_type": "code",
   "execution_count": 86,
   "metadata": {},
   "outputs": [
    {
     "data": {
      "application/vnd.plotly.v1+json": {
       "config": {
        "plotlyServerURL": "https://plot.ly"
       },
       "data": [
        {
         "hovertemplate": "variable=Total_Revenue<br>month=%{x}<br>value=%{y}<extra></extra>",
         "legendgroup": "Total_Revenue",
         "line": {
          "color": "#2E91E5",
          "dash": "dot",
          "width": 3
         },
         "marker": {
          "size": 10,
          "symbol": "circle"
         },
         "mode": "lines+markers",
         "name": "Total_Revenue",
         "orientation": "v",
         "showlegend": true,
         "type": "scatter",
         "x": [
          1,
          2,
          3,
          4,
          5,
          6,
          7,
          8,
          9,
          10,
          11,
          12
         ],
         "xaxis": "x",
         "y": [
          3342590.3,
          3121474.61,
          4031285.41,
          3290933.86,
          4249797.84,
          4064758.3,
          4257791.69,
          4264889.63,
          6249901.79,
          6544138.95,
          7386851.98,
          1441820.33
         ],
         "yaxis": "y"
        },
        {
         "hovertemplate": "variable=Cancelled_Revenue<br>month=%{x}<br>value=%{y}<extra></extra>",
         "legendgroup": "Cancelled_Revenue",
         "line": {
          "color": "#E15F99",
          "dash": "dot",
          "width": 3
         },
         "marker": {
          "size": 10,
          "symbol": "circle"
         },
         "mode": "lines+markers",
         "name": "Cancelled_Revenue",
         "orientation": "v",
         "showlegend": true,
         "type": "scatter",
         "x": [
          1,
          2,
          3,
          4,
          5,
          6,
          7,
          8,
          9,
          10,
          11,
          12
         ],
         "xaxis": "x",
         "y": [
          -909486.88,
          -35110.55,
          -44706.58,
          -173375.37,
          -47993.43,
          -81790.11,
          -69534.98,
          -140158.73,
          -85425.86,
          -265973.57,
          -115869.58,
          -517428.06000000006
         ],
         "yaxis": "y"
        }
       ],
       "layout": {
        "font": {
         "size": 14
        },
        "legend": {
         "title": {
          "text": "Revenue Type"
         },
         "tracegroupgap": 0
        },
        "template": {
         "data": {
          "bar": [
           {
            "error_x": {
             "color": "#f2f5fa"
            },
            "error_y": {
             "color": "#f2f5fa"
            },
            "marker": {
             "line": {
              "color": "rgb(17,17,17)",
              "width": 0.5
             },
             "pattern": {
              "fillmode": "overlay",
              "size": 10,
              "solidity": 0.2
             }
            },
            "type": "bar"
           }
          ],
          "barpolar": [
           {
            "marker": {
             "line": {
              "color": "rgb(17,17,17)",
              "width": 0.5
             },
             "pattern": {
              "fillmode": "overlay",
              "size": 10,
              "solidity": 0.2
             }
            },
            "type": "barpolar"
           }
          ],
          "carpet": [
           {
            "aaxis": {
             "endlinecolor": "#A2B1C6",
             "gridcolor": "#506784",
             "linecolor": "#506784",
             "minorgridcolor": "#506784",
             "startlinecolor": "#A2B1C6"
            },
            "baxis": {
             "endlinecolor": "#A2B1C6",
             "gridcolor": "#506784",
             "linecolor": "#506784",
             "minorgridcolor": "#506784",
             "startlinecolor": "#A2B1C6"
            },
            "type": "carpet"
           }
          ],
          "choropleth": [
           {
            "colorbar": {
             "outlinewidth": 0,
             "ticks": ""
            },
            "type": "choropleth"
           }
          ],
          "contour": [
           {
            "colorbar": {
             "outlinewidth": 0,
             "ticks": ""
            },
            "colorscale": [
             [
              0,
              "#0d0887"
             ],
             [
              0.1111111111111111,
              "#46039f"
             ],
             [
              0.2222222222222222,
              "#7201a8"
             ],
             [
              0.3333333333333333,
              "#9c179e"
             ],
             [
              0.4444444444444444,
              "#bd3786"
             ],
             [
              0.5555555555555556,
              "#d8576b"
             ],
             [
              0.6666666666666666,
              "#ed7953"
             ],
             [
              0.7777777777777778,
              "#fb9f3a"
             ],
             [
              0.8888888888888888,
              "#fdca26"
             ],
             [
              1,
              "#f0f921"
             ]
            ],
            "type": "contour"
           }
          ],
          "contourcarpet": [
           {
            "colorbar": {
             "outlinewidth": 0,
             "ticks": ""
            },
            "type": "contourcarpet"
           }
          ],
          "heatmap": [
           {
            "colorbar": {
             "outlinewidth": 0,
             "ticks": ""
            },
            "colorscale": [
             [
              0,
              "#0d0887"
             ],
             [
              0.1111111111111111,
              "#46039f"
             ],
             [
              0.2222222222222222,
              "#7201a8"
             ],
             [
              0.3333333333333333,
              "#9c179e"
             ],
             [
              0.4444444444444444,
              "#bd3786"
             ],
             [
              0.5555555555555556,
              "#d8576b"
             ],
             [
              0.6666666666666666,
              "#ed7953"
             ],
             [
              0.7777777777777778,
              "#fb9f3a"
             ],
             [
              0.8888888888888888,
              "#fdca26"
             ],
             [
              1,
              "#f0f921"
             ]
            ],
            "type": "heatmap"
           }
          ],
          "heatmapgl": [
           {
            "colorbar": {
             "outlinewidth": 0,
             "ticks": ""
            },
            "colorscale": [
             [
              0,
              "#0d0887"
             ],
             [
              0.1111111111111111,
              "#46039f"
             ],
             [
              0.2222222222222222,
              "#7201a8"
             ],
             [
              0.3333333333333333,
              "#9c179e"
             ],
             [
              0.4444444444444444,
              "#bd3786"
             ],
             [
              0.5555555555555556,
              "#d8576b"
             ],
             [
              0.6666666666666666,
              "#ed7953"
             ],
             [
              0.7777777777777778,
              "#fb9f3a"
             ],
             [
              0.8888888888888888,
              "#fdca26"
             ],
             [
              1,
              "#f0f921"
             ]
            ],
            "type": "heatmapgl"
           }
          ],
          "histogram": [
           {
            "marker": {
             "pattern": {
              "fillmode": "overlay",
              "size": 10,
              "solidity": 0.2
             }
            },
            "type": "histogram"
           }
          ],
          "histogram2d": [
           {
            "colorbar": {
             "outlinewidth": 0,
             "ticks": ""
            },
            "colorscale": [
             [
              0,
              "#0d0887"
             ],
             [
              0.1111111111111111,
              "#46039f"
             ],
             [
              0.2222222222222222,
              "#7201a8"
             ],
             [
              0.3333333333333333,
              "#9c179e"
             ],
             [
              0.4444444444444444,
              "#bd3786"
             ],
             [
              0.5555555555555556,
              "#d8576b"
             ],
             [
              0.6666666666666666,
              "#ed7953"
             ],
             [
              0.7777777777777778,
              "#fb9f3a"
             ],
             [
              0.8888888888888888,
              "#fdca26"
             ],
             [
              1,
              "#f0f921"
             ]
            ],
            "type": "histogram2d"
           }
          ],
          "histogram2dcontour": [
           {
            "colorbar": {
             "outlinewidth": 0,
             "ticks": ""
            },
            "colorscale": [
             [
              0,
              "#0d0887"
             ],
             [
              0.1111111111111111,
              "#46039f"
             ],
             [
              0.2222222222222222,
              "#7201a8"
             ],
             [
              0.3333333333333333,
              "#9c179e"
             ],
             [
              0.4444444444444444,
              "#bd3786"
             ],
             [
              0.5555555555555556,
              "#d8576b"
             ],
             [
              0.6666666666666666,
              "#ed7953"
             ],
             [
              0.7777777777777778,
              "#fb9f3a"
             ],
             [
              0.8888888888888888,
              "#fdca26"
             ],
             [
              1,
              "#f0f921"
             ]
            ],
            "type": "histogram2dcontour"
           }
          ],
          "mesh3d": [
           {
            "colorbar": {
             "outlinewidth": 0,
             "ticks": ""
            },
            "type": "mesh3d"
           }
          ],
          "parcoords": [
           {
            "line": {
             "colorbar": {
              "outlinewidth": 0,
              "ticks": ""
             }
            },
            "type": "parcoords"
           }
          ],
          "pie": [
           {
            "automargin": true,
            "type": "pie"
           }
          ],
          "scatter": [
           {
            "marker": {
             "line": {
              "color": "#283442"
             }
            },
            "type": "scatter"
           }
          ],
          "scatter3d": [
           {
            "line": {
             "colorbar": {
              "outlinewidth": 0,
              "ticks": ""
             }
            },
            "marker": {
             "colorbar": {
              "outlinewidth": 0,
              "ticks": ""
             }
            },
            "type": "scatter3d"
           }
          ],
          "scattercarpet": [
           {
            "marker": {
             "colorbar": {
              "outlinewidth": 0,
              "ticks": ""
             }
            },
            "type": "scattercarpet"
           }
          ],
          "scattergeo": [
           {
            "marker": {
             "colorbar": {
              "outlinewidth": 0,
              "ticks": ""
             }
            },
            "type": "scattergeo"
           }
          ],
          "scattergl": [
           {
            "marker": {
             "line": {
              "color": "#283442"
             }
            },
            "type": "scattergl"
           }
          ],
          "scattermapbox": [
           {
            "marker": {
             "colorbar": {
              "outlinewidth": 0,
              "ticks": ""
             }
            },
            "type": "scattermapbox"
           }
          ],
          "scatterpolar": [
           {
            "marker": {
             "colorbar": {
              "outlinewidth": 0,
              "ticks": ""
             }
            },
            "type": "scatterpolar"
           }
          ],
          "scatterpolargl": [
           {
            "marker": {
             "colorbar": {
              "outlinewidth": 0,
              "ticks": ""
             }
            },
            "type": "scatterpolargl"
           }
          ],
          "scatterternary": [
           {
            "marker": {
             "colorbar": {
              "outlinewidth": 0,
              "ticks": ""
             }
            },
            "type": "scatterternary"
           }
          ],
          "surface": [
           {
            "colorbar": {
             "outlinewidth": 0,
             "ticks": ""
            },
            "colorscale": [
             [
              0,
              "#0d0887"
             ],
             [
              0.1111111111111111,
              "#46039f"
             ],
             [
              0.2222222222222222,
              "#7201a8"
             ],
             [
              0.3333333333333333,
              "#9c179e"
             ],
             [
              0.4444444444444444,
              "#bd3786"
             ],
             [
              0.5555555555555556,
              "#d8576b"
             ],
             [
              0.6666666666666666,
              "#ed7953"
             ],
             [
              0.7777777777777778,
              "#fb9f3a"
             ],
             [
              0.8888888888888888,
              "#fdca26"
             ],
             [
              1,
              "#f0f921"
             ]
            ],
            "type": "surface"
           }
          ],
          "table": [
           {
            "cells": {
             "fill": {
              "color": "#506784"
             },
             "line": {
              "color": "rgb(17,17,17)"
             }
            },
            "header": {
             "fill": {
              "color": "#2a3f5f"
             },
             "line": {
              "color": "rgb(17,17,17)"
             }
            },
            "type": "table"
           }
          ]
         },
         "layout": {
          "annotationdefaults": {
           "arrowcolor": "#f2f5fa",
           "arrowhead": 0,
           "arrowwidth": 1
          },
          "autotypenumbers": "strict",
          "coloraxis": {
           "colorbar": {
            "outlinewidth": 0,
            "ticks": ""
           }
          },
          "colorscale": {
           "diverging": [
            [
             0,
             "#8e0152"
            ],
            [
             0.1,
             "#c51b7d"
            ],
            [
             0.2,
             "#de77ae"
            ],
            [
             0.3,
             "#f1b6da"
            ],
            [
             0.4,
             "#fde0ef"
            ],
            [
             0.5,
             "#f7f7f7"
            ],
            [
             0.6,
             "#e6f5d0"
            ],
            [
             0.7,
             "#b8e186"
            ],
            [
             0.8,
             "#7fbc41"
            ],
            [
             0.9,
             "#4d9221"
            ],
            [
             1,
             "#276419"
            ]
           ],
           "sequential": [
            [
             0,
             "#0d0887"
            ],
            [
             0.1111111111111111,
             "#46039f"
            ],
            [
             0.2222222222222222,
             "#7201a8"
            ],
            [
             0.3333333333333333,
             "#9c179e"
            ],
            [
             0.4444444444444444,
             "#bd3786"
            ],
            [
             0.5555555555555556,
             "#d8576b"
            ],
            [
             0.6666666666666666,
             "#ed7953"
            ],
            [
             0.7777777777777778,
             "#fb9f3a"
            ],
            [
             0.8888888888888888,
             "#fdca26"
            ],
            [
             1,
             "#f0f921"
            ]
           ],
           "sequentialminus": [
            [
             0,
             "#0d0887"
            ],
            [
             0.1111111111111111,
             "#46039f"
            ],
            [
             0.2222222222222222,
             "#7201a8"
            ],
            [
             0.3333333333333333,
             "#9c179e"
            ],
            [
             0.4444444444444444,
             "#bd3786"
            ],
            [
             0.5555555555555556,
             "#d8576b"
            ],
            [
             0.6666666666666666,
             "#ed7953"
            ],
            [
             0.7777777777777778,
             "#fb9f3a"
            ],
            [
             0.8888888888888888,
             "#fdca26"
            ],
            [
             1,
             "#f0f921"
            ]
           ]
          },
          "colorway": [
           "#636efa",
           "#EF553B",
           "#00cc96",
           "#ab63fa",
           "#FFA15A",
           "#19d3f3",
           "#FF6692",
           "#B6E880",
           "#FF97FF",
           "#FECB52"
          ],
          "font": {
           "color": "#f2f5fa"
          },
          "geo": {
           "bgcolor": "rgb(17,17,17)",
           "lakecolor": "rgb(17,17,17)",
           "landcolor": "rgb(17,17,17)",
           "showlakes": true,
           "showland": true,
           "subunitcolor": "#506784"
          },
          "hoverlabel": {
           "align": "left"
          },
          "hovermode": "closest",
          "mapbox": {
           "style": "dark"
          },
          "paper_bgcolor": "rgb(17,17,17)",
          "plot_bgcolor": "rgb(17,17,17)",
          "polar": {
           "angularaxis": {
            "gridcolor": "#506784",
            "linecolor": "#506784",
            "ticks": ""
           },
           "bgcolor": "rgb(17,17,17)",
           "radialaxis": {
            "gridcolor": "#506784",
            "linecolor": "#506784",
            "ticks": ""
           }
          },
          "scene": {
           "xaxis": {
            "backgroundcolor": "rgb(17,17,17)",
            "gridcolor": "#506784",
            "gridwidth": 2,
            "linecolor": "#506784",
            "showbackground": true,
            "ticks": "",
            "zerolinecolor": "#C8D4E3"
           },
           "yaxis": {
            "backgroundcolor": "rgb(17,17,17)",
            "gridcolor": "#506784",
            "gridwidth": 2,
            "linecolor": "#506784",
            "showbackground": true,
            "ticks": "",
            "zerolinecolor": "#C8D4E3"
           },
           "zaxis": {
            "backgroundcolor": "rgb(17,17,17)",
            "gridcolor": "#506784",
            "gridwidth": 2,
            "linecolor": "#506784",
            "showbackground": true,
            "ticks": "",
            "zerolinecolor": "#C8D4E3"
           }
          },
          "shapedefaults": {
           "line": {
            "color": "#f2f5fa"
           }
          },
          "sliderdefaults": {
           "bgcolor": "#C8D4E3",
           "bordercolor": "rgb(17,17,17)",
           "borderwidth": 1,
           "tickwidth": 0
          },
          "ternary": {
           "aaxis": {
            "gridcolor": "#506784",
            "linecolor": "#506784",
            "ticks": ""
           },
           "baxis": {
            "gridcolor": "#506784",
            "linecolor": "#506784",
            "ticks": ""
           },
           "bgcolor": "rgb(17,17,17)",
           "caxis": {
            "gridcolor": "#506784",
            "linecolor": "#506784",
            "ticks": ""
           }
          },
          "title": {
           "x": 0.05
          },
          "updatemenudefaults": {
           "bgcolor": "#506784",
           "borderwidth": 0
          },
          "xaxis": {
           "automargin": true,
           "gridcolor": "#283442",
           "linecolor": "#506784",
           "ticks": "",
           "title": {
            "standoff": 15
           },
           "zerolinecolor": "#283442",
           "zerolinewidth": 2
          },
          "yaxis": {
           "automargin": true,
           "gridcolor": "#283442",
           "linecolor": "#506784",
           "ticks": "",
           "title": {
            "standoff": 15
           },
           "zerolinecolor": "#283442",
           "zerolinewidth": 2
          }
         }
        },
        "title": {
         "font": {
          "size": 20
         },
         "text": "Monthly Revenue Trend (Total vs. Cancelled)"
        },
        "xaxis": {
         "anchor": "y",
         "domain": [
          0,
          1
         ],
         "title": {
          "text": "Month"
         }
        },
        "yaxis": {
         "anchor": "x",
         "domain": [
          0,
          1
         ],
         "title": {
          "text": "Revenue"
         }
        }
       }
      }
     },
     "metadata": {},
     "output_type": "display_data"
    }
   ],
   "source": [
    "# Calculate monthly valid and canceled revenue\n",
    "monthly_valid_revenue = transactions.groupby('month')['totalsales'].sum().reset_index().rename(columns={'totalsales': 'Total_Revenue'})\n",
    "monthly_canceled_revenue = cancellations.groupby('month')['totalsales'].sum().reset_index().rename(columns={'totalsales': 'Cancelled_Revenue'})\n",
    "\n",
    "# Merge both dataframes\n",
    "monthly_revenue = pd.merge(\n",
    "    monthly_valid_revenue, \n",
    "    monthly_canceled_revenue, \n",
    "    on='month', \n",
    "    how='outer'\n",
    ").fillna(0)\n",
    "\n",
    "# Plot Total Revenue vs. Cancelled Revenue\n",
    "fig = px.line(\n",
    "    monthly_revenue, \n",
    "    x='month', \n",
    "    y=['Total_Revenue', 'Cancelled_Revenue'], \n",
    "    title='Monthly Revenue Trend (Total vs. Cancelled)',\n",
    "    markers=True, \n",
    "    color_discrete_sequence=px.colors.qualitative.Dark24,  # Darker color scheme\n",
    "    template=\"plotly_dark\"  # Dark theme applied\n",
    ")\n",
    "\n",
    "# Update layout for better visualization\n",
    "fig.update_traces(line=dict(width=3, dash=\"dot\"), marker=dict(size=10))\n",
    "fig.update_layout(\n",
    "    xaxis_title=\"Month\", \n",
    "    yaxis_title=\"Revenue\", \n",
    "    title_font=dict(size=20),  \n",
    "    font=dict(size=14),\n",
    "    legend_title=\"Revenue Type\"\n",
    ")\n",
    "\n",
    "fig.show()\n",
    "\n"
   ]
  },
  {
   "cell_type": "markdown",
   "metadata": {},
   "source": [
    "The monthly trend chart indicates two types of trend lines: transactions, cancellations. The total sales cancellations are relatively lower compared to transactions. The highest total sales were recorded in November (7.38M), followed by October (6.5M) and September (6.2M). However, December sales dropped significantly to 1.44M, likely due to early Christmas purchases made in october and November."
   ]
  },
  {
   "cell_type": "markdown",
   "metadata": {},
   "source": [
    "####  Monthly revenue trend By Product Name"
   ]
  },
  {
   "cell_type": "code",
   "execution_count": 87,
   "metadata": {},
   "outputs": [
    {
     "data": {
      "application/vnd.plotly.v1+json": {
       "config": {
        "plotlyServerURL": "https://plot.ly"
       },
       "data": [
        {
         "hovertemplate": "ProductName=Assorted Colour Bird Ornament<br>month=%{x}<br>totalsales=%{y}<extra></extra>",
         "legendgroup": "Assorted Colour Bird Ornament",
         "line": {
          "color": "#636efa",
          "dash": "solid",
          "width": 2
         },
         "marker": {
          "size": 6,
          "symbol": "circle"
         },
         "mode": "lines+markers",
         "name": "Assorted Colour Bird Ornament",
         "orientation": "v",
         "showlegend": true,
         "type": "scatter",
         "x": [
          1,
          2,
          3,
          4,
          5,
          6,
          7,
          8,
          9,
          10,
          11,
          12
         ],
         "xaxis": "x",
         "y": [
          20763.06,
          19507.38,
          31539.9,
          30228,
          36121.18,
          18709.86,
          21731.5,
          77120.94,
          33974.08,
          32683.4,
          55831.77,
          8457.03
         ],
         "yaxis": "y"
        },
        {
         "hovertemplate": "ProductName=Assorted Colours Silk Fan<br>month=%{x}<br>totalsales=%{y}<extra></extra>",
         "legendgroup": "Assorted Colours Silk Fan",
         "line": {
          "color": "#EF553B",
          "dash": "solid",
          "width": 2
         },
         "marker": {
          "size": 6,
          "symbol": "circle"
         },
         "mode": "lines+markers",
         "name": "Assorted Colours Silk Fan",
         "orientation": "v",
         "showlegend": true,
         "type": "scatter",
         "x": [
          1,
          2,
          3,
          4,
          5,
          6,
          7,
          8,
          9,
          10,
          11,
          12
         ],
         "xaxis": "x",
         "y": [
          4188.56,
          24798.16,
          34132.340000000004,
          21719.1,
          51816.78,
          30214,
          37294.939999999995,
          15936.8,
          5435.679999999999,
          13899.76,
          5324.15,
          430.53
         ],
         "yaxis": "y"
        },
        {
         "hovertemplate": "ProductName=Cream Hanging Heart T-Light Holder<br>month=%{x}<br>totalsales=%{y}<extra></extra>",
         "legendgroup": "Cream Hanging Heart T-Light Holder",
         "line": {
          "color": "#00cc96",
          "dash": "solid",
          "width": 2
         },
         "marker": {
          "size": 6,
          "symbol": "circle"
         },
         "mode": "lines+markers",
         "name": "Cream Hanging Heart T-Light Holder",
         "orientation": "v",
         "showlegend": true,
         "type": "scatter",
         "x": [
          1,
          2,
          3,
          4,
          5,
          6,
          7,
          8,
          9,
          10,
          11,
          12
         ],
         "xaxis": "x",
         "y": [
          45651.27,
          21215.5,
          22261.69,
          24073,
          49240.509999999995,
          20485.67,
          38267.15,
          24986.02,
          31329.91,
          18598.989999999998,
          50956.979999999996,
          4925.25
         ],
         "yaxis": "y"
        },
        {
         "hovertemplate": "ProductName=Pack Of 12 London Tissues<br>month=%{x}<br>totalsales=%{y}<extra></extra>",
         "legendgroup": "Pack Of 12 London Tissues",
         "line": {
          "color": "#ab63fa",
          "dash": "solid",
          "width": 2
         },
         "marker": {
          "size": 6,
          "symbol": "circle"
         },
         "mode": "lines+markers",
         "name": "Pack Of 12 London Tissues",
         "orientation": "v",
         "showlegend": true,
         "type": "scatter",
         "x": [
          1,
          2,
          3,
          4,
          5,
          6,
          7,
          8,
          9,
          10,
          11,
          12
         ],
         "xaxis": "x",
         "y": [
          4916.89,
          28714.07,
          38413.65,
          23447.15,
          15548.24,
          25588.41,
          13418.12,
          25506.75,
          16952.65,
          16510.46,
          28904.130000000005,
          4334.71
         ],
         "yaxis": "y"
        },
        {
         "hovertemplate": "ProductName=Pack Of 60 Pink Paisley Cake Cases<br>month=%{x}<br>totalsales=%{y}<extra></extra>",
         "legendgroup": "Pack Of 60 Pink Paisley Cake Cases",
         "line": {
          "color": "#FFA15A",
          "dash": "solid",
          "width": 2
         },
         "marker": {
          "size": 6,
          "symbol": "circle"
         },
         "mode": "lines+markers",
         "name": "Pack Of 60 Pink Paisley Cake Cases",
         "orientation": "v",
         "showlegend": true,
         "type": "scatter",
         "x": [
          1,
          2,
          3,
          4,
          5,
          6,
          7,
          8,
          9,
          10,
          11,
          12
         ],
         "xaxis": "x",
         "y": [
          7924.0199999999995,
          16581.09,
          28822.44,
          27042.83,
          43461.78,
          15983.75,
          24282.77,
          23948.91,
          24278.21,
          14225.78,
          13290.56,
          1188.1299999999999
         ],
         "yaxis": "y"
        },
        {
         "hovertemplate": "ProductName=Pack Of 72 Retrospot Cake Cases<br>month=%{x}<br>totalsales=%{y}<extra></extra>",
         "legendgroup": "Pack Of 72 Retrospot Cake Cases",
         "line": {
          "color": "#19d3f3",
          "dash": "solid",
          "width": 2
         },
         "marker": {
          "size": 6,
          "symbol": "circle"
         },
         "mode": "lines+markers",
         "name": "Pack Of 72 Retrospot Cake Cases",
         "orientation": "v",
         "showlegend": true,
         "type": "scatter",
         "x": [
          1,
          2,
          3,
          4,
          5,
          6,
          7,
          8,
          9,
          10,
          11,
          12
         ],
         "xaxis": "x",
         "y": [
          36416.229999999996,
          22155.57,
          41787.69,
          31990.010000000002,
          37546.23,
          21836.68,
          30297.83,
          32527.46,
          37005.25,
          22558.38,
          26307.95,
          2993.94
         ],
         "yaxis": "y"
        },
        {
         "hovertemplate": "ProductName=Party Bunting<br>month=%{x}<br>totalsales=%{y}<extra></extra>",
         "legendgroup": "Party Bunting",
         "line": {
          "color": "#FF6692",
          "dash": "solid",
          "width": 2
         },
         "marker": {
          "size": 6,
          "symbol": "circle"
         },
         "mode": "lines+markers",
         "name": "Party Bunting",
         "orientation": "v",
         "showlegend": true,
         "type": "scatter",
         "x": [
          1,
          2,
          3,
          4,
          5,
          6,
          7,
          8,
          9,
          10,
          11,
          12
         ],
         "xaxis": "x",
         "y": [
          6891.62,
          12857.539999999999,
          24445.22,
          28368.85,
          48354.9,
          33478.87,
          40883.02,
          26237.81,
          17222.32,
          10040.62,
          12631.31,
          874.1500000000001
         ],
         "yaxis": "y"
        },
        {
         "hovertemplate": "ProductName=Popcorn Holder<br>month=%{x}<br>totalsales=%{y}<extra></extra>",
         "legendgroup": "Popcorn Holder",
         "line": {
          "color": "#B6E880",
          "dash": "solid",
          "width": 2
         },
         "marker": {
          "size": 6,
          "symbol": "circle"
         },
         "mode": "lines+markers",
         "name": "Popcorn Holder",
         "orientation": "v",
         "showlegend": true,
         "type": "scatter",
         "x": [
          1,
          2,
          3,
          4,
          5,
          6,
          7,
          8,
          9,
          10,
          11,
          12
         ],
         "xaxis": "x",
         "y": [
          14210.679999999998,
          21203.56,
          24754.329999999998,
          18191.44,
          65898.28,
          18248.079999999998,
          12546.24,
          52201.84,
          41499.85,
          50353.78,
          98663.47,
          34423.92
         ],
         "yaxis": "y"
        },
        {
         "hovertemplate": "ProductName=World War 2 Gliders Asstd Designs<br>month=%{x}<br>totalsales=%{y}<extra></extra>",
         "legendgroup": "World War 2 Gliders Asstd Designs",
         "line": {
          "color": "#FF97FF",
          "dash": "solid",
          "width": 2
         },
         "marker": {
          "size": 6,
          "symbol": "circle"
         },
         "mode": "lines+markers",
         "name": "World War 2 Gliders Asstd Designs",
         "orientation": "v",
         "showlegend": true,
         "type": "scatter",
         "x": [
          1,
          2,
          3,
          4,
          5,
          6,
          7,
          8,
          9,
          10,
          11,
          12
         ],
         "xaxis": "x",
         "y": [
          15695.050000000001,
          36915.47,
          37289.28,
          94272.78,
          51016.58,
          22366.510000000002,
          37623.060000000005,
          21323.300000000003,
          36054.060000000005,
          35629.020000000004,
          44272.97,
          9029.36
         ],
         "yaxis": "y"
        },
        {
         "hovertemplate": "ProductName=Rabbit Night Light<br>month=%{x}<br>totalsales=%{y}<extra></extra>",
         "legendgroup": "Rabbit Night Light",
         "line": {
          "color": "#FECB52",
          "dash": "solid",
          "width": 2
         },
         "marker": {
          "size": 6,
          "symbol": "circle"
         },
         "mode": "lines+markers",
         "name": "Rabbit Night Light",
         "orientation": "v",
         "showlegend": true,
         "type": "scatter",
         "x": [
          5,
          6,
          7,
          8,
          9,
          10,
          11,
          12
         ],
         "xaxis": "x",
         "y": [
          13038.34,
          19571.52,
          3697.62,
          21312.4,
          2920.3,
          74147.6,
          155897.98,
          27328.79
         ],
         "yaxis": "y"
        }
       ],
       "layout": {
        "font": {
         "size": 14
        },
        "legend": {
         "title": {
          "text": "Product Name"
         },
         "tracegroupgap": 0
        },
        "template": {
         "data": {
          "bar": [
           {
            "error_x": {
             "color": "#f2f5fa"
            },
            "error_y": {
             "color": "#f2f5fa"
            },
            "marker": {
             "line": {
              "color": "rgb(17,17,17)",
              "width": 0.5
             },
             "pattern": {
              "fillmode": "overlay",
              "size": 10,
              "solidity": 0.2
             }
            },
            "type": "bar"
           }
          ],
          "barpolar": [
           {
            "marker": {
             "line": {
              "color": "rgb(17,17,17)",
              "width": 0.5
             },
             "pattern": {
              "fillmode": "overlay",
              "size": 10,
              "solidity": 0.2
             }
            },
            "type": "barpolar"
           }
          ],
          "carpet": [
           {
            "aaxis": {
             "endlinecolor": "#A2B1C6",
             "gridcolor": "#506784",
             "linecolor": "#506784",
             "minorgridcolor": "#506784",
             "startlinecolor": "#A2B1C6"
            },
            "baxis": {
             "endlinecolor": "#A2B1C6",
             "gridcolor": "#506784",
             "linecolor": "#506784",
             "minorgridcolor": "#506784",
             "startlinecolor": "#A2B1C6"
            },
            "type": "carpet"
           }
          ],
          "choropleth": [
           {
            "colorbar": {
             "outlinewidth": 0,
             "ticks": ""
            },
            "type": "choropleth"
           }
          ],
          "contour": [
           {
            "colorbar": {
             "outlinewidth": 0,
             "ticks": ""
            },
            "colorscale": [
             [
              0,
              "#0d0887"
             ],
             [
              0.1111111111111111,
              "#46039f"
             ],
             [
              0.2222222222222222,
              "#7201a8"
             ],
             [
              0.3333333333333333,
              "#9c179e"
             ],
             [
              0.4444444444444444,
              "#bd3786"
             ],
             [
              0.5555555555555556,
              "#d8576b"
             ],
             [
              0.6666666666666666,
              "#ed7953"
             ],
             [
              0.7777777777777778,
              "#fb9f3a"
             ],
             [
              0.8888888888888888,
              "#fdca26"
             ],
             [
              1,
              "#f0f921"
             ]
            ],
            "type": "contour"
           }
          ],
          "contourcarpet": [
           {
            "colorbar": {
             "outlinewidth": 0,
             "ticks": ""
            },
            "type": "contourcarpet"
           }
          ],
          "heatmap": [
           {
            "colorbar": {
             "outlinewidth": 0,
             "ticks": ""
            },
            "colorscale": [
             [
              0,
              "#0d0887"
             ],
             [
              0.1111111111111111,
              "#46039f"
             ],
             [
              0.2222222222222222,
              "#7201a8"
             ],
             [
              0.3333333333333333,
              "#9c179e"
             ],
             [
              0.4444444444444444,
              "#bd3786"
             ],
             [
              0.5555555555555556,
              "#d8576b"
             ],
             [
              0.6666666666666666,
              "#ed7953"
             ],
             [
              0.7777777777777778,
              "#fb9f3a"
             ],
             [
              0.8888888888888888,
              "#fdca26"
             ],
             [
              1,
              "#f0f921"
             ]
            ],
            "type": "heatmap"
           }
          ],
          "heatmapgl": [
           {
            "colorbar": {
             "outlinewidth": 0,
             "ticks": ""
            },
            "colorscale": [
             [
              0,
              "#0d0887"
             ],
             [
              0.1111111111111111,
              "#46039f"
             ],
             [
              0.2222222222222222,
              "#7201a8"
             ],
             [
              0.3333333333333333,
              "#9c179e"
             ],
             [
              0.4444444444444444,
              "#bd3786"
             ],
             [
              0.5555555555555556,
              "#d8576b"
             ],
             [
              0.6666666666666666,
              "#ed7953"
             ],
             [
              0.7777777777777778,
              "#fb9f3a"
             ],
             [
              0.8888888888888888,
              "#fdca26"
             ],
             [
              1,
              "#f0f921"
             ]
            ],
            "type": "heatmapgl"
           }
          ],
          "histogram": [
           {
            "marker": {
             "pattern": {
              "fillmode": "overlay",
              "size": 10,
              "solidity": 0.2
             }
            },
            "type": "histogram"
           }
          ],
          "histogram2d": [
           {
            "colorbar": {
             "outlinewidth": 0,
             "ticks": ""
            },
            "colorscale": [
             [
              0,
              "#0d0887"
             ],
             [
              0.1111111111111111,
              "#46039f"
             ],
             [
              0.2222222222222222,
              "#7201a8"
             ],
             [
              0.3333333333333333,
              "#9c179e"
             ],
             [
              0.4444444444444444,
              "#bd3786"
             ],
             [
              0.5555555555555556,
              "#d8576b"
             ],
             [
              0.6666666666666666,
              "#ed7953"
             ],
             [
              0.7777777777777778,
              "#fb9f3a"
             ],
             [
              0.8888888888888888,
              "#fdca26"
             ],
             [
              1,
              "#f0f921"
             ]
            ],
            "type": "histogram2d"
           }
          ],
          "histogram2dcontour": [
           {
            "colorbar": {
             "outlinewidth": 0,
             "ticks": ""
            },
            "colorscale": [
             [
              0,
              "#0d0887"
             ],
             [
              0.1111111111111111,
              "#46039f"
             ],
             [
              0.2222222222222222,
              "#7201a8"
             ],
             [
              0.3333333333333333,
              "#9c179e"
             ],
             [
              0.4444444444444444,
              "#bd3786"
             ],
             [
              0.5555555555555556,
              "#d8576b"
             ],
             [
              0.6666666666666666,
              "#ed7953"
             ],
             [
              0.7777777777777778,
              "#fb9f3a"
             ],
             [
              0.8888888888888888,
              "#fdca26"
             ],
             [
              1,
              "#f0f921"
             ]
            ],
            "type": "histogram2dcontour"
           }
          ],
          "mesh3d": [
           {
            "colorbar": {
             "outlinewidth": 0,
             "ticks": ""
            },
            "type": "mesh3d"
           }
          ],
          "parcoords": [
           {
            "line": {
             "colorbar": {
              "outlinewidth": 0,
              "ticks": ""
             }
            },
            "type": "parcoords"
           }
          ],
          "pie": [
           {
            "automargin": true,
            "type": "pie"
           }
          ],
          "scatter": [
           {
            "marker": {
             "line": {
              "color": "#283442"
             }
            },
            "type": "scatter"
           }
          ],
          "scatter3d": [
           {
            "line": {
             "colorbar": {
              "outlinewidth": 0,
              "ticks": ""
             }
            },
            "marker": {
             "colorbar": {
              "outlinewidth": 0,
              "ticks": ""
             }
            },
            "type": "scatter3d"
           }
          ],
          "scattercarpet": [
           {
            "marker": {
             "colorbar": {
              "outlinewidth": 0,
              "ticks": ""
             }
            },
            "type": "scattercarpet"
           }
          ],
          "scattergeo": [
           {
            "marker": {
             "colorbar": {
              "outlinewidth": 0,
              "ticks": ""
             }
            },
            "type": "scattergeo"
           }
          ],
          "scattergl": [
           {
            "marker": {
             "line": {
              "color": "#283442"
             }
            },
            "type": "scattergl"
           }
          ],
          "scattermapbox": [
           {
            "marker": {
             "colorbar": {
              "outlinewidth": 0,
              "ticks": ""
             }
            },
            "type": "scattermapbox"
           }
          ],
          "scatterpolar": [
           {
            "marker": {
             "colorbar": {
              "outlinewidth": 0,
              "ticks": ""
             }
            },
            "type": "scatterpolar"
           }
          ],
          "scatterpolargl": [
           {
            "marker": {
             "colorbar": {
              "outlinewidth": 0,
              "ticks": ""
             }
            },
            "type": "scatterpolargl"
           }
          ],
          "scatterternary": [
           {
            "marker": {
             "colorbar": {
              "outlinewidth": 0,
              "ticks": ""
             }
            },
            "type": "scatterternary"
           }
          ],
          "surface": [
           {
            "colorbar": {
             "outlinewidth": 0,
             "ticks": ""
            },
            "colorscale": [
             [
              0,
              "#0d0887"
             ],
             [
              0.1111111111111111,
              "#46039f"
             ],
             [
              0.2222222222222222,
              "#7201a8"
             ],
             [
              0.3333333333333333,
              "#9c179e"
             ],
             [
              0.4444444444444444,
              "#bd3786"
             ],
             [
              0.5555555555555556,
              "#d8576b"
             ],
             [
              0.6666666666666666,
              "#ed7953"
             ],
             [
              0.7777777777777778,
              "#fb9f3a"
             ],
             [
              0.8888888888888888,
              "#fdca26"
             ],
             [
              1,
              "#f0f921"
             ]
            ],
            "type": "surface"
           }
          ],
          "table": [
           {
            "cells": {
             "fill": {
              "color": "#506784"
             },
             "line": {
              "color": "rgb(17,17,17)"
             }
            },
            "header": {
             "fill": {
              "color": "#2a3f5f"
             },
             "line": {
              "color": "rgb(17,17,17)"
             }
            },
            "type": "table"
           }
          ]
         },
         "layout": {
          "annotationdefaults": {
           "arrowcolor": "#f2f5fa",
           "arrowhead": 0,
           "arrowwidth": 1
          },
          "autotypenumbers": "strict",
          "coloraxis": {
           "colorbar": {
            "outlinewidth": 0,
            "ticks": ""
           }
          },
          "colorscale": {
           "diverging": [
            [
             0,
             "#8e0152"
            ],
            [
             0.1,
             "#c51b7d"
            ],
            [
             0.2,
             "#de77ae"
            ],
            [
             0.3,
             "#f1b6da"
            ],
            [
             0.4,
             "#fde0ef"
            ],
            [
             0.5,
             "#f7f7f7"
            ],
            [
             0.6,
             "#e6f5d0"
            ],
            [
             0.7,
             "#b8e186"
            ],
            [
             0.8,
             "#7fbc41"
            ],
            [
             0.9,
             "#4d9221"
            ],
            [
             1,
             "#276419"
            ]
           ],
           "sequential": [
            [
             0,
             "#0d0887"
            ],
            [
             0.1111111111111111,
             "#46039f"
            ],
            [
             0.2222222222222222,
             "#7201a8"
            ],
            [
             0.3333333333333333,
             "#9c179e"
            ],
            [
             0.4444444444444444,
             "#bd3786"
            ],
            [
             0.5555555555555556,
             "#d8576b"
            ],
            [
             0.6666666666666666,
             "#ed7953"
            ],
            [
             0.7777777777777778,
             "#fb9f3a"
            ],
            [
             0.8888888888888888,
             "#fdca26"
            ],
            [
             1,
             "#f0f921"
            ]
           ],
           "sequentialminus": [
            [
             0,
             "#0d0887"
            ],
            [
             0.1111111111111111,
             "#46039f"
            ],
            [
             0.2222222222222222,
             "#7201a8"
            ],
            [
             0.3333333333333333,
             "#9c179e"
            ],
            [
             0.4444444444444444,
             "#bd3786"
            ],
            [
             0.5555555555555556,
             "#d8576b"
            ],
            [
             0.6666666666666666,
             "#ed7953"
            ],
            [
             0.7777777777777778,
             "#fb9f3a"
            ],
            [
             0.8888888888888888,
             "#fdca26"
            ],
            [
             1,
             "#f0f921"
            ]
           ]
          },
          "colorway": [
           "#636efa",
           "#EF553B",
           "#00cc96",
           "#ab63fa",
           "#FFA15A",
           "#19d3f3",
           "#FF6692",
           "#B6E880",
           "#FF97FF",
           "#FECB52"
          ],
          "font": {
           "color": "#f2f5fa"
          },
          "geo": {
           "bgcolor": "rgb(17,17,17)",
           "lakecolor": "rgb(17,17,17)",
           "landcolor": "rgb(17,17,17)",
           "showlakes": true,
           "showland": true,
           "subunitcolor": "#506784"
          },
          "hoverlabel": {
           "align": "left"
          },
          "hovermode": "closest",
          "mapbox": {
           "style": "dark"
          },
          "paper_bgcolor": "rgb(17,17,17)",
          "plot_bgcolor": "rgb(17,17,17)",
          "polar": {
           "angularaxis": {
            "gridcolor": "#506784",
            "linecolor": "#506784",
            "ticks": ""
           },
           "bgcolor": "rgb(17,17,17)",
           "radialaxis": {
            "gridcolor": "#506784",
            "linecolor": "#506784",
            "ticks": ""
           }
          },
          "scene": {
           "xaxis": {
            "backgroundcolor": "rgb(17,17,17)",
            "gridcolor": "#506784",
            "gridwidth": 2,
            "linecolor": "#506784",
            "showbackground": true,
            "ticks": "",
            "zerolinecolor": "#C8D4E3"
           },
           "yaxis": {
            "backgroundcolor": "rgb(17,17,17)",
            "gridcolor": "#506784",
            "gridwidth": 2,
            "linecolor": "#506784",
            "showbackground": true,
            "ticks": "",
            "zerolinecolor": "#C8D4E3"
           },
           "zaxis": {
            "backgroundcolor": "rgb(17,17,17)",
            "gridcolor": "#506784",
            "gridwidth": 2,
            "linecolor": "#506784",
            "showbackground": true,
            "ticks": "",
            "zerolinecolor": "#C8D4E3"
           }
          },
          "shapedefaults": {
           "line": {
            "color": "#f2f5fa"
           }
          },
          "sliderdefaults": {
           "bgcolor": "#C8D4E3",
           "bordercolor": "rgb(17,17,17)",
           "borderwidth": 1,
           "tickwidth": 0
          },
          "ternary": {
           "aaxis": {
            "gridcolor": "#506784",
            "linecolor": "#506784",
            "ticks": ""
           },
           "baxis": {
            "gridcolor": "#506784",
            "linecolor": "#506784",
            "ticks": ""
           },
           "bgcolor": "rgb(17,17,17)",
           "caxis": {
            "gridcolor": "#506784",
            "linecolor": "#506784",
            "ticks": ""
           }
          },
          "title": {
           "x": 0.05
          },
          "updatemenudefaults": {
           "bgcolor": "#506784",
           "borderwidth": 0
          },
          "xaxis": {
           "automargin": true,
           "gridcolor": "#283442",
           "linecolor": "#506784",
           "ticks": "",
           "title": {
            "standoff": 15
           },
           "zerolinecolor": "#283442",
           "zerolinewidth": 2
          },
          "yaxis": {
           "automargin": true,
           "gridcolor": "#283442",
           "linecolor": "#506784",
           "ticks": "",
           "title": {
            "standoff": 15
           },
           "zerolinecolor": "#283442",
           "zerolinewidth": 2
          }
         }
        },
        "title": {
         "text": "Monthly Total Revenue Trend (Top 10 Products)"
        },
        "xaxis": {
         "anchor": "y",
         "domain": [
          0,
          1
         ],
         "title": {
          "text": "Month"
         }
        },
        "yaxis": {
         "anchor": "x",
         "domain": [
          0,
          1
         ],
         "title": {
          "text": "Total Revenue"
         }
        }
       }
      }
     },
     "metadata": {},
     "output_type": "display_data"
    }
   ],
   "source": [
    "# Group by ProductName and calculate total revenue\n",
    "total_revenue_per_product = transactions.groupby('ProductName')['totalsales'].sum().reset_index()\n",
    "\n",
    "# Get the top 10 products by total revenue using head(10)\n",
    "top_10_products = total_revenue_per_product.sort_values(by='totalsales', ascending=False).head(10)['ProductName']\n",
    "\n",
    "# Filter the original monthly revenue data for these top 10 products\n",
    "monthly_product_revenue = transactions.groupby(['month', 'ProductName'])['totalsales'].sum().reset_index()\n",
    "top_10_monthly_revenue = monthly_product_revenue[monthly_product_revenue['ProductName'].isin(top_10_products)]\n",
    "\n",
    "#  Plot the trend line for top 10 products\n",
    "fig = px.line(\n",
    "    top_10_monthly_revenue, \n",
    "    x='month', \n",
    "    y='totalsales', \n",
    "    color='ProductName',  # Different color for each product\n",
    "    title='Monthly Total Revenue Trend (Top 10 Products)',\n",
    "    markers=True, \n",
    "    template=\"plotly_dark\"  # Dark theme for better visualization\n",
    ")\n",
    "\n",
    "# Update layout for better visualization\n",
    "fig.update_traces(line=dict(width=2), marker=dict(size=6))\n",
    "fig.update_layout(\n",
    "    xaxis_title=\"Month\", \n",
    "    yaxis_title=\"Total Revenue\", \n",
    "    font=dict(size=14),\n",
    "    legend_title=\"Product Name\"\n",
    ")\n",
    "\n",
    "# Show the chart\n",
    "fig.show()\n"
   ]
  },
  {
   "cell_type": "markdown",
   "metadata": {},
   "source": [
    "In November, the Rabbit Night Light saw high sales due to winter and home decor demand. The Popcorn Holder peaked in May and November, coinciding with summer and holidays as people hosted movie nights. The Assorted Color Bird Ornament experienced a sales surge in August, linked to Caribbean culture celebrations. The World War 2 Gliders Assorted Design saw increased sales in April, around anniversaries and remembrance days for historical events."
   ]
  },
  {
   "cell_type": "markdown",
   "metadata": {},
   "source": [
    "#### Top 10 Customers by Purchase Frequency"
   ]
  },
  {
   "cell_type": "code",
   "execution_count": 88,
   "metadata": {},
   "outputs": [
    {
     "data": {
      "application/vnd.plotly.v1+json": {
       "config": {
        "plotlyServerURL": "https://plot.ly"
       },
       "data": [
        {
         "alignmentgroup": "True",
         "hovertemplate": "Customer Number=%{x}<br>Purchase Frequency=%{marker.color}<extra></extra>",
         "legendgroup": "",
         "marker": {
          "color": [
           6222,
           5093,
           4323,
           3814,
           2211,
           1984,
           1847,
           1672,
           1665,
           1489
          ],
          "coloraxis": "coloraxis",
          "pattern": {
           "shape": ""
          }
         },
         "name": "",
         "offsetgroup": "",
         "orientation": "v",
         "showlegend": false,
         "text": [
          6222,
          5093,
          4323,
          3814,
          2211,
          1984,
          1847,
          1672,
          1665,
          1489
         ],
         "textposition": "outside",
         "texttemplate": "%{text}",
         "type": "bar",
         "x": [
          "17841",
          "14096",
          "14911",
          "12748",
          "14606",
          "14646",
          "15311",
          "13263",
          "13089",
          "14298"
         ],
         "xaxis": "x",
         "y": [
          6222,
          5093,
          4323,
          3814,
          2211,
          1984,
          1847,
          1672,
          1665,
          1489
         ],
         "yaxis": "y"
        }
       ],
       "layout": {
        "barmode": "relative",
        "coloraxis": {
         "colorbar": {
          "title": {
           "text": "Purchase Frequency"
          }
         },
         "colorscale": [
          [
           0,
           "#0d0887"
          ],
          [
           0.1111111111111111,
           "#46039f"
          ],
          [
           0.2222222222222222,
           "#7201a8"
          ],
          [
           0.3333333333333333,
           "#9c179e"
          ],
          [
           0.4444444444444444,
           "#bd3786"
          ],
          [
           0.5555555555555556,
           "#d8576b"
          ],
          [
           0.6666666666666666,
           "#ed7953"
          ],
          [
           0.7777777777777778,
           "#fb9f3a"
          ],
          [
           0.8888888888888888,
           "#fdca26"
          ],
          [
           1,
           "#f0f921"
          ]
         ]
        },
        "font": {
         "size": 14
        },
        "height": 600,
        "legend": {
         "tracegroupgap": 0
        },
        "template": {
         "data": {
          "bar": [
           {
            "error_x": {
             "color": "#f2f5fa"
            },
            "error_y": {
             "color": "#f2f5fa"
            },
            "marker": {
             "line": {
              "color": "rgb(17,17,17)",
              "width": 0.5
             },
             "pattern": {
              "fillmode": "overlay",
              "size": 10,
              "solidity": 0.2
             }
            },
            "type": "bar"
           }
          ],
          "barpolar": [
           {
            "marker": {
             "line": {
              "color": "rgb(17,17,17)",
              "width": 0.5
             },
             "pattern": {
              "fillmode": "overlay",
              "size": 10,
              "solidity": 0.2
             }
            },
            "type": "barpolar"
           }
          ],
          "carpet": [
           {
            "aaxis": {
             "endlinecolor": "#A2B1C6",
             "gridcolor": "#506784",
             "linecolor": "#506784",
             "minorgridcolor": "#506784",
             "startlinecolor": "#A2B1C6"
            },
            "baxis": {
             "endlinecolor": "#A2B1C6",
             "gridcolor": "#506784",
             "linecolor": "#506784",
             "minorgridcolor": "#506784",
             "startlinecolor": "#A2B1C6"
            },
            "type": "carpet"
           }
          ],
          "choropleth": [
           {
            "colorbar": {
             "outlinewidth": 0,
             "ticks": ""
            },
            "type": "choropleth"
           }
          ],
          "contour": [
           {
            "colorbar": {
             "outlinewidth": 0,
             "ticks": ""
            },
            "colorscale": [
             [
              0,
              "#0d0887"
             ],
             [
              0.1111111111111111,
              "#46039f"
             ],
             [
              0.2222222222222222,
              "#7201a8"
             ],
             [
              0.3333333333333333,
              "#9c179e"
             ],
             [
              0.4444444444444444,
              "#bd3786"
             ],
             [
              0.5555555555555556,
              "#d8576b"
             ],
             [
              0.6666666666666666,
              "#ed7953"
             ],
             [
              0.7777777777777778,
              "#fb9f3a"
             ],
             [
              0.8888888888888888,
              "#fdca26"
             ],
             [
              1,
              "#f0f921"
             ]
            ],
            "type": "contour"
           }
          ],
          "contourcarpet": [
           {
            "colorbar": {
             "outlinewidth": 0,
             "ticks": ""
            },
            "type": "contourcarpet"
           }
          ],
          "heatmap": [
           {
            "colorbar": {
             "outlinewidth": 0,
             "ticks": ""
            },
            "colorscale": [
             [
              0,
              "#0d0887"
             ],
             [
              0.1111111111111111,
              "#46039f"
             ],
             [
              0.2222222222222222,
              "#7201a8"
             ],
             [
              0.3333333333333333,
              "#9c179e"
             ],
             [
              0.4444444444444444,
              "#bd3786"
             ],
             [
              0.5555555555555556,
              "#d8576b"
             ],
             [
              0.6666666666666666,
              "#ed7953"
             ],
             [
              0.7777777777777778,
              "#fb9f3a"
             ],
             [
              0.8888888888888888,
              "#fdca26"
             ],
             [
              1,
              "#f0f921"
             ]
            ],
            "type": "heatmap"
           }
          ],
          "heatmapgl": [
           {
            "colorbar": {
             "outlinewidth": 0,
             "ticks": ""
            },
            "colorscale": [
             [
              0,
              "#0d0887"
             ],
             [
              0.1111111111111111,
              "#46039f"
             ],
             [
              0.2222222222222222,
              "#7201a8"
             ],
             [
              0.3333333333333333,
              "#9c179e"
             ],
             [
              0.4444444444444444,
              "#bd3786"
             ],
             [
              0.5555555555555556,
              "#d8576b"
             ],
             [
              0.6666666666666666,
              "#ed7953"
             ],
             [
              0.7777777777777778,
              "#fb9f3a"
             ],
             [
              0.8888888888888888,
              "#fdca26"
             ],
             [
              1,
              "#f0f921"
             ]
            ],
            "type": "heatmapgl"
           }
          ],
          "histogram": [
           {
            "marker": {
             "pattern": {
              "fillmode": "overlay",
              "size": 10,
              "solidity": 0.2
             }
            },
            "type": "histogram"
           }
          ],
          "histogram2d": [
           {
            "colorbar": {
             "outlinewidth": 0,
             "ticks": ""
            },
            "colorscale": [
             [
              0,
              "#0d0887"
             ],
             [
              0.1111111111111111,
              "#46039f"
             ],
             [
              0.2222222222222222,
              "#7201a8"
             ],
             [
              0.3333333333333333,
              "#9c179e"
             ],
             [
              0.4444444444444444,
              "#bd3786"
             ],
             [
              0.5555555555555556,
              "#d8576b"
             ],
             [
              0.6666666666666666,
              "#ed7953"
             ],
             [
              0.7777777777777778,
              "#fb9f3a"
             ],
             [
              0.8888888888888888,
              "#fdca26"
             ],
             [
              1,
              "#f0f921"
             ]
            ],
            "type": "histogram2d"
           }
          ],
          "histogram2dcontour": [
           {
            "colorbar": {
             "outlinewidth": 0,
             "ticks": ""
            },
            "colorscale": [
             [
              0,
              "#0d0887"
             ],
             [
              0.1111111111111111,
              "#46039f"
             ],
             [
              0.2222222222222222,
              "#7201a8"
             ],
             [
              0.3333333333333333,
              "#9c179e"
             ],
             [
              0.4444444444444444,
              "#bd3786"
             ],
             [
              0.5555555555555556,
              "#d8576b"
             ],
             [
              0.6666666666666666,
              "#ed7953"
             ],
             [
              0.7777777777777778,
              "#fb9f3a"
             ],
             [
              0.8888888888888888,
              "#fdca26"
             ],
             [
              1,
              "#f0f921"
             ]
            ],
            "type": "histogram2dcontour"
           }
          ],
          "mesh3d": [
           {
            "colorbar": {
             "outlinewidth": 0,
             "ticks": ""
            },
            "type": "mesh3d"
           }
          ],
          "parcoords": [
           {
            "line": {
             "colorbar": {
              "outlinewidth": 0,
              "ticks": ""
             }
            },
            "type": "parcoords"
           }
          ],
          "pie": [
           {
            "automargin": true,
            "type": "pie"
           }
          ],
          "scatter": [
           {
            "marker": {
             "line": {
              "color": "#283442"
             }
            },
            "type": "scatter"
           }
          ],
          "scatter3d": [
           {
            "line": {
             "colorbar": {
              "outlinewidth": 0,
              "ticks": ""
             }
            },
            "marker": {
             "colorbar": {
              "outlinewidth": 0,
              "ticks": ""
             }
            },
            "type": "scatter3d"
           }
          ],
          "scattercarpet": [
           {
            "marker": {
             "colorbar": {
              "outlinewidth": 0,
              "ticks": ""
             }
            },
            "type": "scattercarpet"
           }
          ],
          "scattergeo": [
           {
            "marker": {
             "colorbar": {
              "outlinewidth": 0,
              "ticks": ""
             }
            },
            "type": "scattergeo"
           }
          ],
          "scattergl": [
           {
            "marker": {
             "line": {
              "color": "#283442"
             }
            },
            "type": "scattergl"
           }
          ],
          "scattermapbox": [
           {
            "marker": {
             "colorbar": {
              "outlinewidth": 0,
              "ticks": ""
             }
            },
            "type": "scattermapbox"
           }
          ],
          "scatterpolar": [
           {
            "marker": {
             "colorbar": {
              "outlinewidth": 0,
              "ticks": ""
             }
            },
            "type": "scatterpolar"
           }
          ],
          "scatterpolargl": [
           {
            "marker": {
             "colorbar": {
              "outlinewidth": 0,
              "ticks": ""
             }
            },
            "type": "scatterpolargl"
           }
          ],
          "scatterternary": [
           {
            "marker": {
             "colorbar": {
              "outlinewidth": 0,
              "ticks": ""
             }
            },
            "type": "scatterternary"
           }
          ],
          "surface": [
           {
            "colorbar": {
             "outlinewidth": 0,
             "ticks": ""
            },
            "colorscale": [
             [
              0,
              "#0d0887"
             ],
             [
              0.1111111111111111,
              "#46039f"
             ],
             [
              0.2222222222222222,
              "#7201a8"
             ],
             [
              0.3333333333333333,
              "#9c179e"
             ],
             [
              0.4444444444444444,
              "#bd3786"
             ],
             [
              0.5555555555555556,
              "#d8576b"
             ],
             [
              0.6666666666666666,
              "#ed7953"
             ],
             [
              0.7777777777777778,
              "#fb9f3a"
             ],
             [
              0.8888888888888888,
              "#fdca26"
             ],
             [
              1,
              "#f0f921"
             ]
            ],
            "type": "surface"
           }
          ],
          "table": [
           {
            "cells": {
             "fill": {
              "color": "#506784"
             },
             "line": {
              "color": "rgb(17,17,17)"
             }
            },
            "header": {
             "fill": {
              "color": "#2a3f5f"
             },
             "line": {
              "color": "rgb(17,17,17)"
             }
            },
            "type": "table"
           }
          ]
         },
         "layout": {
          "annotationdefaults": {
           "arrowcolor": "#f2f5fa",
           "arrowhead": 0,
           "arrowwidth": 1
          },
          "autotypenumbers": "strict",
          "coloraxis": {
           "colorbar": {
            "outlinewidth": 0,
            "ticks": ""
           }
          },
          "colorscale": {
           "diverging": [
            [
             0,
             "#8e0152"
            ],
            [
             0.1,
             "#c51b7d"
            ],
            [
             0.2,
             "#de77ae"
            ],
            [
             0.3,
             "#f1b6da"
            ],
            [
             0.4,
             "#fde0ef"
            ],
            [
             0.5,
             "#f7f7f7"
            ],
            [
             0.6,
             "#e6f5d0"
            ],
            [
             0.7,
             "#b8e186"
            ],
            [
             0.8,
             "#7fbc41"
            ],
            [
             0.9,
             "#4d9221"
            ],
            [
             1,
             "#276419"
            ]
           ],
           "sequential": [
            [
             0,
             "#0d0887"
            ],
            [
             0.1111111111111111,
             "#46039f"
            ],
            [
             0.2222222222222222,
             "#7201a8"
            ],
            [
             0.3333333333333333,
             "#9c179e"
            ],
            [
             0.4444444444444444,
             "#bd3786"
            ],
            [
             0.5555555555555556,
             "#d8576b"
            ],
            [
             0.6666666666666666,
             "#ed7953"
            ],
            [
             0.7777777777777778,
             "#fb9f3a"
            ],
            [
             0.8888888888888888,
             "#fdca26"
            ],
            [
             1,
             "#f0f921"
            ]
           ],
           "sequentialminus": [
            [
             0,
             "#0d0887"
            ],
            [
             0.1111111111111111,
             "#46039f"
            ],
            [
             0.2222222222222222,
             "#7201a8"
            ],
            [
             0.3333333333333333,
             "#9c179e"
            ],
            [
             0.4444444444444444,
             "#bd3786"
            ],
            [
             0.5555555555555556,
             "#d8576b"
            ],
            [
             0.6666666666666666,
             "#ed7953"
            ],
            [
             0.7777777777777778,
             "#fb9f3a"
            ],
            [
             0.8888888888888888,
             "#fdca26"
            ],
            [
             1,
             "#f0f921"
            ]
           ]
          },
          "colorway": [
           "#636efa",
           "#EF553B",
           "#00cc96",
           "#ab63fa",
           "#FFA15A",
           "#19d3f3",
           "#FF6692",
           "#B6E880",
           "#FF97FF",
           "#FECB52"
          ],
          "font": {
           "color": "#f2f5fa"
          },
          "geo": {
           "bgcolor": "rgb(17,17,17)",
           "lakecolor": "rgb(17,17,17)",
           "landcolor": "rgb(17,17,17)",
           "showlakes": true,
           "showland": true,
           "subunitcolor": "#506784"
          },
          "hoverlabel": {
           "align": "left"
          },
          "hovermode": "closest",
          "mapbox": {
           "style": "dark"
          },
          "paper_bgcolor": "rgb(17,17,17)",
          "plot_bgcolor": "rgb(17,17,17)",
          "polar": {
           "angularaxis": {
            "gridcolor": "#506784",
            "linecolor": "#506784",
            "ticks": ""
           },
           "bgcolor": "rgb(17,17,17)",
           "radialaxis": {
            "gridcolor": "#506784",
            "linecolor": "#506784",
            "ticks": ""
           }
          },
          "scene": {
           "xaxis": {
            "backgroundcolor": "rgb(17,17,17)",
            "gridcolor": "#506784",
            "gridwidth": 2,
            "linecolor": "#506784",
            "showbackground": true,
            "ticks": "",
            "zerolinecolor": "#C8D4E3"
           },
           "yaxis": {
            "backgroundcolor": "rgb(17,17,17)",
            "gridcolor": "#506784",
            "gridwidth": 2,
            "linecolor": "#506784",
            "showbackground": true,
            "ticks": "",
            "zerolinecolor": "#C8D4E3"
           },
           "zaxis": {
            "backgroundcolor": "rgb(17,17,17)",
            "gridcolor": "#506784",
            "gridwidth": 2,
            "linecolor": "#506784",
            "showbackground": true,
            "ticks": "",
            "zerolinecolor": "#C8D4E3"
           }
          },
          "shapedefaults": {
           "line": {
            "color": "#f2f5fa"
           }
          },
          "sliderdefaults": {
           "bgcolor": "#C8D4E3",
           "bordercolor": "rgb(17,17,17)",
           "borderwidth": 1,
           "tickwidth": 0
          },
          "ternary": {
           "aaxis": {
            "gridcolor": "#506784",
            "linecolor": "#506784",
            "ticks": ""
           },
           "baxis": {
            "gridcolor": "#506784",
            "linecolor": "#506784",
            "ticks": ""
           },
           "bgcolor": "rgb(17,17,17)",
           "caxis": {
            "gridcolor": "#506784",
            "linecolor": "#506784",
            "ticks": ""
           }
          },
          "title": {
           "x": 0.05
          },
          "updatemenudefaults": {
           "bgcolor": "#506784",
           "borderwidth": 0
          },
          "xaxis": {
           "automargin": true,
           "gridcolor": "#283442",
           "linecolor": "#506784",
           "ticks": "",
           "title": {
            "standoff": 15
           },
           "zerolinecolor": "#283442",
           "zerolinewidth": 2
          },
          "yaxis": {
           "automargin": true,
           "gridcolor": "#283442",
           "linecolor": "#506784",
           "ticks": "",
           "title": {
            "standoff": 15
           },
           "zerolinecolor": "#283442",
           "zerolinewidth": 2
          }
         }
        },
        "title": {
         "font": {
          "size": 20
         },
         "text": "Top 10 Customers by Purchase Frequency"
        },
        "width": 900,
        "xaxis": {
         "anchor": "y",
         "domain": [
          0,
          1
         ],
         "tickangle": -45,
         "title": {
          "text": "Customer Number"
         }
        },
        "yaxis": {
         "anchor": "x",
         "domain": [
          0,
          1
         ],
         "title": {
          "text": "Purchase Frequency"
         }
        }
       }
      }
     },
     "metadata": {},
     "output_type": "display_data"
    }
   ],
   "source": [
    "# Calculate customer purchase frequency\n",
    "customer_purchase_frequency = transactions.groupby('CustomerNo')['TransactionNo'].count().reset_index()\n",
    "customer_purchase_frequency.rename(columns={'TransactionNo': 'PurchaseFrequency'}, inplace=True)\n",
    "\n",
    "# Get the top 10 customers by purchase frequency\n",
    "top_customers_by_frequency = customer_purchase_frequency.sort_values(by='PurchaseFrequency', ascending=False).head(10)\n",
    "\n",
    "# Convert CustomerNo to string for better labeling\n",
    "top_customers_by_frequency['CustomerNo'] = top_customers_by_frequency['CustomerNo'].astype(str)\n",
    "\n",
    "# Create a colorful bar chart\n",
    "fig = px.bar(\n",
    "    top_customers_by_frequency,\n",
    "    x='CustomerNo',\n",
    "    y='PurchaseFrequency',\n",
    "    text='PurchaseFrequency',  # Display frequency values\n",
    "    title=\"Top 10 Customers by Purchase Frequency\",\n",
    "    labels={'CustomerNo': 'Customer Number', 'PurchaseFrequency': 'Purchase Frequency'},\n",
    "    color='PurchaseFrequency',  # Color based on purchase frequency\n",
    "    template=\"plotly_dark\"  # Dark theme\n",
    ")\n",
    "\n",
    "# Update layout for better visualization\n",
    "fig.update_traces(texttemplate='%{text}', textposition='outside')\n",
    "fig.update_layout(\n",
    "    xaxis_title=\"Customer Number\",\n",
    "    yaxis_title=\"Purchase Frequency\",\n",
    "    xaxis_tickangle=-45,\n",
    "    font=dict(size=14),\n",
    "    width=900,\n",
    "    height=600,\n",
    "    title_font=dict(size=20)\n",
    ")\n",
    "\n",
    "# Show the plot\n",
    "fig.show()\n"
   ]
  },
  {
   "cell_type": "markdown",
   "metadata": {},
   "source": [
    "The customer purchase frequency reflects the number of transactions made by each customer. The highest recorded frequency is 6222, indicating regular and loyal customers. However, customers with low frequency might be bulk purchasers."
   ]
  },
  {
   "cell_type": "markdown",
   "metadata": {},
   "source": [
    "#### Top 10 Customers by Total Spending "
   ]
  },
  {
   "cell_type": "code",
   "execution_count": 89,
   "metadata": {},
   "outputs": [
    {
     "data": {
      "application/vnd.plotly.v1+json": {
       "config": {
        "plotlyServerURL": "https://plot.ly"
       },
       "data": [
        {
         "alignmentgroup": "True",
         "hovertemplate": "Customer Number=%{x}<br>Total Spending=%{marker.color}<extra></extra>",
         "legendgroup": "",
         "marker": {
          "color": [
           2020548.43,
           819752.59,
           799971.29,
           725443.5,
           667226.71,
           629764.22,
           575542.19,
           567647.06,
           496622.54,
           433077.45
          ],
          "coloraxis": "coloraxis",
          "pattern": {
           "shape": ""
          }
         },
         "name": "",
         "offsetgroup": "",
         "orientation": "v",
         "showlegend": false,
         "text": [
          2020548.43,
          819752.59,
          799971.29,
          725443.5,
          667226.71,
          629764.22,
          575542.19,
          567647.06,
          496622.54,
          433077.45
         ],
         "textposition": "outside",
         "texttemplate": "%{text:.2s}",
         "type": "bar",
         "x": [
          "14646",
          "17450",
          "18102",
          "12415",
          "14911",
          "14156",
          "14298",
          "13694",
          "16684",
          "17511"
         ],
         "xaxis": "x",
         "y": [
          2020548.43,
          819752.59,
          799971.29,
          725443.5,
          667226.71,
          629764.22,
          575542.19,
          567647.06,
          496622.54,
          433077.45
         ],
         "yaxis": "y"
        }
       ],
       "layout": {
        "barmode": "relative",
        "coloraxis": {
         "colorbar": {
          "title": {
           "text": "Total Spending"
          }
         },
         "colorscale": [
          [
           0,
           "#0d0887"
          ],
          [
           0.1111111111111111,
           "#46039f"
          ],
          [
           0.2222222222222222,
           "#7201a8"
          ],
          [
           0.3333333333333333,
           "#9c179e"
          ],
          [
           0.4444444444444444,
           "#bd3786"
          ],
          [
           0.5555555555555556,
           "#d8576b"
          ],
          [
           0.6666666666666666,
           "#ed7953"
          ],
          [
           0.7777777777777778,
           "#fb9f3a"
          ],
          [
           0.8888888888888888,
           "#fdca26"
          ],
          [
           1,
           "#f0f921"
          ]
         ]
        },
        "font": {
         "size": 14
        },
        "height": 600,
        "legend": {
         "tracegroupgap": 0
        },
        "template": {
         "data": {
          "bar": [
           {
            "error_x": {
             "color": "#f2f5fa"
            },
            "error_y": {
             "color": "#f2f5fa"
            },
            "marker": {
             "line": {
              "color": "rgb(17,17,17)",
              "width": 0.5
             },
             "pattern": {
              "fillmode": "overlay",
              "size": 10,
              "solidity": 0.2
             }
            },
            "type": "bar"
           }
          ],
          "barpolar": [
           {
            "marker": {
             "line": {
              "color": "rgb(17,17,17)",
              "width": 0.5
             },
             "pattern": {
              "fillmode": "overlay",
              "size": 10,
              "solidity": 0.2
             }
            },
            "type": "barpolar"
           }
          ],
          "carpet": [
           {
            "aaxis": {
             "endlinecolor": "#A2B1C6",
             "gridcolor": "#506784",
             "linecolor": "#506784",
             "minorgridcolor": "#506784",
             "startlinecolor": "#A2B1C6"
            },
            "baxis": {
             "endlinecolor": "#A2B1C6",
             "gridcolor": "#506784",
             "linecolor": "#506784",
             "minorgridcolor": "#506784",
             "startlinecolor": "#A2B1C6"
            },
            "type": "carpet"
           }
          ],
          "choropleth": [
           {
            "colorbar": {
             "outlinewidth": 0,
             "ticks": ""
            },
            "type": "choropleth"
           }
          ],
          "contour": [
           {
            "colorbar": {
             "outlinewidth": 0,
             "ticks": ""
            },
            "colorscale": [
             [
              0,
              "#0d0887"
             ],
             [
              0.1111111111111111,
              "#46039f"
             ],
             [
              0.2222222222222222,
              "#7201a8"
             ],
             [
              0.3333333333333333,
              "#9c179e"
             ],
             [
              0.4444444444444444,
              "#bd3786"
             ],
             [
              0.5555555555555556,
              "#d8576b"
             ],
             [
              0.6666666666666666,
              "#ed7953"
             ],
             [
              0.7777777777777778,
              "#fb9f3a"
             ],
             [
              0.8888888888888888,
              "#fdca26"
             ],
             [
              1,
              "#f0f921"
             ]
            ],
            "type": "contour"
           }
          ],
          "contourcarpet": [
           {
            "colorbar": {
             "outlinewidth": 0,
             "ticks": ""
            },
            "type": "contourcarpet"
           }
          ],
          "heatmap": [
           {
            "colorbar": {
             "outlinewidth": 0,
             "ticks": ""
            },
            "colorscale": [
             [
              0,
              "#0d0887"
             ],
             [
              0.1111111111111111,
              "#46039f"
             ],
             [
              0.2222222222222222,
              "#7201a8"
             ],
             [
              0.3333333333333333,
              "#9c179e"
             ],
             [
              0.4444444444444444,
              "#bd3786"
             ],
             [
              0.5555555555555556,
              "#d8576b"
             ],
             [
              0.6666666666666666,
              "#ed7953"
             ],
             [
              0.7777777777777778,
              "#fb9f3a"
             ],
             [
              0.8888888888888888,
              "#fdca26"
             ],
             [
              1,
              "#f0f921"
             ]
            ],
            "type": "heatmap"
           }
          ],
          "heatmapgl": [
           {
            "colorbar": {
             "outlinewidth": 0,
             "ticks": ""
            },
            "colorscale": [
             [
              0,
              "#0d0887"
             ],
             [
              0.1111111111111111,
              "#46039f"
             ],
             [
              0.2222222222222222,
              "#7201a8"
             ],
             [
              0.3333333333333333,
              "#9c179e"
             ],
             [
              0.4444444444444444,
              "#bd3786"
             ],
             [
              0.5555555555555556,
              "#d8576b"
             ],
             [
              0.6666666666666666,
              "#ed7953"
             ],
             [
              0.7777777777777778,
              "#fb9f3a"
             ],
             [
              0.8888888888888888,
              "#fdca26"
             ],
             [
              1,
              "#f0f921"
             ]
            ],
            "type": "heatmapgl"
           }
          ],
          "histogram": [
           {
            "marker": {
             "pattern": {
              "fillmode": "overlay",
              "size": 10,
              "solidity": 0.2
             }
            },
            "type": "histogram"
           }
          ],
          "histogram2d": [
           {
            "colorbar": {
             "outlinewidth": 0,
             "ticks": ""
            },
            "colorscale": [
             [
              0,
              "#0d0887"
             ],
             [
              0.1111111111111111,
              "#46039f"
             ],
             [
              0.2222222222222222,
              "#7201a8"
             ],
             [
              0.3333333333333333,
              "#9c179e"
             ],
             [
              0.4444444444444444,
              "#bd3786"
             ],
             [
              0.5555555555555556,
              "#d8576b"
             ],
             [
              0.6666666666666666,
              "#ed7953"
             ],
             [
              0.7777777777777778,
              "#fb9f3a"
             ],
             [
              0.8888888888888888,
              "#fdca26"
             ],
             [
              1,
              "#f0f921"
             ]
            ],
            "type": "histogram2d"
           }
          ],
          "histogram2dcontour": [
           {
            "colorbar": {
             "outlinewidth": 0,
             "ticks": ""
            },
            "colorscale": [
             [
              0,
              "#0d0887"
             ],
             [
              0.1111111111111111,
              "#46039f"
             ],
             [
              0.2222222222222222,
              "#7201a8"
             ],
             [
              0.3333333333333333,
              "#9c179e"
             ],
             [
              0.4444444444444444,
              "#bd3786"
             ],
             [
              0.5555555555555556,
              "#d8576b"
             ],
             [
              0.6666666666666666,
              "#ed7953"
             ],
             [
              0.7777777777777778,
              "#fb9f3a"
             ],
             [
              0.8888888888888888,
              "#fdca26"
             ],
             [
              1,
              "#f0f921"
             ]
            ],
            "type": "histogram2dcontour"
           }
          ],
          "mesh3d": [
           {
            "colorbar": {
             "outlinewidth": 0,
             "ticks": ""
            },
            "type": "mesh3d"
           }
          ],
          "parcoords": [
           {
            "line": {
             "colorbar": {
              "outlinewidth": 0,
              "ticks": ""
             }
            },
            "type": "parcoords"
           }
          ],
          "pie": [
           {
            "automargin": true,
            "type": "pie"
           }
          ],
          "scatter": [
           {
            "marker": {
             "line": {
              "color": "#283442"
             }
            },
            "type": "scatter"
           }
          ],
          "scatter3d": [
           {
            "line": {
             "colorbar": {
              "outlinewidth": 0,
              "ticks": ""
             }
            },
            "marker": {
             "colorbar": {
              "outlinewidth": 0,
              "ticks": ""
             }
            },
            "type": "scatter3d"
           }
          ],
          "scattercarpet": [
           {
            "marker": {
             "colorbar": {
              "outlinewidth": 0,
              "ticks": ""
             }
            },
            "type": "scattercarpet"
           }
          ],
          "scattergeo": [
           {
            "marker": {
             "colorbar": {
              "outlinewidth": 0,
              "ticks": ""
             }
            },
            "type": "scattergeo"
           }
          ],
          "scattergl": [
           {
            "marker": {
             "line": {
              "color": "#283442"
             }
            },
            "type": "scattergl"
           }
          ],
          "scattermapbox": [
           {
            "marker": {
             "colorbar": {
              "outlinewidth": 0,
              "ticks": ""
             }
            },
            "type": "scattermapbox"
           }
          ],
          "scatterpolar": [
           {
            "marker": {
             "colorbar": {
              "outlinewidth": 0,
              "ticks": ""
             }
            },
            "type": "scatterpolar"
           }
          ],
          "scatterpolargl": [
           {
            "marker": {
             "colorbar": {
              "outlinewidth": 0,
              "ticks": ""
             }
            },
            "type": "scatterpolargl"
           }
          ],
          "scatterternary": [
           {
            "marker": {
             "colorbar": {
              "outlinewidth": 0,
              "ticks": ""
             }
            },
            "type": "scatterternary"
           }
          ],
          "surface": [
           {
            "colorbar": {
             "outlinewidth": 0,
             "ticks": ""
            },
            "colorscale": [
             [
              0,
              "#0d0887"
             ],
             [
              0.1111111111111111,
              "#46039f"
             ],
             [
              0.2222222222222222,
              "#7201a8"
             ],
             [
              0.3333333333333333,
              "#9c179e"
             ],
             [
              0.4444444444444444,
              "#bd3786"
             ],
             [
              0.5555555555555556,
              "#d8576b"
             ],
             [
              0.6666666666666666,
              "#ed7953"
             ],
             [
              0.7777777777777778,
              "#fb9f3a"
             ],
             [
              0.8888888888888888,
              "#fdca26"
             ],
             [
              1,
              "#f0f921"
             ]
            ],
            "type": "surface"
           }
          ],
          "table": [
           {
            "cells": {
             "fill": {
              "color": "#506784"
             },
             "line": {
              "color": "rgb(17,17,17)"
             }
            },
            "header": {
             "fill": {
              "color": "#2a3f5f"
             },
             "line": {
              "color": "rgb(17,17,17)"
             }
            },
            "type": "table"
           }
          ]
         },
         "layout": {
          "annotationdefaults": {
           "arrowcolor": "#f2f5fa",
           "arrowhead": 0,
           "arrowwidth": 1
          },
          "autotypenumbers": "strict",
          "coloraxis": {
           "colorbar": {
            "outlinewidth": 0,
            "ticks": ""
           }
          },
          "colorscale": {
           "diverging": [
            [
             0,
             "#8e0152"
            ],
            [
             0.1,
             "#c51b7d"
            ],
            [
             0.2,
             "#de77ae"
            ],
            [
             0.3,
             "#f1b6da"
            ],
            [
             0.4,
             "#fde0ef"
            ],
            [
             0.5,
             "#f7f7f7"
            ],
            [
             0.6,
             "#e6f5d0"
            ],
            [
             0.7,
             "#b8e186"
            ],
            [
             0.8,
             "#7fbc41"
            ],
            [
             0.9,
             "#4d9221"
            ],
            [
             1,
             "#276419"
            ]
           ],
           "sequential": [
            [
             0,
             "#0d0887"
            ],
            [
             0.1111111111111111,
             "#46039f"
            ],
            [
             0.2222222222222222,
             "#7201a8"
            ],
            [
             0.3333333333333333,
             "#9c179e"
            ],
            [
             0.4444444444444444,
             "#bd3786"
            ],
            [
             0.5555555555555556,
             "#d8576b"
            ],
            [
             0.6666666666666666,
             "#ed7953"
            ],
            [
             0.7777777777777778,
             "#fb9f3a"
            ],
            [
             0.8888888888888888,
             "#fdca26"
            ],
            [
             1,
             "#f0f921"
            ]
           ],
           "sequentialminus": [
            [
             0,
             "#0d0887"
            ],
            [
             0.1111111111111111,
             "#46039f"
            ],
            [
             0.2222222222222222,
             "#7201a8"
            ],
            [
             0.3333333333333333,
             "#9c179e"
            ],
            [
             0.4444444444444444,
             "#bd3786"
            ],
            [
             0.5555555555555556,
             "#d8576b"
            ],
            [
             0.6666666666666666,
             "#ed7953"
            ],
            [
             0.7777777777777778,
             "#fb9f3a"
            ],
            [
             0.8888888888888888,
             "#fdca26"
            ],
            [
             1,
             "#f0f921"
            ]
           ]
          },
          "colorway": [
           "#636efa",
           "#EF553B",
           "#00cc96",
           "#ab63fa",
           "#FFA15A",
           "#19d3f3",
           "#FF6692",
           "#B6E880",
           "#FF97FF",
           "#FECB52"
          ],
          "font": {
           "color": "#f2f5fa"
          },
          "geo": {
           "bgcolor": "rgb(17,17,17)",
           "lakecolor": "rgb(17,17,17)",
           "landcolor": "rgb(17,17,17)",
           "showlakes": true,
           "showland": true,
           "subunitcolor": "#506784"
          },
          "hoverlabel": {
           "align": "left"
          },
          "hovermode": "closest",
          "mapbox": {
           "style": "dark"
          },
          "paper_bgcolor": "rgb(17,17,17)",
          "plot_bgcolor": "rgb(17,17,17)",
          "polar": {
           "angularaxis": {
            "gridcolor": "#506784",
            "linecolor": "#506784",
            "ticks": ""
           },
           "bgcolor": "rgb(17,17,17)",
           "radialaxis": {
            "gridcolor": "#506784",
            "linecolor": "#506784",
            "ticks": ""
           }
          },
          "scene": {
           "xaxis": {
            "backgroundcolor": "rgb(17,17,17)",
            "gridcolor": "#506784",
            "gridwidth": 2,
            "linecolor": "#506784",
            "showbackground": true,
            "ticks": "",
            "zerolinecolor": "#C8D4E3"
           },
           "yaxis": {
            "backgroundcolor": "rgb(17,17,17)",
            "gridcolor": "#506784",
            "gridwidth": 2,
            "linecolor": "#506784",
            "showbackground": true,
            "ticks": "",
            "zerolinecolor": "#C8D4E3"
           },
           "zaxis": {
            "backgroundcolor": "rgb(17,17,17)",
            "gridcolor": "#506784",
            "gridwidth": 2,
            "linecolor": "#506784",
            "showbackground": true,
            "ticks": "",
            "zerolinecolor": "#C8D4E3"
           }
          },
          "shapedefaults": {
           "line": {
            "color": "#f2f5fa"
           }
          },
          "sliderdefaults": {
           "bgcolor": "#C8D4E3",
           "bordercolor": "rgb(17,17,17)",
           "borderwidth": 1,
           "tickwidth": 0
          },
          "ternary": {
           "aaxis": {
            "gridcolor": "#506784",
            "linecolor": "#506784",
            "ticks": ""
           },
           "baxis": {
            "gridcolor": "#506784",
            "linecolor": "#506784",
            "ticks": ""
           },
           "bgcolor": "rgb(17,17,17)",
           "caxis": {
            "gridcolor": "#506784",
            "linecolor": "#506784",
            "ticks": ""
           }
          },
          "title": {
           "x": 0.05
          },
          "updatemenudefaults": {
           "bgcolor": "#506784",
           "borderwidth": 0
          },
          "xaxis": {
           "automargin": true,
           "gridcolor": "#283442",
           "linecolor": "#506784",
           "ticks": "",
           "title": {
            "standoff": 15
           },
           "zerolinecolor": "#283442",
           "zerolinewidth": 2
          },
          "yaxis": {
           "automargin": true,
           "gridcolor": "#283442",
           "linecolor": "#506784",
           "ticks": "",
           "title": {
            "standoff": 15
           },
           "zerolinecolor": "#283442",
           "zerolinewidth": 2
          }
         }
        },
        "title": {
         "font": {
          "size": 20
         },
         "text": "Top 10 Customers by Total Spending"
        },
        "width": 900,
        "xaxis": {
         "anchor": "y",
         "domain": [
          0,
          1
         ],
         "tickangle": -45,
         "title": {
          "text": "Customer Number"
         }
        },
        "yaxis": {
         "anchor": "x",
         "domain": [
          0,
          1
         ],
         "title": {
          "text": "Total Spending"
         }
        }
       }
      }
     },
     "metadata": {},
     "output_type": "display_data"
    }
   ],
   "source": [
    "# Calculate total spending per customer\n",
    "customer_spending = transactions.groupby('CustomerNo')['totalsales'].sum().reset_index()\n",
    "customer_spending.rename(columns={'totalsales': 'TotalSpending'}, inplace=True)\n",
    "\n",
    "# Get the top 10 customers by total spending\n",
    "top_customers_by_spending = customer_spending.sort_values(by='TotalSpending', ascending=False).head(10)\n",
    "\n",
    "# Convert CustomerNo to string for better labeling\n",
    "top_customers_by_spending['CustomerNo'] = top_customers_by_spending['CustomerNo'].astype(str)\n",
    "\n",
    "# Create a bar chart\n",
    "fig = px.bar(\n",
    "    top_customers_by_spending,\n",
    "    x='CustomerNo',\n",
    "    y='TotalSpending',\n",
    "    text='TotalSpending',  # Display spending values\n",
    "    title=\"Top 10 Customers by Total Spending\",\n",
    "    labels={'CustomerNo': 'Customer Number', 'TotalSpending': 'Total Spending'},\n",
    "    color='TotalSpending',  # Color based on total spending\n",
    "    template=\"plotly_dark\"  # Dark theme\n",
    ")\n",
    "\n",
    "# Update layout for better visualization\n",
    "fig.update_traces(texttemplate='%{text:.2s}', textposition='outside')\n",
    "fig.update_layout(\n",
    "    xaxis_title=\"Customer Number\",\n",
    "    yaxis_title=\"Total Spending\",\n",
    "    xaxis_tickangle=-45,\n",
    "    font=dict(size=14),\n",
    "    width=900,\n",
    "    height=600,\n",
    "    title_font=dict(size=20)\n",
    ")\n",
    "\n",
    "# Show the plot\n",
    "fig.show()\n"
   ]
  },
  {
   "cell_type": "markdown",
   "metadata": {},
   "source": [
    "Customer total spending indicates bulk purchases, reflecting customers who make fewer transactions but buy larger quantities in a single transaction."
   ]
  },
  {
   "cell_type": "markdown",
   "metadata": {},
   "source": [
    "#### Top 10 Products by Cancellation Count :"
   ]
  },
  {
   "cell_type": "code",
   "execution_count": 90,
   "metadata": {},
   "outputs": [
    {
     "data": {
      "application/vnd.plotly.v1+json": {
       "config": {
        "plotlyServerURL": "https://plot.ly"
       },
       "data": [
        {
         "alignmentgroup": "True",
         "hovertemplate": "Product Name=%{x}<br>Cancellation Count=%{text}<extra></extra>",
         "legendgroup": "",
         "marker": {
          "color": "#B22222",
          "pattern": {
           "shape": ""
          }
         },
         "name": "",
         "offsetgroup": "",
         "orientation": "v",
         "showlegend": false,
         "text": [
          168,
          80,
          71,
          57,
          51,
          46,
          45,
          41,
          41,
          40
         ],
         "textposition": "outside",
         "texttemplate": "%{text}",
         "type": "bar",
         "x": [
          "Regency Cakestand 3 Tier",
          "Jam Making Set With Jars",
          "Set Of 3 Cake Tins Pantry Design",
          "Strawberry Ceramic Trinket Pot",
          "Roses Regency Teacup And Saucer",
          "Recipe Box Pantry Yellow Design",
          "Popcorn Holder",
          "Wood 2 Drawer Cabinet White Finish",
          "Lunch Bag Red Retrospot",
          "Jumbo Bag Red Retrospot"
         ],
         "xaxis": "x",
         "y": [
          168,
          80,
          71,
          57,
          51,
          46,
          45,
          41,
          41,
          40
         ],
         "yaxis": "y"
        }
       ],
       "layout": {
        "barmode": "relative",
        "height": 600,
        "legend": {
         "tracegroupgap": 0
        },
        "paper_bgcolor": "black",
        "plot_bgcolor": "black",
        "template": {
         "data": {
          "bar": [
           {
            "error_x": {
             "color": "#f2f5fa"
            },
            "error_y": {
             "color": "#f2f5fa"
            },
            "marker": {
             "line": {
              "color": "rgb(17,17,17)",
              "width": 0.5
             },
             "pattern": {
              "fillmode": "overlay",
              "size": 10,
              "solidity": 0.2
             }
            },
            "type": "bar"
           }
          ],
          "barpolar": [
           {
            "marker": {
             "line": {
              "color": "rgb(17,17,17)",
              "width": 0.5
             },
             "pattern": {
              "fillmode": "overlay",
              "size": 10,
              "solidity": 0.2
             }
            },
            "type": "barpolar"
           }
          ],
          "carpet": [
           {
            "aaxis": {
             "endlinecolor": "#A2B1C6",
             "gridcolor": "#506784",
             "linecolor": "#506784",
             "minorgridcolor": "#506784",
             "startlinecolor": "#A2B1C6"
            },
            "baxis": {
             "endlinecolor": "#A2B1C6",
             "gridcolor": "#506784",
             "linecolor": "#506784",
             "minorgridcolor": "#506784",
             "startlinecolor": "#A2B1C6"
            },
            "type": "carpet"
           }
          ],
          "choropleth": [
           {
            "colorbar": {
             "outlinewidth": 0,
             "ticks": ""
            },
            "type": "choropleth"
           }
          ],
          "contour": [
           {
            "colorbar": {
             "outlinewidth": 0,
             "ticks": ""
            },
            "colorscale": [
             [
              0,
              "#0d0887"
             ],
             [
              0.1111111111111111,
              "#46039f"
             ],
             [
              0.2222222222222222,
              "#7201a8"
             ],
             [
              0.3333333333333333,
              "#9c179e"
             ],
             [
              0.4444444444444444,
              "#bd3786"
             ],
             [
              0.5555555555555556,
              "#d8576b"
             ],
             [
              0.6666666666666666,
              "#ed7953"
             ],
             [
              0.7777777777777778,
              "#fb9f3a"
             ],
             [
              0.8888888888888888,
              "#fdca26"
             ],
             [
              1,
              "#f0f921"
             ]
            ],
            "type": "contour"
           }
          ],
          "contourcarpet": [
           {
            "colorbar": {
             "outlinewidth": 0,
             "ticks": ""
            },
            "type": "contourcarpet"
           }
          ],
          "heatmap": [
           {
            "colorbar": {
             "outlinewidth": 0,
             "ticks": ""
            },
            "colorscale": [
             [
              0,
              "#0d0887"
             ],
             [
              0.1111111111111111,
              "#46039f"
             ],
             [
              0.2222222222222222,
              "#7201a8"
             ],
             [
              0.3333333333333333,
              "#9c179e"
             ],
             [
              0.4444444444444444,
              "#bd3786"
             ],
             [
              0.5555555555555556,
              "#d8576b"
             ],
             [
              0.6666666666666666,
              "#ed7953"
             ],
             [
              0.7777777777777778,
              "#fb9f3a"
             ],
             [
              0.8888888888888888,
              "#fdca26"
             ],
             [
              1,
              "#f0f921"
             ]
            ],
            "type": "heatmap"
           }
          ],
          "heatmapgl": [
           {
            "colorbar": {
             "outlinewidth": 0,
             "ticks": ""
            },
            "colorscale": [
             [
              0,
              "#0d0887"
             ],
             [
              0.1111111111111111,
              "#46039f"
             ],
             [
              0.2222222222222222,
              "#7201a8"
             ],
             [
              0.3333333333333333,
              "#9c179e"
             ],
             [
              0.4444444444444444,
              "#bd3786"
             ],
             [
              0.5555555555555556,
              "#d8576b"
             ],
             [
              0.6666666666666666,
              "#ed7953"
             ],
             [
              0.7777777777777778,
              "#fb9f3a"
             ],
             [
              0.8888888888888888,
              "#fdca26"
             ],
             [
              1,
              "#f0f921"
             ]
            ],
            "type": "heatmapgl"
           }
          ],
          "histogram": [
           {
            "marker": {
             "pattern": {
              "fillmode": "overlay",
              "size": 10,
              "solidity": 0.2
             }
            },
            "type": "histogram"
           }
          ],
          "histogram2d": [
           {
            "colorbar": {
             "outlinewidth": 0,
             "ticks": ""
            },
            "colorscale": [
             [
              0,
              "#0d0887"
             ],
             [
              0.1111111111111111,
              "#46039f"
             ],
             [
              0.2222222222222222,
              "#7201a8"
             ],
             [
              0.3333333333333333,
              "#9c179e"
             ],
             [
              0.4444444444444444,
              "#bd3786"
             ],
             [
              0.5555555555555556,
              "#d8576b"
             ],
             [
              0.6666666666666666,
              "#ed7953"
             ],
             [
              0.7777777777777778,
              "#fb9f3a"
             ],
             [
              0.8888888888888888,
              "#fdca26"
             ],
             [
              1,
              "#f0f921"
             ]
            ],
            "type": "histogram2d"
           }
          ],
          "histogram2dcontour": [
           {
            "colorbar": {
             "outlinewidth": 0,
             "ticks": ""
            },
            "colorscale": [
             [
              0,
              "#0d0887"
             ],
             [
              0.1111111111111111,
              "#46039f"
             ],
             [
              0.2222222222222222,
              "#7201a8"
             ],
             [
              0.3333333333333333,
              "#9c179e"
             ],
             [
              0.4444444444444444,
              "#bd3786"
             ],
             [
              0.5555555555555556,
              "#d8576b"
             ],
             [
              0.6666666666666666,
              "#ed7953"
             ],
             [
              0.7777777777777778,
              "#fb9f3a"
             ],
             [
              0.8888888888888888,
              "#fdca26"
             ],
             [
              1,
              "#f0f921"
             ]
            ],
            "type": "histogram2dcontour"
           }
          ],
          "mesh3d": [
           {
            "colorbar": {
             "outlinewidth": 0,
             "ticks": ""
            },
            "type": "mesh3d"
           }
          ],
          "parcoords": [
           {
            "line": {
             "colorbar": {
              "outlinewidth": 0,
              "ticks": ""
             }
            },
            "type": "parcoords"
           }
          ],
          "pie": [
           {
            "automargin": true,
            "type": "pie"
           }
          ],
          "scatter": [
           {
            "marker": {
             "line": {
              "color": "#283442"
             }
            },
            "type": "scatter"
           }
          ],
          "scatter3d": [
           {
            "line": {
             "colorbar": {
              "outlinewidth": 0,
              "ticks": ""
             }
            },
            "marker": {
             "colorbar": {
              "outlinewidth": 0,
              "ticks": ""
             }
            },
            "type": "scatter3d"
           }
          ],
          "scattercarpet": [
           {
            "marker": {
             "colorbar": {
              "outlinewidth": 0,
              "ticks": ""
             }
            },
            "type": "scattercarpet"
           }
          ],
          "scattergeo": [
           {
            "marker": {
             "colorbar": {
              "outlinewidth": 0,
              "ticks": ""
             }
            },
            "type": "scattergeo"
           }
          ],
          "scattergl": [
           {
            "marker": {
             "line": {
              "color": "#283442"
             }
            },
            "type": "scattergl"
           }
          ],
          "scattermapbox": [
           {
            "marker": {
             "colorbar": {
              "outlinewidth": 0,
              "ticks": ""
             }
            },
            "type": "scattermapbox"
           }
          ],
          "scatterpolar": [
           {
            "marker": {
             "colorbar": {
              "outlinewidth": 0,
              "ticks": ""
             }
            },
            "type": "scatterpolar"
           }
          ],
          "scatterpolargl": [
           {
            "marker": {
             "colorbar": {
              "outlinewidth": 0,
              "ticks": ""
             }
            },
            "type": "scatterpolargl"
           }
          ],
          "scatterternary": [
           {
            "marker": {
             "colorbar": {
              "outlinewidth": 0,
              "ticks": ""
             }
            },
            "type": "scatterternary"
           }
          ],
          "surface": [
           {
            "colorbar": {
             "outlinewidth": 0,
             "ticks": ""
            },
            "colorscale": [
             [
              0,
              "#0d0887"
             ],
             [
              0.1111111111111111,
              "#46039f"
             ],
             [
              0.2222222222222222,
              "#7201a8"
             ],
             [
              0.3333333333333333,
              "#9c179e"
             ],
             [
              0.4444444444444444,
              "#bd3786"
             ],
             [
              0.5555555555555556,
              "#d8576b"
             ],
             [
              0.6666666666666666,
              "#ed7953"
             ],
             [
              0.7777777777777778,
              "#fb9f3a"
             ],
             [
              0.8888888888888888,
              "#fdca26"
             ],
             [
              1,
              "#f0f921"
             ]
            ],
            "type": "surface"
           }
          ],
          "table": [
           {
            "cells": {
             "fill": {
              "color": "#506784"
             },
             "line": {
              "color": "rgb(17,17,17)"
             }
            },
            "header": {
             "fill": {
              "color": "#2a3f5f"
             },
             "line": {
              "color": "rgb(17,17,17)"
             }
            },
            "type": "table"
           }
          ]
         },
         "layout": {
          "annotationdefaults": {
           "arrowcolor": "#f2f5fa",
           "arrowhead": 0,
           "arrowwidth": 1
          },
          "autotypenumbers": "strict",
          "coloraxis": {
           "colorbar": {
            "outlinewidth": 0,
            "ticks": ""
           }
          },
          "colorscale": {
           "diverging": [
            [
             0,
             "#8e0152"
            ],
            [
             0.1,
             "#c51b7d"
            ],
            [
             0.2,
             "#de77ae"
            ],
            [
             0.3,
             "#f1b6da"
            ],
            [
             0.4,
             "#fde0ef"
            ],
            [
             0.5,
             "#f7f7f7"
            ],
            [
             0.6,
             "#e6f5d0"
            ],
            [
             0.7,
             "#b8e186"
            ],
            [
             0.8,
             "#7fbc41"
            ],
            [
             0.9,
             "#4d9221"
            ],
            [
             1,
             "#276419"
            ]
           ],
           "sequential": [
            [
             0,
             "#0d0887"
            ],
            [
             0.1111111111111111,
             "#46039f"
            ],
            [
             0.2222222222222222,
             "#7201a8"
            ],
            [
             0.3333333333333333,
             "#9c179e"
            ],
            [
             0.4444444444444444,
             "#bd3786"
            ],
            [
             0.5555555555555556,
             "#d8576b"
            ],
            [
             0.6666666666666666,
             "#ed7953"
            ],
            [
             0.7777777777777778,
             "#fb9f3a"
            ],
            [
             0.8888888888888888,
             "#fdca26"
            ],
            [
             1,
             "#f0f921"
            ]
           ],
           "sequentialminus": [
            [
             0,
             "#0d0887"
            ],
            [
             0.1111111111111111,
             "#46039f"
            ],
            [
             0.2222222222222222,
             "#7201a8"
            ],
            [
             0.3333333333333333,
             "#9c179e"
            ],
            [
             0.4444444444444444,
             "#bd3786"
            ],
            [
             0.5555555555555556,
             "#d8576b"
            ],
            [
             0.6666666666666666,
             "#ed7953"
            ],
            [
             0.7777777777777778,
             "#fb9f3a"
            ],
            [
             0.8888888888888888,
             "#fdca26"
            ],
            [
             1,
             "#f0f921"
            ]
           ]
          },
          "colorway": [
           "#636efa",
           "#EF553B",
           "#00cc96",
           "#ab63fa",
           "#FFA15A",
           "#19d3f3",
           "#FF6692",
           "#B6E880",
           "#FF97FF",
           "#FECB52"
          ],
          "font": {
           "color": "#f2f5fa"
          },
          "geo": {
           "bgcolor": "rgb(17,17,17)",
           "lakecolor": "rgb(17,17,17)",
           "landcolor": "rgb(17,17,17)",
           "showlakes": true,
           "showland": true,
           "subunitcolor": "#506784"
          },
          "hoverlabel": {
           "align": "left"
          },
          "hovermode": "closest",
          "mapbox": {
           "style": "dark"
          },
          "paper_bgcolor": "rgb(17,17,17)",
          "plot_bgcolor": "rgb(17,17,17)",
          "polar": {
           "angularaxis": {
            "gridcolor": "#506784",
            "linecolor": "#506784",
            "ticks": ""
           },
           "bgcolor": "rgb(17,17,17)",
           "radialaxis": {
            "gridcolor": "#506784",
            "linecolor": "#506784",
            "ticks": ""
           }
          },
          "scene": {
           "xaxis": {
            "backgroundcolor": "rgb(17,17,17)",
            "gridcolor": "#506784",
            "gridwidth": 2,
            "linecolor": "#506784",
            "showbackground": true,
            "ticks": "",
            "zerolinecolor": "#C8D4E3"
           },
           "yaxis": {
            "backgroundcolor": "rgb(17,17,17)",
            "gridcolor": "#506784",
            "gridwidth": 2,
            "linecolor": "#506784",
            "showbackground": true,
            "ticks": "",
            "zerolinecolor": "#C8D4E3"
           },
           "zaxis": {
            "backgroundcolor": "rgb(17,17,17)",
            "gridcolor": "#506784",
            "gridwidth": 2,
            "linecolor": "#506784",
            "showbackground": true,
            "ticks": "",
            "zerolinecolor": "#C8D4E3"
           }
          },
          "shapedefaults": {
           "line": {
            "color": "#f2f5fa"
           }
          },
          "sliderdefaults": {
           "bgcolor": "#C8D4E3",
           "bordercolor": "rgb(17,17,17)",
           "borderwidth": 1,
           "tickwidth": 0
          },
          "ternary": {
           "aaxis": {
            "gridcolor": "#506784",
            "linecolor": "#506784",
            "ticks": ""
           },
           "baxis": {
            "gridcolor": "#506784",
            "linecolor": "#506784",
            "ticks": ""
           },
           "bgcolor": "rgb(17,17,17)",
           "caxis": {
            "gridcolor": "#506784",
            "linecolor": "#506784",
            "ticks": ""
           }
          },
          "title": {
           "x": 0.05
          },
          "updatemenudefaults": {
           "bgcolor": "#506784",
           "borderwidth": 0
          },
          "xaxis": {
           "automargin": true,
           "gridcolor": "#283442",
           "linecolor": "#506784",
           "ticks": "",
           "title": {
            "standoff": 15
           },
           "zerolinecolor": "#283442",
           "zerolinewidth": 2
          },
          "yaxis": {
           "automargin": true,
           "gridcolor": "#283442",
           "linecolor": "#506784",
           "ticks": "",
           "title": {
            "standoff": 15
           },
           "zerolinecolor": "#283442",
           "zerolinewidth": 2
          }
         }
        },
        "title": {
         "font": {
          "size": 20
         },
         "text": "Top 10 Products by Cancellation Count"
        },
        "width": 900,
        "xaxis": {
         "anchor": "y",
         "domain": [
          0,
          1
         ],
         "tickangle": -45,
         "title": {
          "text": "Product Name"
         }
        },
        "yaxis": {
         "anchor": "x",
         "domain": [
          0,
          1
         ],
         "title": {
          "text": "Cancellation Count"
         }
        }
       }
      }
     },
     "metadata": {},
     "output_type": "display_data"
    }
   ],
   "source": [
    "# Group by ProductName to count cancellations\n",
    "cancellation_by_product = cancellations.groupby('ProductName').size().reset_index(name='CancellationCount')\n",
    "\n",
    "# Get the top 10 products with the highest cancellations\n",
    "top_products_by_cancellations = cancellation_by_product.sort_values(by='CancellationCount', ascending=False).head(10)\n",
    "\n",
    "# Create a bar chart with a red color theme\n",
    "fig = px.bar(\n",
    "    top_products_by_cancellations,\n",
    "    x='ProductName',\n",
    "    y='CancellationCount',\n",
    "    text='CancellationCount',  # Display cancellation values\n",
    "    title=\"Top 10 Products by Cancellation Count\",\n",
    "    labels={'ProductName': 'Product Name', 'CancellationCount': 'Cancellation Count'},\n",
    "    color_discrete_sequence=['#B22222'],  # Deep red color for cancellations\n",
    "    template=\"plotly_dark\"  # Dark theme for contrast\n",
    ")\n",
    "\n",
    "# Update layout for better visualization\n",
    "fig.update_traces(\n",
    "    texttemplate='%{text}', \n",
    "    textposition='outside'\n",
    ")\n",
    "\n",
    "fig.update_layout(\n",
    "    xaxis_title=\"Product Name\",\n",
    "    yaxis_title=\"Cancellation Count\",\n",
    "    xaxis_tickangle=-45,\n",
    "    width=900,\n",
    "    height=600,\n",
    "    title_font=dict(size=20),\n",
    "    plot_bgcolor='black',  # Ensure dark background\n",
    "    paper_bgcolor='black'\n",
    ")\n",
    "\n",
    "# Show the plot\n",
    "fig.show()\n"
   ]
  },
  {
   "cell_type": "markdown",
   "metadata": {},
   "source": [
    "The top  products are highly in demand due to their popularity, leading to stock shortages."
   ]
  },
  {
   "cell_type": "markdown",
   "metadata": {},
   "source": [
    "#### Top 10 Product stock to be stored in warehouse"
   ]
  },
  {
   "cell_type": "code",
   "execution_count": 91,
   "metadata": {},
   "outputs": [
    {
     "data": {
      "application/vnd.plotly.v1+json": {
       "config": {
        "plotlyServerURL": "https://plot.ly"
       },
       "data": [
        {
         "hovertemplate": "Product Name=Jam Making Set With Jars<br>Month=%{x}<br>Cancellation Count=%{y}<extra></extra>",
         "legendgroup": "Jam Making Set With Jars",
         "line": {
          "color": "#2E91E5",
          "dash": "solid",
          "shape": "spline",
          "width": 3
         },
         "marker": {
          "symbol": "circle"
         },
         "mode": "lines+markers",
         "name": "Jam Making Set With Jars",
         "orientation": "v",
         "showlegend": true,
         "type": "scatter",
         "x": [
          1,
          2,
          3,
          4,
          5,
          6,
          7,
          8,
          9,
          10,
          11,
          12
         ],
         "xaxis": "x",
         "y": [
          11,
          5,
          5,
          11,
          7,
          4,
          3,
          5,
          6,
          12,
          9,
          2
         ],
         "yaxis": "y"
        },
        {
         "hovertemplate": "Product Name=Jumbo Bag Red Retrospot<br>Month=%{x}<br>Cancellation Count=%{y}<extra></extra>",
         "legendgroup": "Jumbo Bag Red Retrospot",
         "line": {
          "color": "#E15F99",
          "dash": "solid",
          "shape": "spline",
          "width": 3
         },
         "marker": {
          "symbol": "circle"
         },
         "mode": "lines+markers",
         "name": "Jumbo Bag Red Retrospot",
         "orientation": "v",
         "showlegend": true,
         "type": "scatter",
         "x": [
          1,
          2,
          3,
          4,
          5,
          6,
          7,
          8,
          9,
          10,
          11,
          12
         ],
         "xaxis": "x",
         "y": [
          3,
          2,
          1,
          1,
          4,
          2,
          2,
          2,
          7,
          9,
          3,
          4
         ],
         "yaxis": "y"
        },
        {
         "hovertemplate": "Product Name=Lunch Bag Red Retrospot<br>Month=%{x}<br>Cancellation Count=%{y}<extra></extra>",
         "legendgroup": "Lunch Bag Red Retrospot",
         "line": {
          "color": "#1CA71C",
          "dash": "solid",
          "shape": "spline",
          "width": 3
         },
         "marker": {
          "symbol": "circle"
         },
         "mode": "lines+markers",
         "name": "Lunch Bag Red Retrospot",
         "orientation": "v",
         "showlegend": true,
         "type": "scatter",
         "x": [
          1,
          2,
          3,
          4,
          5,
          6,
          7,
          8,
          9,
          10,
          11
         ],
         "xaxis": "x",
         "y": [
          6,
          1,
          3,
          1,
          2,
          1,
          8,
          2,
          10,
          6,
          1
         ],
         "yaxis": "y"
        },
        {
         "hovertemplate": "Product Name=Popcorn Holder<br>Month=%{x}<br>Cancellation Count=%{y}<extra></extra>",
         "legendgroup": "Popcorn Holder",
         "line": {
          "color": "#FB0D0D",
          "dash": "solid",
          "shape": "spline",
          "width": 3
         },
         "marker": {
          "symbol": "circle"
         },
         "mode": "lines+markers",
         "name": "Popcorn Holder",
         "orientation": "v",
         "showlegend": true,
         "type": "scatter",
         "x": [
          1,
          2,
          3,
          4,
          5,
          6,
          7,
          8,
          9,
          10,
          11,
          12
         ],
         "xaxis": "x",
         "y": [
          3,
          2,
          1,
          2,
          1,
          1,
          4,
          3,
          7,
          5,
          12,
          4
         ],
         "yaxis": "y"
        },
        {
         "hovertemplate": "Product Name=Recipe Box Pantry Yellow Design<br>Month=%{x}<br>Cancellation Count=%{y}<extra></extra>",
         "legendgroup": "Recipe Box Pantry Yellow Design",
         "line": {
          "color": "#DA16FF",
          "dash": "solid",
          "shape": "spline",
          "width": 3
         },
         "marker": {
          "symbol": "circle"
         },
         "mode": "lines+markers",
         "name": "Recipe Box Pantry Yellow Design",
         "orientation": "v",
         "showlegend": true,
         "type": "scatter",
         "x": [
          1,
          3,
          4,
          5,
          7,
          8,
          9,
          10,
          11,
          12
         ],
         "xaxis": "x",
         "y": [
          6,
          4,
          4,
          4,
          4,
          2,
          4,
          8,
          7,
          3
         ],
         "yaxis": "y"
        },
        {
         "hovertemplate": "Product Name=Regency Cakestand 3 Tier<br>Month=%{x}<br>Cancellation Count=%{y}<extra></extra>",
         "legendgroup": "Regency Cakestand 3 Tier",
         "line": {
          "color": "#222A2A",
          "dash": "solid",
          "shape": "spline",
          "width": 3
         },
         "marker": {
          "symbol": "circle"
         },
         "mode": "lines+markers",
         "name": "Regency Cakestand 3 Tier",
         "orientation": "v",
         "showlegend": true,
         "type": "scatter",
         "x": [
          1,
          2,
          3,
          4,
          5,
          6,
          7,
          8,
          9,
          10,
          11,
          12
         ],
         "xaxis": "x",
         "y": [
          23,
          19,
          30,
          16,
          11,
          11,
          10,
          10,
          12,
          8,
          14,
          4
         ],
         "yaxis": "y"
        },
        {
         "hovertemplate": "Product Name=Roses Regency Teacup And Saucer<br>Month=%{x}<br>Cancellation Count=%{y}<extra></extra>",
         "legendgroup": "Roses Regency Teacup And Saucer",
         "line": {
          "color": "#B68100",
          "dash": "solid",
          "shape": "spline",
          "width": 3
         },
         "marker": {
          "symbol": "circle"
         },
         "mode": "lines+markers",
         "name": "Roses Regency Teacup And Saucer",
         "orientation": "v",
         "showlegend": true,
         "type": "scatter",
         "x": [
          1,
          2,
          3,
          4,
          5,
          6,
          7,
          8,
          9,
          10,
          11,
          12
         ],
         "xaxis": "x",
         "y": [
          5,
          2,
          3,
          2,
          1,
          11,
          4,
          8,
          8,
          2,
          4,
          1
         ],
         "yaxis": "y"
        },
        {
         "hovertemplate": "Product Name=Set Of 3 Cake Tins Pantry Design<br>Month=%{x}<br>Cancellation Count=%{y}<extra></extra>",
         "legendgroup": "Set Of 3 Cake Tins Pantry Design",
         "line": {
          "color": "#750D86",
          "dash": "solid",
          "shape": "spline",
          "width": 3
         },
         "marker": {
          "symbol": "circle"
         },
         "mode": "lines+markers",
         "name": "Set Of 3 Cake Tins Pantry Design",
         "orientation": "v",
         "showlegend": true,
         "type": "scatter",
         "x": [
          1,
          2,
          3,
          5,
          6,
          7,
          8,
          9,
          10,
          11,
          12
         ],
         "xaxis": "x",
         "y": [
          4,
          2,
          13,
          1,
          7,
          6,
          4,
          6,
          10,
          13,
          5
         ],
         "yaxis": "y"
        },
        {
         "hovertemplate": "Product Name=Strawberry Ceramic Trinket Pot<br>Month=%{x}<br>Cancellation Count=%{y}<extra></extra>",
         "legendgroup": "Strawberry Ceramic Trinket Pot",
         "line": {
          "color": "#EB663B",
          "dash": "solid",
          "shape": "spline",
          "width": 3
         },
         "marker": {
          "symbol": "circle"
         },
         "mode": "lines+markers",
         "name": "Strawberry Ceramic Trinket Pot",
         "orientation": "v",
         "showlegend": true,
         "type": "scatter",
         "x": [
          1,
          2,
          3,
          4,
          5,
          6,
          7,
          8,
          9,
          10,
          11,
          12
         ],
         "xaxis": "x",
         "y": [
          6,
          6,
          5,
          4,
          7,
          2,
          2,
          7,
          5,
          8,
          2,
          3
         ],
         "yaxis": "y"
        },
        {
         "hovertemplate": "Product Name=Wood 2 Drawer Cabinet White Finish<br>Month=%{x}<br>Cancellation Count=%{y}<extra></extra>",
         "legendgroup": "Wood 2 Drawer Cabinet White Finish",
         "line": {
          "color": "#511CFB",
          "dash": "solid",
          "shape": "spline",
          "width": 3
         },
         "marker": {
          "symbol": "circle"
         },
         "mode": "lines+markers",
         "name": "Wood 2 Drawer Cabinet White Finish",
         "orientation": "v",
         "showlegend": true,
         "type": "scatter",
         "x": [
          1,
          2,
          3,
          4,
          5,
          6,
          7,
          8,
          9,
          10,
          11,
          12
         ],
         "xaxis": "x",
         "y": [
          2,
          7,
          6,
          7,
          2,
          4,
          1,
          1,
          3,
          5,
          2,
          1
         ],
         "yaxis": "y"
        }
       ],
       "layout": {
        "height": 600,
        "legend": {
         "title": {
          "text": "Product Name"
         },
         "tracegroupgap": 0
        },
        "template": {
         "data": {
          "bar": [
           {
            "error_x": {
             "color": "#f2f5fa"
            },
            "error_y": {
             "color": "#f2f5fa"
            },
            "marker": {
             "line": {
              "color": "rgb(17,17,17)",
              "width": 0.5
             },
             "pattern": {
              "fillmode": "overlay",
              "size": 10,
              "solidity": 0.2
             }
            },
            "type": "bar"
           }
          ],
          "barpolar": [
           {
            "marker": {
             "line": {
              "color": "rgb(17,17,17)",
              "width": 0.5
             },
             "pattern": {
              "fillmode": "overlay",
              "size": 10,
              "solidity": 0.2
             }
            },
            "type": "barpolar"
           }
          ],
          "carpet": [
           {
            "aaxis": {
             "endlinecolor": "#A2B1C6",
             "gridcolor": "#506784",
             "linecolor": "#506784",
             "minorgridcolor": "#506784",
             "startlinecolor": "#A2B1C6"
            },
            "baxis": {
             "endlinecolor": "#A2B1C6",
             "gridcolor": "#506784",
             "linecolor": "#506784",
             "minorgridcolor": "#506784",
             "startlinecolor": "#A2B1C6"
            },
            "type": "carpet"
           }
          ],
          "choropleth": [
           {
            "colorbar": {
             "outlinewidth": 0,
             "ticks": ""
            },
            "type": "choropleth"
           }
          ],
          "contour": [
           {
            "colorbar": {
             "outlinewidth": 0,
             "ticks": ""
            },
            "colorscale": [
             [
              0,
              "#0d0887"
             ],
             [
              0.1111111111111111,
              "#46039f"
             ],
             [
              0.2222222222222222,
              "#7201a8"
             ],
             [
              0.3333333333333333,
              "#9c179e"
             ],
             [
              0.4444444444444444,
              "#bd3786"
             ],
             [
              0.5555555555555556,
              "#d8576b"
             ],
             [
              0.6666666666666666,
              "#ed7953"
             ],
             [
              0.7777777777777778,
              "#fb9f3a"
             ],
             [
              0.8888888888888888,
              "#fdca26"
             ],
             [
              1,
              "#f0f921"
             ]
            ],
            "type": "contour"
           }
          ],
          "contourcarpet": [
           {
            "colorbar": {
             "outlinewidth": 0,
             "ticks": ""
            },
            "type": "contourcarpet"
           }
          ],
          "heatmap": [
           {
            "colorbar": {
             "outlinewidth": 0,
             "ticks": ""
            },
            "colorscale": [
             [
              0,
              "#0d0887"
             ],
             [
              0.1111111111111111,
              "#46039f"
             ],
             [
              0.2222222222222222,
              "#7201a8"
             ],
             [
              0.3333333333333333,
              "#9c179e"
             ],
             [
              0.4444444444444444,
              "#bd3786"
             ],
             [
              0.5555555555555556,
              "#d8576b"
             ],
             [
              0.6666666666666666,
              "#ed7953"
             ],
             [
              0.7777777777777778,
              "#fb9f3a"
             ],
             [
              0.8888888888888888,
              "#fdca26"
             ],
             [
              1,
              "#f0f921"
             ]
            ],
            "type": "heatmap"
           }
          ],
          "heatmapgl": [
           {
            "colorbar": {
             "outlinewidth": 0,
             "ticks": ""
            },
            "colorscale": [
             [
              0,
              "#0d0887"
             ],
             [
              0.1111111111111111,
              "#46039f"
             ],
             [
              0.2222222222222222,
              "#7201a8"
             ],
             [
              0.3333333333333333,
              "#9c179e"
             ],
             [
              0.4444444444444444,
              "#bd3786"
             ],
             [
              0.5555555555555556,
              "#d8576b"
             ],
             [
              0.6666666666666666,
              "#ed7953"
             ],
             [
              0.7777777777777778,
              "#fb9f3a"
             ],
             [
              0.8888888888888888,
              "#fdca26"
             ],
             [
              1,
              "#f0f921"
             ]
            ],
            "type": "heatmapgl"
           }
          ],
          "histogram": [
           {
            "marker": {
             "pattern": {
              "fillmode": "overlay",
              "size": 10,
              "solidity": 0.2
             }
            },
            "type": "histogram"
           }
          ],
          "histogram2d": [
           {
            "colorbar": {
             "outlinewidth": 0,
             "ticks": ""
            },
            "colorscale": [
             [
              0,
              "#0d0887"
             ],
             [
              0.1111111111111111,
              "#46039f"
             ],
             [
              0.2222222222222222,
              "#7201a8"
             ],
             [
              0.3333333333333333,
              "#9c179e"
             ],
             [
              0.4444444444444444,
              "#bd3786"
             ],
             [
              0.5555555555555556,
              "#d8576b"
             ],
             [
              0.6666666666666666,
              "#ed7953"
             ],
             [
              0.7777777777777778,
              "#fb9f3a"
             ],
             [
              0.8888888888888888,
              "#fdca26"
             ],
             [
              1,
              "#f0f921"
             ]
            ],
            "type": "histogram2d"
           }
          ],
          "histogram2dcontour": [
           {
            "colorbar": {
             "outlinewidth": 0,
             "ticks": ""
            },
            "colorscale": [
             [
              0,
              "#0d0887"
             ],
             [
              0.1111111111111111,
              "#46039f"
             ],
             [
              0.2222222222222222,
              "#7201a8"
             ],
             [
              0.3333333333333333,
              "#9c179e"
             ],
             [
              0.4444444444444444,
              "#bd3786"
             ],
             [
              0.5555555555555556,
              "#d8576b"
             ],
             [
              0.6666666666666666,
              "#ed7953"
             ],
             [
              0.7777777777777778,
              "#fb9f3a"
             ],
             [
              0.8888888888888888,
              "#fdca26"
             ],
             [
              1,
              "#f0f921"
             ]
            ],
            "type": "histogram2dcontour"
           }
          ],
          "mesh3d": [
           {
            "colorbar": {
             "outlinewidth": 0,
             "ticks": ""
            },
            "type": "mesh3d"
           }
          ],
          "parcoords": [
           {
            "line": {
             "colorbar": {
              "outlinewidth": 0,
              "ticks": ""
             }
            },
            "type": "parcoords"
           }
          ],
          "pie": [
           {
            "automargin": true,
            "type": "pie"
           }
          ],
          "scatter": [
           {
            "marker": {
             "line": {
              "color": "#283442"
             }
            },
            "type": "scatter"
           }
          ],
          "scatter3d": [
           {
            "line": {
             "colorbar": {
              "outlinewidth": 0,
              "ticks": ""
             }
            },
            "marker": {
             "colorbar": {
              "outlinewidth": 0,
              "ticks": ""
             }
            },
            "type": "scatter3d"
           }
          ],
          "scattercarpet": [
           {
            "marker": {
             "colorbar": {
              "outlinewidth": 0,
              "ticks": ""
             }
            },
            "type": "scattercarpet"
           }
          ],
          "scattergeo": [
           {
            "marker": {
             "colorbar": {
              "outlinewidth": 0,
              "ticks": ""
             }
            },
            "type": "scattergeo"
           }
          ],
          "scattergl": [
           {
            "marker": {
             "line": {
              "color": "#283442"
             }
            },
            "type": "scattergl"
           }
          ],
          "scattermapbox": [
           {
            "marker": {
             "colorbar": {
              "outlinewidth": 0,
              "ticks": ""
             }
            },
            "type": "scattermapbox"
           }
          ],
          "scatterpolar": [
           {
            "marker": {
             "colorbar": {
              "outlinewidth": 0,
              "ticks": ""
             }
            },
            "type": "scatterpolar"
           }
          ],
          "scatterpolargl": [
           {
            "marker": {
             "colorbar": {
              "outlinewidth": 0,
              "ticks": ""
             }
            },
            "type": "scatterpolargl"
           }
          ],
          "scatterternary": [
           {
            "marker": {
             "colorbar": {
              "outlinewidth": 0,
              "ticks": ""
             }
            },
            "type": "scatterternary"
           }
          ],
          "surface": [
           {
            "colorbar": {
             "outlinewidth": 0,
             "ticks": ""
            },
            "colorscale": [
             [
              0,
              "#0d0887"
             ],
             [
              0.1111111111111111,
              "#46039f"
             ],
             [
              0.2222222222222222,
              "#7201a8"
             ],
             [
              0.3333333333333333,
              "#9c179e"
             ],
             [
              0.4444444444444444,
              "#bd3786"
             ],
             [
              0.5555555555555556,
              "#d8576b"
             ],
             [
              0.6666666666666666,
              "#ed7953"
             ],
             [
              0.7777777777777778,
              "#fb9f3a"
             ],
             [
              0.8888888888888888,
              "#fdca26"
             ],
             [
              1,
              "#f0f921"
             ]
            ],
            "type": "surface"
           }
          ],
          "table": [
           {
            "cells": {
             "fill": {
              "color": "#506784"
             },
             "line": {
              "color": "rgb(17,17,17)"
             }
            },
            "header": {
             "fill": {
              "color": "#2a3f5f"
             },
             "line": {
              "color": "rgb(17,17,17)"
             }
            },
            "type": "table"
           }
          ]
         },
         "layout": {
          "annotationdefaults": {
           "arrowcolor": "#f2f5fa",
           "arrowhead": 0,
           "arrowwidth": 1
          },
          "autotypenumbers": "strict",
          "coloraxis": {
           "colorbar": {
            "outlinewidth": 0,
            "ticks": ""
           }
          },
          "colorscale": {
           "diverging": [
            [
             0,
             "#8e0152"
            ],
            [
             0.1,
             "#c51b7d"
            ],
            [
             0.2,
             "#de77ae"
            ],
            [
             0.3,
             "#f1b6da"
            ],
            [
             0.4,
             "#fde0ef"
            ],
            [
             0.5,
             "#f7f7f7"
            ],
            [
             0.6,
             "#e6f5d0"
            ],
            [
             0.7,
             "#b8e186"
            ],
            [
             0.8,
             "#7fbc41"
            ],
            [
             0.9,
             "#4d9221"
            ],
            [
             1,
             "#276419"
            ]
           ],
           "sequential": [
            [
             0,
             "#0d0887"
            ],
            [
             0.1111111111111111,
             "#46039f"
            ],
            [
             0.2222222222222222,
             "#7201a8"
            ],
            [
             0.3333333333333333,
             "#9c179e"
            ],
            [
             0.4444444444444444,
             "#bd3786"
            ],
            [
             0.5555555555555556,
             "#d8576b"
            ],
            [
             0.6666666666666666,
             "#ed7953"
            ],
            [
             0.7777777777777778,
             "#fb9f3a"
            ],
            [
             0.8888888888888888,
             "#fdca26"
            ],
            [
             1,
             "#f0f921"
            ]
           ],
           "sequentialminus": [
            [
             0,
             "#0d0887"
            ],
            [
             0.1111111111111111,
             "#46039f"
            ],
            [
             0.2222222222222222,
             "#7201a8"
            ],
            [
             0.3333333333333333,
             "#9c179e"
            ],
            [
             0.4444444444444444,
             "#bd3786"
            ],
            [
             0.5555555555555556,
             "#d8576b"
            ],
            [
             0.6666666666666666,
             "#ed7953"
            ],
            [
             0.7777777777777778,
             "#fb9f3a"
            ],
            [
             0.8888888888888888,
             "#fdca26"
            ],
            [
             1,
             "#f0f921"
            ]
           ]
          },
          "colorway": [
           "#636efa",
           "#EF553B",
           "#00cc96",
           "#ab63fa",
           "#FFA15A",
           "#19d3f3",
           "#FF6692",
           "#B6E880",
           "#FF97FF",
           "#FECB52"
          ],
          "font": {
           "color": "#f2f5fa"
          },
          "geo": {
           "bgcolor": "rgb(17,17,17)",
           "lakecolor": "rgb(17,17,17)",
           "landcolor": "rgb(17,17,17)",
           "showlakes": true,
           "showland": true,
           "subunitcolor": "#506784"
          },
          "hoverlabel": {
           "align": "left"
          },
          "hovermode": "closest",
          "mapbox": {
           "style": "dark"
          },
          "paper_bgcolor": "rgb(17,17,17)",
          "plot_bgcolor": "rgb(17,17,17)",
          "polar": {
           "angularaxis": {
            "gridcolor": "#506784",
            "linecolor": "#506784",
            "ticks": ""
           },
           "bgcolor": "rgb(17,17,17)",
           "radialaxis": {
            "gridcolor": "#506784",
            "linecolor": "#506784",
            "ticks": ""
           }
          },
          "scene": {
           "xaxis": {
            "backgroundcolor": "rgb(17,17,17)",
            "gridcolor": "#506784",
            "gridwidth": 2,
            "linecolor": "#506784",
            "showbackground": true,
            "ticks": "",
            "zerolinecolor": "#C8D4E3"
           },
           "yaxis": {
            "backgroundcolor": "rgb(17,17,17)",
            "gridcolor": "#506784",
            "gridwidth": 2,
            "linecolor": "#506784",
            "showbackground": true,
            "ticks": "",
            "zerolinecolor": "#C8D4E3"
           },
           "zaxis": {
            "backgroundcolor": "rgb(17,17,17)",
            "gridcolor": "#506784",
            "gridwidth": 2,
            "linecolor": "#506784",
            "showbackground": true,
            "ticks": "",
            "zerolinecolor": "#C8D4E3"
           }
          },
          "shapedefaults": {
           "line": {
            "color": "#f2f5fa"
           }
          },
          "sliderdefaults": {
           "bgcolor": "#C8D4E3",
           "bordercolor": "rgb(17,17,17)",
           "borderwidth": 1,
           "tickwidth": 0
          },
          "ternary": {
           "aaxis": {
            "gridcolor": "#506784",
            "linecolor": "#506784",
            "ticks": ""
           },
           "baxis": {
            "gridcolor": "#506784",
            "linecolor": "#506784",
            "ticks": ""
           },
           "bgcolor": "rgb(17,17,17)",
           "caxis": {
            "gridcolor": "#506784",
            "linecolor": "#506784",
            "ticks": ""
           }
          },
          "title": {
           "x": 0.05
          },
          "updatemenudefaults": {
           "bgcolor": "#506784",
           "borderwidth": 0
          },
          "xaxis": {
           "automargin": true,
           "gridcolor": "#283442",
           "linecolor": "#506784",
           "ticks": "",
           "title": {
            "standoff": 15
           },
           "zerolinecolor": "#283442",
           "zerolinewidth": 2
          },
          "yaxis": {
           "automargin": true,
           "gridcolor": "#283442",
           "linecolor": "#506784",
           "ticks": "",
           "title": {
            "standoff": 15
           },
           "zerolinecolor": "#283442",
           "zerolinewidth": 2
          }
         }
        },
        "title": {
         "font": {
          "color": "red",
          "size": 20
         },
         "text": "Top 10 Products - Monthly Cancellation Trend"
        },
        "width": 1000,
        "xaxis": {
         "anchor": "y",
         "domain": [
          0,
          1
         ],
         "tickangle": 0,
         "title": {
          "text": "Month"
         }
        },
        "yaxis": {
         "anchor": "x",
         "domain": [
          0,
          1
         ],
         "title": {
          "text": "Cancellation Count"
         }
        }
       }
      }
     },
     "metadata": {},
     "output_type": "display_data"
    }
   ],
   "source": [
    "# Aggregate monthly cancellations by product\n",
    "cancellation_by_product_monthly = cancellations.groupby(['month', 'ProductName']).size().reset_index(name='CancellationCount')\n",
    "\n",
    "# Get the top 10 products with the highest total cancellations (alternate to nlargest)\n",
    "top_10_products = cancellation_by_product_monthly.groupby('ProductName')['CancellationCount'].sum().sort_values(ascending=False).head(10).index\n",
    "\n",
    "# Filter data for only the top 10 products\n",
    "top_products_monthly = cancellation_by_product_monthly[cancellation_by_product_monthly['ProductName'].isin(top_10_products)]\n",
    "\n",
    "# Create a line chart using Plotly to show the trend over months\n",
    "fig = px.line(\n",
    "    top_products_monthly,\n",
    "    x='month',\n",
    "    y='CancellationCount',\n",
    "    color='ProductName',\n",
    "    title=\"Top 10 Products - Monthly Cancellation Trend\",\n",
    "    labels={'month': 'Month', 'CancellationCount': 'Cancellation Count', 'ProductName': 'Product Name'},\n",
    "    color_discrete_sequence=px.colors.qualitative.Dark24,  # Dark color theme for better differentiation\n",
    "    markers=True  # Show markers for each data point\n",
    ")\n",
    "\n",
    "# Update layout for better visualization\n",
    "fig.update_traces(line=dict(width=3, shape='spline'))  # Smooth curve\n",
    "fig.update_layout(\n",
    "    xaxis_title=\"Month\",\n",
    "    yaxis_title=\"Cancellation Count\",\n",
    "    xaxis_tickangle=0,\n",
    "    template=\"plotly_dark\",  # Dark theme\n",
    "    title_font=dict(size=20, color='red'),\n",
    "    legend_title=\"Product Name\",\n",
    "    width=1000,\n",
    "    height=600\n",
    ")\n",
    "\n",
    "# Show the plot\n",
    "fig.show()\n"
   ]
  },
  {
   "cell_type": "markdown",
   "metadata": {},
   "source": [
    " Regency Cakstand 3 Tier gives highly cancelled in every month.The cancellation analysis reveals that homeware products experience high cancellation rates every month.However, from October to November, cancellations peak as these months coincide with festive celebrations. During this pre-holiday period, people tend to stock up on homeware products in preparation for upcoming festivities, leading to a surge in demand and, consequently, an increase in cancellations due to stock shortages or fulfillment issues."
   ]
  },
  {
   "cell_type": "markdown",
   "metadata": {},
   "source": [
    "#### Top 10 Customers by Cancellation Count :"
   ]
  },
  {
   "cell_type": "code",
   "execution_count": 92,
   "metadata": {},
   "outputs": [
    {
     "data": {
      "application/vnd.plotly.v1+json": {
       "config": {
        "plotlyServerURL": "https://plot.ly"
       },
       "data": [
        {
         "alignmentgroup": "True",
         "hovertemplate": "Customer Number=%{x}<br>Cancellation Count=%{text}<extra></extra>",
         "legendgroup": "",
         "marker": {
          "color": "#B22222",
          "pattern": {
           "shape": ""
          }
         },
         "name": "",
         "offsetgroup": "",
         "orientation": "v",
         "showlegend": false,
         "text": [
          195,
          128,
          101,
          97,
          95,
          92,
          77,
          75,
          63,
          61
         ],
         "textposition": "outside",
         "texttemplate": "%{text}",
         "type": "bar",
         "x": [
          "14911",
          "17841",
          "12607",
          "17511",
          "15311",
          "14410",
          "14606",
          "13113",
          "13798",
          "12415"
         ],
         "xaxis": "x",
         "y": [
          195,
          128,
          101,
          97,
          95,
          92,
          77,
          75,
          63,
          61
         ],
         "yaxis": "y"
        }
       ],
       "layout": {
        "barmode": "relative",
        "font": {
         "color": "white",
         "size": 14
        },
        "height": 600,
        "legend": {
         "tracegroupgap": 0
        },
        "paper_bgcolor": "black",
        "plot_bgcolor": "black",
        "template": {
         "data": {
          "bar": [
           {
            "error_x": {
             "color": "#f2f5fa"
            },
            "error_y": {
             "color": "#f2f5fa"
            },
            "marker": {
             "line": {
              "color": "rgb(17,17,17)",
              "width": 0.5
             },
             "pattern": {
              "fillmode": "overlay",
              "size": 10,
              "solidity": 0.2
             }
            },
            "type": "bar"
           }
          ],
          "barpolar": [
           {
            "marker": {
             "line": {
              "color": "rgb(17,17,17)",
              "width": 0.5
             },
             "pattern": {
              "fillmode": "overlay",
              "size": 10,
              "solidity": 0.2
             }
            },
            "type": "barpolar"
           }
          ],
          "carpet": [
           {
            "aaxis": {
             "endlinecolor": "#A2B1C6",
             "gridcolor": "#506784",
             "linecolor": "#506784",
             "minorgridcolor": "#506784",
             "startlinecolor": "#A2B1C6"
            },
            "baxis": {
             "endlinecolor": "#A2B1C6",
             "gridcolor": "#506784",
             "linecolor": "#506784",
             "minorgridcolor": "#506784",
             "startlinecolor": "#A2B1C6"
            },
            "type": "carpet"
           }
          ],
          "choropleth": [
           {
            "colorbar": {
             "outlinewidth": 0,
             "ticks": ""
            },
            "type": "choropleth"
           }
          ],
          "contour": [
           {
            "colorbar": {
             "outlinewidth": 0,
             "ticks": ""
            },
            "colorscale": [
             [
              0,
              "#0d0887"
             ],
             [
              0.1111111111111111,
              "#46039f"
             ],
             [
              0.2222222222222222,
              "#7201a8"
             ],
             [
              0.3333333333333333,
              "#9c179e"
             ],
             [
              0.4444444444444444,
              "#bd3786"
             ],
             [
              0.5555555555555556,
              "#d8576b"
             ],
             [
              0.6666666666666666,
              "#ed7953"
             ],
             [
              0.7777777777777778,
              "#fb9f3a"
             ],
             [
              0.8888888888888888,
              "#fdca26"
             ],
             [
              1,
              "#f0f921"
             ]
            ],
            "type": "contour"
           }
          ],
          "contourcarpet": [
           {
            "colorbar": {
             "outlinewidth": 0,
             "ticks": ""
            },
            "type": "contourcarpet"
           }
          ],
          "heatmap": [
           {
            "colorbar": {
             "outlinewidth": 0,
             "ticks": ""
            },
            "colorscale": [
             [
              0,
              "#0d0887"
             ],
             [
              0.1111111111111111,
              "#46039f"
             ],
             [
              0.2222222222222222,
              "#7201a8"
             ],
             [
              0.3333333333333333,
              "#9c179e"
             ],
             [
              0.4444444444444444,
              "#bd3786"
             ],
             [
              0.5555555555555556,
              "#d8576b"
             ],
             [
              0.6666666666666666,
              "#ed7953"
             ],
             [
              0.7777777777777778,
              "#fb9f3a"
             ],
             [
              0.8888888888888888,
              "#fdca26"
             ],
             [
              1,
              "#f0f921"
             ]
            ],
            "type": "heatmap"
           }
          ],
          "heatmapgl": [
           {
            "colorbar": {
             "outlinewidth": 0,
             "ticks": ""
            },
            "colorscale": [
             [
              0,
              "#0d0887"
             ],
             [
              0.1111111111111111,
              "#46039f"
             ],
             [
              0.2222222222222222,
              "#7201a8"
             ],
             [
              0.3333333333333333,
              "#9c179e"
             ],
             [
              0.4444444444444444,
              "#bd3786"
             ],
             [
              0.5555555555555556,
              "#d8576b"
             ],
             [
              0.6666666666666666,
              "#ed7953"
             ],
             [
              0.7777777777777778,
              "#fb9f3a"
             ],
             [
              0.8888888888888888,
              "#fdca26"
             ],
             [
              1,
              "#f0f921"
             ]
            ],
            "type": "heatmapgl"
           }
          ],
          "histogram": [
           {
            "marker": {
             "pattern": {
              "fillmode": "overlay",
              "size": 10,
              "solidity": 0.2
             }
            },
            "type": "histogram"
           }
          ],
          "histogram2d": [
           {
            "colorbar": {
             "outlinewidth": 0,
             "ticks": ""
            },
            "colorscale": [
             [
              0,
              "#0d0887"
             ],
             [
              0.1111111111111111,
              "#46039f"
             ],
             [
              0.2222222222222222,
              "#7201a8"
             ],
             [
              0.3333333333333333,
              "#9c179e"
             ],
             [
              0.4444444444444444,
              "#bd3786"
             ],
             [
              0.5555555555555556,
              "#d8576b"
             ],
             [
              0.6666666666666666,
              "#ed7953"
             ],
             [
              0.7777777777777778,
              "#fb9f3a"
             ],
             [
              0.8888888888888888,
              "#fdca26"
             ],
             [
              1,
              "#f0f921"
             ]
            ],
            "type": "histogram2d"
           }
          ],
          "histogram2dcontour": [
           {
            "colorbar": {
             "outlinewidth": 0,
             "ticks": ""
            },
            "colorscale": [
             [
              0,
              "#0d0887"
             ],
             [
              0.1111111111111111,
              "#46039f"
             ],
             [
              0.2222222222222222,
              "#7201a8"
             ],
             [
              0.3333333333333333,
              "#9c179e"
             ],
             [
              0.4444444444444444,
              "#bd3786"
             ],
             [
              0.5555555555555556,
              "#d8576b"
             ],
             [
              0.6666666666666666,
              "#ed7953"
             ],
             [
              0.7777777777777778,
              "#fb9f3a"
             ],
             [
              0.8888888888888888,
              "#fdca26"
             ],
             [
              1,
              "#f0f921"
             ]
            ],
            "type": "histogram2dcontour"
           }
          ],
          "mesh3d": [
           {
            "colorbar": {
             "outlinewidth": 0,
             "ticks": ""
            },
            "type": "mesh3d"
           }
          ],
          "parcoords": [
           {
            "line": {
             "colorbar": {
              "outlinewidth": 0,
              "ticks": ""
             }
            },
            "type": "parcoords"
           }
          ],
          "pie": [
           {
            "automargin": true,
            "type": "pie"
           }
          ],
          "scatter": [
           {
            "marker": {
             "line": {
              "color": "#283442"
             }
            },
            "type": "scatter"
           }
          ],
          "scatter3d": [
           {
            "line": {
             "colorbar": {
              "outlinewidth": 0,
              "ticks": ""
             }
            },
            "marker": {
             "colorbar": {
              "outlinewidth": 0,
              "ticks": ""
             }
            },
            "type": "scatter3d"
           }
          ],
          "scattercarpet": [
           {
            "marker": {
             "colorbar": {
              "outlinewidth": 0,
              "ticks": ""
             }
            },
            "type": "scattercarpet"
           }
          ],
          "scattergeo": [
           {
            "marker": {
             "colorbar": {
              "outlinewidth": 0,
              "ticks": ""
             }
            },
            "type": "scattergeo"
           }
          ],
          "scattergl": [
           {
            "marker": {
             "line": {
              "color": "#283442"
             }
            },
            "type": "scattergl"
           }
          ],
          "scattermapbox": [
           {
            "marker": {
             "colorbar": {
              "outlinewidth": 0,
              "ticks": ""
             }
            },
            "type": "scattermapbox"
           }
          ],
          "scatterpolar": [
           {
            "marker": {
             "colorbar": {
              "outlinewidth": 0,
              "ticks": ""
             }
            },
            "type": "scatterpolar"
           }
          ],
          "scatterpolargl": [
           {
            "marker": {
             "colorbar": {
              "outlinewidth": 0,
              "ticks": ""
             }
            },
            "type": "scatterpolargl"
           }
          ],
          "scatterternary": [
           {
            "marker": {
             "colorbar": {
              "outlinewidth": 0,
              "ticks": ""
             }
            },
            "type": "scatterternary"
           }
          ],
          "surface": [
           {
            "colorbar": {
             "outlinewidth": 0,
             "ticks": ""
            },
            "colorscale": [
             [
              0,
              "#0d0887"
             ],
             [
              0.1111111111111111,
              "#46039f"
             ],
             [
              0.2222222222222222,
              "#7201a8"
             ],
             [
              0.3333333333333333,
              "#9c179e"
             ],
             [
              0.4444444444444444,
              "#bd3786"
             ],
             [
              0.5555555555555556,
              "#d8576b"
             ],
             [
              0.6666666666666666,
              "#ed7953"
             ],
             [
              0.7777777777777778,
              "#fb9f3a"
             ],
             [
              0.8888888888888888,
              "#fdca26"
             ],
             [
              1,
              "#f0f921"
             ]
            ],
            "type": "surface"
           }
          ],
          "table": [
           {
            "cells": {
             "fill": {
              "color": "#506784"
             },
             "line": {
              "color": "rgb(17,17,17)"
             }
            },
            "header": {
             "fill": {
              "color": "#2a3f5f"
             },
             "line": {
              "color": "rgb(17,17,17)"
             }
            },
            "type": "table"
           }
          ]
         },
         "layout": {
          "annotationdefaults": {
           "arrowcolor": "#f2f5fa",
           "arrowhead": 0,
           "arrowwidth": 1
          },
          "autotypenumbers": "strict",
          "coloraxis": {
           "colorbar": {
            "outlinewidth": 0,
            "ticks": ""
           }
          },
          "colorscale": {
           "diverging": [
            [
             0,
             "#8e0152"
            ],
            [
             0.1,
             "#c51b7d"
            ],
            [
             0.2,
             "#de77ae"
            ],
            [
             0.3,
             "#f1b6da"
            ],
            [
             0.4,
             "#fde0ef"
            ],
            [
             0.5,
             "#f7f7f7"
            ],
            [
             0.6,
             "#e6f5d0"
            ],
            [
             0.7,
             "#b8e186"
            ],
            [
             0.8,
             "#7fbc41"
            ],
            [
             0.9,
             "#4d9221"
            ],
            [
             1,
             "#276419"
            ]
           ],
           "sequential": [
            [
             0,
             "#0d0887"
            ],
            [
             0.1111111111111111,
             "#46039f"
            ],
            [
             0.2222222222222222,
             "#7201a8"
            ],
            [
             0.3333333333333333,
             "#9c179e"
            ],
            [
             0.4444444444444444,
             "#bd3786"
            ],
            [
             0.5555555555555556,
             "#d8576b"
            ],
            [
             0.6666666666666666,
             "#ed7953"
            ],
            [
             0.7777777777777778,
             "#fb9f3a"
            ],
            [
             0.8888888888888888,
             "#fdca26"
            ],
            [
             1,
             "#f0f921"
            ]
           ],
           "sequentialminus": [
            [
             0,
             "#0d0887"
            ],
            [
             0.1111111111111111,
             "#46039f"
            ],
            [
             0.2222222222222222,
             "#7201a8"
            ],
            [
             0.3333333333333333,
             "#9c179e"
            ],
            [
             0.4444444444444444,
             "#bd3786"
            ],
            [
             0.5555555555555556,
             "#d8576b"
            ],
            [
             0.6666666666666666,
             "#ed7953"
            ],
            [
             0.7777777777777778,
             "#fb9f3a"
            ],
            [
             0.8888888888888888,
             "#fdca26"
            ],
            [
             1,
             "#f0f921"
            ]
           ]
          },
          "colorway": [
           "#636efa",
           "#EF553B",
           "#00cc96",
           "#ab63fa",
           "#FFA15A",
           "#19d3f3",
           "#FF6692",
           "#B6E880",
           "#FF97FF",
           "#FECB52"
          ],
          "font": {
           "color": "#f2f5fa"
          },
          "geo": {
           "bgcolor": "rgb(17,17,17)",
           "lakecolor": "rgb(17,17,17)",
           "landcolor": "rgb(17,17,17)",
           "showlakes": true,
           "showland": true,
           "subunitcolor": "#506784"
          },
          "hoverlabel": {
           "align": "left"
          },
          "hovermode": "closest",
          "mapbox": {
           "style": "dark"
          },
          "paper_bgcolor": "rgb(17,17,17)",
          "plot_bgcolor": "rgb(17,17,17)",
          "polar": {
           "angularaxis": {
            "gridcolor": "#506784",
            "linecolor": "#506784",
            "ticks": ""
           },
           "bgcolor": "rgb(17,17,17)",
           "radialaxis": {
            "gridcolor": "#506784",
            "linecolor": "#506784",
            "ticks": ""
           }
          },
          "scene": {
           "xaxis": {
            "backgroundcolor": "rgb(17,17,17)",
            "gridcolor": "#506784",
            "gridwidth": 2,
            "linecolor": "#506784",
            "showbackground": true,
            "ticks": "",
            "zerolinecolor": "#C8D4E3"
           },
           "yaxis": {
            "backgroundcolor": "rgb(17,17,17)",
            "gridcolor": "#506784",
            "gridwidth": 2,
            "linecolor": "#506784",
            "showbackground": true,
            "ticks": "",
            "zerolinecolor": "#C8D4E3"
           },
           "zaxis": {
            "backgroundcolor": "rgb(17,17,17)",
            "gridcolor": "#506784",
            "gridwidth": 2,
            "linecolor": "#506784",
            "showbackground": true,
            "ticks": "",
            "zerolinecolor": "#C8D4E3"
           }
          },
          "shapedefaults": {
           "line": {
            "color": "#f2f5fa"
           }
          },
          "sliderdefaults": {
           "bgcolor": "#C8D4E3",
           "bordercolor": "rgb(17,17,17)",
           "borderwidth": 1,
           "tickwidth": 0
          },
          "ternary": {
           "aaxis": {
            "gridcolor": "#506784",
            "linecolor": "#506784",
            "ticks": ""
           },
           "baxis": {
            "gridcolor": "#506784",
            "linecolor": "#506784",
            "ticks": ""
           },
           "bgcolor": "rgb(17,17,17)",
           "caxis": {
            "gridcolor": "#506784",
            "linecolor": "#506784",
            "ticks": ""
           }
          },
          "title": {
           "x": 0.05
          },
          "updatemenudefaults": {
           "bgcolor": "#506784",
           "borderwidth": 0
          },
          "xaxis": {
           "automargin": true,
           "gridcolor": "#283442",
           "linecolor": "#506784",
           "ticks": "",
           "title": {
            "standoff": 15
           },
           "zerolinecolor": "#283442",
           "zerolinewidth": 2
          },
          "yaxis": {
           "automargin": true,
           "gridcolor": "#283442",
           "linecolor": "#506784",
           "ticks": "",
           "title": {
            "standoff": 15
           },
           "zerolinecolor": "#283442",
           "zerolinewidth": 2
          }
         }
        },
        "title": {
         "font": {
          "color": "white",
          "size": 22
         },
         "text": "Top 10 Customers by Cancellation Count"
        },
        "width": 900,
        "xaxis": {
         "anchor": "y",
         "domain": [
          0,
          1
         ],
         "tickangle": -45,
         "title": {
          "text": "Customer Number"
         }
        },
        "yaxis": {
         "anchor": "x",
         "domain": [
          0,
          1
         ],
         "title": {
          "text": "Cancellation Count"
         }
        }
       }
      }
     },
     "metadata": {},
     "output_type": "display_data"
    }
   ],
   "source": [
    "# Group cancellations by customer\n",
    "cancellation_by_customer = cancellations.groupby('CustomerNo')['TransactionNo'].count().reset_index(name='CancellationCount')\n",
    "\n",
    "# Get the top 10 customers with the highest cancellations\n",
    "top_customers_by_cancellations = cancellation_by_customer.sort_values(by='CancellationCount', ascending=False).head(10)\n",
    "\n",
    "# Convert CustomerNo to string for better labeling\n",
    "top_customers_by_cancellations['CustomerNo'] = top_customers_by_cancellations['CustomerNo'].astype(str)\n",
    "\n",
    "# Create a dark-themed bar chart for cancellation counts\n",
    "fig = px.bar(\n",
    "    top_customers_by_cancellations,\n",
    "    x='CustomerNo',\n",
    "    y='CancellationCount',\n",
    "    text='CancellationCount',  # Display count values\n",
    "    title=\"Top 10 Customers by Cancellation Count\",\n",
    "    labels={'CustomerNo': 'Customer Number', 'CancellationCount': 'Cancellation Count'},\n",
    "    color_discrete_sequence=['#B22222'],  # Bright red for contrast\n",
    "    template=\"plotly_dark\"  # Dark theme\n",
    ")\n",
    "\n",
    "# Update layout for better visualization\n",
    "fig.update_traces(\n",
    "    texttemplate='%{text}', \n",
    "    textposition='outside'\n",
    ")\n",
    "\n",
    "fig.update_layout(\n",
    "    xaxis_title=\"Customer Number\",\n",
    "    yaxis_title=\"Cancellation Count\",\n",
    "    xaxis_tickangle=-45,\n",
    "    width=900,\n",
    "    height=600,\n",
    "    title_font=dict(size=22, color='white'),\n",
    "    font=dict(size=14, color='white'),\n",
    "    plot_bgcolor='black',  # Dark background\n",
    "    paper_bgcolor='black'\n",
    ")\n",
    "\n",
    "# Show the plot\n",
    "fig.show()\n"
   ]
  },
  {
   "cell_type": "markdown",
   "metadata": {},
   "source": [
    "The cancellation count by customer indicates that cancellations may be due to products being out of stock."
   ]
  },
  {
   "cell_type": "markdown",
   "metadata": {},
   "source": [
    "#### Groupby Country:"
   ]
  },
  {
   "cell_type": "code",
   "execution_count": 134,
   "metadata": {},
   "outputs": [
    {
     "data": {
      "application/vnd.plotly.v1+json": {
       "config": {
        "plotlyServerURL": "https://plot.ly"
       },
       "data": [
        {
         "coloraxis": "coloraxis",
         "geo": "geo",
         "hovertemplate": "<b>%{hovertext}</b><br><br>Country=%{location}<br>totalsales=%{z}<extra></extra>",
         "hovertext": [
          "Australia",
          "Austria",
          "Bahrain",
          "Belgium",
          "Brazil",
          "Canada",
          "Channel Islands",
          "Cyprus",
          "Czech Republic",
          "Denmark",
          "EIRE",
          "European Community",
          "Finland",
          "France",
          "Germany",
          "Greece",
          "Hong Kong",
          "Iceland",
          "Israel",
          "Italy",
          "Japan",
          "Lebanon",
          "Malta",
          "Netherlands",
          "Norway",
          "Poland",
          "Portugal",
          "RSA",
          "Saudi Arabia",
          "Singapore",
          "Spain",
          "Sweden",
          "Switzerland",
          "USA",
          "United Arab Emirates",
          "United Kingdom",
          "Unspecified"
         ],
         "locationmode": "country names",
         "locations": [
          "Australia",
          "Austria",
          "Bahrain",
          "Belgium",
          "Brazil",
          "Canada",
          "Channel Islands",
          "Cyprus",
          "Czech Republic",
          "Denmark",
          "EIRE",
          "European Community",
          "Finland",
          "France",
          "Germany",
          "Greece",
          "Hong Kong",
          "Iceland",
          "Israel",
          "Italy",
          "Japan",
          "Lebanon",
          "Malta",
          "Netherlands",
          "Norway",
          "Poland",
          "Portugal",
          "RSA",
          "Saudi Arabia",
          "Singapore",
          "Spain",
          "Sweden",
          "Switzerland",
          "USA",
          "United Arab Emirates",
          "United Kingdom",
          "Unspecified"
         ],
         "name": "",
         "type": "choropleth",
         "z": [
          811677.74,
          68898.56,
          3226.8599999999997,
          223645.94,
          4652.2699999999995,
          30490.91,
          94874.8,
          49934.69,
          6969.08,
          94194.35,
          1380361.5,
          6122.57,
          105752.93,
          1196336.57,
          1164862.66,
          9666.53,
          27835.5,
          34322.74,
          53725.88,
          73111.89,
          211939.44999999998,
          5692.32,
          10249.77,
          2058233.47,
          145846.96,
          19713.489999999998,
          164616.66999999998,
          4259.83,
          889.88,
          63480.95,
          258150.16999999998,
          353118.69,
          342765.33999999997,
          17048.79,
          11966.26,
          43106647.1,
          30951.579999999998
         ]
        }
       ],
       "layout": {
        "coloraxis": {
         "colorbar": {
          "title": {
           "text": "totalsales"
          }
         },
         "colorscale": [
          [
           0,
           "#0d0887"
          ],
          [
           0.1111111111111111,
           "#46039f"
          ],
          [
           0.2222222222222222,
           "#7201a8"
          ],
          [
           0.3333333333333333,
           "#9c179e"
          ],
          [
           0.4444444444444444,
           "#bd3786"
          ],
          [
           0.5555555555555556,
           "#d8576b"
          ],
          [
           0.6666666666666666,
           "#ed7953"
          ],
          [
           0.7777777777777778,
           "#fb9f3a"
          ],
          [
           0.8888888888888888,
           "#fdca26"
          ],
          [
           1,
           "#f0f921"
          ]
         ]
        },
        "geo": {
         "bgcolor": "black",
         "center": {},
         "domain": {
          "x": [
           0,
           1
          ],
          "y": [
           0,
           1
          ]
         },
         "landcolor": "dimgray",
         "projection": {
          "type": "natural earth"
         },
         "showcoastlines": false,
         "showland": true
        },
        "legend": {
         "tracegroupgap": 0
        },
        "paper_bgcolor": "black",
        "plot_bgcolor": "black",
        "template": {
         "data": {
          "bar": [
           {
            "error_x": {
             "color": "#f2f5fa"
            },
            "error_y": {
             "color": "#f2f5fa"
            },
            "marker": {
             "line": {
              "color": "rgb(17,17,17)",
              "width": 0.5
             },
             "pattern": {
              "fillmode": "overlay",
              "size": 10,
              "solidity": 0.2
             }
            },
            "type": "bar"
           }
          ],
          "barpolar": [
           {
            "marker": {
             "line": {
              "color": "rgb(17,17,17)",
              "width": 0.5
             },
             "pattern": {
              "fillmode": "overlay",
              "size": 10,
              "solidity": 0.2
             }
            },
            "type": "barpolar"
           }
          ],
          "carpet": [
           {
            "aaxis": {
             "endlinecolor": "#A2B1C6",
             "gridcolor": "#506784",
             "linecolor": "#506784",
             "minorgridcolor": "#506784",
             "startlinecolor": "#A2B1C6"
            },
            "baxis": {
             "endlinecolor": "#A2B1C6",
             "gridcolor": "#506784",
             "linecolor": "#506784",
             "minorgridcolor": "#506784",
             "startlinecolor": "#A2B1C6"
            },
            "type": "carpet"
           }
          ],
          "choropleth": [
           {
            "colorbar": {
             "outlinewidth": 0,
             "ticks": ""
            },
            "type": "choropleth"
           }
          ],
          "contour": [
           {
            "colorbar": {
             "outlinewidth": 0,
             "ticks": ""
            },
            "colorscale": [
             [
              0,
              "#0d0887"
             ],
             [
              0.1111111111111111,
              "#46039f"
             ],
             [
              0.2222222222222222,
              "#7201a8"
             ],
             [
              0.3333333333333333,
              "#9c179e"
             ],
             [
              0.4444444444444444,
              "#bd3786"
             ],
             [
              0.5555555555555556,
              "#d8576b"
             ],
             [
              0.6666666666666666,
              "#ed7953"
             ],
             [
              0.7777777777777778,
              "#fb9f3a"
             ],
             [
              0.8888888888888888,
              "#fdca26"
             ],
             [
              1,
              "#f0f921"
             ]
            ],
            "type": "contour"
           }
          ],
          "contourcarpet": [
           {
            "colorbar": {
             "outlinewidth": 0,
             "ticks": ""
            },
            "type": "contourcarpet"
           }
          ],
          "heatmap": [
           {
            "colorbar": {
             "outlinewidth": 0,
             "ticks": ""
            },
            "colorscale": [
             [
              0,
              "#0d0887"
             ],
             [
              0.1111111111111111,
              "#46039f"
             ],
             [
              0.2222222222222222,
              "#7201a8"
             ],
             [
              0.3333333333333333,
              "#9c179e"
             ],
             [
              0.4444444444444444,
              "#bd3786"
             ],
             [
              0.5555555555555556,
              "#d8576b"
             ],
             [
              0.6666666666666666,
              "#ed7953"
             ],
             [
              0.7777777777777778,
              "#fb9f3a"
             ],
             [
              0.8888888888888888,
              "#fdca26"
             ],
             [
              1,
              "#f0f921"
             ]
            ],
            "type": "heatmap"
           }
          ],
          "heatmapgl": [
           {
            "colorbar": {
             "outlinewidth": 0,
             "ticks": ""
            },
            "colorscale": [
             [
              0,
              "#0d0887"
             ],
             [
              0.1111111111111111,
              "#46039f"
             ],
             [
              0.2222222222222222,
              "#7201a8"
             ],
             [
              0.3333333333333333,
              "#9c179e"
             ],
             [
              0.4444444444444444,
              "#bd3786"
             ],
             [
              0.5555555555555556,
              "#d8576b"
             ],
             [
              0.6666666666666666,
              "#ed7953"
             ],
             [
              0.7777777777777778,
              "#fb9f3a"
             ],
             [
              0.8888888888888888,
              "#fdca26"
             ],
             [
              1,
              "#f0f921"
             ]
            ],
            "type": "heatmapgl"
           }
          ],
          "histogram": [
           {
            "marker": {
             "pattern": {
              "fillmode": "overlay",
              "size": 10,
              "solidity": 0.2
             }
            },
            "type": "histogram"
           }
          ],
          "histogram2d": [
           {
            "colorbar": {
             "outlinewidth": 0,
             "ticks": ""
            },
            "colorscale": [
             [
              0,
              "#0d0887"
             ],
             [
              0.1111111111111111,
              "#46039f"
             ],
             [
              0.2222222222222222,
              "#7201a8"
             ],
             [
              0.3333333333333333,
              "#9c179e"
             ],
             [
              0.4444444444444444,
              "#bd3786"
             ],
             [
              0.5555555555555556,
              "#d8576b"
             ],
             [
              0.6666666666666666,
              "#ed7953"
             ],
             [
              0.7777777777777778,
              "#fb9f3a"
             ],
             [
              0.8888888888888888,
              "#fdca26"
             ],
             [
              1,
              "#f0f921"
             ]
            ],
            "type": "histogram2d"
           }
          ],
          "histogram2dcontour": [
           {
            "colorbar": {
             "outlinewidth": 0,
             "ticks": ""
            },
            "colorscale": [
             [
              0,
              "#0d0887"
             ],
             [
              0.1111111111111111,
              "#46039f"
             ],
             [
              0.2222222222222222,
              "#7201a8"
             ],
             [
              0.3333333333333333,
              "#9c179e"
             ],
             [
              0.4444444444444444,
              "#bd3786"
             ],
             [
              0.5555555555555556,
              "#d8576b"
             ],
             [
              0.6666666666666666,
              "#ed7953"
             ],
             [
              0.7777777777777778,
              "#fb9f3a"
             ],
             [
              0.8888888888888888,
              "#fdca26"
             ],
             [
              1,
              "#f0f921"
             ]
            ],
            "type": "histogram2dcontour"
           }
          ],
          "mesh3d": [
           {
            "colorbar": {
             "outlinewidth": 0,
             "ticks": ""
            },
            "type": "mesh3d"
           }
          ],
          "parcoords": [
           {
            "line": {
             "colorbar": {
              "outlinewidth": 0,
              "ticks": ""
             }
            },
            "type": "parcoords"
           }
          ],
          "pie": [
           {
            "automargin": true,
            "type": "pie"
           }
          ],
          "scatter": [
           {
            "marker": {
             "line": {
              "color": "#283442"
             }
            },
            "type": "scatter"
           }
          ],
          "scatter3d": [
           {
            "line": {
             "colorbar": {
              "outlinewidth": 0,
              "ticks": ""
             }
            },
            "marker": {
             "colorbar": {
              "outlinewidth": 0,
              "ticks": ""
             }
            },
            "type": "scatter3d"
           }
          ],
          "scattercarpet": [
           {
            "marker": {
             "colorbar": {
              "outlinewidth": 0,
              "ticks": ""
             }
            },
            "type": "scattercarpet"
           }
          ],
          "scattergeo": [
           {
            "marker": {
             "colorbar": {
              "outlinewidth": 0,
              "ticks": ""
             }
            },
            "type": "scattergeo"
           }
          ],
          "scattergl": [
           {
            "marker": {
             "line": {
              "color": "#283442"
             }
            },
            "type": "scattergl"
           }
          ],
          "scattermapbox": [
           {
            "marker": {
             "colorbar": {
              "outlinewidth": 0,
              "ticks": ""
             }
            },
            "type": "scattermapbox"
           }
          ],
          "scatterpolar": [
           {
            "marker": {
             "colorbar": {
              "outlinewidth": 0,
              "ticks": ""
             }
            },
            "type": "scatterpolar"
           }
          ],
          "scatterpolargl": [
           {
            "marker": {
             "colorbar": {
              "outlinewidth": 0,
              "ticks": ""
             }
            },
            "type": "scatterpolargl"
           }
          ],
          "scatterternary": [
           {
            "marker": {
             "colorbar": {
              "outlinewidth": 0,
              "ticks": ""
             }
            },
            "type": "scatterternary"
           }
          ],
          "surface": [
           {
            "colorbar": {
             "outlinewidth": 0,
             "ticks": ""
            },
            "colorscale": [
             [
              0,
              "#0d0887"
             ],
             [
              0.1111111111111111,
              "#46039f"
             ],
             [
              0.2222222222222222,
              "#7201a8"
             ],
             [
              0.3333333333333333,
              "#9c179e"
             ],
             [
              0.4444444444444444,
              "#bd3786"
             ],
             [
              0.5555555555555556,
              "#d8576b"
             ],
             [
              0.6666666666666666,
              "#ed7953"
             ],
             [
              0.7777777777777778,
              "#fb9f3a"
             ],
             [
              0.8888888888888888,
              "#fdca26"
             ],
             [
              1,
              "#f0f921"
             ]
            ],
            "type": "surface"
           }
          ],
          "table": [
           {
            "cells": {
             "fill": {
              "color": "#506784"
             },
             "line": {
              "color": "rgb(17,17,17)"
             }
            },
            "header": {
             "fill": {
              "color": "#2a3f5f"
             },
             "line": {
              "color": "rgb(17,17,17)"
             }
            },
            "type": "table"
           }
          ]
         },
         "layout": {
          "annotationdefaults": {
           "arrowcolor": "#f2f5fa",
           "arrowhead": 0,
           "arrowwidth": 1
          },
          "autotypenumbers": "strict",
          "coloraxis": {
           "colorbar": {
            "outlinewidth": 0,
            "ticks": ""
           }
          },
          "colorscale": {
           "diverging": [
            [
             0,
             "#8e0152"
            ],
            [
             0.1,
             "#c51b7d"
            ],
            [
             0.2,
             "#de77ae"
            ],
            [
             0.3,
             "#f1b6da"
            ],
            [
             0.4,
             "#fde0ef"
            ],
            [
             0.5,
             "#f7f7f7"
            ],
            [
             0.6,
             "#e6f5d0"
            ],
            [
             0.7,
             "#b8e186"
            ],
            [
             0.8,
             "#7fbc41"
            ],
            [
             0.9,
             "#4d9221"
            ],
            [
             1,
             "#276419"
            ]
           ],
           "sequential": [
            [
             0,
             "#0d0887"
            ],
            [
             0.1111111111111111,
             "#46039f"
            ],
            [
             0.2222222222222222,
             "#7201a8"
            ],
            [
             0.3333333333333333,
             "#9c179e"
            ],
            [
             0.4444444444444444,
             "#bd3786"
            ],
            [
             0.5555555555555556,
             "#d8576b"
            ],
            [
             0.6666666666666666,
             "#ed7953"
            ],
            [
             0.7777777777777778,
             "#fb9f3a"
            ],
            [
             0.8888888888888888,
             "#fdca26"
            ],
            [
             1,
             "#f0f921"
            ]
           ],
           "sequentialminus": [
            [
             0,
             "#0d0887"
            ],
            [
             0.1111111111111111,
             "#46039f"
            ],
            [
             0.2222222222222222,
             "#7201a8"
            ],
            [
             0.3333333333333333,
             "#9c179e"
            ],
            [
             0.4444444444444444,
             "#bd3786"
            ],
            [
             0.5555555555555556,
             "#d8576b"
            ],
            [
             0.6666666666666666,
             "#ed7953"
            ],
            [
             0.7777777777777778,
             "#fb9f3a"
            ],
            [
             0.8888888888888888,
             "#fdca26"
            ],
            [
             1,
             "#f0f921"
            ]
           ]
          },
          "colorway": [
           "#636efa",
           "#EF553B",
           "#00cc96",
           "#ab63fa",
           "#FFA15A",
           "#19d3f3",
           "#FF6692",
           "#B6E880",
           "#FF97FF",
           "#FECB52"
          ],
          "font": {
           "color": "#f2f5fa"
          },
          "geo": {
           "bgcolor": "rgb(17,17,17)",
           "lakecolor": "rgb(17,17,17)",
           "landcolor": "rgb(17,17,17)",
           "showlakes": true,
           "showland": true,
           "subunitcolor": "#506784"
          },
          "hoverlabel": {
           "align": "left"
          },
          "hovermode": "closest",
          "mapbox": {
           "style": "dark"
          },
          "paper_bgcolor": "rgb(17,17,17)",
          "plot_bgcolor": "rgb(17,17,17)",
          "polar": {
           "angularaxis": {
            "gridcolor": "#506784",
            "linecolor": "#506784",
            "ticks": ""
           },
           "bgcolor": "rgb(17,17,17)",
           "radialaxis": {
            "gridcolor": "#506784",
            "linecolor": "#506784",
            "ticks": ""
           }
          },
          "scene": {
           "xaxis": {
            "backgroundcolor": "rgb(17,17,17)",
            "gridcolor": "#506784",
            "gridwidth": 2,
            "linecolor": "#506784",
            "showbackground": true,
            "ticks": "",
            "zerolinecolor": "#C8D4E3"
           },
           "yaxis": {
            "backgroundcolor": "rgb(17,17,17)",
            "gridcolor": "#506784",
            "gridwidth": 2,
            "linecolor": "#506784",
            "showbackground": true,
            "ticks": "",
            "zerolinecolor": "#C8D4E3"
           },
           "zaxis": {
            "backgroundcolor": "rgb(17,17,17)",
            "gridcolor": "#506784",
            "gridwidth": 2,
            "linecolor": "#506784",
            "showbackground": true,
            "ticks": "",
            "zerolinecolor": "#C8D4E3"
           }
          },
          "shapedefaults": {
           "line": {
            "color": "#f2f5fa"
           }
          },
          "sliderdefaults": {
           "bgcolor": "#C8D4E3",
           "bordercolor": "rgb(17,17,17)",
           "borderwidth": 1,
           "tickwidth": 0
          },
          "ternary": {
           "aaxis": {
            "gridcolor": "#506784",
            "linecolor": "#506784",
            "ticks": ""
           },
           "baxis": {
            "gridcolor": "#506784",
            "linecolor": "#506784",
            "ticks": ""
           },
           "bgcolor": "rgb(17,17,17)",
           "caxis": {
            "gridcolor": "#506784",
            "linecolor": "#506784",
            "ticks": ""
           }
          },
          "title": {
           "x": 0.05
          },
          "updatemenudefaults": {
           "bgcolor": "#506784",
           "borderwidth": 0
          },
          "xaxis": {
           "automargin": true,
           "gridcolor": "#283442",
           "linecolor": "#506784",
           "ticks": "",
           "title": {
            "standoff": 15
           },
           "zerolinecolor": "#283442",
           "zerolinewidth": 2
          },
          "yaxis": {
           "automargin": true,
           "gridcolor": "#283442",
           "linecolor": "#506784",
           "ticks": "",
           "title": {
            "standoff": 15
           },
           "zerolinecolor": "#283442",
           "zerolinewidth": 2
          }
         }
        },
        "title": {
         "text": "Total Sales by Country"
        }
       }
      }
     },
     "metadata": {},
     "output_type": "display_data"
    }
   ],
   "source": [
    "# Group by Country and sum total sales\n",
    "grp_country = transactions.groupby('Country')['totalsales'].sum().reset_index()\n",
    "\n",
    "# Create a Choropleth map with a dark background\n",
    "fig = px.choropleth(\n",
    "    grp_country, \n",
    "    locations='Country',  \n",
    "    locationmode='country names',  \n",
    "    color='totalsales',  \n",
    "    hover_name='Country',  \n",
    "    color_continuous_scale='plasma',  # Bright, high-contrast scale\n",
    "    title='Total Sales by Country'\n",
    ")\n",
    "\n",
    "# Customize the layout with a dark background\n",
    "fig.update_layout(\n",
    "    geo=dict(\n",
    "        showcoastlines=False,  \n",
    "        projection_type=\"natural earth\",  \n",
    "        bgcolor='black',  \n",
    "        showland=True,  \n",
    "        landcolor='dimgray'\n",
    "    ),\n",
    "    paper_bgcolor='black',  \n",
    "    plot_bgcolor='black'\n",
    ")\n",
    "\n",
    "# Show the interactive map\n",
    "fig.show()\n"
   ]
  },
  {
   "cell_type": "markdown",
   "metadata": {},
   "source": [
    "The United Kingdom generates the highest revenue, exceeding ₹40 million."
   ]
  },
  {
   "cell_type": "markdown",
   "metadata": {},
   "source": [
    "#### Cancellation Rate vs. Product Demand"
   ]
  },
  {
   "cell_type": "code",
   "execution_count": null,
   "metadata": {},
   "outputs": [
    {
     "data": {
      "application/vnd.plotly.v1+json": {
       "config": {
        "plotlyServerURL": "https://plot.ly"
       },
       "data": [
        {
         "hovertemplate": "Product Demand (Quantity)=%{x}<br>Product Rate=%{marker.color}<extra></extra>",
         "legendgroup": "",
         "marker": {
          "color": [
           0,
           0,
           0,
           0,
           0,
           0,
           0,
           -0.0024304021210782146,
           -0.21904761904761905,
           0,
           -0.4405216284987277,
           -0.032167121135092666,
           -0.014882655981682884,
           -0.0022471910112359553,
           -0.0031545741324921135,
           -0.01060070671378092,
           -0.0031746031746031746,
           -0.010586319218241042,
           -0.006172839506172839,
           -0.031055900621118012,
           -0.024752475247524754,
           0,
           -0.002577319587628866,
           0,
           0,
           0,
           0,
           0,
           0,
           0,
           0,
           0,
           0,
           0,
           0,
           0,
           0,
           0,
           -0.10588235294117647,
           0,
           0,
           0,
           0,
           -0.0035082795397137242,
           -0.00641025641025641,
           0,
           0,
           0,
           -0.02898214699744957,
           0,
           0,
           0,
           0,
           0,
           0,
           0,
           0,
           0,
           0,
           -0.016332085743450152,
           0,
           -0.00034048348655090226,
           0,
           -0.01408781404085466,
           0,
           0,
           0,
           0,
           0,
           -0.03413400758533502,
           0,
           -0.00023919630043055335,
           0,
           0,
           0,
           0,
           0,
           0,
           0,
           0,
           0,
           0,
           0,
           0,
           0,
           0,
           0,
           0,
           0,
           0,
           0,
           0,
           0,
           0,
           0,
           0,
           -0.0035149384885764497,
           0,
           0,
           0,
           0,
           0,
           0,
           0,
           0,
           -6.636363636363637,
           0,
           0,
           0,
           0,
           0,
           0,
           0,
           0,
           0,
           0,
           0,
           0,
           0,
           0,
           0,
           0,
           0,
           0,
           0,
           0,
           0,
           0,
           0,
           0,
           -0.003976143141153081,
           -0.0013573125212080082,
           -0.0029081844619858743,
           -0.0014714537963507945,
           0,
           -0.0020847810979847115,
           -0.022222222222222223,
           -0.018467220683287166,
           0,
           -0.01839275608375778,
           0,
           0,
           0,
           0,
           0,
           0,
           0,
           0,
           0,
           0,
           1,
           -0.031496062992125984,
           0,
           -0.0022371364653243847,
           -0.004722550177095631,
           -0.029589446430773023,
           -0.035039653929343904,
           0,
           -0.0036982248520710057,
           -0.002509124087591241,
           -0.009939652112176074,
           -0.008603877480784674,
           -0.014647924330005255,
           -0.03842116313247953,
           -0.009702993728552834,
           -0.012191243506837698,
           -0.021035919825362175,
           0,
           0,
           0,
           0,
           0,
           -0.004984423676012461,
           -0.003898635477582846,
           -0.0011173184357541898,
           -0.005865102639296188,
           -0.0007874015748031496,
           0,
           0,
           0,
           0,
           0,
           0,
           0,
           0,
           0,
           0,
           0,
           0,
           0,
           0,
           0,
           0,
           0,
           -0.004329004329004329,
           0,
           0,
           0,
           0,
           0,
           0,
           -0.04,
           0,
           0,
           1.6666666666666667,
           -0.125,
           -0.3333333333333333,
           0,
           0,
           -0.01871345029239766,
           -0.0063025210084033615,
           -0.041884816753926704,
           0,
           0,
           0,
           0,
           12,
           0,
           0,
           0,
           0,
           -0.1933884297520661,
           -0.008403361344537815,
           0,
           -0.0009746588693957114,
           -0.02810304449648712,
           -0.016853932584269662,
           -0.01848998459167951,
           0,
           0,
           0,
           0,
           0,
           -0.09032258064516129,
           -0.060240963855421686,
           1.6666666666666667,
           -0.36585365853658536,
           0,
           0,
           0,
           -0.014423076923076924,
           0,
           0,
           -0.07058823529411765,
           -0.23076923076923078,
           -0.125,
           0,
           0,
           0,
           -0.019757807520713832,
           -0.055776892430278883,
           -0.062111801242236024,
           0,
           -0.2978723404255319,
           0,
           0,
           -0.0392156862745098,
           -0.007874015748031496,
           0,
           -0.06377551020408163,
           0,
           0,
           0,
           0,
           -0.3404004711425206,
           -0.0029910269192422734,
           -0.7543960795618334,
           -0.0034329852667715635,
           -0.0004807692307692308,
           -0.12309699869508482,
           -0.023391812865497075,
           -0.04908376963350786,
           -0.009286128845037725,
           -0.05970149253731343,
           -0.13846153846153847,
           -0.010728402032749858,
           -0.00202122283981809,
           -0.0027526543452615023,
           -0.006405124099279423,
           -0.004694835680751174,
           0,
           0,
           0,
           0,
           0,
           0,
           0,
           0,
           -0.003061224489795918,
           0,
           -0.0027991602519244225,
           0,
           0,
           0,
           0,
           0,
           0,
           0,
           -0.0006090133982947625,
           -0.012411347517730497,
           -0.09685230024213075,
           -0.031746031746031744,
           -0.02494802494802495,
           0,
           -0.0038314176245210726,
           -0.022222222222222223,
           0,
           0,
           0,
           -0.043795620437956206,
           -0.006369426751592357,
           -0.0108499095840868,
           -0.021352313167259787,
           0,
           0,
           0,
           0,
           0,
           0,
           0,
           -0.1330049261083744,
           -0.03532380151387721,
           2.7817460317460316,
           0,
           -0.008075370121130552,
           0,
           -0.001380654592706895,
           0,
           -0.009456264775413711,
           0,
           0,
           -0.007308160779537149,
           0,
           -0.015430775825117874,
           0,
           0,
           0,
           -0.0162975344755537,
           0,
           0,
           0,
           -4.891304347826087,
           0,
           -0.0023148148148148147,
           0,
           0,
           -0.008110300081103,
           0,
           0,
           0,
           -0.007931262392597489,
           -0.0103353722843282,
           -0.023166023166023165,
           -0.012770393536617148,
           -0.0033112582781456954,
           0,
           0,
           0,
           0,
           0,
           -0.2265321955003879,
           -0.0020211093644733886,
           -0.0018109380659181455,
           -0.018518518518518517,
           1,
           0,
           0,
           -0.06654111738857502,
           -0.09531843104175454,
           -0.01399856424982053,
           0,
           -0.01708185053380783,
           0,
           0,
           0,
           -0.0008488964346349745,
           -0.003674219228413962,
           -0.0031233732431025507,
           -0.003936577364680153,
           -0.04071661237785016,
           -0.004314994606256742,
           -0.05447032306536439,
           -0.003851851851851852,
           0,
           -0.38067542213883676,
           -0.006493506493506494,
           -0.008176221623701423,
           0,
           0,
           0,
           1.1363636363636365,
           0,
           0,
           -0.024875621890547265,
           0,
           0,
           -0.08823529411764706,
           -0.09411764705882353,
           -0.05947955390334572,
           0,
           -0.0008688097306689834,
           0,
           0,
           -0.10204081632653061,
           -0.002072538860103627,
           0,
           -0.05018359853121175,
           -0.01736745886654479,
           -0.026258680555555556,
           0,
           -0.007973380210949272,
           -0.0035208684808919533,
           0,
           -0.008247422680412371,
           -0.004940711462450593,
           -0.026512968299711816,
           0,
           0,
           0,
           0,
           -0.007050528789659225,
           0,
           0,
           -0.03796776836929801,
           -0.034978800726832224,
           -0.013214505224339274,
           -0.007562117392870004,
           -0.009180327868852459,
           -0.008398133748055987,
           -0.003663003663003663,
           -0.003341288782816229,
           0,
           -0.0072992700729927005,
           -0.005,
           0,
           0,
           0,
           0,
           -0.02569593147751606,
           -0.19745222929936307,
           -0.014035087719298246,
           -0.043522267206477734,
           0,
           -0.015037593984962405,
           -0.012269938650306749,
           -0.03076923076923077,
           0,
           0,
           0,
           -0.00411522633744856,
           0,
           -0.09523809523809523,
           0,
           -0.05084745762711865,
           0,
           0,
           0,
           0,
           0,
           0,
           -0.08727272727272728,
           -0.0390625,
           0,
           0,
           0,
           0,
           -0.04481132075471698,
           0,
           0,
           -0.06683168316831684,
           -0.013662406346408109,
           -0.05475382003395586,
           0,
           -0.011627906976744186,
           -0.030852994555353903,
           -0.008695652173913044,
           -0.07446808510638298,
           0,
           -0.00232609658839167,
           0,
           0,
           0,
           0,
           0,
           0,
           0,
           -0.03296703296703297,
           -0.375,
           0,
           0,
           -0.12727272727272726,
           -0.02875399361022364,
           0,
           0,
           0,
           0,
           0,
           -0.01694915254237288,
           0,
           -0.06153846153846154,
           -0.04242424242424243,
           -0.05,
           0,
           0,
           0,
           0,
           0,
           0,
           0,
           0,
           -0.02459016393442623,
           0,
           0,
           0,
           0,
           0,
           0,
           -0.00048192771084337347,
           -0.015234613040828763,
           -0.007774538386783284,
           -0.0020768431983385254,
           -0.0005599104143337066,
           0,
           -0.0009199632014719411,
           -0.0008038585209003215,
           -0.002819548872180451,
           0,
           0,
           -0.0061572907920514975,
           -0.004091653027823241,
           0,
           0,
           -0.07092651757188498,
           0,
           0,
           0,
           0,
           -0.004032258064516129,
           -0.008064516129032258,
           0,
           1,
           0,
           0,
           0,
           0,
           -0.004672897196261682,
           0,
           0,
           0,
           -0.0026195153896529143,
           -0.012195121951219513,
           0,
           -0.016877637130801686,
           -0.024390243902439025,
           -0.03274087932647334,
           -0.03286384976525822,
           -0.014670896114195083,
           -0.6986301369863014,
           0,
           0,
           -0.021052631578947368,
           0,
           -0.0011337868480725624,
           0,
           -0.04203152364273205,
           0,
           -0.02264808362369338,
           -0.005952380952380952,
           0,
           0,
           -0.14285714285714285,
           0,
           -0.25,
           0,
           -0.10309278350515463,
           -0.056962025316455694,
           0,
           0,
           -0.008264462809917356,
           0,
           -0.007407407407407408,
           -0.01440922190201729,
           -0.006968641114982578,
           0,
           0,
           0,
           -0.11266747868453106,
           -0.03859649122807018,
           -0.028616852146263912,
           -0.004900245012250612,
           0,
           -0.0011661807580174927,
           -0.0045045045045045045,
           0,
           -0.00504999495000505,
           -0.03748750416527824,
           0,
           -0.002004008016032064,
           0,
           -0.0026702269692923898,
           -0.007789678675754625,
           -0.005110732538330494,
           0,
           0,
           -0.011799410029498525,
           -0.004750593824228029,
           -0.001649620587264929,
           -0.0037735849056603774,
           -0.07142857142857142,
           -0.08092485549132948,
           -0.09886547811993517,
           -0.0069605568445475635,
           -0.0226890756302521,
           -0.04100946372239748,
           -0.013734812466983624,
           -0.25821596244131456,
           -0.030831099195710455,
           0,
           0,
           0,
           -0.0010638297872340426,
           0,
           -0.001076426264800861,
           -0.0038314176245210726,
           -0.001607717041800643,
           0,
           0,
           -0.004615384615384616,
           0,
           -0.009508716323296355,
           0,
           -0.06711409395973154,
           0,
           -0.057692307692307696,
           -0.0011235955056179776,
           -0.001557632398753894,
           0,
           -0.0007047216349541931,
           -0.04891304347826087,
           0,
           0,
           0,
           0,
           0,
           0,
           0,
           0,
           0,
           0,
           0,
           -0.010542168674698794,
           -0.058419243986254296,
           -0.0018206645425580337,
           -0.010582010582010581,
           0,
           -0.030985915492957747,
           0,
           -0.03508771929824561,
           0,
           -0.017543859649122806,
           0,
           0,
           -0.009345794392523364,
           0,
           0,
           0,
           0,
           0,
           0,
           0,
           -0.05405405405405406,
           -0.024742268041237112,
           -0.15894039735099338,
           1,
           0,
           -0.002008032128514056,
           -0.010265183917878529,
           0,
           0,
           1,
           0,
           0,
           -0.047706422018348627,
           0,
           0,
           0,
           0,
           1,
           -0.01694569211923234,
           -0.017540013155009866,
           -0.018945634266886325,
           -0.042328042328042326,
           -0.01392823418319169,
           -0.02869880189467818,
           -0.021660649819494584,
           0,
           -0.016597510373443983,
           0,
           0,
           0,
           0,
           -0.019867549668874173,
           0,
           0,
           -0.06666666666666667,
           0,
           0,
           0,
           0,
           0,
           0,
           0,
           -0.06896551724137931,
           0,
           -0.0255500354861604,
           -0.010578105781057811,
           -0.0014956625785222854,
           -0.015349194167306216,
           0,
           0,
           -0.00546448087431694,
           0,
           0,
           0,
           -0.025196850393700787,
           -0.012698412698412698,
           0,
           -0.005818181818181818,
           0,
           -0.000683526999316473,
           0,
           0,
           0,
           -0.014705882352941176,
           0,
           0,
           0,
           0,
           -0.02867383512544803,
           -0.01695583596214511,
           -0.008004743551734361,
           -0.3,
           -0.13043478260869565,
           0,
           0,
           0,
           0,
           -0.08256880733944955,
           0,
           -0.004489337822671156,
           -0.005098572399728076,
           -0.02608695652173913,
           -0.0041753653444676405,
           0,
           -0.0046044370029300966,
           -0.0015906680805938495,
           -0.002728512960436562,
           0,
           0,
           0,
           0,
           -0.0036968576709796672,
           0,
           -0.0010775862068965517,
           -0.006276150627615063,
           -0.2111111111111111,
           -0.05,
           0,
           -0.013530135301353014,
           -0.21472143147620984,
           -0.018363939899833055,
           -0.024968789013732832,
           -0.006399638608643276,
           -0.0035965832459163793,
           -0.0029069767441860465,
           0,
           -0.005964214711729622,
           -0.05504587155963303,
           -0.0006422607578676942,
           0,
           0,
           0,
           0,
           0,
           -0.01038915301989787,
           -0.01056338028169014,
           -0.023952095808383235,
           -0.014314928425357873,
           -0.1780821917808219,
           0,
           0,
           0,
           0,
           0,
           -0.1382488479262673,
           -0.059113300492610835,
           -0.0014970059880239522,
           0,
           -0.013266998341625208,
           0,
           0,
           0,
           -0.01691199498903852,
           -0.011770475723393821,
           0,
           -0.013410818059901655,
           0,
           0,
           0,
           -0.3367579908675799,
           -0.013166556945358789,
           -0.027885360185902403,
           -0.03986710963455149,
           0,
           0,
           -0.8372093023255814,
           0,
           0,
           0,
           0,
           0,
           -0.04510022271714922,
           -0.029612756264236904,
           -0.2931937172774869,
           -0.013617021276595745,
           -0.08792270531400966,
           -0.008227374719521317,
           -0.014941302027748132,
           -0.013605442176870748,
           -0.5368098159509203,
           -0.005218787635487756,
           0,
           -0.007677543186180422,
           0,
           0,
           -0.00076103500761035,
           0,
           -0.001951854261548471,
           -0.00034644032565390613,
           -0.0043859649122807015,
           -0.003966730646193218,
           -0.0003456619426201175,
           0,
           -0.005235602094240838,
           0,
           0,
           -0.017373737373737375,
           -0.0016223231667748216,
           -0.0053285968028419185,
           -0.004268943436499467,
           -0.01282051282051282,
           0,
           0,
           -0.009487666034155597,
           -0.006146572104018913,
           -0.0076067875950848445,
           0,
           -0.27906976744186046,
           0,
           -0.008670520231213872,
           -0.0016608996539792388,
           -0.0032574974146845916,
           -0.005523590333716916,
           -0.003329918032786885,
           -0.0024353120243531205,
           0,
           -0.018808777429467086,
           -0.03723404255319149,
           -0.11538461538461539,
           -0.03936658280301909,
           -0.026653860007203746,
           -0.0005790387955993051,
           -0.0334635808035267,
           -0.013480392156862746,
           -0.0012224938875305623,
           -0.00441696113074205,
           -0.00032948929159802305,
           -0.018888096935138987,
           -0.009685230024213076,
           -0.05660377358490566,
           0,
           0,
           0,
           0,
           0,
           0,
           0,
           0,
           0,
           -0.006289308176100629,
           -0.006622516556291391,
           -0.03263777421080792,
           -0.004101579544462867,
           -0.00592683425301451,
           -0.004479134329682026,
           -0.01145402481705377,
           -0.001383399209486166,
           -0.00014238929232521716,
           0,
           0,
           0,
           0,
           -0.006522829904666332,
           0,
           0,
           -0.00749063670411985,
           -0.020442930153321975,
           0,
           -0.006482982171799027,
           0,
           -0.011009174311926606,
           -0.0053523639607493305,
           -0.006924408540103866,
           -0.007594936708860759,
           -0.042499367568934986,
           -0.004220893422441084,
           -0.0015384615384615385,
           0,
           -0.02631578947368421,
           0,
           0,
           1.2,
           0,
           0,
           0,
           -0.14285714285714285,
           0,
           -0.012406137773424747,
           -0.04240282685512368,
           0,
           0,
           -0.007965588657001752,
           -0.016260162601626018,
           -0.007751937984496124,
           -0.02857142857142857,
           0,
           -0.022727272727272728,
           0,
           -0.05,
           0,
           -0.017045454545454544,
           -0.12244897959183673,
           -0.016901408450704224,
           -0.09815950920245399,
           -0.035545023696682464,
           -0.010101010101010102,
           -0.011278195488721804,
           -0.029712163416898793,
           -0.0028808676495509235,
           -0.002258355916892502,
           -0.015873015873015872,
           -0.026915113871635612,
           0,
           -1.8159509202453987,
           5.5,
           -0.025936599423631124,
           -0.038910505836575876,
           -0.011320754716981131,
           -0.008778346744696415,
           0,
           -0.0034234013938134245,
           0,
           -0.01682557487380819,
           -0.009057971014492754,
           -0.01652892561983471,
           -0.008539709649871904,
           -0.00975371860521824,
           -0.008125247720967102,
           0,
           -0.030441608081359633,
           -0.01995798319327731,
           -0.0347179169249845,
           0,
           -0.010036241984945637,
           -0.0035823950870010235,
           0,
           -0.006674082313681869,
           -0.030534351145038167,
           -0.013138686131386862,
           -0.004583651642475172,
           -0.0064808813998703824,
           -0.04690431519699812,
           -0.0064469914040114614,
           0,
           -0.7517401392111369,
           1.3235294117647058,
           2.835294117647059,
           0,
           1.5483870967741935,
           3.6666666666666665,
           -0.02813852813852814,
           0,
           -0.028522039757994815,
           -0.0022988505747126436,
           -0.037664233576642336,
           -0.018386577798207307,
           -0.01055512118842846,
           -0.005824372759856631,
           0,
           -0.023391812865497075,
           0,
           0,
           -0.0031746031746031746,
           -0.02526315789473684,
           -0.003424657534246575,
           0,
           0,
           0,
           0,
           -0.03626943005181347,
           0,
           -0.00051440329218107,
           0,
           -0.01238390092879257,
           0,
           0,
           0,
           -0.0029411764705882353,
           0,
           -0.015601783060921248,
           -0.006663493574488339,
           -0.0032,
           -0.003219575016097875,
           -0.011920888648062856,
           0,
           -0.35277554304102976,
           -0.008,
           -0.18503118503118504,
           -0.0043616177636796195,
           -0.07161248793047956,
           -0.0018058690744920992,
           -0.011440457618304731,
           -0.002902155887230514,
           -0.024390243902439025,
           -0.0656498673740053,
           0,
           -0.008236101578586136,
           -0.004974093264248704,
           -0.07333333333333333,
           -0.03221649484536082,
           0,
           -0.0025974025974025974,
           -0.01775147928994083,
           -0.024875621890547265,
           -0.05405405405405406,
           -0.035110533159947985,
           -0.0200845665961945,
           -0.08497723823975721,
           -0.05203503348789284,
           0,
           -0.001183431952662722,
           -0.004210526315789474,
           -0.0242024202420242,
           -0.038408779149519894,
           -0.06956521739130435,
           -0.0712401055408971,
           -0.009404388714733543,
           -0.007874015748031496,
           -0.03333333333333333,
           0,
           -0.006720430107526882,
           -0.002555366269165247,
           -0.00036886757654002215,
           -0.0013386880856760374,
           0,
           -0.6057347670250897,
           -0.022809123649459785,
           -0.01896551724137931,
           -0.03571428571428571,
           -0.0005807200929152149,
           -0.00196078431372549,
           -0.010686073558877041,
           -0.23,
           -0.010075566750629723,
           -0.011494252873563218,
           -0.011834319526627219,
           0,
           -0.0027548209366391185,
           -0.02824858757062147,
           0,
           -0.24115755627009647,
           -0.009103641456582634,
           -0.013289036544850499,
           0,
           -0.05351170568561873,
           -0.016715116279069766,
           0,
           -0.006097560975609756,
           0,
           -0.054570259208731244,
           -0.006959314775160599,
           -0.10989010989010989,
           -0.016666666666666666,
           0,
           0,
           -0.005194805194805195,
           -0.000970873786407767,
           -0.0020304568527918783,
           -0.0036968576709796672,
           -0.003003003003003003,
           -0.09530386740331492,
           -0.12075471698113208,
           -0.016216216216216217,
           -0.2616279069767442,
           -0.0023094688221709007,
           -0.06209850107066381,
           -0.001694915254237288,
           -0.008221225710014948,
           -0.00265017667844523,
           -0.032,
           0,
           -0.03766478342749529,
           -0.004489337822671156,
           -0.005108556832694764,
           -0.0109204368174727,
           -0.010067114093959731,
           0,
           0,
           0,
           0,
           -0.012195121951219513,
           0,
           -0.00808080808080808,
           -0.007079646017699115,
           -0.005434782608695652,
           -0.28160919540229884,
           0,
           0,
           0,
           0,
           -0.020887728459530026,
           0,
           -0.041666666666666664,
           -0.005259697567389875,
           0,
           -5.82258064516129,
           -0.005622489959839358,
           -0.03225806451612903,
           0,
           -0.014970059880239521,
           0,
           0,
           0,
           -0.007407407407407408,
           -0.01532567049808429,
           -0.014428412874583796,
           0,
           0,
           -0.0158311345646438,
           0,
           0,
           -0.020050125313283207,
           0,
           0,
           -0.007223284469938389,
           0,
           -0.00034317089910775565,
           0,
           -0.043557168784029036,
           -0.007473841554559043,
           -0.01546738399462004,
           -0.005578800557880056,
           -0.03127641589180051,
           0,
           -0.0015220700152207,
           -0.017400204708290685,
           -0.06890459363957598,
           0,
           0,
           0,
           -0.006737247353224254,
           -0.004016064257028112,
           35.714285714285715,
           -0.005050505050505051,
           0,
           -0.0016181229773462784,
           0,
           -0.017632241813602016,
           -0.004777070063694267,
           -0.054878048780487805,
           -0.0012062726176115801,
           -0.01564537157757497,
           0,
           0,
           -0.0625,
           -0.0053329864724245574,
           -0.010416666666666666,
           -0.16125860373647985,
           -0.00834403080872914,
           -0.000572737686139748,
           -0.010649627263045794,
           -0.014731585518102372,
           0,
           0,
           0,
           0,
           -0.004689593568557392,
           -0.0029399412011759767,
           -0.008778346744696415,
           0,
           -0.04342581423401689,
           -0.011650485436893204,
           0,
           -0.026124818577648767,
           0,
           0,
           -0.009774436090225564,
           -0.0007272727272727272,
           0,
           -0.005837285662167092,
           0,
           -0.001388888888888889,
           -0.009980443725133185,
           -0.03300412551568946,
           -0.04415584415584416,
           -0.013223140495867768,
           -0.01875,
           -0.16785714285714284,
           -0.018633540372670808,
           -0.0877742946708464,
           -1.625,
           -0.18980169971671387,
           -0.00267379679144385,
           -0.03873744619799139,
           -0.01054481546572935,
           -0.014510278113663845,
           -0.003861003861003861,
           -0.008247422680412371,
           0,
           0,
           -0.009146341463414634,
           -0.0006195786864931846,
           -0.010707712899447884,
           -0.034195933456561925,
           -0.009291121816930488,
           -0.0170199100834939,
           -0.012902618195517046,
           -0.016932159964353346,
           -0.01509916826615483,
           -0.0274818401937046,
           -0.9345794392523364,
           0,
           0,
           -0.008368200836820083,
           0,
           0,
           -0.006764374295377677,
           -0.03586206896551724,
           -0.017094017094017096,
           -0.0007434944237918215,
           -0.0035650623885918,
           -0.004882017900732303,
           -0.002932551319648094,
           -0.003215434083601286,
           0,
           0,
           -0.005405405405405406,
           0,
           -0.03664809258465495,
           -0.00234192037470726,
           -0.004984768762115757,
           -0.007633587786259542,
           0,
           -0.007017543859649123,
           -0.0060478569550354985,
           -0.027319496185914494,
           -0.002058319039451115,
           0,
           -0.0008309098462816784,
           0,
           -0.11891139631977733,
           -0.03899721448467967,
           -0.013986013986013986,
           -0.015873015873015872,
           -0.02197213290460879,
           -0.014354066985645933,
           -0.028730305838739572,
           -0.033391915641476276,
           -0.0040858018386108275,
           -0.008557457212713936,
           -0.0022471910112359553,
           -0.02553191489361702,
           -0.004662004662004662,
           -0.00974184120798831,
           -0.00363901018922853,
           0,
           -0.04133738601823708,
           -0.00169548999660902,
           -0.0033594624860022394,
           -0.0421455938697318,
           -0.014492753623188406,
           -0.0856353591160221,
           0,
           0,
           0,
           0,
           -0.014354066985645933,
           0,
           0,
           -0.0017094017094017094,
           0,
           0,
           -0.06333973128598848,
           -0.0030517578125,
           0,
           0,
           -0.007662835249042145,
           -0.11728395061728394,
           -0.04301833568406206,
           -0.015025041736227046,
           -0.009438909281594127,
           -0.025043177892918825,
           -0.006564551422319475,
           -0.008663606387793366,
           -0.014240170031880977,
           -0.0032679738562091504,
           -0.00398406374501992,
           0,
           0,
           0,
           -0.00984009840098401,
           -0.0007423904974016332,
           0,
           0,
           0,
           0,
           0,
           -0.0013831258644536654,
           -0.012048192771084338,
           -0.15,
           -0.03685897435897436,
           -0.011375041820006692,
           -0.00021937040693210486,
           -0.0032957978577313925,
           -0.009600783737447955,
           -0.2147915027537372,
           -0.049019607843137254,
           -0.02510460251046025,
           -0.01702127659574468,
           0,
           0,
           -0.0019579050416054823,
           0,
           -0.09381044487427466,
           -0.053304904051172705,
           -0.23214285714285715,
           -0.028735632183908046,
           -0.0036576444769568397,
           -0.002770083102493075,
           -0.010854816824966078,
           -0.07017543859649122,
           0,
           0,
           0,
           0,
           0,
           -0.008130081300813009,
           0,
           0,
           0,
           0,
           0,
           0,
           -0.013986013986013986,
           -0.015170670037926675,
           0,
           0,
           -0.05357142857142857,
           0,
           -0.007804878048780488,
           0,
           0,
           -0.015463917525773196,
           -0.00048520135856380397,
           -0.030131826741996232,
           -0.04155124653739612,
           -0.028070175438596492,
           0,
           0,
           -0.00043122035360068997,
           0,
           0,
           -0.010508308895405669,
           -0.001182033096926714,
           -0.0005630630630630631,
           -0.0028694404591104736,
           0,
           0,
           -0.007511737089201878,
           -0.00392794257077069,
           -0.016098738932116986,
           -0.00371900826446281,
           -0.0032276438200113918,
           -0.010186757215619695,
           -0.003475440222428174,
           -0.005777166437414031,
           0,
           -0.0001331026221216558,
           -0.06064601186552406,
           0,
           -0.0003698224852071006,
           -0.38954012623985573,
           0,
           0,
           -0.007936507936507936,
           -0.14617618586640851,
           -0.11850946854001222,
           -0.13193322563274099,
           -0.060810810810810814,
           0,
           0,
           0,
           0,
           -0.005150214592274678,
           -0.009800116437026975,
           -0.009529423322526771,
           -0.01951219512195122,
           0,
           -0.0013577732518669382,
           -0.011964107676969093,
           -0.003745318352059925,
           -0.0067842605156037995,
           -0.009010812975570685,
           0,
           0,
           -0.0051813471502590676,
           0,
           -0.024793388429752067,
           -0.0015923566878980893,
           0,
           -0.0005787037037037037,
           0,
           -0.007666360012266176,
           -0.012653516933382954,
           -0.0062176165803108805,
           -0.01270513499205929,
           -0.011469534050179211,
           -0.0018373909049150207,
           -0.01972386587771203,
           -0.0015822784810126582,
           0,
           -0.011126564673157162,
           -0.046610169491525424,
           -0.003524229074889868,
           -0.0014675052410901468,
           -0.006453926138400861,
           0,
           0,
           -0.006662225183211193,
           -0.013444767441860465,
           -0.00631578947368421,
           -0.0010264744878320004,
           -0.011195928753180661,
           3.4,
           -0.0017323516673884798,
           -0.00043355733795794494,
           -0.0005393743257820927,
           -0.013669821240799159,
           -0.008403361344537815,
           -0.012345679012345678,
           -0.018447348193697154,
           -0.019438444924406047,
           -0.020114942528735632,
           -0.02564102564102564,
           -0.004136663091772637,
           -0.018751189796306873,
           -0.009192760700948004,
           -0.004593741027849555,
           -0.005580653733723093,
           -0.07127882599580712,
           -0.18764302059496568,
           -0.04656319290465632,
           -0.021604938271604937,
           -0.004608294930875576,
           0,
           0,
           0,
           0,
           0,
           -0.004206098843322818,
           -0.008347245409015025,
           -0.007743752199929602,
           -0.020066889632107024,
           -0.07128712871287128,
           -0.003973509933774834,
           0,
           -0.003314184710561202,
           -0.00555247084952804,
           -0.0334051724137931,
           -0.32142857142857145,
           -0.625,
           -0.04238869634764063,
           0,
           -0.0028169014084507044,
           -0.0021221025138752855,
           -0.0033222591362126247,
           -0.020202020202020204,
           -0.014539579967689823,
           -0.022311468094600623,
           -0.04311611954924057,
           -0.02932551319648094,
           -0.05268703898840885,
           -0.0029069767441860465,
           -0.001088139281828074,
           -0.011619462599854757,
           -0.016713091922005572,
           -0.010743801652892562,
           -0.02404274265360641,
           -0.010185185185185186,
           -0.011802575107296138,
           -0.014285714285714285,
           -0.014326647564469915,
           -0.012853470437017995,
           -0.01875,
           -0.017628205128205128,
           -0.020168067226890758,
           -0.026694045174537988,
           -0.018315018315018316,
           -0.012605042016806723,
           0,
           0,
           -0.0031397174254317113,
           -0.0038240917782026767,
           -0.008310249307479225,
           -0.0020380434782608695,
           -0.005388011674025294,
           -0.037463976945244955,
           0,
           0,
           -0.024702823179791975,
           -0.03047794966520434,
           -0.061796130522668205,
           -0.022199798183652877,
           -0.037037037037037035,
           0,
           0,
           -0.010094891984655765,
           -0.014854426619132501,
           -0.013283740701381509,
           0,
           -0.009433962264150943,
           0,
           -0.005812601720530109,
           -0.00876577840112202,
           -0.005765682656826568,
           -0.0024154589371980675,
           -0.0035221602582917524,
           0,
           0,
           0,
           -0.018072289156626505,
           -0.01977401129943503,
           -0.02626609442060086,
           0,
           -0.005066956207021353,
           -0.0018034265103697023,
           -0.024405125076266018,
           -0.004386766587461159,
           -0.009233610341643583,
           -0.008078602620087336,
           -0.014016172506738544,
           -0.01600328272466147,
           -0.013539651837524178,
           0,
           0,
           -0.009771986970684038,
           0,
           -0.012093023255813953,
           -0.034722222222222224,
           -0.07733491969066032,
           -0.006397952655150352,
           0,
           -0.006521739130434782,
           -0.003194888178913738,
           -0.006756756756756757,
           -0.01015228426395939,
           -0.006589785831960461,
           -0.009353078721745909,
           0,
           -0.006838506049447659,
           0,
           -0.0032804811372334607,
           -0.0013956734124214933,
           -0.021189894050529748,
           0,
           0,
           0,
           0,
           -0.000975609756097561,
           0,
           -0.002338269680436477,
           -0.04132231404958678,
           0,
           -0.13392857142857142,
           -0.028409090909090908,
           -0.3333333333333333,
           -0.012627986348122866,
           -0.05365853658536585,
           -0.050955414012738856,
           0,
           -0.05194805194805195,
           -0.004922067268252666,
           -0.0008640552995391706,
           0,
           -0.008147745790331342,
           -0.009274594236502154,
           -0.1016949152542373,
           -0.01818181818181818,
           -0.15196078431372548,
           -0.02717391304347826,
           -0.021170610211706103,
           -0.13559322033898305,
           0,
           0,
           -0.0420353982300885,
           0,
           0,
           -0.023121387283236993,
           -0.001226993865030675,
           -0.031649189704480454,
           -0.004807692307692308,
           -0.017605633802816902,
           -0.007077856420626896,
           -0.16176470588235295,
           -0.1320754716981132,
           -0.033783783783783786,
           0,
           -0.008571428571428572,
           -0.02225130890052356,
           0,
           0,
           -0.07502131287297528,
           -0.007836045810729355,
           0,
           0,
           -0.06766917293233082,
           -0.021352313167259787,
           -0.06770098730606489,
           -0.001182033096926714,
           -0.01588502269288956,
           0,
           0,
           0,
           0,
           0,
           -0.031904287138584245,
           0,
           0,
           -0.0111731843575419,
           -0.005089058524173028,
           0,
           -0.0196078431372549,
           -0.03125,
           -0.08695652173913043,
           -0.11538461538461539,
           0,
           -0.05747126436781609,
           0,
           0,
           -0.028368794326241134,
           0,
           -0.06624102154828412,
           -0.16018518518518518,
           -0.7254901960784313,
           -0.6810810810810811,
           -0.031578947368421054,
           -0.0241423125794155,
           -0.02702702702702703,
           -0.038,
           -0.024691358024691357,
           -0.03385731559854897,
           -0.020114942528735632,
           -0.04798464491362764,
           -0.04610951008645533,
           -0.04365079365079365,
           -0.02631578947368421,
           -0.00497131931166348,
           -0.01366120218579235,
           -0.013245033112582781,
           -0.0027662517289073307,
           -0.005429864253393665,
           -0.10552763819095477,
           0,
           -0.010660980810234541,
           -0.027513227513227514,
           -0.015706806282722512,
           0,
           0,
           -0.02304964539007092,
           -0.0071694471253274505,
           -0.018036072144288578,
           -0.008811519449817323,
           0,
           0,
           0,
           0,
           0,
           0,
           0,
           0,
           0,
           0,
           0,
           0,
           0,
           0,
           -0.0125,
           -0.0136986301369863,
           0,
           -0.014492753623188406,
           0,
           0,
           0,
           0,
           -0.046263345195729534,
           -0.1380952380952381,
           -0.04288939051918736,
           -0.007594936708860759,
           0,
           -0.003084832904884319,
           -0.004032258064516129,
           -0.026182432432432432,
           0,
           -0.002544529262086514,
           -0.0595073346249654,
           -0.02072538860103627,
           0,
           -0.0011723329425556857,
           0,
           0,
           -0.006887052341597796,
           -0.0004698144233027954,
           -0.03931390406800243,
           -0.043183850772965375,
           -0.010126582278481013,
           -0.025,
           -0.012861736334405145,
           -0.012919896640826873,
           -0.02109375,
           -0.006622516556291391,
           -0.006482982171799027,
           -0.006756756756756757,
           -0.007172743574417215,
           -5.376760563380282,
           -0.007321537522879805,
           -0.14754098360655737,
           -0.18421052631578946,
           -0.16252587991718426,
           -0.020356234096692113,
           -0.014583333333333334,
           -0.017045454545454544,
           -0.023346303501945526,
           -0.25,
           -0.1443609022556391,
           0,
           -0.2536997885835095,
           -0.3436123348017621,
           -0.005454545454545455,
           -0.1956521739130435,
           -1.411764705882353,
           -0.0163727959697733,
           -0.028011204481792718,
           -0.004694835680751174,
           -0.01434548714883443,
           -0.02457865168539326,
           -0.024640657084188913,
           -0.01443298969072165,
           -0.0036177268616219473,
           -0.07792207792207792,
           -0.04664723032069971,
           -0.007132667617689016,
           -0.004143646408839779,
           -0.017994858611825194,
           -0.08622976916954099,
           -0.018151565572530632,
           -0.022199953750096355,
           0,
           -0.007142857142857143,
           0,
           -0.1694915254237288,
           -0.015931372549019607,
           -0.07451564828614009,
           -0.03529958197863446,
           -0.025983201193186277,
           -0.030637691485571786,
           -0.044657762938230386,
           -0.005744768157570784,
           -0.021018593371059015,
           -0.0007360518180479906,
           -0.02050326188257223,
           -0.027960526315789474,
           -0.014085924137237147,
           -0.004284949116229245,
           -0.008040201005025126,
           -0.018218623481781375,
           -0.0041797283176593526,
           -0.017346053772766695,
           -0.0009389671361502347,
           -0.0011737089201877935,
           -0.001218026796589525,
           -0.034981343283582086,
           -0.024634542501353548,
           -0.04031856645097063,
           -0.013605442176870748,
           -0.0221606648199446,
           -0.027644980253585534,
           0,
           0,
           -0.006321112515802781,
           0,
           -0.013289036544850499,
           -0.008787989747345295,
           -0.35294117647058826,
           -0.35542168674698793,
           -0.21385542168674698,
           -0.005494505494505495,
           -0.015220700152207,
           -0.021904336164506034,
           -0.005857175039423294,
           -0.03500897666068223,
           -0.014937969448898641,
           -0.0010460251046025104,
           -0.01406926406926407,
           -0.08642808912896692,
           0,
           -0.11281422440220723,
           -0.0002101723413198823,
           -0.054317548746518104,
           -0.012371134020618556,
           -0.01699029126213592,
           0,
           -0.009708737864077669,
           -0.008113590263691683,
           -0.006644518272425249,
           -0.010739856801909307,
           -0.2692307692307692,
           -0.05084745762711865,
           -0.015625,
           0,
           0,
           -0.0375,
           0,
           -0.08287292817679558,
           -0.007194244604316547,
           -0.009216589861751152,
           -0.01775147928994083,
           -0.02697495183044316,
           0,
           -0.005227781926811053,
           -0.023026315789473683,
           -0.017969451931716084,
           -0.02200956937799043,
           0,
           -0.006128702757916241,
           -0.004193849021435228,
           0,
           0,
           0,
           -0.03208556149732621,
           -0.052980132450331126,
           -0.12048192771084337,
           0,
           0,
           -0.273972602739726,
           0,
           0,
           -0.06490872210953347,
           -0.006818181818181818,
           -0.00202020202020202,
           -0.005555555555555556,
           -0.0015337423312883436,
           -0.0027548209366391185,
           -0.003389830508474576,
           5.419354838709677,
           2.476923076923077,
           -6.607843137254902,
           0,
           0,
           -0.0029644268774703555,
           1.3396226415094339,
           -0.003676470588235294,
           -0.00390625,
           0,
           0,
           0,
           0,
           -0.6495726495726496,
           -0.5070422535211268,
           -0.007462686567164179,
           -0.025210084033613446,
           -0.11846689895470383,
           -0.003510531594784353,
           -0.005862237420615535,
           -0.007363092498849517,
           -0.06278026905829596,
           -0.010956175298804782,
           -0.013363028953229399,
           -0.012814645308924484,
           -0.034691629955947136,
           -0.003637465898757199,
           -0.04113924050632911,
           -0.013377926421404682,
           -0.017921146953405017,
           0,
           -0.007292173067574137,
           -0.0040595399188092015,
           -0.012522361359570662,
           -0.021929824561403508,
           -0.0032679738562091504,
           -0.014184397163120567,
           0,
           -0.07079646017699115,
           -0.00046382189239332097,
           0,
           0,
           -0.0070140280561122245,
           0,
           -0.0449438202247191,
           0,
           -0.034934497816593885,
           -0.04381560931081698,
           -0.10139165009940358,
           -0.11707317073170732,
           -0.07621247113163972,
           1.2680965147453083,
           -0.02142857142857143,
           0,
           0,
           -0.011235955056179775,
           -0.03347280334728033,
           -0.01637107776261937,
           -0.046511627906976744,
           0,
           -0.0013404825737265416,
           -0.006644518272425249,
           0,
           0,
           -0.01499531396438613,
           -0.018439716312056736,
           -0.016091954022988506,
           -0.0010582010582010583,
           -0.009814612868047983,
           -0.006521739130434782,
           -0.0039177277179236044,
           -0.0012836970474967907,
           0,
           0,
           0,
           0,
           -0.014150943396226415,
           -0.030690537084398978,
           -0.0821917808219178,
           0,
           -0.02857142857142857,
           0,
           -0.009464400946440094,
           -0.005400098183603338,
           -0.078003120124805,
           -0.008460236886632826,
           -0.006663249615581753,
           -0.13414634146341464,
           -0.0070921985815602835,
           0,
           -0.012939001848428836,
           -0.01568627450980392,
           -0.024616626311541566,
           -0.10588972431077694,
           -0.014778325123152709,
           -0.13230429988974643,
           -0.02408671216378964,
           -0.011753643629525154,
           -0.004189944134078212,
           -0.0072507552870090634,
           0,
           -0.04005826656955572,
           -0.0017452006980802793,
           -0.0451527224435591,
           1.039881625417033,
           -0.1244960872658288,
           -0.026732673267326732,
           -0.09480122324159021,
           -0.16225988700564972,
           -0.016999649491763056,
           -0.03067669172932331,
           -0.021532091097308487,
           -0.035977105478331974,
           -0.02877697841726619,
           -0.022080471050049066,
           -0.008067769261799113,
           -0.016025641025641024,
           0,
           -0.008620689655172414,
           -0.021164021164021163,
           -0.00404975412207116,
           -0.034482758620689655,
           -0.015990159901599015,
           -0.003424657534246575,
           -0.006263048016701462,
           -0.01800486618004866,
           -0.00407806583163414,
           -0.0008130081300813008,
           -0.0012861736334405145,
           -0.0013831258644536654,
           -0.0009022556390977444,
           -0.010723860589812333,
           -0.021191294387170677,
           -0.0070999453850355,
           -0.01906941266209001,
           -0.021143045920052856,
           -0.07649984128663634,
           -0.020281519600423792,
           -0.06950620173180436,
           -0.025551684088269456,
           -0.035628019323671496,
           -0.026300904977375566,
           -0.036986831913245546,
           -0.005195735913284959,
           -0.07395179927368768,
           -0.011910589003100016,
           -0.0033422459893048127,
           -0.09082652134423251,
           -0.010738255033557046,
           -0.027649769585253458,
           -0.007233273056057866,
           0,
           -0.05862237420615535,
           0,
           0,
           0,
           0,
           0,
           -0.04053109713487072,
           -0.015247776365946633,
           0,
           -0.01971830985915493,
           -0.058823529411764705,
           -0.04170286707211121,
           -0.0037290242386575512,
           -0.11960132890365449,
           -0.006606606606606606,
           -0.0063083522583901085,
           0,
           -0.006145318713097964,
           -0.004901960784313725,
           -0.008429926238145416,
           -0.023890784982935155,
           -0.015471167369901548,
           -0.022941970310391364,
           -0.010269576379974325,
           -0.040229885057471264,
           -0.014216661927779357,
           -0.0038043478260869567,
           -0.022998296422487224,
           -0.027932960893854747,
           -0.012838801711840228,
           -0.016363636363636365,
           -0.022243713733075435,
           -0.08487654320987655,
           -0.14792176039119803,
           -0.03706070287539936,
           -0.0637065637065637,
           -0.008,
           -0.013577732518669382,
           -0.009771986970684038,
           -0.048431480462300495,
           -0.013333333333333334,
           -0.0005636978579481398,
           -0.008605851979345954,
           -0.0058823529411764705,
           -0.0433996383363472,
           -0.007425742574257425,
           0,
           -0.004758128469468675,
           0,
           0,
           -0.004429678848283499,
           -0.00265017667844523,
           -0.024428934010152285,
           -0.0009891196834817012,
           0,
           0,
           -0.007683863885839737,
           -0.04665146174580137,
           -0.0004169272461955389,
           -0.00984924623115578,
           -0.027838427947598252,
           -0.004106776180698152,
           -0.007741935483870968,
           -0.00414765657403567,
           -0.006613756613756613,
           -0.010714285714285714,
           -0.00400600901352028,
           -0.0033951423348132673,
           -0.002277106323349098,
           -0.006005338078291815,
           -0.0065065065065065065,
           -0.013817359628187413,
           -0.008008008008008008,
           -0.024881322638729744,
           -0.013970588235294118,
           -0.024810475534114404,
           0,
           0,
           0,
           -0.0026595744680851063,
           -0.007787610619469027,
           0,
           -0.01083743842364532,
           0,
           -0.003808717731696995,
           -0.0007047216349541931,
           -0.0043756311006395154,
           -0.013333333333333334,
           -0.08053691275167785,
           -0.004032258064516129,
           0,
           -0.05511811023622047,
           -0.04020797227036395,
           -0.005056398288603656,
           -0.008416055243849805,
           -0.021814404432132964,
           -0.002074688796680498,
           -0.11513157894736842,
           -0.04838709677419355,
           0,
           -0.00522875816993464,
           -0.0030165912518853697,
           -0.0017016449234259785,
           -0.0033482142857142855,
           0,
           -0.0009699321047526673,
           -0.005752636625119847,
           0,
           -0.03636363636363636,
           0,
           0,
           -0.014527845036319613,
           0,
           0,
           0,
           -0.0027624309392265192,
           -0.049615525448553646,
           -0.02846588439808779,
           -0.0028735632183908046,
           -0.0023166023166023165,
           -0.046831955922865015,
           -0.039316239316239315,
           -0.003727865796831314,
           -0.004429678848283499,
           -0.02536997885835095,
           0,
           -0.002997002997002997,
           -0.013161502604880724,
           -0.008412197686645636,
           -0.003810330228619814,
           0,
           -0.0032102728731942215,
           0,
           0,
           0,
           0,
           -0.004918536735321242,
           -0.0026041666666666665,
           0,
           -0.0006501950585175553,
           0,
           -0.01177336276674025,
           0,
           -0.0066945606694560665,
           -0.0007457121551081282,
           -0.007992007992007992,
           -0.006051437216338881,
           0,
           0,
           -0.01592920353982301,
           0,
           -0.009249183895538629,
           0,
           -0.0017905102954341987,
           -0.001336898395721925,
           0,
           -0.03877221324717286,
           -0.02857142857142857,
           0,
           -0.011058451816745656,
           -0.0061162079510703364,
           -0.012684989429175475,
           -0.0016750418760469012,
           0,
           -0.00437636761487965,
           -0.00663716814159292,
           0,
           -0.005,
           -0.032329988851727984,
           -0.004016064257028112,
           -0.006928406466512702,
           -0.023529411764705882,
           -0.050359712230215826,
           -0.03571428571428571,
           -0.030303030303030304,
           -0.0044444444444444444,
           -0.005649717514124294,
           -0.0784313725490196,
           -0.03007518796992481,
           -0.016722408026755852,
           0,
           0,
           0,
           -0.002127659574468085,
           0,
           0,
           0,
           -0.025510204081632654,
           -0.0021691973969631237,
           -0.02734375,
           -0.004765687053216839,
           -0.012121212121212121,
           -0.0273972602739726,
           0,
           0,
           -0.011412268188302425,
           0,
           -0.040412725709372314,
           -0.004796163069544364,
           0,
           -0.007731958762886598,
           -0.001038961038961039,
           0,
           0,
           0,
           0,
           0,
           -0.0075528700906344415,
           0,
           0,
           0,
           0,
           0,
           -0.0019569471624266144,
           0,
           -0.011560693641618497,
           0,
           -0.013157894736842105,
           0,
           -0.13157894736842105,
           -0.11538461538461539,
           -0.05154639175257732,
           -0.004711425206124852,
           -0.4864864864864865,
           0,
           0,
           0,
           -0.019230769230769232,
           0,
           0,
           -0.012658227848101266,
           -0.06521739130434782,
           0,
           0,
           0,
           0,
           0,
           0,
           0,
           0,
           0,
           -0.012040939193257074,
           0,
           0,
           -0.008025682182985553,
           0,
           -0.08571428571428572,
           -0.05327868852459016,
           -0.16981132075471697,
           0,
           -0.0055658627087198514,
           -0.0044444444444444444,
           0,
           -0.0016025641025641025,
           -0.1053484602917342,
           0,
           0,
           -0.004729996058336618,
           0,
           0,
           0,
           0,
           0,
           -0.0005617977528089888,
           0,
           0,
           0,
           0,
           -0.0007665772326561902,
           0,
           0,
           -0.008896797153024912,
           0,
           -0.010830324909747292,
           -0.012875536480686695,
           0,
           0,
           0,
           -0.017142857142857144,
           0,
           0,
           0,
           0,
           -0.017241379310344827,
           -0.01279317697228145,
           -0.010507880910683012,
           -0.0163265306122449,
           -0.017412935323383085,
           0,
           0,
           0,
           0,
           0,
           0,
           -0.0050798258345428155,
           -0.0007541478129713424,
           -0.006472491909385114,
           0,
           0,
           0,
           0,
           -0.002304147465437788,
           -0.012345679012345678,
           0,
           -0.006211180124223602,
           0,
           0,
           0,
           0,
           0,
           0,
           0,
           0,
           0,
           0,
           0,
           -0.0022988505747126436,
           0,
           0,
           0,
           0,
           0,
           0,
           0,
           -0.013123359580052493,
           -0.00461361014994233,
           -0.005747126436781609,
           -0.0016863406408094434,
           -0.002103049421661409,
           0,
           0,
           0,
           0,
           0,
           0,
           0,
           -0.0267367959675652,
           -0.028337236533957845,
           -0.002962962962962963,
           -0.02510460251046025,
           0,
           0,
           0,
           0,
           0,
           0,
           0,
           0,
           0,
           0,
           0,
           0,
           0,
           0,
           0,
           0,
           0,
           0,
           0,
           0,
           0,
           0,
           0,
           0,
           0,
           0,
           0,
           null,
           0,
           0,
           0,
           0,
           0,
           0,
           0,
           0,
           0,
           0,
           0,
           0,
           0,
           0,
           0,
           0,
           0,
           -0.06299212598425197,
           -0.12269938650306748,
           0,
           0,
           0,
           0,
           0,
           0,
           0,
           1,
           0,
           -0.08080808080808081,
           -0.3902439024390244,
           -0.01652892561983471,
           0,
           0,
           0,
           0,
           null,
           0,
           -0.0010995052226498076,
           0,
           0,
           0,
           0,
           0,
           -0.0015552099533437014,
           0,
           0,
           0,
           0,
           0,
           0,
           0,
           0,
           0,
           0,
           0,
           -0.032722513089005235,
           0,
           0,
           -0.03389830508474576,
           0,
           0,
           0,
           0,
           -0.10833333333333334,
           0,
           0,
           0,
           0,
           0,
           0,
           0,
           0,
           0,
           0,
           0,
           0,
           0,
           0,
           0,
           0,
           0,
           0,
           0,
           0,
           0,
           0,
           -0.014925373134328358,
           0,
           -0.000835421888053467,
           -0.08928571428571429,
           0,
           0,
           0,
           0,
           -0.00036443148688046647,
           0,
           -0.08333333333333333,
           0,
           0,
           0,
           -0.01540084388185654,
           -0.0456989247311828,
           0,
           -0.0028011204481792717,
           0,
           0,
           -0.0012330456226880395,
           -0.04674457429048414,
           0,
           0,
           -0.004685059864653826,
           0,
           0,
           0,
           0,
           0,
           0,
           -0.07958477508650519,
           -0.023214285714285715,
           -0.046875,
           -0.1488673139158576,
           -0.043010752688172046,
           0,
           0,
           0,
           0,
           0,
           0,
           0,
           0,
           0,
           0,
           0,
           0,
           0,
           0,
           0,
           0,
           0,
           0,
           0,
           -0.13975155279503104,
           -0.005449591280653951,
           -0.017241379310344827,
           -0.024045261669024046,
           0,
           0,
           0,
           0,
           0,
           0,
           0,
           0,
           0,
           -0.0030075187969924814,
           0,
           0,
           0,
           0,
           0,
           0,
           -0.0008849557522123894,
           0,
           0,
           -0.0242024202420242,
           0,
           0,
           0,
           0,
           -2.6,
           0,
           0,
           0,
           0,
           0,
           0,
           0,
           0,
           -0.42857142857142855,
           0,
           0,
           0,
           0,
           0,
           0,
           0,
           0,
           3,
           0,
           0,
           0,
           0,
           0,
           -0.0017889087656529517,
           0,
           0,
           0,
           0,
           -0.014029618082618862,
           0,
           -0.004362050163576881,
           -0.0064,
           0,
           0,
           -0.00546448087431694,
           -0.014545454545454545,
           -0.016346447087526684,
           -2.5703971119133575,
           -0.014462809917355372,
           0,
           -0.0036900369003690036,
           0,
           0,
           0,
           0,
           0,
           -0.013241220495106506,
           -0.015606242496998799,
           0,
           -0.0006485084306095979,
           0,
           0,
           -0.0963855421686747,
           -0.028169014084507043,
           -0.0025380710659898475,
           -0.04176706827309237,
           -0.001863932898415657,
           -0.0007369196757553427,
           -0.015531660692951015,
           -0.003417829678154372,
           -0.002306805074971165,
           -0.0031662269129287598,
           -0.43823146944083224,
           -0.000543773790103317,
           -0.0014785608674223755,
           0,
           -0.0009191176470588235,
           -0.0425531914893617,
           -0.01957585644371941,
           -0.09367894497498863,
           -0.04535637149028078,
           -0.006578947368421052,
           -0.005747126436781609,
           0,
           -0.09090909090909091,
           0,
           0,
           0,
           0,
           0,
           0,
           0,
           -0.02977667493796526,
           -0.023148148148148147,
           0,
           -0.02316346790205162,
           0,
           0,
           0,
           0,
           -0.023255813953488372,
           0,
           0,
           -0.012048192771084338,
           -2.045075125208681,
           0,
           0,
           0,
           0,
           0,
           0,
           0,
           0,
           0,
           0,
           0,
           -0.041666666666666664,
           0,
           0,
           0,
           0,
           -0.0019071837253655435,
           0,
           -0.05834683954619125,
           0,
           0,
           -0.004766444232602479,
           -0.005221932114882507,
           0,
           0,
           0,
           0,
           0,
           0,
           0,
           0,
           0,
           0,
           0,
           0,
           0,
           -0.0273972602739726,
           -8.673913043478262,
           -2.3708920187793425,
           -0.0040650406504065045,
           -0.03529411764705882,
           -0.009868421052631578,
           -0.38108882521489973,
           0,
           0,
           2,
           0,
           0,
           0,
           0,
           0,
           0,
           0,
           -0.0615052603183167,
           0,
           0,
           0,
           0,
           0,
           -0.3333333333333333,
           0,
           0,
           -0.0014845605700712589,
           0,
           -0.001841620626151013,
           0,
           0,
           0,
           0,
           0,
           -0.0028169014084507044,
           0,
           0,
           0,
           0,
           0,
           0,
           0,
           -0.020671834625323,
           0,
           -0.006880733944954129,
           0,
           -0.01,
           -0.03768506056527591,
           -0.04743083003952569,
           -0.20387096774193547,
           0,
           1,
           -0.011449835408616,
           1,
           1,
           1,
           0,
           0,
           -0.00967741935483871,
           0,
           0,
           0,
           0,
           0,
           0,
           -0.0062836624775583485,
           0,
           0,
           0,
           0,
           -0.031462816671206754,
           -0.14474650991917706,
           -0.00505630889450701,
           -0.038864898210980874,
           -0.05658972449739389,
           -0.0011467889908256881,
           0,
           0,
           -0.006172839506172839,
           -0.006305170239596469,
           -0.003935071323167732,
           -0.011616161616161616,
           0,
           -0.0070383404334135955,
           0,
           0,
           -0.02903225806451613,
           -0.010169491525423728,
           -0.0016207455429497568,
           -0.12875536480686695,
           0,
           -0.006526966678117485,
           -0.006927263730826323,
           -0.0024193548387096775,
           -0.07092198581560284,
           -0.10096153846153846,
           -0.0058309037900874635,
           -0.008522727272727272,
           0,
           -0.005917159763313609,
           0,
           -0.028848927781517455,
           -0.17073170731707318,
           -0.1,
           0,
           0,
           0,
           0,
           0,
           0,
           0,
           0,
           0,
           0,
           0,
           0,
           -0.003703703703703704,
           0,
           -0.30666666666666664,
           0,
           11,
           0,
           0,
           0,
           -0.06349206349206349,
           0,
           0,
           -0.048728813559322036,
           0,
           0,
           0,
           0,
           -0.0010140518615094887,
           -0.09090909090909091,
           0,
           0,
           0,
           -0.00338365434669443,
           -0.006058566139347021,
           -0.009498480243161094,
           0,
           0,
           0,
           -0.018810679611650484,
           0,
           0,
           -1.3714285714285714,
           0,
           -0.07142857142857142,
           0,
           -0.1431980906921241,
           0,
           -0.20689655172413793,
           0,
           0,
           0,
           0,
           0,
           0,
           -0.19444444444444445,
           -0.0006578947368421052,
           -0.13953488372093023,
           0,
           -0.009761388286334056,
           0,
           0,
           0,
           -0.0008361204013377926,
           0,
           0,
           0,
           0,
           0,
           0,
           0,
           0,
           0,
           0,
           0,
           -0.08467023172905526,
           -0.011068834313386372,
           -0.024704065877509007,
           0,
           0,
           0,
           0,
           0,
           0,
           0,
           -0.02030456852791878,
           0,
           0,
           0,
           0,
           0,
           0,
           0,
           0,
           -0.1,
           0,
           0,
           0,
           0,
           0,
           0,
           0,
           -0.0033195020746887966,
           0,
           -0.0045184975995481505,
           0,
           0,
           0,
           0,
           0,
           -0.21524663677130046,
           -0.0196078431372549,
           -0.024691358024691357,
           0,
           -0.5,
           0,
           -0.06389776357827476,
           -0.06870229007633588,
           -0.05555555555555555,
           -0.10714285714285714,
           -0.25,
           0,
           0,
           0,
           -0.005681818181818182,
           -0.002881844380403458,
           0,
           0,
           0,
           0,
           0,
           -0.02,
           -0.3389830508474576,
           0,
           0,
           -0.027972027972027972,
           0,
           -0.03278688524590164,
           0,
           0,
           0,
           0,
           -0.07017543859649122,
           -1.0833333333333333,
           0,
           0,
           -0.0008921933085501858,
           0,
           0,
           0,
           0,
           0,
           0,
           0,
           0,
           0,
           0,
           0,
           0,
           0,
           0,
           0,
           0,
           0,
           0,
           0,
           0,
           0,
           0,
           1,
           -0.018867924528301886,
           -0.07142857142857142,
           -4,
           -0.0041862561988793715,
           0,
           0,
           -0.45454545454545453,
           0,
           -0.0038809831824062097,
           0,
           0,
           0,
           0,
           0,
           0,
           -15,
           -0.08275862068965517,
           -0.024390243902439025,
           -0.01904761904761905,
           0,
           0,
           0,
           0,
           0,
           0,
           0,
           0,
           0,
           0,
           0,
           0,
           0,
           -0.007407407407407408,
           6,
           -0.06208053691275168,
           -0.10117145899893504,
           -0.00676818950930626,
           -0.0213903743315508,
           -0.019261637239165328,
           0,
           0,
           0,
           0,
           -0.023099133782483156,
           -0.004491017964071856,
           -0.0074168255986437805,
           1,
           0,
           0,
           -0.006134969325153374,
           0,
           0,
           -0.1103448275862069,
           -0.0045662100456621,
           -0.05200945626477541,
           0,
           -0.3333333333333333,
           -0.09090909090909091,
           -0.011904761904761904,
           0,
           0,
           0,
           0,
           0,
           0,
           0,
           0,
           0,
           0,
           0,
           0,
           0,
           0,
           0,
           0,
           0,
           -0.0014308710427472723,
           -0.005235602094240838,
           -0.16666666666666666,
           0,
           -0.0037174721189591076,
           0,
           -0.01694915254237288,
           0,
           0,
           0,
           0,
           0,
           0,
           0,
           0,
           0,
           0,
           0,
           0,
           0,
           0,
           0,
           0,
           0,
           0,
           0,
           0,
           0,
           -0.06282722513089005,
           -0.02857142857142857,
           -0.05128205128205128,
           -0.044444444444444446,
           -0.017793594306049824,
           -0.007401636151149201,
           0,
           -0.01818181818181818,
           -0.10265486725663717,
           -0.01250625312656328,
           -0.02440828402366864,
           -0.004042248011474768,
           -0.11742182514358647,
           -0.006184291898577613,
           -0.061381074168797956,
           0,
           0,
           -0.043478260869565216,
           0,
           0,
           -0.05235602094240838,
           0,
           -0.013888888888888888,
           -0.006578947368421052,
           0,
           0,
           -0.004291845493562232,
           -0.002041510717931269,
           -0.003028773346794548,
           0,
           -0.0006215040397762585,
           0,
           -0.03036876355748373,
           0,
           -0.019175666740136654,
           0,
           0,
           0,
           -0.3333333333333333,
           -0.005065856129685917,
           -0.003259779338014042,
           0,
           0,
           -0.009170946441672781,
           -0.011270047680970958,
           0,
           0,
           -0.0058903488898957865,
           -0.008254430687059966,
           -0.0015495867768595042,
           -0.005687389684251814,
           0,
           0,
           -0.00545950864422202,
           -0.0010834236186348862,
           0,
           0,
           0,
           -0.01251303441084463,
           0,
           0,
           0,
           0,
           -0.08450704225352113,
           0,
           -9.125,
           1,
           -0.1111111111111111,
           -0.00303951367781155,
           -0.0033222591362126247,
           0,
           -0.08928571428571429,
           0,
           0,
           0,
           0,
           0,
           0,
           -0.019769357495881382,
           -0.01910828025477707,
           -0.015486725663716814,
           0,
           -0.02032520325203252,
           -0.02575107296137339,
           0,
           0,
           -0.004672897196261682,
           -0.020689655172413793,
           -0.6348684210526315,
           0,
           0,
           0,
           -0.003484320557491289,
           -0.010465116279069767,
           -0.038461538461538464,
           1,
           -0.125,
           0,
           -0.029644268774703556,
           -0.004271982912068352,
           0,
           0,
           0,
           -0.0059031877213695395,
           0,
           -0.008583690987124463,
           0,
           -0.01943095072866065,
           -0.007874015748031496,
           0,
           -0.023809523809523808,
           -0.00354251012145749,
           -0.0030721966205837174,
           1,
           -0.16666666666666666,
           1,
           -0.033154121863799284,
           0,
           -0.17451205510907003,
           -0.001670843776106934,
           0,
           0,
           0,
           0,
           -0.003067484662576687,
           -0.00816326530612245,
           0,
           0,
           0,
           0,
           0,
           0,
           1,
           -0.034655040733197556,
           -0.02814486028447493,
           -0.02371390323197552,
           -0.5606060606060606,
           -0.017142857142857144,
           0,
           0,
           0,
           0,
           -0.005420054200542005,
           0,
           0,
           -0.05976095617529881,
           -0.08005623462334518,
           -0.12,
           0,
           0,
           1,
           -0.030864197530864196,
           0,
           0,
           0,
           0,
           0,
           0,
           0,
           -0.007751937984496124,
           0,
           0,
           0,
           -0.004338394793926247,
           0,
           -0.003641660597232338,
           0,
           -0.034482758620689655,
           0,
           0,
           0,
           -0.0967741935483871,
           0,
           0,
           0,
           -0.0011754334410813989,
           -0.0035621317988765583,
           -0.1444043321299639,
           -0.10026385224274406,
           0,
           -0.02040816326530612,
           0,
           0,
           -0.012345679012345678,
           0,
           0,
           0,
           0,
           0,
           0,
           -0.006578947368421052,
           0,
           -0.014925373134328358,
           0,
           -0.01278772378516624,
           -0.004424778761061947,
           -0.003243462396107845,
           -0.0011792452830188679,
           -0.0014814814814814814,
           -0.2065761258041458,
           0,
           0,
           -0.01744186046511628,
           0,
           -0.00315955766192733,
           0,
           0,
           -0.0037174721189591076,
           0,
           0,
           -0.04132231404958678,
           0,
           -0.009615384615384616,
           0,
           0,
           -0.03286384976525822,
           -0.02605570530098832,
           0,
           0,
           0,
           -0.015531660692951015,
           -0.010256410256410256,
           0,
           0,
           0,
           -0.0004916420845624386,
           0,
           0,
           0,
           0,
           -0.015625,
           0,
           -0.0011947431302270011,
           0,
           0,
           0,
           0,
           0,
           0,
           0,
           0,
           0,
           0,
           -0.05714285714285714,
           -0.017350157728706624,
           -0.01876172607879925,
           -0.04838709677419355,
           1,
           -0.01694915254237288,
           0,
           0,
           0,
           0,
           0,
           0,
           0,
           0,
           -0.8,
           -0.19047619047619047,
           -0.23529411764705882,
           -0.2857142857142857,
           0,
           0,
           0,
           0,
           0,
           0,
           0,
           0,
           0,
           0,
           0,
           -0.2857142857142857,
           0,
           0,
           0,
           0,
           0,
           0,
           0,
           0,
           0,
           -0.02631578947368421,
           0,
           -0.1111111111111111,
           0,
           0,
           0,
           0,
           0,
           -0.4444444444444444,
           0,
           -0.5,
           0,
           0,
           0,
           0,
           0,
           0,
           0,
           0,
           0,
           0,
           0,
           0,
           0,
           0,
           0,
           0,
           0,
           0,
           0,
           0,
           0,
           0,
           0,
           0,
           0,
           0,
           0,
           0,
           0,
           0,
           0,
           0,
           0,
           0,
           0,
           0,
           0,
           0,
           0,
           0,
           0,
           0,
           0,
           0,
           0,
           0,
           0,
           0,
           0,
           0,
           0,
           0,
           0,
           0,
           -1,
           0,
           0,
           0,
           0,
           0,
           0,
           0,
           -0.16666666666666666,
           -0.07692307692307693,
           -0.21428571428571427,
           null,
           -3,
           -0.6666666666666666,
           -0.8571428571428571,
           -0.6666666666666666,
           0,
           0,
           0,
           0,
           0,
           -0.1,
           0,
           0,
           0,
           0,
           0,
           0,
           -0.3,
           0,
           0,
           0,
           0,
           0,
           -1,
           0,
           0,
           0,
           0,
           0,
           0,
           0,
           0,
           0,
           0,
           0,
           0,
           0,
           0,
           0,
           0,
           0,
           0,
           -0.35294117647058826,
           0,
           0,
           -0.3157894736842105,
           0,
           0,
           0,
           -0.30303030303030304,
           0,
           0,
           0,
           -0.3333333333333333,
           0,
           0,
           0,
           0,
           0,
           0,
           0,
           0,
           0,
           0,
           0,
           0,
           0,
           0,
           0,
           0,
           0,
           0,
           0,
           0,
           0,
           0,
           0,
           0,
           0,
           0,
           0,
           0,
           0,
           0,
           0,
           0,
           0,
           0,
           0,
           0,
           0,
           0,
           0,
           0,
           0,
           0,
           0,
           0,
           0,
           0,
           0,
           0,
           0,
           0,
           0,
           -0.08333333333333333,
           0,
           0,
           0,
           -0.08695652173913043,
           -0.4,
           0,
           0,
           0,
           0,
           0,
           0,
           0,
           0,
           0,
           0,
           -0.3684210526315789,
           0,
           0,
           0,
           0,
           0,
           0,
           0,
           0,
           -0.045454545454545456,
           0,
           0,
           0,
           0,
           0,
           0,
           0,
           0,
           0,
           -1.2,
           -1.5,
           -0.2727272727272727,
           0,
           -0.9230769230769231,
           0,
           0,
           0,
           0,
           null,
           0,
           0,
           -0.25,
           0,
           -3,
           0,
           -0.5454545454545454,
           -1.5,
           null,
           0,
           0,
           0,
           0,
           0,
           0,
           0,
           0,
           0,
           0,
           0,
           -3,
           -0.24,
           0,
           0,
           0,
           0,
           0,
           -0.42857142857142855,
           -0.8571428571428571,
           -3,
           0,
           0,
           0,
           0,
           0,
           0,
           0,
           0,
           0,
           0,
           0,
           -0.06666666666666667,
           0,
           0,
           0,
           0,
           0,
           0,
           0,
           0,
           0,
           0,
           -0.2,
           0,
           0,
           -0.013333333333333334,
           0,
           0,
           0,
           -0.08695652173913043,
           -0.12280701754385964,
           -0.12,
           0,
           -0.75,
           -1.2,
           -1.5,
           -0.6666666666666666,
           -0.26666666666666666,
           0,
           0,
           0,
           0,
           -0.16666666666666666,
           -0.08333333333333333,
           0,
           -0.0125,
           0,
           0,
           0,
           0,
           0,
           0,
           0,
           0,
           0,
           0,
           0,
           0,
           0,
           0,
           0,
           0,
           0,
           0,
           0,
           0,
           0,
           0,
           0,
           0,
           0,
           0,
           0,
           0,
           0,
           0,
           0,
           0
          ],
          "coloraxis": "coloraxis",
          "symbol": "circle"
         },
         "mode": "markers",
         "name": "",
         "showlegend": false,
         "type": "scattergl",
         "x": [
          609,
          303,
          177,
          4,
          12,
          12,
          1142,
          4537,
          1024,
          143,
          4529,
          22333,
          1773,
          446,
          318,
          286,
          632,
          3723,
          652,
          166,
          207,
          240,
          389,
          2878,
          18,
          1679,
          1124,
          12299,
          641,
          1245,
          84,
          600,
          98,
          8800,
          58,
          1434,
          504,
          477,
          1128,
          49,
          475,
          5575,
          700,
          7151,
          3925,
          20,
          28,
          344,
          4438,
          175,
          660,
          7,
          29,
          15,
          5,
          58,
          29,
          3313,
          3813,
          2987,
          543,
          2938,
          1380,
          4319,
          1312,
          7,
          13,
          40,
          465,
          3272,
          72,
          12545,
          12,
          79,
          289,
          481,
          289,
          450,
          406,
          435,
          130,
          1741,
          6,
          1423,
          200,
          200,
          1226,
          397,
          2376,
          66,
          21,
          118,
          1872,
          814,
          137,
          59,
          571,
          404,
          17,
          9,
          9,
          4,
          5809,
          176,
          4,
          336,
          89,
          292,
          141,
          80,
          142,
          210,
          129,
          263,
          71,
          144,
          183,
          70,
          394,
          149,
          43,
          28,
          22,
          26,
          407,
          29,
          20,
          11096,
          263,
          13,
          1515,
          2951,
          4828,
          3403,
          4,
          1442,
          92,
          1103,
          76,
          3599,
          252,
          41,
          4,
          40,
          19,
          17,
          82,
          70,
          24,
          122,
          0,
          131,
          87,
          448,
          4255,
          8351,
          7178,
          371,
          2714,
          4395,
          11380,
          8792,
          15447,
          14838,
          8533,
          9548,
          10290,
          91,
          557,
          136,
          452,
          49,
          1613,
          1545,
          896,
          343,
          1271,
          285,
          63,
          142,
          149,
          59,
          65,
          111,
          91,
          64,
          131,
          92,
          117,
          243,
          170,
          76,
          160,
          97,
          232,
          39,
          78,
          126,
          159,
          11,
          18,
          26,
          31,
          14,
          2,
          81,
          24,
          62,
          10,
          871,
          479,
          796,
          8,
          13,
          63,
          2,
          11,
          168,
          270,
          88,
          1029,
          722,
          120,
          210,
          1027,
          439,
          724,
          661,
          19,
          675,
          46,
          17,
          9,
          169,
          176,
          6,
          448,
          240,
          417,
          169,
          422,
          124,
          29,
          91,
          32,
          18,
          97,
          78,
          2,
          4800,
          265,
          171,
          23,
          61,
          6,
          88,
          53,
          640,
          6,
          834,
          992,
          2,
          321,
          155,
          1138,
          1006,
          6086,
          7015,
          4162,
          5164,
          5250,
          1603,
          1739,
          2840,
          74,
          1790,
          1983,
          2550,
          3771,
          856,
          620,
          4393,
          3161,
          137,
          173,
          86,
          63,
          93,
          983,
          1231,
          1433,
          146,
          230,
          147,
          182,
          124,
          38,
          76,
          1643,
          1713,
          2265,
          65,
          493,
          18,
          786,
          276,
          481,
          171,
          50,
          143,
          158,
          1118,
          574,
          393,
          447,
          473,
          489,
          279,
          437,
          681,
          230,
          1231,
          449,
          1088,
          749,
          2709,
          12330,
          88,
          2562,
          6849,
          141,
          1654,
          231,
          2369,
          8175,
          117,
          1259,
          2432,
          46,
          211,
          717,
          3794,
          796,
          866,
          696,
          962,
          1243,
          546,
          662,
          115,
          6100,
          4790,
          1060,
          3886,
          606,
          565,
          64,
          52,
          76,
          40,
          1581,
          4462,
          8298,
          55,
          0,
          98,
          185,
          3398,
          2597,
          2825,
          55,
          1429,
          1108,
          114,
          1457,
          1179,
          1639,
          3854,
          9181,
          1278,
          3724,
          5614,
          3388,
          4011,
          7359,
          1860,
          10481,
          231,
          317,
          311,
          6,
          404,
          906,
          412,
          606,
          107,
          259,
          837,
          855,
          1010,
          1152,
          281,
          496,
          216,
          967,
          1034,
          858,
          1113,
          4729,
          784,
          32110,
          13681,
          924,
          1956,
          1017,
          1781,
          398,
          333,
          216,
          262,
          857,
          92,
          5,
          3800,
          6835,
          3297,
          2798,
          3078,
          3242,
          2192,
          2102,
          1042,
          276,
          201,
          699,
          93,
          174,
          116,
          479,
          188,
          867,
          1031,
          173,
          270,
          165,
          268,
          129,
          28,
          49,
          488,
          11,
          23,
          43,
          62,
          65,
          14,
          388,
          355,
          266,
          1749,
          299,
          532,
          806,
          823,
          108,
          1515,
          443,
          77,
          1,
          431,
          2300,
          2485,
          159,
          87,
          568,
          116,
          101,
          66,
          9049,
          813,
          1176,
          868,
          9,
          19,
          31,
          26,
          752,
          11,
          114,
          6,
          62,
          322,
          714,
          606,
          572,
          7,
          348,
          120,
          34,
          69,
          172,
          21,
          355,
          78,
          166,
          164,
          99,
          14,
          287,
          71,
          500,
          298,
          37,
          34,
          110,
          136,
          171,
          2076,
          1666,
          1037,
          965,
          3574,
          720,
          1088,
          3735,
          1067,
          19,
          13,
          3595,
          2454,
          1060,
          1510,
          1676,
          879,
          1038,
          1368,
          1802,
          249,
          250,
          736,
          0,
          38,
          1,
          216,
          4,
          215,
          73,
          53,
          272,
          1531,
          332,
          84,
          241,
          84,
          1104,
          1320,
          2559,
          992,
          403,
          412,
          194,
          440,
          883,
          332,
          595,
          569,
          587,
          169,
          124,
          182,
          64,
          28,
          10,
          190,
          428,
          167,
          234,
          290,
          244,
          134,
          272,
          352,
          578,
          84,
          26,
          41,
          1827,
          2368,
          1294,
          2871,
          1,
          1717,
          5575,
          8525,
          9951,
          6227,
          6100,
          500,
          1817,
          4506,
          3105,
          2360,
          3588,
          272,
          3087,
          423,
          3036,
          1596,
          270,
          187,
          678,
          1302,
          1217,
          330,
          1919,
          268,
          769,
          1896,
          62,
          130,
          941,
          504,
          1860,
          3406,
          1246,
          310,
          1376,
          653,
          235,
          637,
          696,
          159,
          173,
          220,
          891,
          643,
          47,
          1420,
          1158,
          2032,
          1,
          719,
          205,
          51,
          823,
          796,
          486,
          385,
          898,
          831,
          2684,
          308,
          2201,
          191,
          377,
          732,
          55,
          59,
          70,
          58,
          130,
          50,
          108,
          973,
          266,
          919,
          109,
          218,
          628,
          1138,
          2301,
          497,
          175,
          0,
          84,
          499,
          2362,
          11,
          974,
          0,
          205,
          13,
          571,
          3,
          31,
          34,
          375,
          0,
          4981,
          4641,
          3711,
          3743,
          4295,
          3692,
          566,
          222,
          735,
          117,
          1063,
          761,
          2,
          154,
          272,
          696,
          16,
          299,
          86,
          5,
          8,
          321,
          276,
          278,
          186,
          287,
          1445,
          8216,
          3348,
          1323,
          328,
          154,
          184,
          128,
          102,
          100,
          651,
          1595,
          1309,
          1383,
          351,
          1464,
          300,
          44,
          130,
          69,
          358,
          362,
          219,
          206,
          287,
          10316,
          6800,
          143,
          26,
          17,
          229,
          71,
          188,
          118,
          487,
          895,
          2957,
          472,
          1924,
          88,
          2400,
          1889,
          735,
          6,
          47,
          8,
          6,
          1629,
          1003,
          929,
          481,
          109,
          42,
          408,
          1648,
          2987,
          1220,
          821,
          13367,
          6697,
          345,
          303,
          506,
          690,
          1558,
          1808,
          209,
          195,
          156,
          1815,
          5738,
          4592,
          342,
          496,
          86,
          85,
          32,
          822,
          2471,
          2369,
          247,
          215,
          669,
          1315,
          1833,
          78,
          1,
          325,
          6494,
          2063,
          805,
          2267,
          2,
          1,
          74,
          1171,
          1539,
          1327,
          313,
          71,
          140,
          79,
          116,
          625,
          244,
          669,
          313,
          1877,
          904,
          2964,
          1191,
          1126,
          2696,
          1902,
          2980,
          3006,
          2504,
          792,
          1575,
          866,
          433,
          1315,
          883,
          1540,
          5775,
          916,
          7846,
          2894,
          555,
          960,
          405,
          493,
          2518,
          3087,
          1698,
          1882,
          1027,
          40,
          740,
          532,
          2128,
          3444,
          33,
          55,
          1666,
          349,
          7237,
          19403,
          4369,
          3917,
          6586,
          890,
          325,
          390,
          377,
          7023,
          8551,
          5184,
          10315,
          2481,
          2457,
          2274,
          3036,
          2859,
          1668,
          224,
          113,
          321,
          313,
          83,
          752,
          584,
          603,
          1171,
          4938,
          320,
          152,
          1930,
          11506,
          4922,
          22650,
          6358,
          5067,
          7024,
          2081,
          3267,
          8484,
          3953,
          2006,
          2279,
          2257,
          1614,
          599,
          1741,
          1863,
          323,
          1102,
          2254,
          1745,
          1592,
          4121,
          2855,
          7812,
          5191,
          468,
          410,
          289,
          2,
          1387,
          3857,
          475,
          200,
          700,
          3101,
          295,
          1208,
          756,
          6327,
          2125,
          3250,
          900,
          725,
          1125,
          900,
          525,
          4234,
          1253,
          440,
          1444,
          179,
          437,
          600,
          538,
          1109,
          5918,
          2219,
          320,
          496,
          371,
          459,
          234,
          712,
          267,
          1072,
          1379,
          1181,
          8207,
          1331,
          1813,
          1114,
          615,
          2362,
          4141,
          5087,
          528,
          15097,
          3884,
          1669,
          1438,
          7246,
          1961,
          644,
          1810,
          2025,
          694,
          1315,
          1553,
          1674,
          1405,
          740,
          755,
          176,
          312,
          281,
          85,
          88,
          475,
          126,
          1190,
          872,
          3554,
          4431,
          2585,
          4490,
          1509,
          525,
          1276,
          205,
          316,
          487,
          293,
          493,
          138,
          13,
          331,
          1600,
          1164,
          1945,
          1954,
          981,
          763,
          859,
          522,
          341,
          81,
          4101,
          4230,
          2508,
          3116,
          3735,
          1,
          3363,
          1890,
          3990,
          2533,
          13318,
          2219,
          1945,
          2419,
          2016,
          1607,
          79,
          2938,
          4849,
          161,
          801,
          58,
          386,
          172,
          206,
          117,
          796,
          965,
          1430,
          2042,
          1934,
          846,
          477,
          16758,
          757,
          246,
          406,
          322,
          256,
          31,
          1475,
          749,
          1177,
          2712,
          5984,
          537,
          896,
          852,
          1182,
          58,
          1723,
          2555,
          43885,
          123,
          401,
          352,
          171,
          39,
          364,
          182,
          4,
          386,
          1441,
          915,
          984,
          945,
          1399,
          154,
          330,
          573,
          773,
          3762,
          202,
          122,
          818,
          325,
          774,
          2062,
          987,
          543,
          1002,
          793,
          594,
          564,
          217,
          1736,
          496,
          2955,
          1349,
          1135,
          387,
          659,
          551,
          895,
          787,
          648,
          602,
          609,
          500,
          286,
          228,
          581,
          273,
          499,
          569,
          925,
          223,
          1020,
          496,
          1888,
          836,
          1955,
          922,
          175,
          1529,
          150,
          1692,
          1252,
          224,
          350,
          339,
          812,
          459,
          131,
          136,
          265,
          914,
          827,
          1145,
          770,
          470,
          151,
          1221,
          1133,
          904,
          4741,
          2428,
          2915,
          3817,
          1150,
          1348,
          1510,
          2163,
          2440,
          716,
          658,
          994,
          605,
          222,
          343,
          504,
          1046,
          500,
          243,
          398,
          843,
          619,
          275,
          404,
          1262,
          173,
          830,
          779,
          1,
          262,
          221,
          7729,
          1067,
          4724,
          1571,
          1747,
          949,
          4064,
          689,
          2188,
          2294,
          822,
          4499,
          2388,
          1379,
          426,
          865,
          1563,
          834,
          707,
          660,
          3492,
          1343,
          1376,
          13,
          2757,
          61,
          721,
          14977,
          8263,
          402,
          613,
          163,
          654,
          656,
          347,
          210,
          420,
          750,
          724,
          3450,
          839,
          260,
          489,
          304,
          232,
          993,
          1615,
          6041,
          1119,
          2933,
          9501,
          10755,
          9129,
          7933,
          16974,
          207,
          226,
          140,
          482,
          106,
          135,
          893,
          2253,
          1071,
          1346,
          1689,
          1235,
          342,
          312,
          94,
          133,
          186,
          224,
          9674,
          856,
          3629,
          264,
          6,
          861,
          7652,
          5791,
          2921,
          1290,
          2409,
          1175,
          7236,
          746,
          435,
          704,
          1907,
          212,
          1110,
          588,
          1966,
          1650,
          1338,
          723,
          2586,
          2073,
          2758,
          986,
          1713,
          5908,
          896,
          272,
          140,
          393,
          418,
          423,
          130,
          194,
          424,
          133,
          116,
          586,
          307,
          115,
          1108,
          8217,
          503,
          373,
          2367,
          181,
          2958,
          1824,
          1925,
          5935,
          460,
          15601,
          4772,
          307,
          252,
          383,
          250,
          288,
          821,
          1348,
          1532,
          1130,
          526,
          739,
          414,
          724,
          504,
          46,
          647,
          3023,
          9119,
          3653,
          20611,
          1544,
          856,
          245,
          239,
          191,
          326,
          2047,
          243,
          1131,
          1482,
          69,
          179,
          1372,
          2534,
          1490,
          183,
          182,
          206,
          105,
          144,
          289,
          248,
          197,
          198,
          343,
          387,
          718,
          615,
          870,
          803,
          617,
          450,
          118,
          804,
          3099,
          3119,
          1007,
          1576,
          4124,
          1641,
          3008,
          1758,
          352,
          2729,
          2320,
          503,
          1403,
          4135,
          847,
          1777,
          699,
          1828,
          2813,
          1073,
          7412,
          3787,
          7287,
          5284,
          5355,
          4331,
          7312,
          498,
          7514,
          4827,
          1359,
          2705,
          1541,
          847,
          767,
          2032,
          2368,
          1831,
          2102,
          1884,
          1132,
          2401,
          1897,
          564,
          1171,
          10407,
          10276,
          5016,
          1292,
          1475,
          1015,
          536,
          2226,
          5039,
          738,
          839,
          582,
          298,
          372,
          629,
          1849,
          1729,
          6179,
          3286,
          2721,
          971,
          1913,
          1411,
          2181,
          2068,
          1266,
          1188,
          727,
          247,
          1139,
          4777,
          5614,
          8916,
          211,
          1511,
          2789,
          1912,
          23405,
          1987,
          12,
          2313,
          4615,
          5565,
          964,
          840,
          1722,
          1325,
          472,
          710,
          840,
          13108,
          10703,
          3513,
          3499,
          3784,
          511,
          519,
          472,
          2317,
          218,
          718,
          193,
          101,
          225,
          202,
          1910,
          1812,
          2863,
          610,
          541,
          758,
          1819,
          4541,
          1811,
          959,
          37,
          13,
          7820,
          346,
          4628,
          6139,
          3322,
          606,
          1256,
          6873,
          2129,
          2106,
          999,
          1725,
          920,
          1393,
          730,
          1223,
          1150,
          1091,
          943,
          781,
          708,
          788,
          652,
          635,
          607,
          500,
          556,
          964,
          590,
          669,
          639,
          1575,
          364,
          1475,
          13435,
          1440,
          686,
          644,
          5517,
          4463,
          7354,
          1013,
          448,
          1192,
          357,
          5003,
          1708,
          1907,
          1232,
          2675,
          1325,
          4326,
          2877,
          4361,
          3320,
          3419,
          1541,
          3050,
          1187,
          1352,
          361,
          5978,
          988,
          5554,
          1111,
          1679,
          5495,
          6558,
          4617,
          1881,
          2476,
          1048,
          1540,
          1472,
          3100,
          680,
          1088,
          1192,
          1811,
          1573,
          6298,
          7871,
          628,
          894,
          796,
          1833,
          1295,
          887,
          1914,
          2166,
          1835,
          1435,
          1253,
          927,
          1836,
          1581,
          563,
          1026,
          1138,
          5144,
          126,
          30,
          127,
          181,
          4,
          2967,
          648,
          660,
          1,
          81,
          6125,
          3475,
          1754,
          1856,
          3047,
          975,
          280,
          470,
          945,
          820,
          402,
          173,
          419,
          942,
          215,
          108,
          177,
          816,
          5411,
          2508,
          289,
          996,
          395,
          120,
          1224,
          207,
          706,
          781,
          68,
          28,
          2522,
          1672,
          248,
          766,
          284,
          1148,
          757,
          847,
          1343,
          2135,
          2070,
          2515,
          3344,
          2515,
          3105,
          2506,
          724,
          1086,
          395,
          23,
          52,
          66,
          50,
          29,
          9,
          184,
          2,
          683,
          145,
          3,
          1336,
          2506,
          88,
          311,
          392,
          806,
          494,
          519,
          415,
          855,
          710,
          546,
          726,
          263,
          273,
          2628,
          371,
          459,
          725,
          2222,
          220,
          1098,
          948,
          971,
          582,
          275,
          103,
          577,
          7305,
          5588,
          4694,
          56,
          89,
          85,
          61,
          66,
          52,
          58,
          56,
          52,
          57,
          65,
          45,
          73,
          78,
          81,
          74,
          71,
          70,
          63,
          52,
          52,
          74,
          294,
          239,
          1848,
          1592,
          295,
          1951,
          1494,
          1215,
          2324,
          1970,
          3828,
          1182,
          146,
          1708,
          553,
          1529,
          5848,
          4259,
          6847,
          8165,
          399,
          246,
          315,
          392,
          2614,
          1824,
          1863,
          1788,
          1685,
          1811,
          1651,
          1260,
          1035,
          1123,
          401,
          487,
          358,
          263,
          15,
          761,
          695,
          593,
          610,
          553,
          440,
          123,
          807,
          2202,
          428,
          1697,
          1459,
          499,
          984,
          3329,
          2490,
          359,
          706,
          1454,
          792,
          4094,
          6731,
          13261,
          367,
          141,
          1146,
          1035,
          1658,
          4326,
          6687,
          13070,
          2893,
          2503,
          2451,
          1263,
          6798,
          1095,
          625,
          10079,
          3750,
          2006,
          1509,
          961,
          1173,
          1066,
          853,
          822,
          2219,
          3785,
          2090,
          447,
          1107,
          4944,
          2668,
          3731,
          3980,
          102,
          4880,
          2755,
          483,
          2700,
          4030,
          12444,
          2001,
          2286,
          4465,
          2306,
          12026,
          2871,
          2811,
          1609,
          542,
          1815,
          4759,
          1514,
          491,
          419,
          263,
          312,
          994,
          909,
          847,
          33,
          62,
          65,
          51,
          81,
          166,
          121,
          392,
          280,
          219,
          344,
          533,
          295,
          1346,
          1244,
          1133,
          2136,
          720,
          985,
          2155,
          185,
          196,
          44,
          193,
          477,
          93,
          81,
          104,
          93,
          349,
          58,
          525,
          443,
          496,
          362,
          653,
          364,
          296,
          274,
          288,
          388,
          490,
          249,
          1015,
          18,
          273,
          257,
          297,
          813,
          90,
          160,
          193,
          214,
          135,
          244,
          321,
          8004,
          10295,
          6567,
          237,
          1015,
          455,
          2213,
          1879,
          29799,
          329,
          1212,
          852,
          795,
          2072,
          2226,
          566,
          466,
          921,
          143,
          1047,
          121,
          2157,
          2037,
          1288,
          4020,
          118,
          279,
          359,
          1896,
          2287,
          554,
          229,
          466,
          200,
          143,
          155,
          78,
          90,
          741,
          2235,
          1620,
          2506,
          2241,
          909,
          567,
          459,
          1083,
          718,
          442,
          946,
          926,
          926,
          1025,
          780,
          1065,
          1541,
          135,
          83,
          860,
          403,
          158,
          79,
          72,
          30,
          4693,
          2048,
          691,
          1788,
          1964,
          93,
          142,
          62,
          548,
          259,
          2539,
          1765,
          1648,
          2054,
          2551,
          2152,
          1438,
          1667,
          1412,
          1428,
          574,
          2361,
          2857,
          4742,
          2074,
          1074,
          5143,
          5803,
          3427,
          2467,
          2534,
          2860,
          2083,
          2499,
          317,
          324,
          117,
          193,
          3471,
          210,
          826,
          293,
          1928,
          2092,
          3447,
          1231,
          1557,
          2172,
          3328,
          1885,
          1783,
          1844,
          1336,
          3091,
          10174,
          6741,
          9140,
          9713,
          17150,
          7258,
          5355,
          11221,
          6506,
          6202,
          12008,
          2402,
          2259,
          2230,
          1671,
          794,
          2167,
          525,
          1309,
          379,
          430,
          1006,
          1489,
          799,
          815,
          724,
          1296,
          1199,
          1615,
          1348,
          1676,
          7976,
          7277,
          8350,
          5125,
          1914,
          600,
          2166,
          758,
          1574,
          724,
          3567,
          1847,
          1201,
          4232,
          710,
          5590,
          2114,
          703,
          939,
          1623,
          551,
          252,
          1493,
          930,
          1905,
          3572,
          1775,
          1758,
          2052,
          1154,
          1628,
          786,
          1267,
          1734,
          364,
          907,
          1135,
          3229,
          2024,
          1280,
          812,
          918,
          5048,
          4799,
          5024,
          1883,
          4401,
          1562,
          2421,
          1522,
          1981,
          8020,
          3842,
          5722,
          4523,
          4022,
          8071,
          1007,
          6261,
          8274,
          1487,
          65,
          71,
          82,
          2639,
          11388,
          6151,
          8208,
          12050,
          2372,
          1420,
          2984,
          380,
          161,
          249,
          174,
          3216,
          3001,
          2584,
          4673,
          2951,
          1449,
          339,
          390,
          3443,
          1538,
          2660,
          1766,
          1798,
          1596,
          2064,
          2098,
          2271,
          342,
          226,
          180,
          419,
          175,
          2512,
          308,
          363,
          5733,
          9466,
          2443,
          2596,
          760,
          608,
          3231,
          2721,
          3395,
          1815,
          4016,
          3695,
          5754,
          2371,
          453,
          625,
          993,
          1187,
          1859,
          2253,
          3269,
          2310,
          1105,
          1539,
          1712,
          1375,
          1608,
          2406,
          1342,
          3027,
          1330,
          4003,
          1220,
          2296,
          1509,
          1855,
          825,
          1119,
          749,
          390,
          643,
          756,
          438,
          640,
          658,
          479,
          598,
          1922,
          459,
          455,
          297,
          603,
          926,
          250,
          436,
          261,
          292,
          203,
          34,
          226,
          356,
          165,
          137,
          304,
          132,
          146,
          558,
          471,
          165,
          162,
          213,
          201,
          462,
          263,
          1265,
          167,
          75,
          47,
          36,
          1418,
          1278,
          1210,
          2095,
          827,
          1955,
          1927,
          1823,
          4027,
          164,
          22,
          42,
          2668,
          157,
          158,
          25,
          12,
          278,
          512,
          324,
          175,
          207,
          154,
          113,
          43,
          29,
          102,
          853,
          55,
          13,
          18,
          29,
          53,
          32,
          19,
          320,
          196,
          66,
          59,
          679,
          312,
          286,
          205,
          92,
          285,
          114,
          1681,
          228,
          418,
          1256,
          185,
          228,
          257,
          62,
          913,
          542,
          226,
          76,
          3750,
          682,
          225,
          112,
          2549,
          1644,
          1315,
          1631,
          1823,
          714,
          3562,
          1934,
          1207,
          2747,
          2884,
          2611,
          1065,
          2522,
          567,
          501,
          560,
          472,
          579,
          297,
          334,
          356,
          224,
          168,
          413,
          354,
          354,
          475,
          577,
          996,
          409,
          479,
          637,
          1062,
          979,
          210,
          215,
          1385,
          1327,
          622,
          111,
          332,
          247,
          150,
          870,
          492,
          1237,
          162,
          2480,
          3275,
          1575,
          1075,
          1305,
          1855,
          1843,
          1864,
          569,
          424,
          424,
          436,
          350,
          418,
          652,
          173,
          170,
          253,
          644,
          386,
          871,
          175,
          594,
          953,
          2782,
          2859,
          179,
          198,
          60,
          171,
          117,
          4685,
          4391,
          3385,
          245,
          428,
          8,
          1,
          20,
          4,
          4,
          8,
          4,
          1,
          3,
          40,
          5,
          11,
          26,
          4,
          8,
          2,
          4,
          10,
          6,
          8,
          4,
          9,
          43,
          7,
          1,
          24,
          1,
          15,
          3,
          5,
          3,
          9,
          11,
          2,
          4,
          9,
          1,
          5,
          9,
          8,
          2,
          4,
          2,
          5,
          270,
          183,
          1,
          1577,
          1175,
          50,
          376,
          765,
          456,
          0,
          149,
          321,
          57,
          123,
          913,
          844,
          99,
          17,
          9,
          7,
          1821,
          2,
          46,
          9,
          525,
          2,
          644,
          208,
          194,
          2,
          96,
          169,
          30,
          38,
          57,
          4,
          534,
          13,
          789,
          57,
          1,
          366,
          135,
          420,
          8,
          627,
          133,
          162,
          78,
          12,
          31,
          265,
          269,
          95,
          32,
          8,
          21,
          20,
          318,
          119,
          252,
          37,
          193,
          218,
          315,
          81,
          90,
          104,
          72,
          68,
          28,
          1198,
          244,
          224,
          3531,
          1146,
          233,
          2745,
          777,
          312,
          27,
          451,
          139,
          4813,
          389,
          96,
          1432,
          6,
          22,
          2436,
          1254,
          42,
          10,
          1930,
          6,
          703,
          78,
          49,
          2,
          20,
          936,
          573,
          1005,
          355,
          388,
          32,
          157,
          65,
          29,
          66,
          34,
          128,
          171,
          502,
          68,
          28,
          32,
          30,
          22,
          39,
          5,
          4,
          8,
          4,
          367,
          369,
          118,
          724,
          11,
          5176,
          50,
          15,
          24,
          9,
          14,
          22,
          12,
          667,
          534,
          52,
          12,
          52,
          2,
          3,
          1131,
          12,
          97,
          1862,
          105,
          6,
          230,
          52,
          18,
          59,
          157,
          153,
          111,
          88,
          66,
          216,
          14,
          40,
          2,
          543,
          402,
          27,
          45,
          153,
          44,
          95,
          32,
          103,
          26,
          34,
          150,
          927,
          560,
          497,
          277,
          636,
          224,
          2602,
          98,
          921,
          1887,
          831,
          2600,
          1840,
          279,
          16663,
          1978,
          491,
          172,
          544,
          4,
          211,
          333,
          268,
          13,
          1760,
          1692,
          105,
          3086,
          31,
          1954,
          91,
          146,
          2370,
          1297,
          1075,
          1358,
          850,
          3523,
          1738,
          1901,
          2212,
          3680,
          2032,
          21,
          3267,
          49,
          3750,
          2405,
          1936,
          306,
          175,
          4010,
          12,
          16,
          88,
          15,
          88,
          2,
          9,
          1746,
          415,
          221,
          33,
          1546,
          348,
          161,
          10,
          233,
          132,
          75,
          125,
          10752,
          1824,
          102,
          151,
          111,
          13,
          52,
          72,
          121,
          310,
          437,
          161,
          118,
          25,
          576,
          3111,
          680,
          1167,
          1576,
          30,
          653,
          544,
          26,
          5270,
          385,
          121,
          16,
          6,
          81,
          402,
          124,
          128,
          131,
          71,
          424,
          172,
          134,
          31,
          150,
          445,
          718,
          494,
          264,
          307,
          482,
          53,
          34,
          2,
          753,
          1134,
          1744,
          202,
          11,
          148,
          15,
          3935,
          427,
          93,
          314,
          1,
          374,
          12,
          7,
          193,
          3373,
          25,
          544,
          1406,
          823,
          52,
          235,
          190,
          712,
          20,
          167,
          139,
          17,
          10,
          4,
          5,
          395,
          2,
          1317,
          1648,
          303,
          771,
          265,
          933,
          316,
          0,
          7067,
          0,
          0,
          0,
          32,
          36,
          626,
          235,
          117,
          20,
          211,
          367,
          28,
          1121,
          16,
          42,
          48,
          68,
          7573,
          1558,
          4373,
          1684,
          5676,
          2619,
          2861,
          660,
          1956,
          3192,
          4082,
          6009,
          353,
          5437,
          1,
          1340,
          319,
          298,
          618,
          1052,
          27,
          2930,
          2035,
          1243,
          302,
          229,
          690,
          710,
          23,
          2210,
          268,
          42796,
          240,
          11,
          208,
          103,
          135,
          13,
          5,
          24,
          5,
          8,
          9786,
          123,
          51,
          1,
          271,
          108,
          98,
          269,
          10,
          112,
          19,
          162,
          201,
          114,
          264,
          495,
          10,
          119,
          501,
          584,
          6910,
          12,
          371,
          30,
          36,
          3855,
          5978,
          5314,
          11,
          22,
          61,
          1679,
          12,
          6,
          83,
          52,
          60,
          115,
          479,
          518,
          35,
          12,
          10,
          46,
          10,
          6,
          36,
          43,
          1521,
          49,
          52,
          931,
          616,
          161,
          66,
          1197,
          164,
          34,
          433,
          442,
          409,
          19,
          52,
          141,
          151,
          1,
          399,
          1217,
          2923,
          1991,
          16,
          22,
          38,
          1,
          13,
          268,
          376,
          201,
          1,
          90,
          96,
          13757,
          273,
          59,
          1,
          438,
          11,
          66,
          351,
          183,
          137,
          76,
          5,
          77,
          4836,
          461,
          3557,
          1763,
          560,
          1228,
          39,
          43,
          1626,
          52,
          83,
          5,
          9,
          3,
          333,
          280,
          19,
          31,
          5,
          114,
          49,
          46,
          177,
          696,
          570,
          513,
          105,
          114,
          71,
          255,
          79,
          89,
          168,
          147,
          9,
          63,
          6,
          119,
          24,
          49,
          61,
          25,
          3,
          242,
          6731,
          12,
          6,
          16,
          91,
          32,
          88,
          17,
          23,
          19,
          16,
          41,
          40,
          2,
          22,
          11,
          60,
          1,
          89,
          32,
          32,
          14,
          192,
          0,
          54,
          15,
          180,
          15592,
          31,
          475,
          48,
          180,
          776,
          182,
          2,
          77,
          256,
          23,
          15,
          64,
          314,
          126,
          107,
          46,
          22,
          4,
          3,
          20,
          68,
          99,
          32,
          38,
          136,
          308,
          45,
          18,
          136,
          5,
          633,
          1034,
          595,
          191,
          635,
          14,
          2,
          13339,
          326,
          1063,
          2684,
          4754,
          0,
          3,
          14,
          164,
          38,
          21,
          161,
          220,
          445,
          1,
          4,
          24,
          85,
          186,
          128,
          32,
          84,
          24,
          34,
          38,
          60,
          2,
          40,
          127,
          51,
          219,
          122,
          40,
          120,
          67,
          33594,
          192,
          7,
          35,
          270,
          35,
          60,
          29,
          22,
          149,
          291,
          239,
          161,
          70,
          66,
          124,
          58,
          107,
          10,
          7,
          138,
          70,
          10,
          14,
          79,
          595,
          608,
          992,
          406,
          36,
          41,
          47,
          286,
          2586,
          132,
          168,
          623,
          8096,
          13850,
          7700,
          1751,
          1627,
          415,
          400,
          66,
          72,
          31,
          3,
          201,
          2,
          292,
          153,
          138,
          167,
          468,
          5890,
          7948,
          2,
          1610,
          40,
          475,
          1,
          9248,
          19,
          17,
          13,
          20,
          2976,
          4001,
          68,
          2,
          16506,
          11665,
          339,
          42,
          2220,
          4153,
          3878,
          5128,
          51,
          6,
          1105,
          1848,
          2021,
          547,
          7,
          971,
          45,
          1,
          409,
          512,
          154,
          73,
          81,
          0,
          10,
          330,
          302,
          65,
          61,
          10,
          24,
          15,
          13,
          736,
          749,
          619,
          640,
          459,
          884,
          1004,
          239,
          205,
          744,
          215,
          296,
          497,
          871,
          701,
          762,
          288,
          869,
          108,
          0,
          36,
          3,
          1042,
          2821,
          39,
          1148,
          491,
          2556,
          355,
          1645,
          823,
          1469,
          512,
          30,
          344,
          1983,
          1306,
          0,
          14,
          0,
          1153,
          1,
          1023,
          1199,
          668,
          390,
          1903,
          145,
          327,
          247,
          14,
          27,
          706,
          630,
          149,
          22,
          0,
          32513,
          10192,
          10706,
          103,
          178,
          637,
          239,
          1407,
          535,
          371,
          581,
          3,
          532,
          27657,
          56,
          56,
          157,
          0,
          167,
          95,
          53,
          189,
          50,
          821,
          483,
          559,
          910,
          576,
          183,
          803,
          463,
          535,
          1378,
          18,
          30,
          64,
          45,
          30,
          102,
          221,
          38,
          33,
          3407,
          7325,
          317,
          417,
          6,
          100,
          31,
          64,
          82,
          15,
          51,
          634,
          221,
          426,
          284,
          153,
          285,
          340,
          1171,
          396,
          454,
          4949,
          849,
          676,
          1688,
          187,
          104,
          350,
          159,
          635,
          939,
          1325,
          270,
          11,
          611,
          504,
          336,
          315,
          76,
          9,
          880,
          1142,
          3,
          35,
          90,
          850,
          2364,
          183,
          654,
          878,
          2035,
          110,
          934,
          14,
          218,
          130,
          2184,
          838,
          145,
          210,
          43,
          3,
          6,
          1362,
          792,
          1168,
          1029,
          218,
          888,
          645,
          543,
          65,
          0,
          180,
          13,
          10,
          17,
          5,
          5,
          4,
          6,
          6,
          9,
          25,
          21,
          18,
          3,
          17,
          7,
          20,
          5,
          11,
          2,
          2,
          3,
          10,
          12,
          36,
          28,
          32,
          3,
          26,
          15,
          5,
          17,
          22,
          3,
          39,
          20,
          10,
          32,
          17,
          10,
          1,
          1,
          13,
          11,
          6,
          3,
          2,
          1,
          4,
          2,
          1,
          3,
          1,
          4,
          2,
          3,
          4,
          3,
          1,
          2,
          5,
          5,
          13,
          5,
          72,
          118,
          75,
          49,
          17,
          8,
          1,
          4,
          2,
          6,
          4,
          9,
          11,
          13,
          6,
          1,
          10,
          5,
          15,
          13,
          9,
          8,
          10,
          5,
          20,
          10,
          13,
          14,
          5,
          2,
          3,
          4,
          3,
          3,
          5,
          4,
          7,
          2,
          3,
          7,
          4,
          3,
          696,
          252,
          504,
          34,
          6,
          8,
          15,
          13,
          15,
          5,
          31,
          12,
          9,
          10,
          11,
          9,
          2,
          13,
          2,
          1,
          2,
          13,
          38,
          19,
          22,
          3,
          4,
          2,
          1,
          10,
          11,
          1,
          16,
          21,
          10,
          1,
          25,
          1,
          32,
          97,
          105,
          30,
          1,
          51,
          11,
          36,
          23,
          20,
          1,
          25,
          10,
          28,
          20,
          43,
          157,
          36,
          61,
          24,
          84,
          5,
          38,
          44,
          9,
          21,
          6,
          24,
          15,
          9,
          14,
          6,
          8,
          11,
          11,
          103,
          29,
          77,
          80,
          11,
          2,
          2,
          2,
          1,
          1,
          29,
          31,
          23,
          12,
          20,
          25,
          6,
          34,
          10,
          3,
          5,
          2,
          16,
          42,
          8,
          1,
          2,
          3,
          9,
          1,
          11,
          8,
          9,
          4,
          5,
          9,
          26,
          17,
          25,
          15,
          25,
          7,
          53,
          2,
          4,
          1,
          56,
          9,
          4,
          10,
          41,
          6,
          26,
          28,
          48,
          36,
          19,
          66,
          77,
          55,
          6,
          23,
          12,
          7,
          12,
          7,
          26,
          37,
          14,
          17,
          20,
          11,
          10,
          56,
          13,
          25,
          25,
          9,
          7,
          21,
          1,
          3,
          3,
          5,
          4,
          8,
          12,
          17,
          10,
          6,
          3,
          5,
          3,
          5,
          16,
          5,
          7,
          13,
          1,
          8,
          5,
          8,
          31,
          19,
          10,
          8,
          27,
          21,
          20,
          13,
          16,
          25,
          8,
          19,
          1,
          11,
          9,
          2,
          16,
          12,
          14,
          26,
          32,
          12,
          12,
          2,
          3,
          3,
          33,
          64,
          35,
          8,
          7,
          12,
          5,
          64,
          76,
          21,
          147,
          83,
          50,
          64,
          56,
          75,
          14,
          11,
          10,
          15,
          19,
          26,
          28,
          10,
          42,
          42,
          78,
          172,
          243,
          9,
          26,
          26,
          22,
          8,
          4,
          4,
          4,
          119,
          31,
          75,
          63,
          61,
          25,
          55,
          40,
          35,
          61,
          72,
          88,
          45,
          37,
          15,
          35,
          35,
          85,
          23,
          12,
          24,
          16,
          65,
          19
         ],
         "xaxis": "x",
         "y": [
          0,
          0,
          0,
          0,
          0,
          0,
          0,
          -0.0024304021210782146,
          -0.21904761904761905,
          0,
          -0.4405216284987277,
          -0.032167121135092666,
          -0.014882655981682884,
          -0.0022471910112359553,
          -0.0031545741324921135,
          -0.01060070671378092,
          -0.0031746031746031746,
          -0.010586319218241042,
          -0.006172839506172839,
          -0.031055900621118012,
          -0.024752475247524754,
          0,
          -0.002577319587628866,
          0,
          0,
          0,
          0,
          0,
          0,
          0,
          0,
          0,
          0,
          0,
          0,
          0,
          0,
          0,
          -0.10588235294117647,
          0,
          0,
          0,
          0,
          -0.0035082795397137242,
          -0.00641025641025641,
          0,
          0,
          0,
          -0.02898214699744957,
          0,
          0,
          0,
          0,
          0,
          0,
          0,
          0,
          0,
          0,
          -0.016332085743450152,
          0,
          -0.00034048348655090226,
          0,
          -0.01408781404085466,
          0,
          0,
          0,
          0,
          0,
          -0.03413400758533502,
          0,
          -0.00023919630043055335,
          0,
          0,
          0,
          0,
          0,
          0,
          0,
          0,
          0,
          0,
          0,
          0,
          0,
          0,
          0,
          0,
          0,
          0,
          0,
          0,
          0,
          0,
          0,
          0,
          -0.0035149384885764497,
          0,
          0,
          0,
          0,
          0,
          0,
          0,
          0,
          -6.636363636363637,
          0,
          0,
          0,
          0,
          0,
          0,
          0,
          0,
          0,
          0,
          0,
          0,
          0,
          0,
          0,
          0,
          0,
          0,
          0,
          0,
          0,
          0,
          0,
          0,
          -0.003976143141153081,
          -0.0013573125212080082,
          -0.0029081844619858743,
          -0.0014714537963507945,
          0,
          -0.0020847810979847115,
          -0.022222222222222223,
          -0.018467220683287166,
          0,
          -0.01839275608375778,
          0,
          0,
          0,
          0,
          0,
          0,
          0,
          0,
          0,
          0,
          1,
          -0.031496062992125984,
          0,
          -0.0022371364653243847,
          -0.004722550177095631,
          -0.029589446430773023,
          -0.035039653929343904,
          0,
          -0.0036982248520710057,
          -0.002509124087591241,
          -0.009939652112176074,
          -0.008603877480784674,
          -0.014647924330005255,
          -0.03842116313247953,
          -0.009702993728552834,
          -0.012191243506837698,
          -0.021035919825362175,
          0,
          0,
          0,
          0,
          0,
          -0.004984423676012461,
          -0.003898635477582846,
          -0.0011173184357541898,
          -0.005865102639296188,
          -0.0007874015748031496,
          0,
          0,
          0,
          0,
          0,
          0,
          0,
          0,
          0,
          0,
          0,
          0,
          0,
          0,
          0,
          0,
          0,
          -0.004329004329004329,
          0,
          0,
          0,
          0,
          0,
          0,
          -0.04,
          0,
          0,
          1.6666666666666667,
          -0.125,
          -0.3333333333333333,
          0,
          0,
          -0.01871345029239766,
          -0.0063025210084033615,
          -0.041884816753926704,
          0,
          0,
          0,
          0,
          12,
          0,
          0,
          0,
          0,
          -0.1933884297520661,
          -0.008403361344537815,
          0,
          -0.0009746588693957114,
          -0.02810304449648712,
          -0.016853932584269662,
          -0.01848998459167951,
          0,
          0,
          0,
          0,
          0,
          -0.09032258064516129,
          -0.060240963855421686,
          1.6666666666666667,
          -0.36585365853658536,
          0,
          0,
          0,
          -0.014423076923076924,
          0,
          0,
          -0.07058823529411765,
          -0.23076923076923078,
          -0.125,
          0,
          0,
          0,
          -0.019757807520713832,
          -0.055776892430278883,
          -0.062111801242236024,
          0,
          -0.2978723404255319,
          0,
          0,
          -0.0392156862745098,
          -0.007874015748031496,
          0,
          -0.06377551020408163,
          0,
          0,
          0,
          0,
          -0.3404004711425206,
          -0.0029910269192422734,
          -0.7543960795618334,
          -0.0034329852667715635,
          -0.0004807692307692308,
          -0.12309699869508482,
          -0.023391812865497075,
          -0.04908376963350786,
          -0.009286128845037725,
          -0.05970149253731343,
          -0.13846153846153847,
          -0.010728402032749858,
          -0.00202122283981809,
          -0.0027526543452615023,
          -0.006405124099279423,
          -0.004694835680751174,
          0,
          0,
          0,
          0,
          0,
          0,
          0,
          0,
          -0.003061224489795918,
          0,
          -0.0027991602519244225,
          0,
          0,
          0,
          0,
          0,
          0,
          0,
          -0.0006090133982947625,
          -0.012411347517730497,
          -0.09685230024213075,
          -0.031746031746031744,
          -0.02494802494802495,
          0,
          -0.0038314176245210726,
          -0.022222222222222223,
          0,
          0,
          0,
          -0.043795620437956206,
          -0.006369426751592357,
          -0.0108499095840868,
          -0.021352313167259787,
          0,
          0,
          0,
          0,
          0,
          0,
          0,
          -0.1330049261083744,
          -0.03532380151387721,
          2.7817460317460316,
          0,
          -0.008075370121130552,
          0,
          -0.001380654592706895,
          0,
          -0.009456264775413711,
          0,
          0,
          -0.007308160779537149,
          0,
          -0.015430775825117874,
          0,
          0,
          0,
          -0.0162975344755537,
          0,
          0,
          0,
          -4.891304347826087,
          0,
          -0.0023148148148148147,
          0,
          0,
          -0.008110300081103,
          0,
          0,
          0,
          -0.007931262392597489,
          -0.0103353722843282,
          -0.023166023166023165,
          -0.012770393536617148,
          -0.0033112582781456954,
          0,
          0,
          0,
          0,
          0,
          -0.2265321955003879,
          -0.0020211093644733886,
          -0.0018109380659181455,
          -0.018518518518518517,
          1,
          0,
          0,
          -0.06654111738857502,
          -0.09531843104175454,
          -0.01399856424982053,
          0,
          -0.01708185053380783,
          0,
          0,
          0,
          -0.0008488964346349745,
          -0.003674219228413962,
          -0.0031233732431025507,
          -0.003936577364680153,
          -0.04071661237785016,
          -0.004314994606256742,
          -0.05447032306536439,
          -0.003851851851851852,
          0,
          -0.38067542213883676,
          -0.006493506493506494,
          -0.008176221623701423,
          0,
          0,
          0,
          1.1363636363636365,
          0,
          0,
          -0.024875621890547265,
          0,
          0,
          -0.08823529411764706,
          -0.09411764705882353,
          -0.05947955390334572,
          0,
          -0.0008688097306689834,
          0,
          0,
          -0.10204081632653061,
          -0.002072538860103627,
          0,
          -0.05018359853121175,
          -0.01736745886654479,
          -0.026258680555555556,
          0,
          -0.007973380210949272,
          -0.0035208684808919533,
          0,
          -0.008247422680412371,
          -0.004940711462450593,
          -0.026512968299711816,
          0,
          0,
          0,
          0,
          -0.007050528789659225,
          0,
          0,
          -0.03796776836929801,
          -0.034978800726832224,
          -0.013214505224339274,
          -0.007562117392870004,
          -0.009180327868852459,
          -0.008398133748055987,
          -0.003663003663003663,
          -0.003341288782816229,
          0,
          -0.0072992700729927005,
          -0.005,
          0,
          0,
          0,
          0,
          -0.02569593147751606,
          -0.19745222929936307,
          -0.014035087719298246,
          -0.043522267206477734,
          0,
          -0.015037593984962405,
          -0.012269938650306749,
          -0.03076923076923077,
          0,
          0,
          0,
          -0.00411522633744856,
          0,
          -0.09523809523809523,
          0,
          -0.05084745762711865,
          0,
          0,
          0,
          0,
          0,
          0,
          -0.08727272727272728,
          -0.0390625,
          0,
          0,
          0,
          0,
          -0.04481132075471698,
          0,
          0,
          -0.06683168316831684,
          -0.013662406346408109,
          -0.05475382003395586,
          0,
          -0.011627906976744186,
          -0.030852994555353903,
          -0.008695652173913044,
          -0.07446808510638298,
          0,
          -0.00232609658839167,
          0,
          0,
          0,
          0,
          0,
          0,
          0,
          -0.03296703296703297,
          -0.375,
          0,
          0,
          -0.12727272727272726,
          -0.02875399361022364,
          0,
          0,
          0,
          0,
          0,
          -0.01694915254237288,
          0,
          -0.06153846153846154,
          -0.04242424242424243,
          -0.05,
          0,
          0,
          0,
          0,
          0,
          0,
          0,
          0,
          -0.02459016393442623,
          0,
          0,
          0,
          0,
          0,
          0,
          -0.00048192771084337347,
          -0.015234613040828763,
          -0.007774538386783284,
          -0.0020768431983385254,
          -0.0005599104143337066,
          0,
          -0.0009199632014719411,
          -0.0008038585209003215,
          -0.002819548872180451,
          0,
          0,
          -0.0061572907920514975,
          -0.004091653027823241,
          0,
          0,
          -0.07092651757188498,
          0,
          0,
          0,
          0,
          -0.004032258064516129,
          -0.008064516129032258,
          0,
          1,
          0,
          0,
          0,
          0,
          -0.004672897196261682,
          0,
          0,
          0,
          -0.0026195153896529143,
          -0.012195121951219513,
          0,
          -0.016877637130801686,
          -0.024390243902439025,
          -0.03274087932647334,
          -0.03286384976525822,
          -0.014670896114195083,
          -0.6986301369863014,
          0,
          0,
          -0.021052631578947368,
          0,
          -0.0011337868480725624,
          0,
          -0.04203152364273205,
          0,
          -0.02264808362369338,
          -0.005952380952380952,
          0,
          0,
          -0.14285714285714285,
          0,
          -0.25,
          0,
          -0.10309278350515463,
          -0.056962025316455694,
          0,
          0,
          -0.008264462809917356,
          0,
          -0.007407407407407408,
          -0.01440922190201729,
          -0.006968641114982578,
          0,
          0,
          0,
          -0.11266747868453106,
          -0.03859649122807018,
          -0.028616852146263912,
          -0.004900245012250612,
          0,
          -0.0011661807580174927,
          -0.0045045045045045045,
          0,
          -0.00504999495000505,
          -0.03748750416527824,
          0,
          -0.002004008016032064,
          0,
          -0.0026702269692923898,
          -0.007789678675754625,
          -0.005110732538330494,
          0,
          0,
          -0.011799410029498525,
          -0.004750593824228029,
          -0.001649620587264929,
          -0.0037735849056603774,
          -0.07142857142857142,
          -0.08092485549132948,
          -0.09886547811993517,
          -0.0069605568445475635,
          -0.0226890756302521,
          -0.04100946372239748,
          -0.013734812466983624,
          -0.25821596244131456,
          -0.030831099195710455,
          0,
          0,
          0,
          -0.0010638297872340426,
          0,
          -0.001076426264800861,
          -0.0038314176245210726,
          -0.001607717041800643,
          0,
          0,
          -0.004615384615384616,
          0,
          -0.009508716323296355,
          0,
          -0.06711409395973154,
          0,
          -0.057692307692307696,
          -0.0011235955056179776,
          -0.001557632398753894,
          0,
          -0.0007047216349541931,
          -0.04891304347826087,
          0,
          0,
          0,
          0,
          0,
          0,
          0,
          0,
          0,
          0,
          0,
          -0.010542168674698794,
          -0.058419243986254296,
          -0.0018206645425580337,
          -0.010582010582010581,
          0,
          -0.030985915492957747,
          0,
          -0.03508771929824561,
          0,
          -0.017543859649122806,
          0,
          0,
          -0.009345794392523364,
          0,
          0,
          0,
          0,
          0,
          0,
          0,
          -0.05405405405405406,
          -0.024742268041237112,
          -0.15894039735099338,
          1,
          0,
          -0.002008032128514056,
          -0.010265183917878529,
          0,
          0,
          1,
          0,
          0,
          -0.047706422018348627,
          0,
          0,
          0,
          0,
          1,
          -0.01694569211923234,
          -0.017540013155009866,
          -0.018945634266886325,
          -0.042328042328042326,
          -0.01392823418319169,
          -0.02869880189467818,
          -0.021660649819494584,
          0,
          -0.016597510373443983,
          0,
          0,
          0,
          0,
          -0.019867549668874173,
          0,
          0,
          -0.06666666666666667,
          0,
          0,
          0,
          0,
          0,
          0,
          0,
          -0.06896551724137931,
          0,
          -0.0255500354861604,
          -0.010578105781057811,
          -0.0014956625785222854,
          -0.015349194167306216,
          0,
          0,
          -0.00546448087431694,
          0,
          0,
          0,
          -0.025196850393700787,
          -0.012698412698412698,
          0,
          -0.005818181818181818,
          0,
          -0.000683526999316473,
          0,
          0,
          0,
          -0.014705882352941176,
          0,
          0,
          0,
          0,
          -0.02867383512544803,
          -0.01695583596214511,
          -0.008004743551734361,
          -0.3,
          -0.13043478260869565,
          0,
          0,
          0,
          0,
          -0.08256880733944955,
          0,
          -0.004489337822671156,
          -0.005098572399728076,
          -0.02608695652173913,
          -0.0041753653444676405,
          0,
          -0.0046044370029300966,
          -0.0015906680805938495,
          -0.002728512960436562,
          0,
          0,
          0,
          0,
          -0.0036968576709796672,
          0,
          -0.0010775862068965517,
          -0.006276150627615063,
          -0.2111111111111111,
          -0.05,
          0,
          -0.013530135301353014,
          -0.21472143147620984,
          -0.018363939899833055,
          -0.024968789013732832,
          -0.006399638608643276,
          -0.0035965832459163793,
          -0.0029069767441860465,
          0,
          -0.005964214711729622,
          -0.05504587155963303,
          -0.0006422607578676942,
          0,
          0,
          0,
          0,
          0,
          -0.01038915301989787,
          -0.01056338028169014,
          -0.023952095808383235,
          -0.014314928425357873,
          -0.1780821917808219,
          0,
          0,
          0,
          0,
          0,
          -0.1382488479262673,
          -0.059113300492610835,
          -0.0014970059880239522,
          0,
          -0.013266998341625208,
          0,
          0,
          0,
          -0.01691199498903852,
          -0.011770475723393821,
          0,
          -0.013410818059901655,
          0,
          0,
          0,
          -0.3367579908675799,
          -0.013166556945358789,
          -0.027885360185902403,
          -0.03986710963455149,
          0,
          0,
          -0.8372093023255814,
          0,
          0,
          0,
          0,
          0,
          -0.04510022271714922,
          -0.029612756264236904,
          -0.2931937172774869,
          -0.013617021276595745,
          -0.08792270531400966,
          -0.008227374719521317,
          -0.014941302027748132,
          -0.013605442176870748,
          -0.5368098159509203,
          -0.005218787635487756,
          0,
          -0.007677543186180422,
          0,
          0,
          -0.00076103500761035,
          0,
          -0.001951854261548471,
          -0.00034644032565390613,
          -0.0043859649122807015,
          -0.003966730646193218,
          -0.0003456619426201175,
          0,
          -0.005235602094240838,
          0,
          0,
          -0.017373737373737375,
          -0.0016223231667748216,
          -0.0053285968028419185,
          -0.004268943436499467,
          -0.01282051282051282,
          0,
          0,
          -0.009487666034155597,
          -0.006146572104018913,
          -0.0076067875950848445,
          0,
          -0.27906976744186046,
          0,
          -0.008670520231213872,
          -0.0016608996539792388,
          -0.0032574974146845916,
          -0.005523590333716916,
          -0.003329918032786885,
          -0.0024353120243531205,
          0,
          -0.018808777429467086,
          -0.03723404255319149,
          -0.11538461538461539,
          -0.03936658280301909,
          -0.026653860007203746,
          -0.0005790387955993051,
          -0.0334635808035267,
          -0.013480392156862746,
          -0.0012224938875305623,
          -0.00441696113074205,
          -0.00032948929159802305,
          -0.018888096935138987,
          -0.009685230024213076,
          -0.05660377358490566,
          0,
          0,
          0,
          0,
          0,
          0,
          0,
          0,
          0,
          -0.006289308176100629,
          -0.006622516556291391,
          -0.03263777421080792,
          -0.004101579544462867,
          -0.00592683425301451,
          -0.004479134329682026,
          -0.01145402481705377,
          -0.001383399209486166,
          -0.00014238929232521716,
          0,
          0,
          0,
          0,
          -0.006522829904666332,
          0,
          0,
          -0.00749063670411985,
          -0.020442930153321975,
          0,
          -0.006482982171799027,
          0,
          -0.011009174311926606,
          -0.0053523639607493305,
          -0.006924408540103866,
          -0.007594936708860759,
          -0.042499367568934986,
          -0.004220893422441084,
          -0.0015384615384615385,
          0,
          -0.02631578947368421,
          0,
          0,
          1.2,
          0,
          0,
          0,
          -0.14285714285714285,
          0,
          -0.012406137773424747,
          -0.04240282685512368,
          0,
          0,
          -0.007965588657001752,
          -0.016260162601626018,
          -0.007751937984496124,
          -0.02857142857142857,
          0,
          -0.022727272727272728,
          0,
          -0.05,
          0,
          -0.017045454545454544,
          -0.12244897959183673,
          -0.016901408450704224,
          -0.09815950920245399,
          -0.035545023696682464,
          -0.010101010101010102,
          -0.011278195488721804,
          -0.029712163416898793,
          -0.0028808676495509235,
          -0.002258355916892502,
          -0.015873015873015872,
          -0.026915113871635612,
          0,
          -1.8159509202453987,
          5.5,
          -0.025936599423631124,
          -0.038910505836575876,
          -0.011320754716981131,
          -0.008778346744696415,
          0,
          -0.0034234013938134245,
          0,
          -0.01682557487380819,
          -0.009057971014492754,
          -0.01652892561983471,
          -0.008539709649871904,
          -0.00975371860521824,
          -0.008125247720967102,
          0,
          -0.030441608081359633,
          -0.01995798319327731,
          -0.0347179169249845,
          0,
          -0.010036241984945637,
          -0.0035823950870010235,
          0,
          -0.006674082313681869,
          -0.030534351145038167,
          -0.013138686131386862,
          -0.004583651642475172,
          -0.0064808813998703824,
          -0.04690431519699812,
          -0.0064469914040114614,
          0,
          -0.7517401392111369,
          1.3235294117647058,
          2.835294117647059,
          0,
          1.5483870967741935,
          3.6666666666666665,
          -0.02813852813852814,
          0,
          -0.028522039757994815,
          -0.0022988505747126436,
          -0.037664233576642336,
          -0.018386577798207307,
          -0.01055512118842846,
          -0.005824372759856631,
          0,
          -0.023391812865497075,
          0,
          0,
          -0.0031746031746031746,
          -0.02526315789473684,
          -0.003424657534246575,
          0,
          0,
          0,
          0,
          -0.03626943005181347,
          0,
          -0.00051440329218107,
          0,
          -0.01238390092879257,
          0,
          0,
          0,
          -0.0029411764705882353,
          0,
          -0.015601783060921248,
          -0.006663493574488339,
          -0.0032,
          -0.003219575016097875,
          -0.011920888648062856,
          0,
          -0.35277554304102976,
          -0.008,
          -0.18503118503118504,
          -0.0043616177636796195,
          -0.07161248793047956,
          -0.0018058690744920992,
          -0.011440457618304731,
          -0.002902155887230514,
          -0.024390243902439025,
          -0.0656498673740053,
          0,
          -0.008236101578586136,
          -0.004974093264248704,
          -0.07333333333333333,
          -0.03221649484536082,
          0,
          -0.0025974025974025974,
          -0.01775147928994083,
          -0.024875621890547265,
          -0.05405405405405406,
          -0.035110533159947985,
          -0.0200845665961945,
          -0.08497723823975721,
          -0.05203503348789284,
          0,
          -0.001183431952662722,
          -0.004210526315789474,
          -0.0242024202420242,
          -0.038408779149519894,
          -0.06956521739130435,
          -0.0712401055408971,
          -0.009404388714733543,
          -0.007874015748031496,
          -0.03333333333333333,
          0,
          -0.006720430107526882,
          -0.002555366269165247,
          -0.00036886757654002215,
          -0.0013386880856760374,
          0,
          -0.6057347670250897,
          -0.022809123649459785,
          -0.01896551724137931,
          -0.03571428571428571,
          -0.0005807200929152149,
          -0.00196078431372549,
          -0.010686073558877041,
          -0.23,
          -0.010075566750629723,
          -0.011494252873563218,
          -0.011834319526627219,
          0,
          -0.0027548209366391185,
          -0.02824858757062147,
          0,
          -0.24115755627009647,
          -0.009103641456582634,
          -0.013289036544850499,
          0,
          -0.05351170568561873,
          -0.016715116279069766,
          0,
          -0.006097560975609756,
          0,
          -0.054570259208731244,
          -0.006959314775160599,
          -0.10989010989010989,
          -0.016666666666666666,
          0,
          0,
          -0.005194805194805195,
          -0.000970873786407767,
          -0.0020304568527918783,
          -0.0036968576709796672,
          -0.003003003003003003,
          -0.09530386740331492,
          -0.12075471698113208,
          -0.016216216216216217,
          -0.2616279069767442,
          -0.0023094688221709007,
          -0.06209850107066381,
          -0.001694915254237288,
          -0.008221225710014948,
          -0.00265017667844523,
          -0.032,
          0,
          -0.03766478342749529,
          -0.004489337822671156,
          -0.005108556832694764,
          -0.0109204368174727,
          -0.010067114093959731,
          0,
          0,
          0,
          0,
          -0.012195121951219513,
          0,
          -0.00808080808080808,
          -0.007079646017699115,
          -0.005434782608695652,
          -0.28160919540229884,
          0,
          0,
          0,
          0,
          -0.020887728459530026,
          0,
          -0.041666666666666664,
          -0.005259697567389875,
          0,
          -5.82258064516129,
          -0.005622489959839358,
          -0.03225806451612903,
          0,
          -0.014970059880239521,
          0,
          0,
          0,
          -0.007407407407407408,
          -0.01532567049808429,
          -0.014428412874583796,
          0,
          0,
          -0.0158311345646438,
          0,
          0,
          -0.020050125313283207,
          0,
          0,
          -0.007223284469938389,
          0,
          -0.00034317089910775565,
          0,
          -0.043557168784029036,
          -0.007473841554559043,
          -0.01546738399462004,
          -0.005578800557880056,
          -0.03127641589180051,
          0,
          -0.0015220700152207,
          -0.017400204708290685,
          -0.06890459363957598,
          0,
          0,
          0,
          -0.006737247353224254,
          -0.004016064257028112,
          35.714285714285715,
          -0.005050505050505051,
          0,
          -0.0016181229773462784,
          0,
          -0.017632241813602016,
          -0.004777070063694267,
          -0.054878048780487805,
          -0.0012062726176115801,
          -0.01564537157757497,
          0,
          0,
          -0.0625,
          -0.0053329864724245574,
          -0.010416666666666666,
          -0.16125860373647985,
          -0.00834403080872914,
          -0.000572737686139748,
          -0.010649627263045794,
          -0.014731585518102372,
          0,
          0,
          0,
          0,
          -0.004689593568557392,
          -0.0029399412011759767,
          -0.008778346744696415,
          0,
          -0.04342581423401689,
          -0.011650485436893204,
          0,
          -0.026124818577648767,
          0,
          0,
          -0.009774436090225564,
          -0.0007272727272727272,
          0,
          -0.005837285662167092,
          0,
          -0.001388888888888889,
          -0.009980443725133185,
          -0.03300412551568946,
          -0.04415584415584416,
          -0.013223140495867768,
          -0.01875,
          -0.16785714285714284,
          -0.018633540372670808,
          -0.0877742946708464,
          -1.625,
          -0.18980169971671387,
          -0.00267379679144385,
          -0.03873744619799139,
          -0.01054481546572935,
          -0.014510278113663845,
          -0.003861003861003861,
          -0.008247422680412371,
          0,
          0,
          -0.009146341463414634,
          -0.0006195786864931846,
          -0.010707712899447884,
          -0.034195933456561925,
          -0.009291121816930488,
          -0.0170199100834939,
          -0.012902618195517046,
          -0.016932159964353346,
          -0.01509916826615483,
          -0.0274818401937046,
          -0.9345794392523364,
          0,
          0,
          -0.008368200836820083,
          0,
          0,
          -0.006764374295377677,
          -0.03586206896551724,
          -0.017094017094017096,
          -0.0007434944237918215,
          -0.0035650623885918,
          -0.004882017900732303,
          -0.002932551319648094,
          -0.003215434083601286,
          0,
          0,
          -0.005405405405405406,
          0,
          -0.03664809258465495,
          -0.00234192037470726,
          -0.004984768762115757,
          -0.007633587786259542,
          0,
          -0.007017543859649123,
          -0.0060478569550354985,
          -0.027319496185914494,
          -0.002058319039451115,
          0,
          -0.0008309098462816784,
          0,
          -0.11891139631977733,
          -0.03899721448467967,
          -0.013986013986013986,
          -0.015873015873015872,
          -0.02197213290460879,
          -0.014354066985645933,
          -0.028730305838739572,
          -0.033391915641476276,
          -0.0040858018386108275,
          -0.008557457212713936,
          -0.0022471910112359553,
          -0.02553191489361702,
          -0.004662004662004662,
          -0.00974184120798831,
          -0.00363901018922853,
          0,
          -0.04133738601823708,
          -0.00169548999660902,
          -0.0033594624860022394,
          -0.0421455938697318,
          -0.014492753623188406,
          -0.0856353591160221,
          0,
          0,
          0,
          0,
          -0.014354066985645933,
          0,
          0,
          -0.0017094017094017094,
          0,
          0,
          -0.06333973128598848,
          -0.0030517578125,
          0,
          0,
          -0.007662835249042145,
          -0.11728395061728394,
          -0.04301833568406206,
          -0.015025041736227046,
          -0.009438909281594127,
          -0.025043177892918825,
          -0.006564551422319475,
          -0.008663606387793366,
          -0.014240170031880977,
          -0.0032679738562091504,
          -0.00398406374501992,
          0,
          0,
          0,
          -0.00984009840098401,
          -0.0007423904974016332,
          0,
          0,
          0,
          0,
          0,
          -0.0013831258644536654,
          -0.012048192771084338,
          -0.15,
          -0.03685897435897436,
          -0.011375041820006692,
          -0.00021937040693210486,
          -0.0032957978577313925,
          -0.009600783737447955,
          -0.2147915027537372,
          -0.049019607843137254,
          -0.02510460251046025,
          -0.01702127659574468,
          0,
          0,
          -0.0019579050416054823,
          0,
          -0.09381044487427466,
          -0.053304904051172705,
          -0.23214285714285715,
          -0.028735632183908046,
          -0.0036576444769568397,
          -0.002770083102493075,
          -0.010854816824966078,
          -0.07017543859649122,
          0,
          0,
          0,
          0,
          0,
          -0.008130081300813009,
          0,
          0,
          0,
          0,
          0,
          0,
          -0.013986013986013986,
          -0.015170670037926675,
          0,
          0,
          -0.05357142857142857,
          0,
          -0.007804878048780488,
          0,
          0,
          -0.015463917525773196,
          -0.00048520135856380397,
          -0.030131826741996232,
          -0.04155124653739612,
          -0.028070175438596492,
          0,
          0,
          -0.00043122035360068997,
          0,
          0,
          -0.010508308895405669,
          -0.001182033096926714,
          -0.0005630630630630631,
          -0.0028694404591104736,
          0,
          0,
          -0.007511737089201878,
          -0.00392794257077069,
          -0.016098738932116986,
          -0.00371900826446281,
          -0.0032276438200113918,
          -0.010186757215619695,
          -0.003475440222428174,
          -0.005777166437414031,
          0,
          -0.0001331026221216558,
          -0.06064601186552406,
          0,
          -0.0003698224852071006,
          -0.38954012623985573,
          0,
          0,
          -0.007936507936507936,
          -0.14617618586640851,
          -0.11850946854001222,
          -0.13193322563274099,
          -0.060810810810810814,
          0,
          0,
          0,
          0,
          -0.005150214592274678,
          -0.009800116437026975,
          -0.009529423322526771,
          -0.01951219512195122,
          0,
          -0.0013577732518669382,
          -0.011964107676969093,
          -0.003745318352059925,
          -0.0067842605156037995,
          -0.009010812975570685,
          0,
          0,
          -0.0051813471502590676,
          0,
          -0.024793388429752067,
          -0.0015923566878980893,
          0,
          -0.0005787037037037037,
          0,
          -0.007666360012266176,
          -0.012653516933382954,
          -0.0062176165803108805,
          -0.01270513499205929,
          -0.011469534050179211,
          -0.0018373909049150207,
          -0.01972386587771203,
          -0.0015822784810126582,
          0,
          -0.011126564673157162,
          -0.046610169491525424,
          -0.003524229074889868,
          -0.0014675052410901468,
          -0.006453926138400861,
          0,
          0,
          -0.006662225183211193,
          -0.013444767441860465,
          -0.00631578947368421,
          -0.0010264744878320004,
          -0.011195928753180661,
          3.4,
          -0.0017323516673884798,
          -0.00043355733795794494,
          -0.0005393743257820927,
          -0.013669821240799159,
          -0.008403361344537815,
          -0.012345679012345678,
          -0.018447348193697154,
          -0.019438444924406047,
          -0.020114942528735632,
          -0.02564102564102564,
          -0.004136663091772637,
          -0.018751189796306873,
          -0.009192760700948004,
          -0.004593741027849555,
          -0.005580653733723093,
          -0.07127882599580712,
          -0.18764302059496568,
          -0.04656319290465632,
          -0.021604938271604937,
          -0.004608294930875576,
          0,
          0,
          0,
          0,
          0,
          -0.004206098843322818,
          -0.008347245409015025,
          -0.007743752199929602,
          -0.020066889632107024,
          -0.07128712871287128,
          -0.003973509933774834,
          0,
          -0.003314184710561202,
          -0.00555247084952804,
          -0.0334051724137931,
          -0.32142857142857145,
          -0.625,
          -0.04238869634764063,
          0,
          -0.0028169014084507044,
          -0.0021221025138752855,
          -0.0033222591362126247,
          -0.020202020202020204,
          -0.014539579967689823,
          -0.022311468094600623,
          -0.04311611954924057,
          -0.02932551319648094,
          -0.05268703898840885,
          -0.0029069767441860465,
          -0.001088139281828074,
          -0.011619462599854757,
          -0.016713091922005572,
          -0.010743801652892562,
          -0.02404274265360641,
          -0.010185185185185186,
          -0.011802575107296138,
          -0.014285714285714285,
          -0.014326647564469915,
          -0.012853470437017995,
          -0.01875,
          -0.017628205128205128,
          -0.020168067226890758,
          -0.026694045174537988,
          -0.018315018315018316,
          -0.012605042016806723,
          0,
          0,
          -0.0031397174254317113,
          -0.0038240917782026767,
          -0.008310249307479225,
          -0.0020380434782608695,
          -0.005388011674025294,
          -0.037463976945244955,
          0,
          0,
          -0.024702823179791975,
          -0.03047794966520434,
          -0.061796130522668205,
          -0.022199798183652877,
          -0.037037037037037035,
          0,
          0,
          -0.010094891984655765,
          -0.014854426619132501,
          -0.013283740701381509,
          0,
          -0.009433962264150943,
          0,
          -0.005812601720530109,
          -0.00876577840112202,
          -0.005765682656826568,
          -0.0024154589371980675,
          -0.0035221602582917524,
          0,
          0,
          0,
          -0.018072289156626505,
          -0.01977401129943503,
          -0.02626609442060086,
          0,
          -0.005066956207021353,
          -0.0018034265103697023,
          -0.024405125076266018,
          -0.004386766587461159,
          -0.009233610341643583,
          -0.008078602620087336,
          -0.014016172506738544,
          -0.01600328272466147,
          -0.013539651837524178,
          0,
          0,
          -0.009771986970684038,
          0,
          -0.012093023255813953,
          -0.034722222222222224,
          -0.07733491969066032,
          -0.006397952655150352,
          0,
          -0.006521739130434782,
          -0.003194888178913738,
          -0.006756756756756757,
          -0.01015228426395939,
          -0.006589785831960461,
          -0.009353078721745909,
          0,
          -0.006838506049447659,
          0,
          -0.0032804811372334607,
          -0.0013956734124214933,
          -0.021189894050529748,
          0,
          0,
          0,
          0,
          -0.000975609756097561,
          0,
          -0.002338269680436477,
          -0.04132231404958678,
          0,
          -0.13392857142857142,
          -0.028409090909090908,
          -0.3333333333333333,
          -0.012627986348122866,
          -0.05365853658536585,
          -0.050955414012738856,
          0,
          -0.05194805194805195,
          -0.004922067268252666,
          -0.0008640552995391706,
          0,
          -0.008147745790331342,
          -0.009274594236502154,
          -0.1016949152542373,
          -0.01818181818181818,
          -0.15196078431372548,
          -0.02717391304347826,
          -0.021170610211706103,
          -0.13559322033898305,
          0,
          0,
          -0.0420353982300885,
          0,
          0,
          -0.023121387283236993,
          -0.001226993865030675,
          -0.031649189704480454,
          -0.004807692307692308,
          -0.017605633802816902,
          -0.007077856420626896,
          -0.16176470588235295,
          -0.1320754716981132,
          -0.033783783783783786,
          0,
          -0.008571428571428572,
          -0.02225130890052356,
          0,
          0,
          -0.07502131287297528,
          -0.007836045810729355,
          0,
          0,
          -0.06766917293233082,
          -0.021352313167259787,
          -0.06770098730606489,
          -0.001182033096926714,
          -0.01588502269288956,
          0,
          0,
          0,
          0,
          0,
          -0.031904287138584245,
          0,
          0,
          -0.0111731843575419,
          -0.005089058524173028,
          0,
          -0.0196078431372549,
          -0.03125,
          -0.08695652173913043,
          -0.11538461538461539,
          0,
          -0.05747126436781609,
          0,
          0,
          -0.028368794326241134,
          0,
          -0.06624102154828412,
          -0.16018518518518518,
          -0.7254901960784313,
          -0.6810810810810811,
          -0.031578947368421054,
          -0.0241423125794155,
          -0.02702702702702703,
          -0.038,
          -0.024691358024691357,
          -0.03385731559854897,
          -0.020114942528735632,
          -0.04798464491362764,
          -0.04610951008645533,
          -0.04365079365079365,
          -0.02631578947368421,
          -0.00497131931166348,
          -0.01366120218579235,
          -0.013245033112582781,
          -0.0027662517289073307,
          -0.005429864253393665,
          -0.10552763819095477,
          0,
          -0.010660980810234541,
          -0.027513227513227514,
          -0.015706806282722512,
          0,
          0,
          -0.02304964539007092,
          -0.0071694471253274505,
          -0.018036072144288578,
          -0.008811519449817323,
          0,
          0,
          0,
          0,
          0,
          0,
          0,
          0,
          0,
          0,
          0,
          0,
          0,
          0,
          -0.0125,
          -0.0136986301369863,
          0,
          -0.014492753623188406,
          0,
          0,
          0,
          0,
          -0.046263345195729534,
          -0.1380952380952381,
          -0.04288939051918736,
          -0.007594936708860759,
          0,
          -0.003084832904884319,
          -0.004032258064516129,
          -0.026182432432432432,
          0,
          -0.002544529262086514,
          -0.0595073346249654,
          -0.02072538860103627,
          0,
          -0.0011723329425556857,
          0,
          0,
          -0.006887052341597796,
          -0.0004698144233027954,
          -0.03931390406800243,
          -0.043183850772965375,
          -0.010126582278481013,
          -0.025,
          -0.012861736334405145,
          -0.012919896640826873,
          -0.02109375,
          -0.006622516556291391,
          -0.006482982171799027,
          -0.006756756756756757,
          -0.007172743574417215,
          -5.376760563380282,
          -0.007321537522879805,
          -0.14754098360655737,
          -0.18421052631578946,
          -0.16252587991718426,
          -0.020356234096692113,
          -0.014583333333333334,
          -0.017045454545454544,
          -0.023346303501945526,
          -0.25,
          -0.1443609022556391,
          0,
          -0.2536997885835095,
          -0.3436123348017621,
          -0.005454545454545455,
          -0.1956521739130435,
          -1.411764705882353,
          -0.0163727959697733,
          -0.028011204481792718,
          -0.004694835680751174,
          -0.01434548714883443,
          -0.02457865168539326,
          -0.024640657084188913,
          -0.01443298969072165,
          -0.0036177268616219473,
          -0.07792207792207792,
          -0.04664723032069971,
          -0.007132667617689016,
          -0.004143646408839779,
          -0.017994858611825194,
          -0.08622976916954099,
          -0.018151565572530632,
          -0.022199953750096355,
          0,
          -0.007142857142857143,
          0,
          -0.1694915254237288,
          -0.015931372549019607,
          -0.07451564828614009,
          -0.03529958197863446,
          -0.025983201193186277,
          -0.030637691485571786,
          -0.044657762938230386,
          -0.005744768157570784,
          -0.021018593371059015,
          -0.0007360518180479906,
          -0.02050326188257223,
          -0.027960526315789474,
          -0.014085924137237147,
          -0.004284949116229245,
          -0.008040201005025126,
          -0.018218623481781375,
          -0.0041797283176593526,
          -0.017346053772766695,
          -0.0009389671361502347,
          -0.0011737089201877935,
          -0.001218026796589525,
          -0.034981343283582086,
          -0.024634542501353548,
          -0.04031856645097063,
          -0.013605442176870748,
          -0.0221606648199446,
          -0.027644980253585534,
          0,
          0,
          -0.006321112515802781,
          0,
          -0.013289036544850499,
          -0.008787989747345295,
          -0.35294117647058826,
          -0.35542168674698793,
          -0.21385542168674698,
          -0.005494505494505495,
          -0.015220700152207,
          -0.021904336164506034,
          -0.005857175039423294,
          -0.03500897666068223,
          -0.014937969448898641,
          -0.0010460251046025104,
          -0.01406926406926407,
          -0.08642808912896692,
          0,
          -0.11281422440220723,
          -0.0002101723413198823,
          -0.054317548746518104,
          -0.012371134020618556,
          -0.01699029126213592,
          0,
          -0.009708737864077669,
          -0.008113590263691683,
          -0.006644518272425249,
          -0.010739856801909307,
          -0.2692307692307692,
          -0.05084745762711865,
          -0.015625,
          0,
          0,
          -0.0375,
          0,
          -0.08287292817679558,
          -0.007194244604316547,
          -0.009216589861751152,
          -0.01775147928994083,
          -0.02697495183044316,
          0,
          -0.005227781926811053,
          -0.023026315789473683,
          -0.017969451931716084,
          -0.02200956937799043,
          0,
          -0.006128702757916241,
          -0.004193849021435228,
          0,
          0,
          0,
          -0.03208556149732621,
          -0.052980132450331126,
          -0.12048192771084337,
          0,
          0,
          -0.273972602739726,
          0,
          0,
          -0.06490872210953347,
          -0.006818181818181818,
          -0.00202020202020202,
          -0.005555555555555556,
          -0.0015337423312883436,
          -0.0027548209366391185,
          -0.003389830508474576,
          5.419354838709677,
          2.476923076923077,
          -6.607843137254902,
          0,
          0,
          -0.0029644268774703555,
          1.3396226415094339,
          -0.003676470588235294,
          -0.00390625,
          0,
          0,
          0,
          0,
          -0.6495726495726496,
          -0.5070422535211268,
          -0.007462686567164179,
          -0.025210084033613446,
          -0.11846689895470383,
          -0.003510531594784353,
          -0.005862237420615535,
          -0.007363092498849517,
          -0.06278026905829596,
          -0.010956175298804782,
          -0.013363028953229399,
          -0.012814645308924484,
          -0.034691629955947136,
          -0.003637465898757199,
          -0.04113924050632911,
          -0.013377926421404682,
          -0.017921146953405017,
          0,
          -0.007292173067574137,
          -0.0040595399188092015,
          -0.012522361359570662,
          -0.021929824561403508,
          -0.0032679738562091504,
          -0.014184397163120567,
          0,
          -0.07079646017699115,
          -0.00046382189239332097,
          0,
          0,
          -0.0070140280561122245,
          0,
          -0.0449438202247191,
          0,
          -0.034934497816593885,
          -0.04381560931081698,
          -0.10139165009940358,
          -0.11707317073170732,
          -0.07621247113163972,
          1.2680965147453083,
          -0.02142857142857143,
          0,
          0,
          -0.011235955056179775,
          -0.03347280334728033,
          -0.01637107776261937,
          -0.046511627906976744,
          0,
          -0.0013404825737265416,
          -0.006644518272425249,
          0,
          0,
          -0.01499531396438613,
          -0.018439716312056736,
          -0.016091954022988506,
          -0.0010582010582010583,
          -0.009814612868047983,
          -0.006521739130434782,
          -0.0039177277179236044,
          -0.0012836970474967907,
          0,
          0,
          0,
          0,
          -0.014150943396226415,
          -0.030690537084398978,
          -0.0821917808219178,
          0,
          -0.02857142857142857,
          0,
          -0.009464400946440094,
          -0.005400098183603338,
          -0.078003120124805,
          -0.008460236886632826,
          -0.006663249615581753,
          -0.13414634146341464,
          -0.0070921985815602835,
          0,
          -0.012939001848428836,
          -0.01568627450980392,
          -0.024616626311541566,
          -0.10588972431077694,
          -0.014778325123152709,
          -0.13230429988974643,
          -0.02408671216378964,
          -0.011753643629525154,
          -0.004189944134078212,
          -0.0072507552870090634,
          0,
          -0.04005826656955572,
          -0.0017452006980802793,
          -0.0451527224435591,
          1.039881625417033,
          -0.1244960872658288,
          -0.026732673267326732,
          -0.09480122324159021,
          -0.16225988700564972,
          -0.016999649491763056,
          -0.03067669172932331,
          -0.021532091097308487,
          -0.035977105478331974,
          -0.02877697841726619,
          -0.022080471050049066,
          -0.008067769261799113,
          -0.016025641025641024,
          0,
          -0.008620689655172414,
          -0.021164021164021163,
          -0.00404975412207116,
          -0.034482758620689655,
          -0.015990159901599015,
          -0.003424657534246575,
          -0.006263048016701462,
          -0.01800486618004866,
          -0.00407806583163414,
          -0.0008130081300813008,
          -0.0012861736334405145,
          -0.0013831258644536654,
          -0.0009022556390977444,
          -0.010723860589812333,
          -0.021191294387170677,
          -0.0070999453850355,
          -0.01906941266209001,
          -0.021143045920052856,
          -0.07649984128663634,
          -0.020281519600423792,
          -0.06950620173180436,
          -0.025551684088269456,
          -0.035628019323671496,
          -0.026300904977375566,
          -0.036986831913245546,
          -0.005195735913284959,
          -0.07395179927368768,
          -0.011910589003100016,
          -0.0033422459893048127,
          -0.09082652134423251,
          -0.010738255033557046,
          -0.027649769585253458,
          -0.007233273056057866,
          0,
          -0.05862237420615535,
          0,
          0,
          0,
          0,
          0,
          -0.04053109713487072,
          -0.015247776365946633,
          0,
          -0.01971830985915493,
          -0.058823529411764705,
          -0.04170286707211121,
          -0.0037290242386575512,
          -0.11960132890365449,
          -0.006606606606606606,
          -0.0063083522583901085,
          0,
          -0.006145318713097964,
          -0.004901960784313725,
          -0.008429926238145416,
          -0.023890784982935155,
          -0.015471167369901548,
          -0.022941970310391364,
          -0.010269576379974325,
          -0.040229885057471264,
          -0.014216661927779357,
          -0.0038043478260869567,
          -0.022998296422487224,
          -0.027932960893854747,
          -0.012838801711840228,
          -0.016363636363636365,
          -0.022243713733075435,
          -0.08487654320987655,
          -0.14792176039119803,
          -0.03706070287539936,
          -0.0637065637065637,
          -0.008,
          -0.013577732518669382,
          -0.009771986970684038,
          -0.048431480462300495,
          -0.013333333333333334,
          -0.0005636978579481398,
          -0.008605851979345954,
          -0.0058823529411764705,
          -0.0433996383363472,
          -0.007425742574257425,
          0,
          -0.004758128469468675,
          0,
          0,
          -0.004429678848283499,
          -0.00265017667844523,
          -0.024428934010152285,
          -0.0009891196834817012,
          0,
          0,
          -0.007683863885839737,
          -0.04665146174580137,
          -0.0004169272461955389,
          -0.00984924623115578,
          -0.027838427947598252,
          -0.004106776180698152,
          -0.007741935483870968,
          -0.00414765657403567,
          -0.006613756613756613,
          -0.010714285714285714,
          -0.00400600901352028,
          -0.0033951423348132673,
          -0.002277106323349098,
          -0.006005338078291815,
          -0.0065065065065065065,
          -0.013817359628187413,
          -0.008008008008008008,
          -0.024881322638729744,
          -0.013970588235294118,
          -0.024810475534114404,
          0,
          0,
          0,
          -0.0026595744680851063,
          -0.007787610619469027,
          0,
          -0.01083743842364532,
          0,
          -0.003808717731696995,
          -0.0007047216349541931,
          -0.0043756311006395154,
          -0.013333333333333334,
          -0.08053691275167785,
          -0.004032258064516129,
          0,
          -0.05511811023622047,
          -0.04020797227036395,
          -0.005056398288603656,
          -0.008416055243849805,
          -0.021814404432132964,
          -0.002074688796680498,
          -0.11513157894736842,
          -0.04838709677419355,
          0,
          -0.00522875816993464,
          -0.0030165912518853697,
          -0.0017016449234259785,
          -0.0033482142857142855,
          0,
          -0.0009699321047526673,
          -0.005752636625119847,
          0,
          -0.03636363636363636,
          0,
          0,
          -0.014527845036319613,
          0,
          0,
          0,
          -0.0027624309392265192,
          -0.049615525448553646,
          -0.02846588439808779,
          -0.0028735632183908046,
          -0.0023166023166023165,
          -0.046831955922865015,
          -0.039316239316239315,
          -0.003727865796831314,
          -0.004429678848283499,
          -0.02536997885835095,
          0,
          -0.002997002997002997,
          -0.013161502604880724,
          -0.008412197686645636,
          -0.003810330228619814,
          0,
          -0.0032102728731942215,
          0,
          0,
          0,
          0,
          -0.004918536735321242,
          -0.0026041666666666665,
          0,
          -0.0006501950585175553,
          0,
          -0.01177336276674025,
          0,
          -0.0066945606694560665,
          -0.0007457121551081282,
          -0.007992007992007992,
          -0.006051437216338881,
          0,
          0,
          -0.01592920353982301,
          0,
          -0.009249183895538629,
          0,
          -0.0017905102954341987,
          -0.001336898395721925,
          0,
          -0.03877221324717286,
          -0.02857142857142857,
          0,
          -0.011058451816745656,
          -0.0061162079510703364,
          -0.012684989429175475,
          -0.0016750418760469012,
          0,
          -0.00437636761487965,
          -0.00663716814159292,
          0,
          -0.005,
          -0.032329988851727984,
          -0.004016064257028112,
          -0.006928406466512702,
          -0.023529411764705882,
          -0.050359712230215826,
          -0.03571428571428571,
          -0.030303030303030304,
          -0.0044444444444444444,
          -0.005649717514124294,
          -0.0784313725490196,
          -0.03007518796992481,
          -0.016722408026755852,
          0,
          0,
          0,
          -0.002127659574468085,
          0,
          0,
          0,
          -0.025510204081632654,
          -0.0021691973969631237,
          -0.02734375,
          -0.004765687053216839,
          -0.012121212121212121,
          -0.0273972602739726,
          0,
          0,
          -0.011412268188302425,
          0,
          -0.040412725709372314,
          -0.004796163069544364,
          0,
          -0.007731958762886598,
          -0.001038961038961039,
          0,
          0,
          0,
          0,
          0,
          -0.0075528700906344415,
          0,
          0,
          0,
          0,
          0,
          -0.0019569471624266144,
          0,
          -0.011560693641618497,
          0,
          -0.013157894736842105,
          0,
          -0.13157894736842105,
          -0.11538461538461539,
          -0.05154639175257732,
          -0.004711425206124852,
          -0.4864864864864865,
          0,
          0,
          0,
          -0.019230769230769232,
          0,
          0,
          -0.012658227848101266,
          -0.06521739130434782,
          0,
          0,
          0,
          0,
          0,
          0,
          0,
          0,
          0,
          -0.012040939193257074,
          0,
          0,
          -0.008025682182985553,
          0,
          -0.08571428571428572,
          -0.05327868852459016,
          -0.16981132075471697,
          0,
          -0.0055658627087198514,
          -0.0044444444444444444,
          0,
          -0.0016025641025641025,
          -0.1053484602917342,
          0,
          0,
          -0.004729996058336618,
          0,
          0,
          0,
          0,
          0,
          -0.0005617977528089888,
          0,
          0,
          0,
          0,
          -0.0007665772326561902,
          0,
          0,
          -0.008896797153024912,
          0,
          -0.010830324909747292,
          -0.012875536480686695,
          0,
          0,
          0,
          -0.017142857142857144,
          0,
          0,
          0,
          0,
          -0.017241379310344827,
          -0.01279317697228145,
          -0.010507880910683012,
          -0.0163265306122449,
          -0.017412935323383085,
          0,
          0,
          0,
          0,
          0,
          0,
          -0.0050798258345428155,
          -0.0007541478129713424,
          -0.006472491909385114,
          0,
          0,
          0,
          0,
          -0.002304147465437788,
          -0.012345679012345678,
          0,
          -0.006211180124223602,
          0,
          0,
          0,
          0,
          0,
          0,
          0,
          0,
          0,
          0,
          0,
          -0.0022988505747126436,
          0,
          0,
          0,
          0,
          0,
          0,
          0,
          -0.013123359580052493,
          -0.00461361014994233,
          -0.005747126436781609,
          -0.0016863406408094434,
          -0.002103049421661409,
          0,
          0,
          0,
          0,
          0,
          0,
          0,
          -0.0267367959675652,
          -0.028337236533957845,
          -0.002962962962962963,
          -0.02510460251046025,
          0,
          0,
          0,
          0,
          0,
          0,
          0,
          0,
          0,
          0,
          0,
          0,
          0,
          0,
          0,
          0,
          0,
          0,
          0,
          0,
          0,
          0,
          0,
          0,
          0,
          0,
          0,
          null,
          0,
          0,
          0,
          0,
          0,
          0,
          0,
          0,
          0,
          0,
          0,
          0,
          0,
          0,
          0,
          0,
          0,
          -0.06299212598425197,
          -0.12269938650306748,
          0,
          0,
          0,
          0,
          0,
          0,
          0,
          1,
          0,
          -0.08080808080808081,
          -0.3902439024390244,
          -0.01652892561983471,
          0,
          0,
          0,
          0,
          null,
          0,
          -0.0010995052226498076,
          0,
          0,
          0,
          0,
          0,
          -0.0015552099533437014,
          0,
          0,
          0,
          0,
          0,
          0,
          0,
          0,
          0,
          0,
          0,
          -0.032722513089005235,
          0,
          0,
          -0.03389830508474576,
          0,
          0,
          0,
          0,
          -0.10833333333333334,
          0,
          0,
          0,
          0,
          0,
          0,
          0,
          0,
          0,
          0,
          0,
          0,
          0,
          0,
          0,
          0,
          0,
          0,
          0,
          0,
          0,
          0,
          -0.014925373134328358,
          0,
          -0.000835421888053467,
          -0.08928571428571429,
          0,
          0,
          0,
          0,
          -0.00036443148688046647,
          0,
          -0.08333333333333333,
          0,
          0,
          0,
          -0.01540084388185654,
          -0.0456989247311828,
          0,
          -0.0028011204481792717,
          0,
          0,
          -0.0012330456226880395,
          -0.04674457429048414,
          0,
          0,
          -0.004685059864653826,
          0,
          0,
          0,
          0,
          0,
          0,
          -0.07958477508650519,
          -0.023214285714285715,
          -0.046875,
          -0.1488673139158576,
          -0.043010752688172046,
          0,
          0,
          0,
          0,
          0,
          0,
          0,
          0,
          0,
          0,
          0,
          0,
          0,
          0,
          0,
          0,
          0,
          0,
          0,
          -0.13975155279503104,
          -0.005449591280653951,
          -0.017241379310344827,
          -0.024045261669024046,
          0,
          0,
          0,
          0,
          0,
          0,
          0,
          0,
          0,
          -0.0030075187969924814,
          0,
          0,
          0,
          0,
          0,
          0,
          -0.0008849557522123894,
          0,
          0,
          -0.0242024202420242,
          0,
          0,
          0,
          0,
          -2.6,
          0,
          0,
          0,
          0,
          0,
          0,
          0,
          0,
          -0.42857142857142855,
          0,
          0,
          0,
          0,
          0,
          0,
          0,
          0,
          3,
          0,
          0,
          0,
          0,
          0,
          -0.0017889087656529517,
          0,
          0,
          0,
          0,
          -0.014029618082618862,
          0,
          -0.004362050163576881,
          -0.0064,
          0,
          0,
          -0.00546448087431694,
          -0.014545454545454545,
          -0.016346447087526684,
          -2.5703971119133575,
          -0.014462809917355372,
          0,
          -0.0036900369003690036,
          0,
          0,
          0,
          0,
          0,
          -0.013241220495106506,
          -0.015606242496998799,
          0,
          -0.0006485084306095979,
          0,
          0,
          -0.0963855421686747,
          -0.028169014084507043,
          -0.0025380710659898475,
          -0.04176706827309237,
          -0.001863932898415657,
          -0.0007369196757553427,
          -0.015531660692951015,
          -0.003417829678154372,
          -0.002306805074971165,
          -0.0031662269129287598,
          -0.43823146944083224,
          -0.000543773790103317,
          -0.0014785608674223755,
          0,
          -0.0009191176470588235,
          -0.0425531914893617,
          -0.01957585644371941,
          -0.09367894497498863,
          -0.04535637149028078,
          -0.006578947368421052,
          -0.005747126436781609,
          0,
          -0.09090909090909091,
          0,
          0,
          0,
          0,
          0,
          0,
          0,
          -0.02977667493796526,
          -0.023148148148148147,
          0,
          -0.02316346790205162,
          0,
          0,
          0,
          0,
          -0.023255813953488372,
          0,
          0,
          -0.012048192771084338,
          -2.045075125208681,
          0,
          0,
          0,
          0,
          0,
          0,
          0,
          0,
          0,
          0,
          0,
          -0.041666666666666664,
          0,
          0,
          0,
          0,
          -0.0019071837253655435,
          0,
          -0.05834683954619125,
          0,
          0,
          -0.004766444232602479,
          -0.005221932114882507,
          0,
          0,
          0,
          0,
          0,
          0,
          0,
          0,
          0,
          0,
          0,
          0,
          0,
          -0.0273972602739726,
          -8.673913043478262,
          -2.3708920187793425,
          -0.0040650406504065045,
          -0.03529411764705882,
          -0.009868421052631578,
          -0.38108882521489973,
          0,
          0,
          2,
          0,
          0,
          0,
          0,
          0,
          0,
          0,
          -0.0615052603183167,
          0,
          0,
          0,
          0,
          0,
          -0.3333333333333333,
          0,
          0,
          -0.0014845605700712589,
          0,
          -0.001841620626151013,
          0,
          0,
          0,
          0,
          0,
          -0.0028169014084507044,
          0,
          0,
          0,
          0,
          0,
          0,
          0,
          -0.020671834625323,
          0,
          -0.006880733944954129,
          0,
          -0.01,
          -0.03768506056527591,
          -0.04743083003952569,
          -0.20387096774193547,
          0,
          1,
          -0.011449835408616,
          1,
          1,
          1,
          0,
          0,
          -0.00967741935483871,
          0,
          0,
          0,
          0,
          0,
          0,
          -0.0062836624775583485,
          0,
          0,
          0,
          0,
          -0.031462816671206754,
          -0.14474650991917706,
          -0.00505630889450701,
          -0.038864898210980874,
          -0.05658972449739389,
          -0.0011467889908256881,
          0,
          0,
          -0.006172839506172839,
          -0.006305170239596469,
          -0.003935071323167732,
          -0.011616161616161616,
          0,
          -0.0070383404334135955,
          0,
          0,
          -0.02903225806451613,
          -0.010169491525423728,
          -0.0016207455429497568,
          -0.12875536480686695,
          0,
          -0.006526966678117485,
          -0.006927263730826323,
          -0.0024193548387096775,
          -0.07092198581560284,
          -0.10096153846153846,
          -0.0058309037900874635,
          -0.008522727272727272,
          0,
          -0.005917159763313609,
          0,
          -0.028848927781517455,
          -0.17073170731707318,
          -0.1,
          0,
          0,
          0,
          0,
          0,
          0,
          0,
          0,
          0,
          0,
          0,
          0,
          -0.003703703703703704,
          0,
          -0.30666666666666664,
          0,
          11,
          0,
          0,
          0,
          -0.06349206349206349,
          0,
          0,
          -0.048728813559322036,
          0,
          0,
          0,
          0,
          -0.0010140518615094887,
          -0.09090909090909091,
          0,
          0,
          0,
          -0.00338365434669443,
          -0.006058566139347021,
          -0.009498480243161094,
          0,
          0,
          0,
          -0.018810679611650484,
          0,
          0,
          -1.3714285714285714,
          0,
          -0.07142857142857142,
          0,
          -0.1431980906921241,
          0,
          -0.20689655172413793,
          0,
          0,
          0,
          0,
          0,
          0,
          -0.19444444444444445,
          -0.0006578947368421052,
          -0.13953488372093023,
          0,
          -0.009761388286334056,
          0,
          0,
          0,
          -0.0008361204013377926,
          0,
          0,
          0,
          0,
          0,
          0,
          0,
          0,
          0,
          0,
          0,
          -0.08467023172905526,
          -0.011068834313386372,
          -0.024704065877509007,
          0,
          0,
          0,
          0,
          0,
          0,
          0,
          -0.02030456852791878,
          0,
          0,
          0,
          0,
          0,
          0,
          0,
          0,
          -0.1,
          0,
          0,
          0,
          0,
          0,
          0,
          0,
          -0.0033195020746887966,
          0,
          -0.0045184975995481505,
          0,
          0,
          0,
          0,
          0,
          -0.21524663677130046,
          -0.0196078431372549,
          -0.024691358024691357,
          0,
          -0.5,
          0,
          -0.06389776357827476,
          -0.06870229007633588,
          -0.05555555555555555,
          -0.10714285714285714,
          -0.25,
          0,
          0,
          0,
          -0.005681818181818182,
          -0.002881844380403458,
          0,
          0,
          0,
          0,
          0,
          -0.02,
          -0.3389830508474576,
          0,
          0,
          -0.027972027972027972,
          0,
          -0.03278688524590164,
          0,
          0,
          0,
          0,
          -0.07017543859649122,
          -1.0833333333333333,
          0,
          0,
          -0.0008921933085501858,
          0,
          0,
          0,
          0,
          0,
          0,
          0,
          0,
          0,
          0,
          0,
          0,
          0,
          0,
          0,
          0,
          0,
          0,
          0,
          0,
          0,
          0,
          1,
          -0.018867924528301886,
          -0.07142857142857142,
          -4,
          -0.0041862561988793715,
          0,
          0,
          -0.45454545454545453,
          0,
          -0.0038809831824062097,
          0,
          0,
          0,
          0,
          0,
          0,
          -15,
          -0.08275862068965517,
          -0.024390243902439025,
          -0.01904761904761905,
          0,
          0,
          0,
          0,
          0,
          0,
          0,
          0,
          0,
          0,
          0,
          0,
          0,
          -0.007407407407407408,
          6,
          -0.06208053691275168,
          -0.10117145899893504,
          -0.00676818950930626,
          -0.0213903743315508,
          -0.019261637239165328,
          0,
          0,
          0,
          0,
          -0.023099133782483156,
          -0.004491017964071856,
          -0.0074168255986437805,
          1,
          0,
          0,
          -0.006134969325153374,
          0,
          0,
          -0.1103448275862069,
          -0.0045662100456621,
          -0.05200945626477541,
          0,
          -0.3333333333333333,
          -0.09090909090909091,
          -0.011904761904761904,
          0,
          0,
          0,
          0,
          0,
          0,
          0,
          0,
          0,
          0,
          0,
          0,
          0,
          0,
          0,
          0,
          0,
          -0.0014308710427472723,
          -0.005235602094240838,
          -0.16666666666666666,
          0,
          -0.0037174721189591076,
          0,
          -0.01694915254237288,
          0,
          0,
          0,
          0,
          0,
          0,
          0,
          0,
          0,
          0,
          0,
          0,
          0,
          0,
          0,
          0,
          0,
          0,
          0,
          0,
          0,
          -0.06282722513089005,
          -0.02857142857142857,
          -0.05128205128205128,
          -0.044444444444444446,
          -0.017793594306049824,
          -0.007401636151149201,
          0,
          -0.01818181818181818,
          -0.10265486725663717,
          -0.01250625312656328,
          -0.02440828402366864,
          -0.004042248011474768,
          -0.11742182514358647,
          -0.006184291898577613,
          -0.061381074168797956,
          0,
          0,
          -0.043478260869565216,
          0,
          0,
          -0.05235602094240838,
          0,
          -0.013888888888888888,
          -0.006578947368421052,
          0,
          0,
          -0.004291845493562232,
          -0.002041510717931269,
          -0.003028773346794548,
          0,
          -0.0006215040397762585,
          0,
          -0.03036876355748373,
          0,
          -0.019175666740136654,
          0,
          0,
          0,
          -0.3333333333333333,
          -0.005065856129685917,
          -0.003259779338014042,
          0,
          0,
          -0.009170946441672781,
          -0.011270047680970958,
          0,
          0,
          -0.0058903488898957865,
          -0.008254430687059966,
          -0.0015495867768595042,
          -0.005687389684251814,
          0,
          0,
          -0.00545950864422202,
          -0.0010834236186348862,
          0,
          0,
          0,
          -0.01251303441084463,
          0,
          0,
          0,
          0,
          -0.08450704225352113,
          0,
          -9.125,
          1,
          -0.1111111111111111,
          -0.00303951367781155,
          -0.0033222591362126247,
          0,
          -0.08928571428571429,
          0,
          0,
          0,
          0,
          0,
          0,
          -0.019769357495881382,
          -0.01910828025477707,
          -0.015486725663716814,
          0,
          -0.02032520325203252,
          -0.02575107296137339,
          0,
          0,
          -0.004672897196261682,
          -0.020689655172413793,
          -0.6348684210526315,
          0,
          0,
          0,
          -0.003484320557491289,
          -0.010465116279069767,
          -0.038461538461538464,
          1,
          -0.125,
          0,
          -0.029644268774703556,
          -0.004271982912068352,
          0,
          0,
          0,
          -0.0059031877213695395,
          0,
          -0.008583690987124463,
          0,
          -0.01943095072866065,
          -0.007874015748031496,
          0,
          -0.023809523809523808,
          -0.00354251012145749,
          -0.0030721966205837174,
          1,
          -0.16666666666666666,
          1,
          -0.033154121863799284,
          0,
          -0.17451205510907003,
          -0.001670843776106934,
          0,
          0,
          0,
          0,
          -0.003067484662576687,
          -0.00816326530612245,
          0,
          0,
          0,
          0,
          0,
          0,
          1,
          -0.034655040733197556,
          -0.02814486028447493,
          -0.02371390323197552,
          -0.5606060606060606,
          -0.017142857142857144,
          0,
          0,
          0,
          0,
          -0.005420054200542005,
          0,
          0,
          -0.05976095617529881,
          -0.08005623462334518,
          -0.12,
          0,
          0,
          1,
          -0.030864197530864196,
          0,
          0,
          0,
          0,
          0,
          0,
          0,
          -0.007751937984496124,
          0,
          0,
          0,
          -0.004338394793926247,
          0,
          -0.003641660597232338,
          0,
          -0.034482758620689655,
          0,
          0,
          0,
          -0.0967741935483871,
          0,
          0,
          0,
          -0.0011754334410813989,
          -0.0035621317988765583,
          -0.1444043321299639,
          -0.10026385224274406,
          0,
          -0.02040816326530612,
          0,
          0,
          -0.012345679012345678,
          0,
          0,
          0,
          0,
          0,
          0,
          -0.006578947368421052,
          0,
          -0.014925373134328358,
          0,
          -0.01278772378516624,
          -0.004424778761061947,
          -0.003243462396107845,
          -0.0011792452830188679,
          -0.0014814814814814814,
          -0.2065761258041458,
          0,
          0,
          -0.01744186046511628,
          0,
          -0.00315955766192733,
          0,
          0,
          -0.0037174721189591076,
          0,
          0,
          -0.04132231404958678,
          0,
          -0.009615384615384616,
          0,
          0,
          -0.03286384976525822,
          -0.02605570530098832,
          0,
          0,
          0,
          -0.015531660692951015,
          -0.010256410256410256,
          0,
          0,
          0,
          -0.0004916420845624386,
          0,
          0,
          0,
          0,
          -0.015625,
          0,
          -0.0011947431302270011,
          0,
          0,
          0,
          0,
          0,
          0,
          0,
          0,
          0,
          0,
          -0.05714285714285714,
          -0.017350157728706624,
          -0.01876172607879925,
          -0.04838709677419355,
          1,
          -0.01694915254237288,
          0,
          0,
          0,
          0,
          0,
          0,
          0,
          0,
          -0.8,
          -0.19047619047619047,
          -0.23529411764705882,
          -0.2857142857142857,
          0,
          0,
          0,
          0,
          0,
          0,
          0,
          0,
          0,
          0,
          0,
          -0.2857142857142857,
          0,
          0,
          0,
          0,
          0,
          0,
          0,
          0,
          0,
          -0.02631578947368421,
          0,
          -0.1111111111111111,
          0,
          0,
          0,
          0,
          0,
          -0.4444444444444444,
          0,
          -0.5,
          0,
          0,
          0,
          0,
          0,
          0,
          0,
          0,
          0,
          0,
          0,
          0,
          0,
          0,
          0,
          0,
          0,
          0,
          0,
          0,
          0,
          0,
          0,
          0,
          0,
          0,
          0,
          0,
          0,
          0,
          0,
          0,
          0,
          0,
          0,
          0,
          0,
          0,
          0,
          0,
          0,
          0,
          0,
          0,
          0,
          0,
          0,
          0,
          0,
          0,
          0,
          0,
          0,
          0,
          -1,
          0,
          0,
          0,
          0,
          0,
          0,
          0,
          -0.16666666666666666,
          -0.07692307692307693,
          -0.21428571428571427,
          null,
          -3,
          -0.6666666666666666,
          -0.8571428571428571,
          -0.6666666666666666,
          0,
          0,
          0,
          0,
          0,
          -0.1,
          0,
          0,
          0,
          0,
          0,
          0,
          -0.3,
          0,
          0,
          0,
          0,
          0,
          -1,
          0,
          0,
          0,
          0,
          0,
          0,
          0,
          0,
          0,
          0,
          0,
          0,
          0,
          0,
          0,
          0,
          0,
          0,
          -0.35294117647058826,
          0,
          0,
          -0.3157894736842105,
          0,
          0,
          0,
          -0.30303030303030304,
          0,
          0,
          0,
          -0.3333333333333333,
          0,
          0,
          0,
          0,
          0,
          0,
          0,
          0,
          0,
          0,
          0,
          0,
          0,
          0,
          0,
          0,
          0,
          0,
          0,
          0,
          0,
          0,
          0,
          0,
          0,
          0,
          0,
          0,
          0,
          0,
          0,
          0,
          0,
          0,
          0,
          0,
          0,
          0,
          0,
          0,
          0,
          0,
          0,
          0,
          0,
          0,
          0,
          0,
          0,
          0,
          0,
          -0.08333333333333333,
          0,
          0,
          0,
          -0.08695652173913043,
          -0.4,
          0,
          0,
          0,
          0,
          0,
          0,
          0,
          0,
          0,
          0,
          -0.3684210526315789,
          0,
          0,
          0,
          0,
          0,
          0,
          0,
          0,
          -0.045454545454545456,
          0,
          0,
          0,
          0,
          0,
          0,
          0,
          0,
          0,
          -1.2,
          -1.5,
          -0.2727272727272727,
          0,
          -0.9230769230769231,
          0,
          0,
          0,
          0,
          null,
          0,
          0,
          -0.25,
          0,
          -3,
          0,
          -0.5454545454545454,
          -1.5,
          null,
          0,
          0,
          0,
          0,
          0,
          0,
          0,
          0,
          0,
          0,
          0,
          -3,
          -0.24,
          0,
          0,
          0,
          0,
          0,
          -0.42857142857142855,
          -0.8571428571428571,
          -3,
          0,
          0,
          0,
          0,
          0,
          0,
          0,
          0,
          0,
          0,
          0,
          -0.06666666666666667,
          0,
          0,
          0,
          0,
          0,
          0,
          0,
          0,
          0,
          0,
          -0.2,
          0,
          0,
          -0.013333333333333334,
          0,
          0,
          0,
          -0.08695652173913043,
          -0.12280701754385964,
          -0.12,
          0,
          -0.75,
          -1.2,
          -1.5,
          -0.6666666666666666,
          -0.26666666666666666,
          0,
          0,
          0,
          0,
          -0.16666666666666666,
          -0.08333333333333333,
          0,
          -0.0125,
          0,
          0,
          0,
          0,
          0,
          0,
          0,
          0,
          0,
          0,
          0,
          0,
          0,
          0,
          0,
          0,
          0,
          0,
          0,
          0,
          0,
          0,
          0,
          0,
          0,
          0,
          0,
          0,
          0,
          0,
          0,
          0
         ],
         "yaxis": "y"
        }
       ],
       "layout": {
        "coloraxis": {
         "colorbar": {
          "title": {
           "text": "Product Rate"
          }
         },
         "colorscale": [
          [
           0,
           "rgb(255,245,235)"
          ],
          [
           0.125,
           "rgb(254,230,206)"
          ],
          [
           0.25,
           "rgb(253,208,162)"
          ],
          [
           0.375,
           "rgb(253,174,107)"
          ],
          [
           0.5,
           "rgb(253,141,60)"
          ],
          [
           0.625,
           "rgb(241,105,19)"
          ],
          [
           0.75,
           "rgb(217,72,1)"
          ],
          [
           0.875,
           "rgb(166,54,3)"
          ],
          [
           1,
           "rgb(127,39,4)"
          ]
         ]
        },
        "font": {
         "color": "white",
         "size": 14
        },
        "height": 600,
        "legend": {
         "tracegroupgap": 0
        },
        "paper_bgcolor": "black",
        "plot_bgcolor": "black",
        "template": {
         "data": {
          "bar": [
           {
            "error_x": {
             "color": "#f2f5fa"
            },
            "error_y": {
             "color": "#f2f5fa"
            },
            "marker": {
             "line": {
              "color": "rgb(17,17,17)",
              "width": 0.5
             },
             "pattern": {
              "fillmode": "overlay",
              "size": 10,
              "solidity": 0.2
             }
            },
            "type": "bar"
           }
          ],
          "barpolar": [
           {
            "marker": {
             "line": {
              "color": "rgb(17,17,17)",
              "width": 0.5
             },
             "pattern": {
              "fillmode": "overlay",
              "size": 10,
              "solidity": 0.2
             }
            },
            "type": "barpolar"
           }
          ],
          "carpet": [
           {
            "aaxis": {
             "endlinecolor": "#A2B1C6",
             "gridcolor": "#506784",
             "linecolor": "#506784",
             "minorgridcolor": "#506784",
             "startlinecolor": "#A2B1C6"
            },
            "baxis": {
             "endlinecolor": "#A2B1C6",
             "gridcolor": "#506784",
             "linecolor": "#506784",
             "minorgridcolor": "#506784",
             "startlinecolor": "#A2B1C6"
            },
            "type": "carpet"
           }
          ],
          "choropleth": [
           {
            "colorbar": {
             "outlinewidth": 0,
             "ticks": ""
            },
            "type": "choropleth"
           }
          ],
          "contour": [
           {
            "colorbar": {
             "outlinewidth": 0,
             "ticks": ""
            },
            "colorscale": [
             [
              0,
              "#0d0887"
             ],
             [
              0.1111111111111111,
              "#46039f"
             ],
             [
              0.2222222222222222,
              "#7201a8"
             ],
             [
              0.3333333333333333,
              "#9c179e"
             ],
             [
              0.4444444444444444,
              "#bd3786"
             ],
             [
              0.5555555555555556,
              "#d8576b"
             ],
             [
              0.6666666666666666,
              "#ed7953"
             ],
             [
              0.7777777777777778,
              "#fb9f3a"
             ],
             [
              0.8888888888888888,
              "#fdca26"
             ],
             [
              1,
              "#f0f921"
             ]
            ],
            "type": "contour"
           }
          ],
          "contourcarpet": [
           {
            "colorbar": {
             "outlinewidth": 0,
             "ticks": ""
            },
            "type": "contourcarpet"
           }
          ],
          "heatmap": [
           {
            "colorbar": {
             "outlinewidth": 0,
             "ticks": ""
            },
            "colorscale": [
             [
              0,
              "#0d0887"
             ],
             [
              0.1111111111111111,
              "#46039f"
             ],
             [
              0.2222222222222222,
              "#7201a8"
             ],
             [
              0.3333333333333333,
              "#9c179e"
             ],
             [
              0.4444444444444444,
              "#bd3786"
             ],
             [
              0.5555555555555556,
              "#d8576b"
             ],
             [
              0.6666666666666666,
              "#ed7953"
             ],
             [
              0.7777777777777778,
              "#fb9f3a"
             ],
             [
              0.8888888888888888,
              "#fdca26"
             ],
             [
              1,
              "#f0f921"
             ]
            ],
            "type": "heatmap"
           }
          ],
          "heatmapgl": [
           {
            "colorbar": {
             "outlinewidth": 0,
             "ticks": ""
            },
            "colorscale": [
             [
              0,
              "#0d0887"
             ],
             [
              0.1111111111111111,
              "#46039f"
             ],
             [
              0.2222222222222222,
              "#7201a8"
             ],
             [
              0.3333333333333333,
              "#9c179e"
             ],
             [
              0.4444444444444444,
              "#bd3786"
             ],
             [
              0.5555555555555556,
              "#d8576b"
             ],
             [
              0.6666666666666666,
              "#ed7953"
             ],
             [
              0.7777777777777778,
              "#fb9f3a"
             ],
             [
              0.8888888888888888,
              "#fdca26"
             ],
             [
              1,
              "#f0f921"
             ]
            ],
            "type": "heatmapgl"
           }
          ],
          "histogram": [
           {
            "marker": {
             "pattern": {
              "fillmode": "overlay",
              "size": 10,
              "solidity": 0.2
             }
            },
            "type": "histogram"
           }
          ],
          "histogram2d": [
           {
            "colorbar": {
             "outlinewidth": 0,
             "ticks": ""
            },
            "colorscale": [
             [
              0,
              "#0d0887"
             ],
             [
              0.1111111111111111,
              "#46039f"
             ],
             [
              0.2222222222222222,
              "#7201a8"
             ],
             [
              0.3333333333333333,
              "#9c179e"
             ],
             [
              0.4444444444444444,
              "#bd3786"
             ],
             [
              0.5555555555555556,
              "#d8576b"
             ],
             [
              0.6666666666666666,
              "#ed7953"
             ],
             [
              0.7777777777777778,
              "#fb9f3a"
             ],
             [
              0.8888888888888888,
              "#fdca26"
             ],
             [
              1,
              "#f0f921"
             ]
            ],
            "type": "histogram2d"
           }
          ],
          "histogram2dcontour": [
           {
            "colorbar": {
             "outlinewidth": 0,
             "ticks": ""
            },
            "colorscale": [
             [
              0,
              "#0d0887"
             ],
             [
              0.1111111111111111,
              "#46039f"
             ],
             [
              0.2222222222222222,
              "#7201a8"
             ],
             [
              0.3333333333333333,
              "#9c179e"
             ],
             [
              0.4444444444444444,
              "#bd3786"
             ],
             [
              0.5555555555555556,
              "#d8576b"
             ],
             [
              0.6666666666666666,
              "#ed7953"
             ],
             [
              0.7777777777777778,
              "#fb9f3a"
             ],
             [
              0.8888888888888888,
              "#fdca26"
             ],
             [
              1,
              "#f0f921"
             ]
            ],
            "type": "histogram2dcontour"
           }
          ],
          "mesh3d": [
           {
            "colorbar": {
             "outlinewidth": 0,
             "ticks": ""
            },
            "type": "mesh3d"
           }
          ],
          "parcoords": [
           {
            "line": {
             "colorbar": {
              "outlinewidth": 0,
              "ticks": ""
             }
            },
            "type": "parcoords"
           }
          ],
          "pie": [
           {
            "automargin": true,
            "type": "pie"
           }
          ],
          "scatter": [
           {
            "marker": {
             "line": {
              "color": "#283442"
             }
            },
            "type": "scatter"
           }
          ],
          "scatter3d": [
           {
            "line": {
             "colorbar": {
              "outlinewidth": 0,
              "ticks": ""
             }
            },
            "marker": {
             "colorbar": {
              "outlinewidth": 0,
              "ticks": ""
             }
            },
            "type": "scatter3d"
           }
          ],
          "scattercarpet": [
           {
            "marker": {
             "colorbar": {
              "outlinewidth": 0,
              "ticks": ""
             }
            },
            "type": "scattercarpet"
           }
          ],
          "scattergeo": [
           {
            "marker": {
             "colorbar": {
              "outlinewidth": 0,
              "ticks": ""
             }
            },
            "type": "scattergeo"
           }
          ],
          "scattergl": [
           {
            "marker": {
             "line": {
              "color": "#283442"
             }
            },
            "type": "scattergl"
           }
          ],
          "scattermapbox": [
           {
            "marker": {
             "colorbar": {
              "outlinewidth": 0,
              "ticks": ""
             }
            },
            "type": "scattermapbox"
           }
          ],
          "scatterpolar": [
           {
            "marker": {
             "colorbar": {
              "outlinewidth": 0,
              "ticks": ""
             }
            },
            "type": "scatterpolar"
           }
          ],
          "scatterpolargl": [
           {
            "marker": {
             "colorbar": {
              "outlinewidth": 0,
              "ticks": ""
             }
            },
            "type": "scatterpolargl"
           }
          ],
          "scatterternary": [
           {
            "marker": {
             "colorbar": {
              "outlinewidth": 0,
              "ticks": ""
             }
            },
            "type": "scatterternary"
           }
          ],
          "surface": [
           {
            "colorbar": {
             "outlinewidth": 0,
             "ticks": ""
            },
            "colorscale": [
             [
              0,
              "#0d0887"
             ],
             [
              0.1111111111111111,
              "#46039f"
             ],
             [
              0.2222222222222222,
              "#7201a8"
             ],
             [
              0.3333333333333333,
              "#9c179e"
             ],
             [
              0.4444444444444444,
              "#bd3786"
             ],
             [
              0.5555555555555556,
              "#d8576b"
             ],
             [
              0.6666666666666666,
              "#ed7953"
             ],
             [
              0.7777777777777778,
              "#fb9f3a"
             ],
             [
              0.8888888888888888,
              "#fdca26"
             ],
             [
              1,
              "#f0f921"
             ]
            ],
            "type": "surface"
           }
          ],
          "table": [
           {
            "cells": {
             "fill": {
              "color": "#506784"
             },
             "line": {
              "color": "rgb(17,17,17)"
             }
            },
            "header": {
             "fill": {
              "color": "#2a3f5f"
             },
             "line": {
              "color": "rgb(17,17,17)"
             }
            },
            "type": "table"
           }
          ]
         },
         "layout": {
          "annotationdefaults": {
           "arrowcolor": "#f2f5fa",
           "arrowhead": 0,
           "arrowwidth": 1
          },
          "autotypenumbers": "strict",
          "coloraxis": {
           "colorbar": {
            "outlinewidth": 0,
            "ticks": ""
           }
          },
          "colorscale": {
           "diverging": [
            [
             0,
             "#8e0152"
            ],
            [
             0.1,
             "#c51b7d"
            ],
            [
             0.2,
             "#de77ae"
            ],
            [
             0.3,
             "#f1b6da"
            ],
            [
             0.4,
             "#fde0ef"
            ],
            [
             0.5,
             "#f7f7f7"
            ],
            [
             0.6,
             "#e6f5d0"
            ],
            [
             0.7,
             "#b8e186"
            ],
            [
             0.8,
             "#7fbc41"
            ],
            [
             0.9,
             "#4d9221"
            ],
            [
             1,
             "#276419"
            ]
           ],
           "sequential": [
            [
             0,
             "#0d0887"
            ],
            [
             0.1111111111111111,
             "#46039f"
            ],
            [
             0.2222222222222222,
             "#7201a8"
            ],
            [
             0.3333333333333333,
             "#9c179e"
            ],
            [
             0.4444444444444444,
             "#bd3786"
            ],
            [
             0.5555555555555556,
             "#d8576b"
            ],
            [
             0.6666666666666666,
             "#ed7953"
            ],
            [
             0.7777777777777778,
             "#fb9f3a"
            ],
            [
             0.8888888888888888,
             "#fdca26"
            ],
            [
             1,
             "#f0f921"
            ]
           ],
           "sequentialminus": [
            [
             0,
             "#0d0887"
            ],
            [
             0.1111111111111111,
             "#46039f"
            ],
            [
             0.2222222222222222,
             "#7201a8"
            ],
            [
             0.3333333333333333,
             "#9c179e"
            ],
            [
             0.4444444444444444,
             "#bd3786"
            ],
            [
             0.5555555555555556,
             "#d8576b"
            ],
            [
             0.6666666666666666,
             "#ed7953"
            ],
            [
             0.7777777777777778,
             "#fb9f3a"
            ],
            [
             0.8888888888888888,
             "#fdca26"
            ],
            [
             1,
             "#f0f921"
            ]
           ]
          },
          "colorway": [
           "#636efa",
           "#EF553B",
           "#00cc96",
           "#ab63fa",
           "#FFA15A",
           "#19d3f3",
           "#FF6692",
           "#B6E880",
           "#FF97FF",
           "#FECB52"
          ],
          "font": {
           "color": "#f2f5fa"
          },
          "geo": {
           "bgcolor": "rgb(17,17,17)",
           "lakecolor": "rgb(17,17,17)",
           "landcolor": "rgb(17,17,17)",
           "showlakes": true,
           "showland": true,
           "subunitcolor": "#506784"
          },
          "hoverlabel": {
           "align": "left"
          },
          "hovermode": "closest",
          "mapbox": {
           "style": "dark"
          },
          "paper_bgcolor": "rgb(17,17,17)",
          "plot_bgcolor": "rgb(17,17,17)",
          "polar": {
           "angularaxis": {
            "gridcolor": "#506784",
            "linecolor": "#506784",
            "ticks": ""
           },
           "bgcolor": "rgb(17,17,17)",
           "radialaxis": {
            "gridcolor": "#506784",
            "linecolor": "#506784",
            "ticks": ""
           }
          },
          "scene": {
           "xaxis": {
            "backgroundcolor": "rgb(17,17,17)",
            "gridcolor": "#506784",
            "gridwidth": 2,
            "linecolor": "#506784",
            "showbackground": true,
            "ticks": "",
            "zerolinecolor": "#C8D4E3"
           },
           "yaxis": {
            "backgroundcolor": "rgb(17,17,17)",
            "gridcolor": "#506784",
            "gridwidth": 2,
            "linecolor": "#506784",
            "showbackground": true,
            "ticks": "",
            "zerolinecolor": "#C8D4E3"
           },
           "zaxis": {
            "backgroundcolor": "rgb(17,17,17)",
            "gridcolor": "#506784",
            "gridwidth": 2,
            "linecolor": "#506784",
            "showbackground": true,
            "ticks": "",
            "zerolinecolor": "#C8D4E3"
           }
          },
          "shapedefaults": {
           "line": {
            "color": "#f2f5fa"
           }
          },
          "sliderdefaults": {
           "bgcolor": "#C8D4E3",
           "bordercolor": "rgb(17,17,17)",
           "borderwidth": 1,
           "tickwidth": 0
          },
          "ternary": {
           "aaxis": {
            "gridcolor": "#506784",
            "linecolor": "#506784",
            "ticks": ""
           },
           "baxis": {
            "gridcolor": "#506784",
            "linecolor": "#506784",
            "ticks": ""
           },
           "bgcolor": "rgb(17,17,17)",
           "caxis": {
            "gridcolor": "#506784",
            "linecolor": "#506784",
            "ticks": ""
           }
          },
          "title": {
           "x": 0.05
          },
          "updatemenudefaults": {
           "bgcolor": "#506784",
           "borderwidth": 0
          },
          "xaxis": {
           "automargin": true,
           "gridcolor": "#283442",
           "linecolor": "#506784",
           "ticks": "",
           "title": {
            "standoff": 15
           },
           "zerolinecolor": "#283442",
           "zerolinewidth": 2
          },
          "yaxis": {
           "automargin": true,
           "gridcolor": "#283442",
           "linecolor": "#506784",
           "ticks": "",
           "title": {
            "standoff": 15
           },
           "zerolinecolor": "#283442",
           "zerolinewidth": 2
          }
         }
        },
        "title": {
         "font": {
          "color": "white",
          "size": 22
         },
         "text": "Cancellation Rate vs. Product Demand"
        },
        "width": 950,
        "xaxis": {
         "anchor": "y",
         "domain": [
          0,
          1
         ],
         "title": {
          "text": "Product Demand (Quantity)"
         }
        },
        "yaxis": {
         "anchor": "x",
         "domain": [
          0,
          1
         ],
         "title": {
          "text": "Product Rate"
         }
        }
       }
      }
     },
     "metadata": {},
     "output_type": "display_data"
    }
   ],
   "source": [
    "\n",
    "# Merge valid orders and cancellations\n",
    "product_summary = pd.merge(\n",
    "    transactions.groupby('ProductNo')['Quantity'].sum().reset_index(),\n",
    "    cancellations.groupby('ProductNo')['Quantity'].sum().reset_index(),\n",
    "    on='ProductNo', how='outer', suffixes=('_Valid', '_Cancelled')\n",
    ").fillna(0)\n",
    "\n",
    "# Calculate Cancellation Rate\n",
    "product_summary['CancellationRate'] = product_summary['Quantity_Cancelled'] / (\n",
    "    product_summary['Quantity_Valid'] + product_summary['Quantity_Cancelled']\n",
    ")\n",
    "\n",
    "# Create an interactive scatter plot\n",
    "fig = px.scatter(\n",
    "    product_summary,\n",
    "    x='Quantity_Valid',\n",
    "    y='CancellationRate',\n",
    "    title=\"Cancellation Rate vs. Product Demand\",\n",
    "    labels={'Quantity_Valid': 'Product Demand (Quantity)', 'CancellationRate': 'Product Rate'},\n",
    "    color='CancellationRate',  # Color based on cancellation rate\n",
    "    color_continuous_scale='oranges',  # Orange theme\n",
    "    template='plotly_dark'  # Dark theme for better contrast\n",
    ")\n",
    "\n",
    "# Update layout\n",
    "fig.update_layout(\n",
    "    width=950,\n",
    "    height=600,\n",
    "    title_font=dict(size=22, color='white'),\n",
    "    font=dict(size=14, color='white'),\n",
    "    plot_bgcolor='black',\n",
    "    paper_bgcolor='black'\n",
    ")\n",
    "\n",
    "# Show the plot\n",
    "fig.show()\n"
   ]
  },
  {
   "cell_type": "markdown",
   "metadata": {},
   "source": [
    "The x-axis represents product demand (total valid orders), while the y-axis shows the cancellation rate (canceled quantity vs. total orders). Each dot represents a product—its position reflects popularity (x) and cancellation proportion (y). High-demand products with low cancellations indicate strong performance and reliability."
   ]
  },
  {
   "cell_type": "markdown",
   "metadata": {},
   "source": [
    "## Conclusion:\n",
    "\n",
    "### Key Performance Metrics\n",
    "### Transaction Overview\n",
    "* Total Records: 478,302\n",
    "* Valid Transactions: 470,445 (98.4%)  \n",
    "* Cancellations: 7,857 (1.6%)\n",
    "* Unique Orders: 18,237\n",
    "* Total Revenue: ₹52.25M\n",
    "* Average Order Value (AOV): ₹2,927\n",
    "* Average Quantity per Order: 262 units\n",
    "\n",
    "### Geographic Reach\n",
    "* Active Markets: 37 countries\n",
    "* Market Leader: United Kingdom (₹40.76M revenue)\n",
    "* Key Secondary Markets:\n",
    "   * Netherlands (₹2.05M)\n",
    "   * EIRE (₹1.33M) \n",
    "   * France (₹1.18M)\n",
    "   * Germany (₹1.14M)\n",
    "\n",
    "## Critical Insights\n",
    "\n",
    "### Product Performance\n",
    "\n",
    "#### 1. Product Portfolio\n",
    "* Total Active Products: 3,676\n",
    "* Average Revenue per Product: ₹328,444\n",
    "* Average Quantity Sold: 29,489 units\n",
    "\n",
    "#### 2. Customer Base  \n",
    "* Unique Customers: 4,572\n",
    "* Active Buyers: Varied purchase frequencies\n",
    "* High-Value Customer Segment: Identified bulk purchasers\n",
    "\n",
    "### Seasonal Trends\n",
    "\n",
    "#### 1. Peak Performance\n",
    "* Highest Revenue: November (₹7.38M)\n",
    "* Strong Months: October (₹6.5M), September (₹6.2M)\n",
    "* Notable Decline: December (₹1.44M)\n",
    "\n",
    "#### 2. Product-Specific Trends\n",
    "* Rabbit Night Light: Winter peak\n",
    "* Popcorn Holder: Bi-modal peak (May, November)\n",
    "* Assorted Color Bird Ornament: August surge\n",
    "* World War 2 Gliders: April spike\n",
    "\n",
    "### Cancellation Analysis\n",
    "\n",
    "#### 1. Overview\n",
    "* Unique Cancellations: 3,080\n",
    "* Affected Products: 1,841\n",
    "* Impacted Customers: 1,436\n",
    "\n",
    "#### 2. Pattern Recognition\n",
    "* Higher cancellation rates in homeware category\n",
    "* Peak cancellations: October-November\n",
    "* Strong correlation with festive seasons\n",
    "* Notable product: Regency Cakstand 3 Tier (consistent cancellations)\n",
    "\n",
    "## Strategic Recommendations\n",
    "\n",
    "### Inventory Management\n",
    "\n",
    "#### 1. Stock Optimization\n",
    "* Implement predictive stocking for high-demand periods\n",
    "* Increase buffer stock for frequently cancelled items\n",
    "* Develop season-specific inventory strategies\n",
    "\n",
    "#### 2. Demand Planning\n",
    "* Factor in historical cancellation patterns\n",
    "* Adjust stock levels for seasonal peaks\n",
    "* Create product-specific stocking strategies\n",
    "\n",
    "### Market Development\n",
    "\n",
    "#### 1. Geographic Expansion\n",
    "* Focus on strengthening secondary markets\n",
    "* Develop market-specific product assortments\n",
    "* Implement targeted marketing strategies\n",
    "\n",
    "#### 2. Customer Engagement\n",
    "* Develop loyalty programs for high-frequency buyers\n",
    "* Create specialized offerings for bulk purchasers\n",
    "* Implement proactive communication for potential cancellations\n",
    "\n",
    "### Operational Excellence\n",
    "\n",
    "#### 1. Supply Chain\n",
    "* Review supplier capacity for high-demand products\n",
    "* Implement better forecasting for seasonal items\n",
    "* Develop contingency plans for peak periods\n",
    "\n",
    "#### 2. Customer Service\n",
    "* Enhanced communication during festive seasons\n",
    "* Proactive stock updates for popular items\n",
    "* Dedicated support for high-value customers\n",
    "\n",
    "## Future Focus Areas\n",
    "1. Market penetration strategies for secondary markets\n",
    "2. Development of seasonal product portfolios\n",
    "3. Enhanced inventory management systems\n",
    "4. Customer retention and loyalty programs\n",
    "5. Cancellation reduction strategies\n",
    "\n",
    "---\n",
    "*This analysis provides a comprehensive foundation for data-driven decision-making and strategic planning. Regular monitoring and updates of these metrics will ensure continued optimization of business operations and customer satisfaction.*"
   ]
  },
  {
   "cell_type": "markdown",
   "metadata": {},
   "source": []
  }
 ],
 "metadata": {
  "kernelspec": {
   "display_name": "Python 3",
   "language": "python",
   "name": "python3"
  },
  "language_info": {
   "codemirror_mode": {
    "name": "ipython",
    "version": 3
   },
   "file_extension": ".py",
   "mimetype": "text/x-python",
   "name": "python",
   "nbconvert_exporter": "python",
   "pygments_lexer": "ipython3",
   "version": "3.12.8"
  }
 },
 "nbformat": 4,
 "nbformat_minor": 2
}
